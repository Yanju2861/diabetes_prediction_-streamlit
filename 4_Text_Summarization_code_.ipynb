{
  "cells": [
    {
      "cell_type": "code",
      "execution_count": 1,
      "id": "20349b05",
      "metadata": {
        "id": "20349b05",
        "colab": {
          "base_uri": "https://localhost:8080/"
        },
        "outputId": "7bb67f08-f9a4-4ad8-debf-133f9c87ba46"
      },
      "outputs": [
        {
          "output_type": "stream",
          "name": "stdout",
          "text": [
            "Requirement already satisfied: spacy in /usr/local/lib/python3.10/dist-packages (3.6.1)\n",
            "Requirement already satisfied: spacy-legacy<3.1.0,>=3.0.11 in /usr/local/lib/python3.10/dist-packages (from spacy) (3.0.12)\n",
            "Requirement already satisfied: spacy-loggers<2.0.0,>=1.0.0 in /usr/local/lib/python3.10/dist-packages (from spacy) (1.0.5)\n",
            "Requirement already satisfied: murmurhash<1.1.0,>=0.28.0 in /usr/local/lib/python3.10/dist-packages (from spacy) (1.0.10)\n",
            "Requirement already satisfied: cymem<2.1.0,>=2.0.2 in /usr/local/lib/python3.10/dist-packages (from spacy) (2.0.8)\n",
            "Requirement already satisfied: preshed<3.1.0,>=3.0.2 in /usr/local/lib/python3.10/dist-packages (from spacy) (3.0.9)\n",
            "Requirement already satisfied: thinc<8.2.0,>=8.1.8 in /usr/local/lib/python3.10/dist-packages (from spacy) (8.1.12)\n",
            "Requirement already satisfied: wasabi<1.2.0,>=0.9.1 in /usr/local/lib/python3.10/dist-packages (from spacy) (1.1.2)\n",
            "Requirement already satisfied: srsly<3.0.0,>=2.4.3 in /usr/local/lib/python3.10/dist-packages (from spacy) (2.4.8)\n",
            "Requirement already satisfied: catalogue<2.1.0,>=2.0.6 in /usr/local/lib/python3.10/dist-packages (from spacy) (2.0.10)\n",
            "Requirement already satisfied: typer<0.10.0,>=0.3.0 in /usr/local/lib/python3.10/dist-packages (from spacy) (0.9.0)\n",
            "Requirement already satisfied: pathy>=0.10.0 in /usr/local/lib/python3.10/dist-packages (from spacy) (0.10.2)\n",
            "Requirement already satisfied: smart-open<7.0.0,>=5.2.1 in /usr/local/lib/python3.10/dist-packages (from spacy) (6.4.0)\n",
            "Requirement already satisfied: tqdm<5.0.0,>=4.38.0 in /usr/local/lib/python3.10/dist-packages (from spacy) (4.66.1)\n",
            "Requirement already satisfied: numpy>=1.15.0 in /usr/local/lib/python3.10/dist-packages (from spacy) (1.23.5)\n",
            "Requirement already satisfied: requests<3.0.0,>=2.13.0 in /usr/local/lib/python3.10/dist-packages (from spacy) (2.31.0)\n",
            "Requirement already satisfied: pydantic!=1.8,!=1.8.1,<3.0.0,>=1.7.4 in /usr/local/lib/python3.10/dist-packages (from spacy) (1.10.13)\n",
            "Requirement already satisfied: jinja2 in /usr/local/lib/python3.10/dist-packages (from spacy) (3.1.2)\n",
            "Requirement already satisfied: setuptools in /usr/local/lib/python3.10/dist-packages (from spacy) (67.7.2)\n",
            "Requirement already satisfied: packaging>=20.0 in /usr/local/lib/python3.10/dist-packages (from spacy) (23.2)\n",
            "Requirement already satisfied: langcodes<4.0.0,>=3.2.0 in /usr/local/lib/python3.10/dist-packages (from spacy) (3.3.0)\n",
            "Requirement already satisfied: typing-extensions>=4.2.0 in /usr/local/lib/python3.10/dist-packages (from pydantic!=1.8,!=1.8.1,<3.0.0,>=1.7.4->spacy) (4.5.0)\n",
            "Requirement already satisfied: charset-normalizer<4,>=2 in /usr/local/lib/python3.10/dist-packages (from requests<3.0.0,>=2.13.0->spacy) (3.3.0)\n",
            "Requirement already satisfied: idna<4,>=2.5 in /usr/local/lib/python3.10/dist-packages (from requests<3.0.0,>=2.13.0->spacy) (3.4)\n",
            "Requirement already satisfied: urllib3<3,>=1.21.1 in /usr/local/lib/python3.10/dist-packages (from requests<3.0.0,>=2.13.0->spacy) (2.0.7)\n",
            "Requirement already satisfied: certifi>=2017.4.17 in /usr/local/lib/python3.10/dist-packages (from requests<3.0.0,>=2.13.0->spacy) (2023.7.22)\n",
            "Requirement already satisfied: blis<0.8.0,>=0.7.8 in /usr/local/lib/python3.10/dist-packages (from thinc<8.2.0,>=8.1.8->spacy) (0.7.11)\n",
            "Requirement already satisfied: confection<1.0.0,>=0.0.1 in /usr/local/lib/python3.10/dist-packages (from thinc<8.2.0,>=8.1.8->spacy) (0.1.3)\n",
            "Requirement already satisfied: click<9.0.0,>=7.1.1 in /usr/local/lib/python3.10/dist-packages (from typer<0.10.0,>=0.3.0->spacy) (8.1.7)\n",
            "Requirement already satisfied: MarkupSafe>=2.0 in /usr/local/lib/python3.10/dist-packages (from jinja2->spacy) (2.1.3)\n"
          ]
        }
      ],
      "source": [
        "!pip install spacy\n",
        "### conda install spacy...........In Anaconda Prompt"
      ]
    },
    {
      "cell_type": "code",
      "execution_count": 2,
      "id": "57e619ef",
      "metadata": {
        "id": "57e619ef"
      },
      "outputs": [],
      "source": [
        "# text_data1= \"\"\"Electricity Minister Kgosientsho Ramokgopa finally publicly shared his plans to end the energy crisis after tabling it to the ANC national working committee and national executive committee (NEC).\n",
        "\n",
        "# During an hour-and-a-half-long engagement with the media at the Birchwood Hotel in Boksburg, Johannesburg, Ramokgopa presented an 18-month plan to create about 12 000MW of additional electricity capacity.\n",
        "\n",
        "\n",
        "# He said this would counter the increased electricity demand his department foresees during winter and ensure that there wasn't a total collapse of the economy.\n",
        "\n",
        "# Ramokgopa said the immediate interventions to be implemented within the next six months included reducing Eskom infrastructure sabotage, purchasing diesel worth around R30 billion, improving the efficiency of underperforming power stations and reducing maintenance work, particularly during peak demand.\n",
        "\n",
        "\n",
        "# \"Even with the proposed intervention, we will not stop load shedding, but we seek to ensure that the economy continues to sustain itself. We want to ensure that the levels of load shedding still make it possible for major industries to operate… so that there is no collapse of the South African economy,\" Ramokgopa said.\n",
        "\n",
        "# He added:\n",
        "\n",
        "# The NEC identified that there is an increase in sabotage, and we plan to protect key installations and ensure that there is uninterrupted supply. The latest examples of sabotage were in Pretoria when electricity pylons were under attack, and that also undermined Rand Water's ability to provide water.\n",
        "# Regarding diesel procurement, Ramokgopa said the R30 billion came from two particular avenues.\n",
        "\n",
        "# \"What we know about the diesel is that in the 18% tariff increase which the National Energy Regulator of South Africa has granted to Eskom, R8 billion has been set aside to procure diesel by the power utility.\n",
        "\n",
        "\n",
        "\n",
        "# \"We also know that in terms of the fiscal relief that the minister of finance has offered to Eskom, there is an additional R22 billion that Eskom has also made available for the procurement of diesel. So, the point we are making there is that we have confirmed R30 billion that is available for diesel procurement,\" Ramokgopa added.\n",
        "\n",
        "# The electricity minister said the government should also consider buying diesel directly from suppliers and not third parties, which led to unnecessary procurement fees.\n",
        "\n",
        "# He said the ANC NEC had approved his plans to request assistance from specialists to improve the performance of Eskom's fleet of 15 coal-fired power stations.\n",
        "\n",
        "# \"We seek to work with the private sector, particularly experts, to improve the performance of our power stations,\" said Ramokgopa.\n",
        "\n",
        "# In particular, the Medupi and Kusile power stations are a priority.\n",
        "\n",
        "# The addition of renewable power into the grid was another priority, said Ramokgopa, who indicated that Energy Minister Gwede Mantashe was finalising power purchase agreements.\n",
        "\n",
        "# Ramokgopa said the mistake that was made with past acquisitions was identifying preferred bidders in areas where there was no grid capacity to transmit electricity.\n",
        "\n",
        "\n",
        "# \"Bid Window 7 must be allocated in areas with grid capacity in Limpopo, Mpumalanga and North West,\" Ramokgopa added.\n",
        "\n",
        "# According to Ramokgopa, Eskom is also negotiating with Mozambique to get 1 200MW of additional capacity.\n",
        "\n",
        "# Despite these interventions, the electricity minister said there was no chance that the current government would end load shedding before the end of the year. He said the likelihood was that the intensity of load shedding would be reduced, but not ended.\n",
        "\n",
        "# ANC economic transformation committee chairperson Mmamoloko Kubayi said President Cyril Ramaphosa was in the process of assigning powers to the electricity minister, and this should also aid in his ongoing work in the power crisis.\n",
        "\n",
        "# \"\"\""
      ]
    },
    {
      "cell_type": "code",
      "source": [
        "text_data1 = '''\n",
        "Artificial intelligence, often abbreviated as AI, is the simulation of human intelligence processes by machines, especially computer systems. These processes include learning, reasoning, problem-solving, perception, and language understanding. AI has become a significant part of our daily lives, from voice assistants like Siri and Alexa to recommendation systems on streaming platforms.\n",
        "'''\n"
      ],
      "metadata": {
        "id": "roI4svaaLdSe"
      },
      "id": "roI4svaaLdSe",
      "execution_count": 3,
      "outputs": []
    },
    {
      "cell_type": "code",
      "source": [
        "text_data1[0:10]"
      ],
      "metadata": {
        "id": "hL0xJQmt765j",
        "colab": {
          "base_uri": "https://localhost:8080/",
          "height": 36
        },
        "outputId": "d6f2e67c-802a-4ccd-cf59-325e2ed69850"
      },
      "id": "hL0xJQmt765j",
      "execution_count": 4,
      "outputs": [
        {
          "output_type": "execute_result",
          "data": {
            "text/plain": [
              "'\\nArtificia'"
            ],
            "application/vnd.google.colaboratory.intrinsic+json": {
              "type": "string"
            }
          },
          "metadata": {},
          "execution_count": 4
        }
      ]
    },
    {
      "cell_type": "code",
      "execution_count": 5,
      "id": "327e31cf",
      "metadata": {
        "colab": {
          "base_uri": "https://localhost:8080/",
          "height": 36
        },
        "id": "327e31cf",
        "outputId": "4ed89b74-9bf1-4834-c5a2-99b9ba36dfa7"
      },
      "outputs": [
        {
          "output_type": "execute_result",
          "data": {
            "text/plain": [
              "' some\\nasasas\\nsasasasaqsafghjj\\n has\\n  text\\n  '"
            ],
            "application/vnd.google.colaboratory.intrinsic+json": {
              "type": "string"
            }
          },
          "metadata": {},
          "execution_count": 5
        }
      ],
      "source": [
        "t =  ''' some\n",
        "asasas\n",
        "sasasasaqsafghjj\n",
        " has\n",
        "  text\n",
        "  '''\n",
        "t"
      ]
    },
    {
      "cell_type": "code",
      "source": [
        "#removing \\n from the text\n",
        "import re\n",
        "t1 = re.sub('[\\n]', ' ', t)\n",
        "print(t1)"
      ],
      "metadata": {
        "colab": {
          "base_uri": "https://localhost:8080/"
        },
        "id": "d-WHMKd2MKtJ",
        "outputId": "456f6820-45d6-4261-8e77-b699bff2d92b"
      },
      "id": "d-WHMKd2MKtJ",
      "execution_count": 6,
      "outputs": [
        {
          "output_type": "stream",
          "name": "stdout",
          "text": [
            " some asasas sasasasaqsafghjj  has   text   \n"
          ]
        }
      ]
    },
    {
      "cell_type": "code",
      "execution_count": 7,
      "id": "7e44f9c1",
      "metadata": {
        "colab": {
          "base_uri": "https://localhost:8080/"
        },
        "id": "7e44f9c1",
        "outputId": "9dffccc6-cccd-46e7-eb79-b1f52a481edc"
      },
      "outputs": [
        {
          "output_type": "stream",
          "name": "stdout",
          "text": [
            " Artificial intelligence, often abbreviated as AI, is the simulation of human intelligence processes by machines, especially computer systems. These processes include learning, reasoning, problem-solving, perception, and language understanding. AI has become a significant part of our daily lives, from voice assistants like Siri and Alexa to recommendation systems on streaming platforms. \n"
          ]
        }
      ],
      "source": [
        "#removing \\n from the text\n",
        "import re\n",
        "text_data = re.sub('[\\n]', ' ', text_data1)\n",
        "print(text_data)"
      ]
    },
    {
      "cell_type": "code",
      "execution_count": 8,
      "id": "f9f126d3",
      "metadata": {
        "colab": {
          "base_uri": "https://localhost:8080/"
        },
        "id": "f9f126d3",
        "outputId": "3fc86c55-1909-4c98-93e4-e667a77835b1"
      },
      "outputs": [
        {
          "output_type": "execute_result",
          "data": {
            "text/plain": [
              "390"
            ]
          },
          "metadata": {},
          "execution_count": 8
        }
      ],
      "source": [
        "len(text_data)"
      ]
    },
    {
      "cell_type": "code",
      "execution_count": 9,
      "id": "7226c9ca",
      "metadata": {
        "colab": {
          "base_uri": "https://localhost:8080/"
        },
        "id": "7226c9ca",
        "outputId": "8dc32a06-ff4e-4819-9f0c-3c753b1b1408"
      },
      "outputs": [
        {
          "output_type": "execute_result",
          "data": {
            "text/plain": [
              "['human',\n",
              " 'intelligence',\n",
              " 'processes',\n",
              " 'by',\n",
              " 'machines,',\n",
              " 'especially',\n",
              " 'computer',\n",
              " 'systems.',\n",
              " 'These',\n",
              " 'processes']"
            ]
          },
          "metadata": {},
          "execution_count": 9
        }
      ],
      "source": [
        "words_list =text_data.split()\n",
        "words_list[10:20]"
      ]
    },
    {
      "cell_type": "code",
      "execution_count": 10,
      "id": "607194b7",
      "metadata": {
        "colab": {
          "base_uri": "https://localhost:8080/"
        },
        "id": "607194b7",
        "outputId": "0fb7708f-fa3f-41aa-d378-8af57c3b802e"
      },
      "outputs": [
        {
          "output_type": "stream",
          "name": "stdout",
          "text": [
            "of once than ma should've aren't any when shouldn't we mustn for during but by no to down herself doesn't didn't hers with are don have until haven't before on those ours a will theirs above t out this very weren't was hasn't do re wasn't shouldn you most his under all mightn i now they wouldn the what too into has between can myself had shan then does their him you've o doing me hadn its hasn which should or ain in m did because ll who wasn haven so having been below himself don't nor were off mightn't why such yourselves didn isn't it's hadn't both other each aren our couldn further here mustn't not same needn't as shan't be there he these how being them couldn't if her y themselves doesn over weren few you'd isn you're yourself against needn and d yours after she's at that'll whom my just where up only won through itself own some s am about she from you'll is wouldn't an ourselves again won't ve more your that while it "
          ]
        },
        {
          "output_type": "stream",
          "name": "stderr",
          "text": [
            "[nltk_data] Downloading package stopwords to /root/nltk_data...\n",
            "[nltk_data]   Package stopwords is already up-to-date!\n"
          ]
        }
      ],
      "source": [
        "import nltk\n",
        "nltk.download('stopwords')\n",
        "\n",
        "from nltk.corpus import stopwords\n",
        "\n",
        "STOP_WORDS = set(stopwords.words('english'))\n",
        "\n",
        "for i in STOP_WORDS:\n",
        "    print(i, end=\" \")"
      ]
    },
    {
      "cell_type": "code",
      "execution_count": 11,
      "id": "d57a8be9",
      "metadata": {
        "colab": {
          "base_uri": "https://localhost:8080/"
        },
        "id": "d57a8be9",
        "outputId": "0844a3d9-45e1-4f0c-aa11-ad38cbf8cc7b"
      },
      "outputs": [
        {
          "output_type": "stream",
          "name": "stdout",
          "text": [
            "['of', 'once', 'than', 'ma', \"should've\", \"aren't\", 'any', 'when', \"shouldn't\", 'we', 'mustn', 'for', 'during', 'but', 'by', 'no', 'to', 'down', 'herself', \"doesn't\", \"didn't\", 'hers', 'with', 'are', 'don', 'have', 'until', \"haven't\", 'before', 'on', 'those', 'ours', 'a', 'will', 'theirs', 'above', 't', 'out', 'this', 'very', \"weren't\", 'was', \"hasn't\", 'do', 're', \"wasn't\", 'shouldn', 'you', 'most', 'his', 'under', 'all', 'mightn', 'i', 'now', 'they', 'wouldn', 'the', 'what', 'too', 'into', 'has', 'between', 'can', 'myself', 'had', 'shan', 'then', 'does', 'their', 'him', \"you've\", 'o', 'doing', 'me', 'hadn', 'its', 'hasn', 'which', 'should', 'or', 'ain', 'in', 'm', 'did', 'because', 'll', 'who', 'wasn', 'haven', 'so', 'having', 'been', 'below', 'himself', \"don't\", 'nor', 'were', 'off', \"mightn't\", 'why', 'such', 'yourselves', 'didn', \"isn't\", \"it's\", \"hadn't\", 'both', 'other', 'each', 'aren', 'our', 'couldn', 'further', 'here', \"mustn't\", 'not', 'same', \"needn't\", 'as', \"shan't\", 'be', 'there', 'he', 'these', 'how', 'being', 'them', \"couldn't\", 'if', 'her', 'y', 'themselves', 'doesn', 'over', 'weren', 'few', \"you'd\", 'isn', \"you're\", 'yourself', 'against', 'needn', 'and', 'd', 'yours', 'after', \"she's\", 'at', \"that'll\", 'whom', 'my', 'just', 'where', 'up', 'only', 'won', 'through', 'itself', 'own', 'some', 's', 'am', 'about', 'she', 'from', \"you'll\", 'is', \"wouldn't\", 'an', 'ourselves', 'again', \"won't\", 've', 'more', 'your', 'that', 'while', 'it']\n"
          ]
        },
        {
          "output_type": "execute_result",
          "data": {
            "text/plain": [
              "list"
            ]
          },
          "metadata": {},
          "execution_count": 11
        }
      ],
      "source": [
        "stopwords=list(STOP_WORDS)\n",
        "print(stopwords)\n",
        "type(stopwords)"
      ]
    },
    {
      "cell_type": "code",
      "execution_count": 12,
      "id": "ccc0a119",
      "metadata": {
        "id": "ccc0a119"
      },
      "outputs": [],
      "source": [
        "# from . import util\n",
        "import spacy\n",
        "from spacy.lang.en.stop_words import STOP_WORDS\n",
        "from string import punctuation\n",
        "from heapq import nlargest"
      ]
    },
    {
      "cell_type": "code",
      "execution_count": 13,
      "id": "7c106623",
      "metadata": {
        "collapsed": true,
        "colab": {
          "base_uri": "https://localhost:8080/"
        },
        "id": "7c106623",
        "outputId": "ee5afaf6-35c4-48fa-cb03-e7c749b27ac2"
      },
      "outputs": [
        {
          "output_type": "stream",
          "name": "stdout",
          "text": [
            "2023-10-21 11:30:09.078534: W tensorflow/compiler/tf2tensorrt/utils/py_utils.cc:38] TF-TRT Warning: Could not find TensorRT\n",
            "Collecting en-core-web-sm==3.6.0\n",
            "  Downloading https://github.com/explosion/spacy-models/releases/download/en_core_web_sm-3.6.0/en_core_web_sm-3.6.0-py3-none-any.whl (12.8 MB)\n",
            "\u001b[2K     \u001b[90m━━━━━━━━━━━━━━━━━━━━━━━━━━━━━━━━━━━━━━━━\u001b[0m \u001b[32m12.8/12.8 MB\u001b[0m \u001b[31m99.7 MB/s\u001b[0m eta \u001b[36m0:00:00\u001b[0m\n",
            "\u001b[?25hRequirement already satisfied: spacy<3.7.0,>=3.6.0 in /usr/local/lib/python3.10/dist-packages (from en-core-web-sm==3.6.0) (3.6.1)\n",
            "Requirement already satisfied: spacy-legacy<3.1.0,>=3.0.11 in /usr/local/lib/python3.10/dist-packages (from spacy<3.7.0,>=3.6.0->en-core-web-sm==3.6.0) (3.0.12)\n",
            "Requirement already satisfied: spacy-loggers<2.0.0,>=1.0.0 in /usr/local/lib/python3.10/dist-packages (from spacy<3.7.0,>=3.6.0->en-core-web-sm==3.6.0) (1.0.5)\n",
            "Requirement already satisfied: murmurhash<1.1.0,>=0.28.0 in /usr/local/lib/python3.10/dist-packages (from spacy<3.7.0,>=3.6.0->en-core-web-sm==3.6.0) (1.0.10)\n",
            "Requirement already satisfied: cymem<2.1.0,>=2.0.2 in /usr/local/lib/python3.10/dist-packages (from spacy<3.7.0,>=3.6.0->en-core-web-sm==3.6.0) (2.0.8)\n",
            "Requirement already satisfied: preshed<3.1.0,>=3.0.2 in /usr/local/lib/python3.10/dist-packages (from spacy<3.7.0,>=3.6.0->en-core-web-sm==3.6.0) (3.0.9)\n",
            "Requirement already satisfied: thinc<8.2.0,>=8.1.8 in /usr/local/lib/python3.10/dist-packages (from spacy<3.7.0,>=3.6.0->en-core-web-sm==3.6.0) (8.1.12)\n",
            "Requirement already satisfied: wasabi<1.2.0,>=0.9.1 in /usr/local/lib/python3.10/dist-packages (from spacy<3.7.0,>=3.6.0->en-core-web-sm==3.6.0) (1.1.2)\n",
            "Requirement already satisfied: srsly<3.0.0,>=2.4.3 in /usr/local/lib/python3.10/dist-packages (from spacy<3.7.0,>=3.6.0->en-core-web-sm==3.6.0) (2.4.8)\n",
            "Requirement already satisfied: catalogue<2.1.0,>=2.0.6 in /usr/local/lib/python3.10/dist-packages (from spacy<3.7.0,>=3.6.0->en-core-web-sm==3.6.0) (2.0.10)\n",
            "Requirement already satisfied: typer<0.10.0,>=0.3.0 in /usr/local/lib/python3.10/dist-packages (from spacy<3.7.0,>=3.6.0->en-core-web-sm==3.6.0) (0.9.0)\n",
            "Requirement already satisfied: pathy>=0.10.0 in /usr/local/lib/python3.10/dist-packages (from spacy<3.7.0,>=3.6.0->en-core-web-sm==3.6.0) (0.10.2)\n",
            "Requirement already satisfied: smart-open<7.0.0,>=5.2.1 in /usr/local/lib/python3.10/dist-packages (from spacy<3.7.0,>=3.6.0->en-core-web-sm==3.6.0) (6.4.0)\n",
            "Requirement already satisfied: tqdm<5.0.0,>=4.38.0 in /usr/local/lib/python3.10/dist-packages (from spacy<3.7.0,>=3.6.0->en-core-web-sm==3.6.0) (4.66.1)\n",
            "Requirement already satisfied: numpy>=1.15.0 in /usr/local/lib/python3.10/dist-packages (from spacy<3.7.0,>=3.6.0->en-core-web-sm==3.6.0) (1.23.5)\n",
            "Requirement already satisfied: requests<3.0.0,>=2.13.0 in /usr/local/lib/python3.10/dist-packages (from spacy<3.7.0,>=3.6.0->en-core-web-sm==3.6.0) (2.31.0)\n",
            "Requirement already satisfied: pydantic!=1.8,!=1.8.1,<3.0.0,>=1.7.4 in /usr/local/lib/python3.10/dist-packages (from spacy<3.7.0,>=3.6.0->en-core-web-sm==3.6.0) (1.10.13)\n",
            "Requirement already satisfied: jinja2 in /usr/local/lib/python3.10/dist-packages (from spacy<3.7.0,>=3.6.0->en-core-web-sm==3.6.0) (3.1.2)\n",
            "Requirement already satisfied: setuptools in /usr/local/lib/python3.10/dist-packages (from spacy<3.7.0,>=3.6.0->en-core-web-sm==3.6.0) (67.7.2)\n",
            "Requirement already satisfied: packaging>=20.0 in /usr/local/lib/python3.10/dist-packages (from spacy<3.7.0,>=3.6.0->en-core-web-sm==3.6.0) (23.2)\n",
            "Requirement already satisfied: langcodes<4.0.0,>=3.2.0 in /usr/local/lib/python3.10/dist-packages (from spacy<3.7.0,>=3.6.0->en-core-web-sm==3.6.0) (3.3.0)\n",
            "Requirement already satisfied: typing-extensions>=4.2.0 in /usr/local/lib/python3.10/dist-packages (from pydantic!=1.8,!=1.8.1,<3.0.0,>=1.7.4->spacy<3.7.0,>=3.6.0->en-core-web-sm==3.6.0) (4.5.0)\n",
            "Requirement already satisfied: charset-normalizer<4,>=2 in /usr/local/lib/python3.10/dist-packages (from requests<3.0.0,>=2.13.0->spacy<3.7.0,>=3.6.0->en-core-web-sm==3.6.0) (3.3.0)\n",
            "Requirement already satisfied: idna<4,>=2.5 in /usr/local/lib/python3.10/dist-packages (from requests<3.0.0,>=2.13.0->spacy<3.7.0,>=3.6.0->en-core-web-sm==3.6.0) (3.4)\n",
            "Requirement already satisfied: urllib3<3,>=1.21.1 in /usr/local/lib/python3.10/dist-packages (from requests<3.0.0,>=2.13.0->spacy<3.7.0,>=3.6.0->en-core-web-sm==3.6.0) (2.0.7)\n",
            "Requirement already satisfied: certifi>=2017.4.17 in /usr/local/lib/python3.10/dist-packages (from requests<3.0.0,>=2.13.0->spacy<3.7.0,>=3.6.0->en-core-web-sm==3.6.0) (2023.7.22)\n",
            "Requirement already satisfied: blis<0.8.0,>=0.7.8 in /usr/local/lib/python3.10/dist-packages (from thinc<8.2.0,>=8.1.8->spacy<3.7.0,>=3.6.0->en-core-web-sm==3.6.0) (0.7.11)\n",
            "Requirement already satisfied: confection<1.0.0,>=0.0.1 in /usr/local/lib/python3.10/dist-packages (from thinc<8.2.0,>=8.1.8->spacy<3.7.0,>=3.6.0->en-core-web-sm==3.6.0) (0.1.3)\n",
            "Requirement already satisfied: click<9.0.0,>=7.1.1 in /usr/local/lib/python3.10/dist-packages (from typer<0.10.0,>=0.3.0->spacy<3.7.0,>=3.6.0->en-core-web-sm==3.6.0) (8.1.7)\n",
            "Requirement already satisfied: MarkupSafe>=2.0 in /usr/local/lib/python3.10/dist-packages (from jinja2->spacy<3.7.0,>=3.6.0->en-core-web-sm==3.6.0) (2.1.3)\n",
            "\u001b[38;5;2m✔ Download and installation successful\u001b[0m\n",
            "You can now load the package via spacy.load('en_core_web_sm')\n"
          ]
        }
      ],
      "source": [
        "!python -m spacy download en_core_web_sm"
      ]
    },
    {
      "cell_type": "code",
      "execution_count": 14,
      "id": "95c70ed3",
      "metadata": {
        "id": "95c70ed3"
      },
      "outputs": [],
      "source": [
        "'''\n",
        "The \"en_core_web_sm\" in spaCy refers to the name of a pre-trained English language model provided by the spaCy library.\n",
        "Specifically, it is a small English multi-task CNN trained on OntoNotes, with GloVe vectors trained on Common Crawl.\n",
        "'''\n",
        "spacy_obj=spacy.load('en_core_web_sm')"
      ]
    },
    {
      "cell_type": "code",
      "source": [
        "text_data1"
      ],
      "metadata": {
        "colab": {
          "base_uri": "https://localhost:8080/",
          "height": 71
        },
        "id": "y3I2OJ_xyC7N",
        "outputId": "4ad11b62-570d-4651-c706-48b69c1a29bd"
      },
      "id": "y3I2OJ_xyC7N",
      "execution_count": 15,
      "outputs": [
        {
          "output_type": "execute_result",
          "data": {
            "text/plain": [
              "'\\nArtificial intelligence, often abbreviated as AI, is the simulation of human intelligence processes by machines, especially computer systems. These processes include learning, reasoning, problem-solving, perception, and language understanding. AI has become a significant part of our daily lives, from voice assistants like Siri and Alexa to recommendation systems on streaming platforms.\\n'"
            ],
            "application/vnd.google.colaboratory.intrinsic+json": {
              "type": "string"
            }
          },
          "metadata": {},
          "execution_count": 15
        }
      ]
    },
    {
      "cell_type": "code",
      "execution_count": 16,
      "id": "777d7e19",
      "metadata": {
        "id": "777d7e19"
      },
      "outputs": [],
      "source": [
        "text_doc=spacy_obj(text_data1)"
      ]
    },
    {
      "cell_type": "code",
      "execution_count": 17,
      "id": "1dd12225",
      "metadata": {
        "colab": {
          "base_uri": "https://localhost:8080/"
        },
        "id": "1dd12225",
        "outputId": "03dacc8b-58c6-4031-c291-88ba0639a646"
      },
      "outputs": [
        {
          "output_type": "execute_result",
          "data": {
            "text/plain": [
              "spacy.tokens.doc.Doc"
            ]
          },
          "metadata": {},
          "execution_count": 17
        }
      ],
      "source": [
        "type(text_doc)"
      ]
    },
    {
      "cell_type": "code",
      "execution_count": 18,
      "id": "d5f9e9d4",
      "metadata": {
        "colab": {
          "base_uri": "https://localhost:8080/"
        },
        "id": "d5f9e9d4",
        "outputId": "ca92b55d-2bc3-436d-fcac-39229834659e"
      },
      "outputs": [
        {
          "output_type": "stream",
          "name": "stdout",
          "text": [
            "\n",
            "\n",
            "Artificial\n",
            "intelligence\n",
            ",\n",
            "often\n",
            "abbreviated\n",
            "as\n",
            "AI\n",
            ",\n",
            "is\n",
            "the\n",
            "simulation\n",
            "of\n",
            "human\n",
            "intelligence\n",
            "processes\n",
            "by\n",
            "machines\n",
            ",\n",
            "especially\n",
            "computer\n",
            "systems\n",
            ".\n",
            "These\n",
            "processes\n",
            "include\n",
            "learning\n",
            ",\n",
            "reasoning\n",
            ",\n",
            "problem\n",
            "-\n",
            "solving\n",
            ",\n",
            "perception\n",
            ",\n",
            "and\n",
            "language\n",
            "understanding\n",
            ".\n",
            "AI\n",
            "has\n",
            "become\n",
            "a\n",
            "significant\n",
            "part\n",
            "of\n",
            "our\n",
            "daily\n",
            "lives\n",
            ",\n",
            "from\n",
            "voice\n",
            "assistants\n",
            "like\n",
            "Siri\n",
            "and\n",
            "Alexa\n",
            "to\n",
            "recommendation\n",
            "systems\n",
            "on\n",
            "streaming\n",
            "platforms\n",
            ".\n",
            "\n",
            "\n"
          ]
        }
      ],
      "source": [
        "for i in text_doc:\n",
        "    print(i.text)"
      ]
    },
    {
      "cell_type": "code",
      "execution_count": 19,
      "id": "b7678f07",
      "metadata": {
        "colab": {
          "base_uri": "https://localhost:8080/"
        },
        "id": "b7678f07",
        "outputId": "efbf0b48-b9bd-41ca-86f1-ada04b5a9698"
      },
      "outputs": [
        {
          "output_type": "execute_result",
          "data": {
            "text/plain": [
              "['\\n',\n",
              " 'Artificial',\n",
              " 'intelligence',\n",
              " ',',\n",
              " 'often',\n",
              " 'abbreviated',\n",
              " 'as',\n",
              " 'AI',\n",
              " ',',\n",
              " 'is']"
            ]
          },
          "metadata": {},
          "execution_count": 19
        }
      ],
      "source": [
        "words=[i.text for i in text_doc]\n",
        "words[0:10]"
      ]
    },
    {
      "cell_type": "code",
      "execution_count": 20,
      "id": "f6567189",
      "metadata": {
        "id": "f6567189"
      },
      "outputs": [],
      "source": [
        "word_frequency={}"
      ]
    },
    {
      "cell_type": "code",
      "execution_count": 21,
      "id": "18fefbba",
      "metadata": {
        "id": "18fefbba"
      },
      "outputs": [],
      "source": [
        "# # Step-2 calculate word_frequency\n",
        "# for word in text_doc:\n",
        "#     if word.text.lower() not in stopwords and word.text not in punctuation:\n",
        "#         if word.text not in word_frequency.keys():\n",
        "#             word_frequency[word.text]=1\n",
        "#         else:\n",
        "#             word_frequency[word.text]=word_frequency[word.text]+1\n",
        "\n",
        "# word_frequency"
      ]
    },
    {
      "cell_type": "code",
      "source": [
        "# # Step-2 calculate word_frequency\n",
        "## Commenting STOPWORDS AND PUNCTYUATION CONDITION AS PER THE PRESENATTION SLIDE EXAMPLE\n",
        "for word in text_doc:\n",
        "    # if word.text.lower() not in stopwords and word.text not in punctuation:\n",
        "    if word.text not in word_frequency.keys():\n",
        "        word_frequency[word.text]=1\n",
        "    else:\n",
        "        word_frequency[word.text]=word_frequency[word.text]+1\n",
        "\n",
        "word_frequency"
      ],
      "metadata": {
        "colab": {
          "base_uri": "https://localhost:8080/"
        },
        "id": "9-41isFY31rp",
        "outputId": "86ff0cc2-9db9-412e-c4cb-579a93c8c9d9"
      },
      "id": "9-41isFY31rp",
      "execution_count": 22,
      "outputs": [
        {
          "output_type": "execute_result",
          "data": {
            "text/plain": [
              "{'\\n': 2,\n",
              " 'Artificial': 1,\n",
              " 'intelligence': 2,\n",
              " ',': 8,\n",
              " 'often': 1,\n",
              " 'abbreviated': 1,\n",
              " 'as': 1,\n",
              " 'AI': 2,\n",
              " 'is': 1,\n",
              " 'the': 1,\n",
              " 'simulation': 1,\n",
              " 'of': 2,\n",
              " 'human': 1,\n",
              " 'processes': 2,\n",
              " 'by': 1,\n",
              " 'machines': 1,\n",
              " 'especially': 1,\n",
              " 'computer': 1,\n",
              " 'systems': 2,\n",
              " '.': 3,\n",
              " 'These': 1,\n",
              " 'include': 1,\n",
              " 'learning': 1,\n",
              " 'reasoning': 1,\n",
              " 'problem': 1,\n",
              " '-': 1,\n",
              " 'solving': 1,\n",
              " 'perception': 1,\n",
              " 'and': 2,\n",
              " 'language': 1,\n",
              " 'understanding': 1,\n",
              " 'has': 1,\n",
              " 'become': 1,\n",
              " 'a': 1,\n",
              " 'significant': 1,\n",
              " 'part': 1,\n",
              " 'our': 1,\n",
              " 'daily': 1,\n",
              " 'lives': 1,\n",
              " 'from': 1,\n",
              " 'voice': 1,\n",
              " 'assistants': 1,\n",
              " 'like': 1,\n",
              " 'Siri': 1,\n",
              " 'Alexa': 1,\n",
              " 'to': 1,\n",
              " 'recommendation': 1,\n",
              " 'on': 1,\n",
              " 'streaming': 1,\n",
              " 'platforms': 1}"
            ]
          },
          "metadata": {},
          "execution_count": 22
        }
      ]
    },
    {
      "cell_type": "code",
      "execution_count": 23,
      "id": "2efb7758",
      "metadata": {
        "colab": {
          "base_uri": "https://localhost:8080/"
        },
        "id": "2efb7758",
        "outputId": "3bb2734e-7334-4aaf-a0c0-c24f7e35b854"
      },
      "outputs": [
        {
          "output_type": "execute_result",
          "data": {
            "text/plain": [
              "50"
            ]
          },
          "metadata": {},
          "execution_count": 23
        }
      ],
      "source": [
        "# max_frequency=max(word_frequency.values())\n",
        "\n",
        "max_frequency= len(word_frequency.keys())\n",
        "\n",
        "max_frequency"
      ]
    },
    {
      "cell_type": "code",
      "execution_count": 24,
      "id": "e33fd003",
      "metadata": {
        "colab": {
          "base_uri": "https://localhost:8080/"
        },
        "id": "e33fd003",
        "outputId": "6c757209-5bac-4a57-d1ff-23a73eee8f48"
      },
      "outputs": [
        {
          "output_type": "stream",
          "name": "stdout",
          "text": [
            "{'\\n': 0.04, 'Artificial': 0.02, 'intelligence': 0.04, ',': 0.16, 'often': 0.02, 'abbreviated': 0.02, 'as': 0.02, 'AI': 0.04, 'is': 0.02, 'the': 0.02, 'simulation': 0.02, 'of': 0.04, 'human': 0.02, 'processes': 0.04, 'by': 0.02, 'machines': 0.02, 'especially': 0.02, 'computer': 0.02, 'systems': 0.04, '.': 0.06, 'These': 0.02, 'include': 0.02, 'learning': 0.02, 'reasoning': 0.02, 'problem': 0.02, '-': 0.02, 'solving': 0.02, 'perception': 0.02, 'and': 0.04, 'language': 0.02, 'understanding': 0.02, 'has': 0.02, 'become': 0.02, 'a': 0.02, 'significant': 0.02, 'part': 0.02, 'our': 0.02, 'daily': 0.02, 'lives': 0.02, 'from': 0.02, 'voice': 0.02, 'assistants': 0.02, 'like': 0.02, 'Siri': 0.02, 'Alexa': 0.02, 'to': 0.02, 'recommendation': 0.02, 'on': 0.02, 'streaming': 0.02, 'platforms': 0.02}\n"
          ]
        }
      ],
      "source": [
        "# Step-3 Update @word_frequency as representing .....Normalization of word freuency....\n",
        "for word in word_frequency.keys():\n",
        "    word_frequency[word]=word_frequency[word]/max_frequency\n",
        "\n",
        "print(word_frequency)"
      ]
    },
    {
      "cell_type": "code",
      "execution_count": 25,
      "id": "920283c0",
      "metadata": {
        "colab": {
          "base_uri": "https://localhost:8080/"
        },
        "id": "920283c0",
        "outputId": "823f27ce-5ea6-402b-f1ce-d0266fc0f8e9"
      },
      "outputs": [
        {
          "output_type": "execute_result",
          "data": {
            "text/plain": [
              "generator"
            ]
          },
          "metadata": {},
          "execution_count": 25
        }
      ],
      "source": [
        "type(text_doc.sents)"
      ]
    },
    {
      "cell_type": "code",
      "execution_count": 26,
      "id": "b8f00d1e",
      "metadata": {
        "colab": {
          "base_uri": "https://localhost:8080/"
        },
        "id": "b8f00d1e",
        "outputId": "16d705cb-6ba2-454a-b852-fa26adb142d0"
      },
      "outputs": [
        {
          "output_type": "execute_result",
          "data": {
            "text/plain": [
              "[\n",
              " Artificial intelligence, often abbreviated as AI, is the simulation of human intelligence processes by machines, especially computer systems.,\n",
              " These processes include learning, reasoning, problem-solving, perception, and language understanding.,\n",
              " AI has become a significant part of our daily lives, from voice assistants like Siri and Alexa to recommendation systems on streaming platforms.]"
            ]
          },
          "metadata": {},
          "execution_count": 26
        }
      ],
      "source": [
        "# Step-4 Sentence Tokenization\n",
        "sentences=[sent for sent in text_doc.sents]\n",
        "sentences"
      ]
    },
    {
      "cell_type": "code",
      "execution_count": 27,
      "id": "bbb565f0",
      "metadata": {
        "colab": {
          "base_uri": "https://localhost:8080/"
        },
        "id": "bbb565f0",
        "outputId": "6e32cd48-8793-4f92-ce8d-271135b30912"
      },
      "outputs": [
        {
          "output_type": "execute_result",
          "data": {
            "text/plain": [
              "3"
            ]
          },
          "metadata": {},
          "execution_count": 27
        }
      ],
      "source": [
        "len(sentences)"
      ]
    },
    {
      "cell_type": "code",
      "execution_count": 28,
      "id": "004c6dec",
      "metadata": {
        "id": "004c6dec"
      },
      "outputs": [],
      "source": [
        "## STEP 5: Calculate sentence scores for each sentence\n",
        "sentence_scores={}\n"
      ]
    },
    {
      "cell_type": "code",
      "source": [
        "type(sentences)"
      ],
      "metadata": {
        "colab": {
          "base_uri": "https://localhost:8080/"
        },
        "id": "xTDTfgczoI-S",
        "outputId": "b5d97808-5770-45eb-cd55-56f76407f706"
      },
      "id": "xTDTfgczoI-S",
      "execution_count": 29,
      "outputs": [
        {
          "output_type": "execute_result",
          "data": {
            "text/plain": [
              "list"
            ]
          },
          "metadata": {},
          "execution_count": 29
        }
      ]
    },
    {
      "cell_type": "code",
      "source": [
        "type(word_frequency)"
      ],
      "metadata": {
        "colab": {
          "base_uri": "https://localhost:8080/"
        },
        "id": "u-ddjdSPn313",
        "outputId": "f2960853-7f55-4c22-b1a5-c09f1fb2116f"
      },
      "id": "u-ddjdSPn313",
      "execution_count": 30,
      "outputs": [
        {
          "output_type": "execute_result",
          "data": {
            "text/plain": [
              "dict"
            ]
          },
          "metadata": {},
          "execution_count": 30
        }
      ]
    },
    {
      "cell_type": "code",
      "execution_count": 31,
      "id": "20b82d6f",
      "metadata": {
        "colab": {
          "base_uri": "https://localhost:8080/"
        },
        "id": "20b82d6f",
        "outputId": "1a42978e-2ea8-45e9-edfb-991be7c58ea7"
      },
      "outputs": [
        {
          "output_type": "stream",
          "name": "stdout",
          "text": [
            "For  \n",
            "Artificial intelligence, often abbreviated as AI, is the simulation of human intelligence processes by machines, especially computer systems.\n",
            "\n",
            " 0.04\n",
            "Artificial 0.02\n",
            "intelligence 0.04\n",
            ", 0.16\n",
            "often 0.02\n",
            "abbreviated 0.02\n",
            "as 0.02\n",
            "AI 0.04\n",
            ", 0.16\n",
            "is 0.02\n",
            "the 0.02\n",
            "simulation 0.02\n",
            "of 0.04\n",
            "human 0.02\n",
            "intelligence 0.04\n",
            "processes 0.04\n",
            "by 0.02\n",
            "machines 0.02\n",
            ", 0.16\n",
            "especially 0.02\n",
            "computer 0.02\n",
            "systems 0.04\n",
            ". 0.06\n",
            "The score is 1.0600000000000003\n",
            "For  These processes include learning, reasoning, problem-solving, perception, and language understanding.\n",
            "These 0.02\n",
            "processes 0.04\n",
            "include 0.02\n",
            "learning 0.02\n",
            ", 0.16\n",
            "reasoning 0.02\n",
            ", 0.16\n",
            "problem 0.02\n",
            "- 0.02\n",
            "solving 0.02\n",
            ", 0.16\n",
            "perception 0.02\n",
            ", 0.16\n",
            "and 0.04\n",
            "language 0.02\n",
            "understanding 0.02\n",
            ". 0.06\n",
            "The score is 0.9800000000000002\n",
            "For  AI has become a significant part of our daily lives, from voice assistants like Siri and Alexa to recommendation systems on streaming platforms.\n",
            "\n",
            "AI 0.04\n",
            "has 0.02\n",
            "become 0.02\n",
            "a 0.02\n",
            "significant 0.02\n",
            "part 0.02\n",
            "of 0.04\n",
            "our 0.02\n",
            "daily 0.02\n",
            "lives 0.02\n",
            ", 0.16\n",
            "from 0.02\n",
            "voice 0.02\n",
            "assistants 0.02\n",
            "like 0.02\n",
            "Siri 0.02\n",
            "and 0.04\n",
            "Alexa 0.02\n",
            "to 0.02\n",
            "recommendation 0.02\n",
            "systems 0.04\n",
            "on 0.02\n",
            "streaming 0.02\n",
            "platforms 0.02\n",
            ". 0.06\n",
            "\n",
            " 0.04\n",
            "The score is 0.8000000000000003\n",
            "{\n",
            "Artificial intelligence, often abbreviated as AI, is the simulation of human intelligence processes by machines, especially computer systems.: 1.0600000000000003, These processes include learning, reasoning, problem-solving, perception, and language understanding.: 0.9800000000000002, AI has become a significant part of our daily lives, from voice assistants like Siri and Alexa to recommendation systems on streaming platforms.\n",
            ": 0.8000000000000003}\n"
          ]
        }
      ],
      "source": [
        "#### Computing the sentence score\n",
        "for sentence in sentences:\n",
        "    print(\"For \", sentence)\n",
        "    if sentence not in sentence_scores.keys():\n",
        "        sentence_scores[sentence]=0\n",
        "    for word in sentence:\n",
        "        if word.text in word_frequency.keys():\n",
        "            print(word, word_frequency[word.text])\n",
        "            sentence_scores[sentence] +=word_frequency[word.text]\n",
        "    print(\"The score is\",sentence_scores[sentence])\n",
        "print(sentence_scores)"
      ]
    },
    {
      "cell_type": "code",
      "execution_count": 32,
      "id": "630e2ca2",
      "metadata": {
        "colab": {
          "base_uri": "https://localhost:8080/"
        },
        "id": "630e2ca2",
        "outputId": "27b847fb-3414-4e32-83f1-199a7543532b"
      },
      "outputs": [
        {
          "output_type": "execute_result",
          "data": {
            "text/plain": [
              "3"
            ]
          },
          "metadata": {},
          "execution_count": 32
        }
      ],
      "source": [
        "len(sentences)"
      ]
    },
    {
      "cell_type": "code",
      "source": [
        "sentence_scores.values()"
      ],
      "metadata": {
        "colab": {
          "base_uri": "https://localhost:8080/"
        },
        "id": "d7GhqcGmUFES",
        "outputId": "69098858-e936-4c2c-e0aa-5667a6702bab"
      },
      "id": "d7GhqcGmUFES",
      "execution_count": 33,
      "outputs": [
        {
          "output_type": "execute_result",
          "data": {
            "text/plain": [
              "dict_values([1.0600000000000003, 0.9800000000000002, 0.8000000000000003])"
            ]
          },
          "metadata": {},
          "execution_count": 33
        }
      ]
    },
    {
      "cell_type": "code",
      "execution_count": 34,
      "id": "23b4a64b",
      "metadata": {
        "colab": {
          "base_uri": "https://localhost:8080/"
        },
        "id": "23b4a64b",
        "outputId": "5173fca2-a63d-4056-e7e6-6ab129c02ef2"
      },
      "outputs": [
        {
          "output_type": "execute_result",
          "data": {
            "text/plain": [
              "2"
            ]
          },
          "metadata": {},
          "execution_count": 34
        }
      ],
      "source": [
        "percentage_of_sentences= 0.7\n",
        "summary_length=int(len(sentences)* percentage_of_sentences)\n",
        "summary_length"
      ]
    },
    {
      "cell_type": "code",
      "execution_count": 35,
      "id": "a2de03bc",
      "metadata": {
        "colab": {
          "base_uri": "https://localhost:8080/"
        },
        "id": "a2de03bc",
        "outputId": "760420a8-8484-4690-bd16-8ea57853c69c"
      },
      "outputs": [
        {
          "output_type": "execute_result",
          "data": {
            "text/plain": [
              "[\n",
              " Artificial intelligence, often abbreviated as AI, is the simulation of human intelligence processes by machines, especially computer systems.,\n",
              " These processes include learning, reasoning, problem-solving, perception, and language understanding.]"
            ]
          },
          "metadata": {},
          "execution_count": 35
        }
      ],
      "source": [
        "# STEP 6: Rank the sentences using @sentence_scores\n",
        "summary =nlargest(summary_length,sentence_scores,key= sentence_scores.get)\n",
        "summary"
      ]
    },
    {
      "cell_type": "code",
      "execution_count": 36,
      "id": "068c997f",
      "metadata": {
        "colab": {
          "base_uri": "https://localhost:8080/"
        },
        "id": "068c997f",
        "outputId": "b4eca91a-0562-489b-e160-12fa1be8a96c"
      },
      "outputs": [
        {
          "output_type": "execute_result",
          "data": {
            "text/plain": [
              "spacy.tokens.span.Span"
            ]
          },
          "metadata": {},
          "execution_count": 36
        }
      ],
      "source": [
        "type(summary[0])"
      ]
    },
    {
      "cell_type": "code",
      "execution_count": 37,
      "id": "aab6f9b0",
      "metadata": {
        "colab": {
          "base_uri": "https://localhost:8080/"
        },
        "id": "aab6f9b0",
        "outputId": "93593e66-8c91-4770-848a-c526346e5f51"
      },
      "outputs": [
        {
          "output_type": "execute_result",
          "data": {
            "text/plain": [
              "['\\nArtificial intelligence, often abbreviated as AI, is the simulation of human intelligence processes by machines, especially computer systems.',\n",
              " 'These processes include learning, reasoning, problem-solving, perception, and language understanding.']"
            ]
          },
          "metadata": {},
          "execution_count": 37
        }
      ],
      "source": [
        "text=[word.text for word in summary]\n",
        "text"
      ]
    },
    {
      "cell_type": "code",
      "execution_count": 38,
      "id": "773ae4dc",
      "metadata": {
        "colab": {
          "base_uri": "https://localhost:8080/",
          "height": 53
        },
        "id": "773ae4dc",
        "outputId": "a406fdf9-94bf-4901-c0fa-ea210f90bad6"
      },
      "outputs": [
        {
          "output_type": "execute_result",
          "data": {
            "text/plain": [
              "'\\nArtificial intelligence, often abbreviated as AI, is the simulation of human intelligence processes by machines, especially computer systems. These processes include learning, reasoning, problem-solving, perception, and language understanding.'"
            ],
            "application/vnd.google.colaboratory.intrinsic+json": {
              "type": "string"
            }
          },
          "metadata": {},
          "execution_count": 38
        }
      ],
      "source": [
        "final_summary = \" \".join(text)\n",
        "final_summary\n"
      ]
    },
    {
      "cell_type": "code",
      "execution_count": 39,
      "id": "5c58f173",
      "metadata": {
        "id": "5c58f173"
      },
      "outputs": [],
      "source": [
        "# -from youtube videos , get transcripts(text form)\n",
        "# -apply text summarization on transcripts"
      ]
    },
    {
      "cell_type": "code",
      "execution_count": 40,
      "id": "13dfd8c3",
      "metadata": {
        "id": "13dfd8c3",
        "colab": {
          "base_uri": "https://localhost:8080/"
        },
        "outputId": "3707e441-2e58-4563-b365-f3ae5ac67761"
      },
      "outputs": [
        {
          "output_type": "stream",
          "name": "stdout",
          "text": [
            "Requirement already satisfied: youtube-transcript-api in /usr/local/lib/python3.10/dist-packages (0.6.1)\n",
            "Requirement already satisfied: requests in /usr/local/lib/python3.10/dist-packages (from youtube-transcript-api) (2.31.0)\n",
            "Requirement already satisfied: charset-normalizer<4,>=2 in /usr/local/lib/python3.10/dist-packages (from requests->youtube-transcript-api) (3.3.0)\n",
            "Requirement already satisfied: idna<4,>=2.5 in /usr/local/lib/python3.10/dist-packages (from requests->youtube-transcript-api) (3.4)\n",
            "Requirement already satisfied: urllib3<3,>=1.21.1 in /usr/local/lib/python3.10/dist-packages (from requests->youtube-transcript-api) (2.0.7)\n",
            "Requirement already satisfied: certifi>=2017.4.17 in /usr/local/lib/python3.10/dist-packages (from requests->youtube-transcript-api) (2023.7.22)\n"
          ]
        }
      ],
      "source": [
        "!pip install youtube-transcript-api"
      ]
    },
    {
      "cell_type": "code",
      "execution_count": 41,
      "id": "019cd65c",
      "metadata": {
        "colab": {
          "base_uri": "https://localhost:8080/"
        },
        "id": "019cd65c",
        "outputId": "2254cb1a-b44e-48e9-d6d7-b5dc54f0d34a"
      },
      "outputs": [
        {
          "output_type": "stream",
          "name": "stdout",
          "text": [
            "[{'text': '[Music]', 'start': 0.0, 'duration': 2.879}, {'text': \"if you're looking for a machine learning\", 'start': 1.599, 'duration': 3.121}, {'text': 'tutorial with python and jupyter', 'start': 2.879, 'duration': 2.561}, {'text': 'notebook', 'start': 4.72, 'duration': 2.48}, {'text': \"this tutorial is for you you're going to\", 'start': 5.44, 'duration': 3.92}, {'text': 'learn how to solve a real world problem', 'start': 7.2, 'duration': 4.24}, {'text': \"using machine learning and python we're\", 'start': 9.36, 'duration': 3.199}, {'text': 'going to start off with a brief', 'start': 11.44, 'duration': 2.64}, {'text': 'introduction to machine learning', 'start': 12.559, 'duration': 2.96}, {'text': \"then we're going to talk about the tools\", 'start': 14.08, 'duration': 3.039}, {'text': \"you need and after that we're going to\", 'start': 15.519, 'duration': 3.121}, {'text': \"jump straight into the problem we're\", 'start': 17.119, 'duration': 2.401}, {'text': 'going to solve', 'start': 18.64, 'duration': 2.799}, {'text': \"you'll learn how to build a model that\", 'start': 19.52, 'duration': 3.919}, {'text': 'can learn and predict the kind of music', 'start': 21.439, 'duration': 3.201}, {'text': 'people like', 'start': 23.439, 'duration': 3.201}, {'text': 'so by the end of this one hour tutorial', 'start': 24.64, 'duration': 3.36}, {'text': 'you will have a good understanding of', 'start': 26.64, 'duration': 2.719}, {'text': 'machine learning basics', 'start': 28.0, 'duration': 2.88}, {'text': \"and you'll be able to learn more\", 'start': 29.359, 'duration': 3.761}, {'text': 'intermediate to advanced level concepts', 'start': 30.88, 'duration': 3.519}, {'text': \"you don't need any prior knowledge in\", 'start': 33.12, 'duration': 2.8}, {'text': 'machine learning but you need to know', 'start': 34.399, 'duration': 2.801}, {'text': 'python fairly well', 'start': 35.92, 'duration': 2.72}, {'text': \"if you don't i've got a couple of\", 'start': 37.2, 'duration': 3.199}, {'text': 'tutorials for you here on my channel the', 'start': 38.64, 'duration': 3.439}, {'text': 'links are below this video', 'start': 40.399, 'duration': 3.441}, {'text': \"i'm ashamed only and i'm super excited\", 'start': 42.079, 'duration': 3.761}, {'text': 'to be your instructor on this channel i', 'start': 43.84, 'duration': 3.76}, {'text': 'have tons of programming tutorials that', 'start': 45.84, 'duration': 3.039}, {'text': 'you might find helpful', 'start': 47.6, 'duration': 3.52}, {'text': 'so be sure to subscribe as i upload new', 'start': 48.879, 'duration': 3.52}, {'text': 'tutorials every week', 'start': 51.12, 'duration': 8.72}, {'text': \"now let's jump in and get started\", 'start': 52.399, 'duration': 7.441}, {'text': \"in this section you're going to learn\", 'start': 63.84, 'duration': 2.959}, {'text': 'about machine learning which is a subset', 'start': 64.96, 'duration': 2.72}, {'text': 'of ai or', 'start': 66.799, 'duration': 2.961}, {'text': \"artificial intelligence it's one of the\", 'start': 67.68, 'duration': 4.16}, {'text': 'trending topics in the world these days', 'start': 69.76, 'duration': 3.359}, {'text': \"and it's going to have a lot of\", 'start': 71.84, 'duration': 2.72}, {'text': 'applications in the future', 'start': 73.119, 'duration': 3.601}, {'text': \"here's an example imagine i ask you to\", 'start': 74.56, 'duration': 3.04}, {'text': 'write a program', 'start': 76.72, 'duration': 3.6}, {'text': \"to scan an image and tell if it's a cat\", 'start': 77.6, 'duration': 3.839}, {'text': 'or a doc', 'start': 80.32, 'duration': 2.64}, {'text': 'if you want to build this program using', 'start': 81.439, 'duration': 3.281}, {'text': 'traditional programming techniques', 'start': 82.96, 'duration': 3.6}, {'text': 'your program is going to get overly', 'start': 84.72, 'duration': 3.759}, {'text': 'complex you will have to come up with', 'start': 86.56, 'duration': 3.76}, {'text': 'lots of rules to look for specific', 'start': 88.479, 'duration': 2.561}, {'text': 'curves', 'start': 90.32, 'duration': 3.28}, {'text': 'edges and colors in an image to tell if', 'start': 91.04, 'duration': 4.0}, {'text': \"it's a cat or a dog\", 'start': 93.6, 'duration': 2.879}, {'text': 'but if i give you a black and white', 'start': 95.04, 'duration': 3.039}, {'text': 'photo your rules may not work', 'start': 96.479, 'duration': 3.041}, {'text': \"they may break then you'll have to\", 'start': 98.079, 'duration': 3.281}, {'text': 'rewrite them or i might give you a', 'start': 99.52, 'duration': 3.2}, {'text': 'picture of a cat or a dog', 'start': 101.36, 'duration': 3.2}, {'text': 'from a different angle that you did not', 'start': 102.72, 'duration': 3.039}, {'text': 'predict before', 'start': 104.56, 'duration': 2.72}, {'text': 'so solving this problem using', 'start': 105.759, 'duration': 3.04}, {'text': 'traditional programming techniques is', 'start': 107.28, 'duration': 2.159}, {'text': 'going to get', 'start': 108.799, 'duration': 3.68}, {'text': 'overly complex or sometimes impossible', 'start': 109.439, 'duration': 4.96}, {'text': 'now to make the matter worse what if in', 'start': 112.479, 'duration': 3.68}, {'text': 'the future i ask you to extend this', 'start': 114.399, 'duration': 2.32}, {'text': 'program', 'start': 116.159, 'duration': 2.401}, {'text': 'such that it supports three kinds of', 'start': 116.719, 'duration': 3.521}, {'text': 'animals cats', 'start': 118.56, 'duration': 4.0}, {'text': \"dogs and horses once again you'll have\", 'start': 120.24, 'duration': 4.08}, {'text': 'to rewrite all those rules', 'start': 122.56, 'duration': 3.76}, {'text': \"that's not gonna work so machine\", 'start': 124.32, 'duration': 3.919}, {'text': 'learning is a technique to solve these', 'start': 126.32, 'duration': 2.88}, {'text': 'kind of problems', 'start': 128.239, 'duration': 3.201}, {'text': 'and this is how it works we build a', 'start': 129.2, 'duration': 3.679}, {'text': 'model or an engine', 'start': 131.44, 'duration': 3.84}, {'text': 'and give it lots and lots of data for', 'start': 132.879, 'duration': 3.36}, {'text': 'example we give you', 'start': 135.28, 'duration': 2.88}, {'text': 'thousands or tens of thousands of', 'start': 136.239, 'duration': 3.921}, {'text': 'pictures of cats and dogs', 'start': 138.16, 'duration': 4.0}, {'text': 'our model will then find and learn', 'start': 140.16, 'duration': 3.92}, {'text': 'patterns in the input data', 'start': 142.16, 'duration': 3.92}, {'text': 'so we can give it a new picture of a cat', 'start': 144.08, 'duration': 3.519}, {'text': \"that it hasn't seen before\", 'start': 146.08, 'duration': 3.44}, {'text': 'and ask it is it a cat or a dog or a', 'start': 147.599, 'duration': 3.761}, {'text': 'horse and it will tell us with a certain', 'start': 149.52, 'duration': 3.28}, {'text': 'level of accuracy', 'start': 151.36, 'duration': 3.519}, {'text': 'the more input data we give it the more', 'start': 152.8, 'duration': 3.2}, {'text': 'accurate our model', 'start': 154.879, 'duration': 3.601}, {'text': 'is going to be so that was a very basic', 'start': 156.0, 'duration': 3.2}, {'text': 'example', 'start': 158.48, 'duration': 2.08}, {'text': 'but machine learning has other', 'start': 159.2, 'duration': 3.84}, {'text': 'applications in self-driving cars', 'start': 160.56, 'duration': 5.36}, {'text': 'robotics language processing vision', 'start': 163.04, 'duration': 3.839}, {'text': 'processing', 'start': 165.92, 'duration': 2.959}, {'text': 'forecasting things like stock market', 'start': 166.879, 'duration': 3.44}, {'text': 'trends and the weather', 'start': 168.879, 'duration': 3.921}, {'text': \"games and so on so that's the basic idea\", 'start': 170.319, 'duration': 3.761}, {'text': 'about machine learning', 'start': 172.8, 'duration': 2.799}, {'text': \"next we'll look at machine learning in\", 'start': 174.08, 'duration': 3.92}, {'text': 'action', 'start': 175.599, 'duration': 2.401}, {'text': 'a machine learning project involves a', 'start': 182.159, 'duration': 3.841}, {'text': 'number of steps the first step is to', 'start': 183.68, 'duration': 4.479}, {'text': 'import our data which often comes in the', 'start': 186.0, 'duration': 3.599}, {'text': 'form of a csv file', 'start': 188.159, 'duration': 3.281}, {'text': 'you might have a database with lots of', 'start': 189.599, 'duration': 4.241}, {'text': 'data we can simply export that data', 'start': 191.44, 'duration': 4.32}, {'text': 'and store it in a csv file for the', 'start': 193.84, 'duration': 4.16}, {'text': 'purpose of our machine learning project', 'start': 195.76, 'duration': 4.479}, {'text': 'so we import our data next we need to', 'start': 198.0, 'duration': 4.08}, {'text': 'clean it and this involves tasks', 'start': 200.239, 'duration': 4.0}, {'text': 'such as removing duplicated data if you', 'start': 202.08, 'duration': 3.439}, {'text': 'have duplicates in the data', 'start': 204.239, 'duration': 3.121}, {'text': \"we don't want to feed this to our model\", 'start': 205.519, 'duration': 3.601}, {'text': 'because otherwise our model will learn', 'start': 207.36, 'duration': 3.36}, {'text': 'bad patterns in the data and it will', 'start': 209.12, 'duration': 3.36}, {'text': 'produce the wrong result', 'start': 210.72, 'duration': 3.28}, {'text': 'so we should make sure that our input', 'start': 212.48, 'duration': 3.6}, {'text': 'data is in a good and clean shape', 'start': 214.0, 'duration': 3.76}, {'text': 'if there are data that is irrelevant we', 'start': 216.08, 'duration': 3.04}, {'text': 'should remove them if they are', 'start': 217.76, 'duration': 2.64}, {'text': 'duplicated or', 'start': 219.12, 'duration': 4.08}, {'text': 'incomplete we can remove or modify them', 'start': 220.4, 'duration': 4.479}, {'text': 'if our data is text-based', 'start': 223.2, 'duration': 4.24}, {'text': 'like the name of countries or genres of', 'start': 224.879, 'duration': 3.041}, {'text': 'music', 'start': 227.44, 'duration': 2.879}, {'text': 'or cats and dogs we need to convert them', 'start': 227.92, 'duration': 4.08}, {'text': 'to numerical values', 'start': 230.319, 'duration': 3.521}, {'text': 'so this step really depends on the kind', 'start': 232.0, 'duration': 3.519}, {'text': \"of data we're working with\", 'start': 233.84, 'duration': 3.84}, {'text': 'every project is different now that we', 'start': 235.519, 'duration': 4.08}, {'text': 'have a clean data set we need to split', 'start': 237.68, 'duration': 2.4}, {'text': 'it into', 'start': 239.599, 'duration': 3.36}, {'text': 'two segments one for training our model', 'start': 240.08, 'duration': 4.48}, {'text': 'and the other for testing it', 'start': 242.959, 'duration': 4.0}, {'text': 'to make sure that our model produces the', 'start': 244.56, 'duration': 3.679}, {'text': 'right result', 'start': 246.959, 'duration': 2.801}, {'text': 'for example if you have a thousand', 'start': 248.239, 'duration': 3.041}, {'text': 'pictures of cats and dogs', 'start': 249.76, 'duration': 3.199}, {'text': 'we can reserve eighty percent for', 'start': 251.28, 'duration': 3.599}, {'text': 'training and the other 20', 'start': 252.959, 'duration': 4.56}, {'text': 'for testing the next step is to create a', 'start': 254.879, 'duration': 3.36}, {'text': 'model', 'start': 257.519, 'duration': 2.96}, {'text': 'and this involves selecting an algorithm', 'start': 258.239, 'duration': 3.84}, {'text': 'to analyze the data', 'start': 260.479, 'duration': 2.881}, {'text': 'there are so many different machine', 'start': 262.079, 'duration': 3.041}, {'text': 'learning algorithms out there such as', 'start': 263.36, 'duration': 2.88}, {'text': 'decision trees', 'start': 265.12, 'duration': 3.6}, {'text': 'neural networks and so on each algorithm', 'start': 266.24, 'duration': 3.92}, {'text': 'has pros and cons', 'start': 268.72, 'duration': 3.84}, {'text': 'in terms of accuracy and performance so', 'start': 270.16, 'duration': 3.68}, {'text': 'the algorithm you choose', 'start': 272.56, 'duration': 2.88}, {'text': \"depends on the kind of problem you're\", 'start': 273.84, 'duration': 4.0}, {'text': 'trying to solve and your input data', 'start': 275.44, 'duration': 3.759}, {'text': \"now the good news is that we don't have\", 'start': 277.84, 'duration': 3.28}, {'text': 'to explicitly program an', 'start': 279.199, 'duration': 3.921}, {'text': 'algorithm there are libraries out there', 'start': 281.12, 'duration': 3.68}, {'text': 'that provide these algorithms', 'start': 283.12, 'duration': 3.359}, {'text': 'one of the most popular ones which we', 'start': 284.8, 'duration': 3.28}, {'text': 'are going to look at in this tutorial', 'start': 286.479, 'duration': 4.401}, {'text': 'is scikit-learn so we build a model', 'start': 288.08, 'duration': 4.24}, {'text': 'using an algorithm', 'start': 290.88, 'duration': 3.92}, {'text': 'next we need to train our model so we', 'start': 292.32, 'duration': 4.319}, {'text': 'fitted our training data', 'start': 294.8, 'duration': 3.2}, {'text': 'our model will then look for the', 'start': 296.639, 'duration': 3.921}, {'text': 'patterns in the data so next we can ask', 'start': 298.0, 'duration': 4.24}, {'text': 'it to make predictions', 'start': 300.56, 'duration': 3.44}, {'text': 'back to our example of cats and dogs we', 'start': 302.24, 'duration': 3.12}, {'text': 'can ask our model', 'start': 304.0, 'duration': 3.759}, {'text': 'is this a cat or a dog and our model', 'start': 305.36, 'duration': 4.08}, {'text': 'will make a prediction', 'start': 307.759, 'duration': 3.361}, {'text': 'now the prediction is not always', 'start': 309.44, 'duration': 3.759}, {'text': 'accurate in fact when you start out', 'start': 311.12, 'duration': 3.76}, {'text': \"it's very likely that your predictions\", 'start': 313.199, 'duration': 3.84}, {'text': 'are inaccurate so we need to evaluate', 'start': 314.88, 'duration': 3.759}, {'text': 'the predictions and measure', 'start': 317.039, 'duration': 3.921}, {'text': 'their accuracy then we need to get back', 'start': 318.639, 'duration': 3.28}, {'text': 'to our model', 'start': 320.96, 'duration': 3.2}, {'text': 'and either select a different algorithm', 'start': 321.919, 'duration': 3.441}, {'text': 'that is going to produce', 'start': 324.16, 'duration': 3.039}, {'text': 'a more accurate result for the kind of', 'start': 325.36, 'duration': 3.52}, {'text': \"problem we're trying to solve\", 'start': 327.199, 'duration': 4.881}, {'text': 'or fine-tune the parameters of our model', 'start': 328.88, 'duration': 5.12}, {'text': 'so each algorithm has parameters that we', 'start': 332.08, 'duration': 5.119}, {'text': 'can modify to optimize the accuracy', 'start': 334.0, 'duration': 4.639}, {'text': 'so these are the high level steps that', 'start': 337.199, 'duration': 3.84}, {'text': 'you follow in a machine learning project', 'start': 338.639, 'duration': 3.921}, {'text': \"next we'll look at the libraries and\", 'start': 341.039, 'duration': 4.72}, {'text': 'tools for machine learning', 'start': 342.56, 'duration': 3.199}, {'text': \"in this lecture we're going to look at\", 'start': 350.16, 'duration': 3.36}, {'text': 'the popular python libraries that we use', 'start': 351.199, 'duration': 3.921}, {'text': 'in machine learning projects', 'start': 353.52, 'duration': 3.679}, {'text': 'the first one is numpy which provides a', 'start': 355.12, 'duration': 3.68}, {'text': 'multi-dimensional array', 'start': 357.199, 'duration': 4.321}, {'text': 'very very popular library the second one', 'start': 358.8, 'duration': 4.88}, {'text': 'is pandas which is a data analysis', 'start': 361.52, 'duration': 4.32}, {'text': 'library that provides a concept called', 'start': 363.68, 'duration': 3.12}, {'text': 'data frame', 'start': 365.84, 'duration': 3.04}, {'text': 'a data frame is a two-dimensional data', 'start': 366.8, 'duration': 3.839}, {'text': 'structure similar to an excel', 'start': 368.88, 'duration': 2.72}, {'text': 'spreadsheet', 'start': 370.639, 'duration': 2.961}, {'text': 'so we have rows and columns we can', 'start': 371.6, 'duration': 4.159}, {'text': 'select data in a row or a column', 'start': 373.6, 'duration': 4.719}, {'text': 'or a range of rows and columns again', 'start': 375.759, 'duration': 4.401}, {'text': 'very very popular in machine learning', 'start': 378.319, 'duration': 4.241}, {'text': 'and data science projects the third', 'start': 380.16, 'duration': 3.039}, {'text': 'library', 'start': 382.56, 'duration': 3.28}, {'text': 'is matplotlib which is a two-dimensional', 'start': 383.199, 'duration': 3.681}, {'text': 'plotting library', 'start': 385.84, 'duration': 3.44}, {'text': 'for creating graphs and plots the next', 'start': 386.88, 'duration': 4.319}, {'text': 'library is scikit-learn which is one of', 'start': 389.28, 'duration': 3.52}, {'text': 'the most popular machine learning', 'start': 391.199, 'duration': 2.321}, {'text': 'libraries', 'start': 392.8, 'duration': 2.239}, {'text': 'that provides all these common', 'start': 393.52, 'duration': 3.6}, {'text': 'algorithms like decision trees', 'start': 395.039, 'duration': 5.201}, {'text': 'neural networks and so on now when', 'start': 397.12, 'duration': 4.799}, {'text': 'working with machine learning projects', 'start': 400.24, 'duration': 3.6}, {'text': 'we use an environment called jupiter for', 'start': 401.919, 'duration': 3.201}, {'text': 'writing our code', 'start': 403.84, 'duration': 3.12}, {'text': 'technically we can still use vs code or', 'start': 405.12, 'duration': 3.04}, {'text': 'any other code editors', 'start': 406.96, 'duration': 2.959}, {'text': 'but these editors are not ideal for', 'start': 408.16, 'duration': 3.039}, {'text': 'machine learning projects', 'start': 409.919, 'duration': 2.961}, {'text': 'because we frequently need to inspect', 'start': 411.199, 'duration': 3.521}, {'text': 'the data and that is really hard', 'start': 412.88, 'duration': 3.599}, {'text': 'in environments like vs code and', 'start': 414.72, 'duration': 3.759}, {'text': \"terminal if you're working with a table\", 'start': 416.479, 'duration': 3.601}, {'text': 'of 10 or 20 columns', 'start': 418.479, 'duration': 3.28}, {'text': 'visualizing this data in a terminal', 'start': 420.08, 'duration': 3.36}, {'text': 'window is really really difficult and', 'start': 421.759, 'duration': 2.481}, {'text': 'messy', 'start': 423.44, 'duration': 2.879}, {'text': \"so that's why we use jupiter it makes it\", 'start': 424.24, 'duration': 4.64}, {'text': 'really easy to inspect our data', 'start': 426.319, 'duration': 4.081}, {'text': \"now to install jupyter we're going to\", 'start': 428.88, 'duration': 4.159}, {'text': 'use a platform called anaconda', 'start': 430.4, 'duration': 6.0}, {'text': 'so head over to anaconda.com', 'start': 433.039, 'duration': 5.681}, {'text': 'download on this page you can download', 'start': 436.4, 'duration': 4.32}, {'text': 'anaconda distribution for your operating', 'start': 438.72, 'duration': 2.8}, {'text': 'system', 'start': 440.72, 'duration': 3.919}, {'text': 'so we have distributions for windows mac', 'start': 441.52, 'duration': 6.64}, {'text': \"and linux so let's go ahead and\", 'start': 444.639, 'duration': 7.761}, {'text': 'install anaconda for python 3.7', 'start': 448.16, 'duration': 6.8}, {'text': 'download', 'start': 452.4, 'duration': 2.56}, {'text': \"all right so here's anaconda downloaded\", 'start': 456.56, 'duration': 4.96}, {'text': \"on my machine let's double click this\", 'start': 458.319, 'duration': 4.401}, {'text': \"all right first it's going to run a\", 'start': 461.52, 'duration': 2.959}, {'text': 'program to determine if the software can', 'start': 462.72, 'duration': 2.8}, {'text': 'be installed', 'start': 464.479, 'duration': 3.761}, {'text': \"so let's continue and once again\", 'start': 465.52, 'duration': 3.679}, {'text': 'continue', 'start': 468.24, 'duration': 3.44}, {'text': 'continue pretty easy continue one more', 'start': 469.199, 'duration': 3.201}, {'text': 'time', 'start': 471.68, 'duration': 4.16}, {'text': 'i agree with the license agreement okay', 'start': 472.4, 'duration': 5.04}, {'text': 'you can use the default installation', 'start': 475.84, 'duration': 3.44}, {'text': \"location so don't worry about that\", 'start': 477.44, 'duration': 4.96}, {'text': 'just click install give it a few seconds', 'start': 479.28, 'duration': 4.96}, {'text': 'now the beautiful thing about anaconda', 'start': 482.4, 'duration': 3.68}, {'text': 'is that it will install jupyter', 'start': 484.24, 'duration': 4.079}, {'text': 'as well as all those popular data', 'start': 486.08, 'duration': 4.08}, {'text': 'science libraries like numpy', 'start': 488.319, 'duration': 3.6}, {'text': \"pandas and so on so we don't have to\", 'start': 490.16, 'duration': 5.36}, {'text': 'manually install this using pip', 'start': 491.919, 'duration': 3.601}, {'text': 'all right now as part of the next step', 'start': 496.16, 'duration': 3.28}, {'text': 'anaconda is suggesting to install', 'start': 497.52, 'duration': 4.0}, {'text': 'microsoft vs code we already have this', 'start': 499.44, 'duration': 3.039}, {'text': 'on our machine so', 'start': 501.52, 'duration': 2.64}, {'text': \"we don't have to install it we can go\", 'start': 502.479, 'duration': 3.84}, {'text': 'with continue and', 'start': 504.16, 'duration': 4.319}, {'text': 'close the installation now finally we', 'start': 506.319, 'duration': 3.921}, {'text': \"can move this to trash because we don't\", 'start': 508.479, 'duration': 5.12}, {'text': 'need this installer in the future', 'start': 510.24, 'duration': 5.52}, {'text': 'all right now open up a terminal window', 'start': 513.599, 'duration': 3.12}, {'text': 'and type', 'start': 515.76, 'duration': 4.959}, {'text': 'jupyter with a y space', 'start': 516.719, 'duration': 6.721}, {'text': 'notebook this will start the notebook', 'start': 520.719, 'duration': 3.921}, {'text': 'server on your machine', 'start': 523.44, 'duration': 4.64}, {'text': 'so enter there you go this will start', 'start': 524.64, 'duration': 4.96}, {'text': 'the notebook server on your machine you', 'start': 528.08, 'duration': 3.36}, {'text': 'can see these default messages here', 'start': 529.6, 'duration': 3.52}, {'text': \"don't worry about them now it\", 'start': 531.44, 'duration': 4.399}, {'text': 'automatically opens a browser window', 'start': 533.12, 'duration': 7.279}, {'text': 'pointing to localhost port 888', 'start': 535.839, 'duration': 6.961}, {'text': 'this is what we call jupiter dashboard', 'start': 540.399, 'duration': 4.0}, {'text': 'on this dashboard we have a few tabs the', 'start': 542.8, 'duration': 2.32}, {'text': 'first tab', 'start': 544.399, 'duration': 3.201}, {'text': 'is the files tab and by default this', 'start': 545.12, 'duration': 4.399}, {'text': 'points to your home directory', 'start': 547.6, 'duration': 3.6}, {'text': 'so every user on your machine has a home', 'start': 549.519, 'duration': 3.681}, {'text': 'directory this is my home directory on', 'start': 551.2, 'duration': 2.4}, {'text': 'mac', 'start': 553.2, 'duration': 2.24}, {'text': 'you can see here we have a desktop', 'start': 553.6, 'duration': 3.6}, {'text': 'folder as well as documents', 'start': 555.44, 'duration': 3.36}, {'text': 'downloads and so on on your machine', 'start': 557.2, 'duration': 3.28}, {'text': \"you're going to see different folders\", 'start': 558.8, 'duration': 2.96}, {'text': 'so someone on your machine you need to', 'start': 560.48, 'duration': 3.359}, {'text': 'create a jupyter notebook', 'start': 561.76, 'duration': 4.32}, {'text': \"i'm going to go to desktop here's my\", 'start': 563.839, 'duration': 4.161}, {'text': \"desktop i don't have anything here\", 'start': 566.08, 'duration': 5.68}, {'text': 'and then click new i want to create a', 'start': 568.0, 'duration': 4.399}, {'text': 'notebook', 'start': 571.76, 'duration': 2.96}, {'text': 'for python 3. in this notebook we can', 'start': 572.399, 'duration': 3.44}, {'text': 'write python code', 'start': 574.72, 'duration': 3.04}, {'text': 'and execute it line by line we can', 'start': 575.839, 'duration': 3.761}, {'text': 'easily visualize our data as you will', 'start': 577.76, 'duration': 3.759}, {'text': 'see over the next few videos', 'start': 579.6, 'duration': 5.28}, {'text': \"so let's go ahead with this\", 'start': 581.519, 'duration': 3.361}, {'text': \"all right here's our first notebook you\", 'start': 585.12, 'duration': 3.6}, {'text': \"can see by default it's called\", 'start': 587.2, 'duration': 4.96}, {'text': \"untitled let's change that to hello\", 'start': 588.72, 'duration': 4.0}, {'text': 'world', 'start': 592.16, 'duration': 2.16}, {'text': 'so this is going to be the hello world', 'start': 592.72, 'duration': 3.92}, {'text': 'of our machine learning project', 'start': 594.32, 'duration': 5.199}, {'text': \"let's rename this now if you look at\", 'start': 596.64, 'duration': 4.84}, {'text': 'your desktop you can see this file', 'start': 599.519, 'duration': 3.121}, {'text': 'helloworld.i', 'start': 601.48, 'duration': 4.919}, {'text': 'pi nb this is a jupiter notebook', 'start': 602.64, 'duration': 5.6}, {'text': \"it's kind of similar to our pi files\", 'start': 606.399, 'duration': 3.521}, {'text': 'where we write our python code', 'start': 608.24, 'duration': 3.44}, {'text': 'but it includes additional data that', 'start': 609.92, 'duration': 5.12}, {'text': 'jupiter uses to execute our code', 'start': 611.68, 'duration': 6.399}, {'text': \"so back to our notebook let's do a\", 'start': 615.04, 'duration': 7.44}, {'text': 'print hello world and then', 'start': 618.079, 'duration': 7.521}, {'text': 'click this run button here and', 'start': 622.48, 'duration': 5.68}, {'text': \"here's the result printed in jupyter so\", 'start': 625.6, 'duration': 4.239}, {'text': \"we don't have to navigate back and forth\", 'start': 628.16, 'duration': 3.2}, {'text': 'between the terminal window', 'start': 629.839, 'duration': 4.481}, {'text': 'we can see all the result right here', 'start': 631.36, 'duration': 4.64}, {'text': \"next i'm going to show you how to load a\", 'start': 634.32, 'duration': 6.0}, {'text': 'data set from a csv file in jupyter', 'start': 636.0, 'duration': 4.32}, {'text': \"all right in this lecture we're going to\", 'start': 644.8, 'duration': 3.52}, {'text': 'download a data set from a very popular', 'start': 646.0, 'duration': 3.48}, {'text': 'website called', 'start': 648.32, 'duration': 3.84}, {'text': 'kaggle.com gaggle is basically a place', 'start': 649.48, 'duration': 4.52}, {'text': 'to do data science projects', 'start': 652.16, 'duration': 3.2}, {'text': 'so the first thing you need to do is to', 'start': 654.0, 'duration': 3.2}, {'text': 'create an account you can sign up with', 'start': 655.36, 'duration': 4.4}, {'text': 'facebook google or using a custom email', 'start': 657.2, 'duration': 3.6}, {'text': 'and password', 'start': 659.76, 'duration': 3.04}, {'text': 'once you sign up then come back here on', 'start': 660.8, 'duration': 3.2}, {'text': 'kaggle.com', 'start': 662.8, 'duration': 4.24}, {'text': 'here in the search bar search for', 'start': 664.0, 'duration': 6.48}, {'text': 'video game sales this is the name of a', 'start': 667.04, 'duration': 5.12}, {'text': \"very popular data set that we're going\", 'start': 670.48, 'duration': 3.12}, {'text': 'to use in this lecture', 'start': 672.16, 'duration': 3.76}, {'text': 'so here in this list you can see the', 'start': 673.6, 'duration': 3.359}, {'text': 'first item', 'start': 675.92, 'duration': 3.599}, {'text': \"with this kind of reddish icon so let's\", 'start': 676.959, 'duration': 4.161}, {'text': 'go with that', 'start': 679.519, 'duration': 3.281}, {'text': 'as you can see this data set includes', 'start': 681.12, 'duration': 4.0}, {'text': 'the sales data for more than 16', 'start': 682.8, 'duration': 4.96}, {'text': '000 video games on this page you can see', 'start': 685.12, 'duration': 3.6}, {'text': 'the description', 'start': 687.76, 'duration': 2.88}, {'text': 'of various columns in this data set we', 'start': 688.72, 'duration': 3.52}, {'text': 'have rank', 'start': 690.64, 'duration': 4.96}, {'text': \"name platform year and so on so here's\", 'start': 692.24, 'duration': 6.039}, {'text': \"our data source it's a csv file called\", 'start': 695.6, 'duration': 4.16}, {'text': 'vgsales.csv', 'start': 698.279, 'duration': 4.201}, {'text': 'as you can see there are over 16 000', 'start': 699.76, 'duration': 3.44}, {'text': 'rows', 'start': 702.48, 'duration': 3.68}, {'text': 'and 11 columns in this data set right', 'start': 703.2, 'duration': 4.56}, {'text': 'below that you can see the first few', 'start': 706.16, 'duration': 2.239}, {'text': 'records', 'start': 707.76, 'duration': 2.639}, {'text': \"of this data set so here's our first\", 'start': 708.399, 'duration': 4.641}, {'text': 'record the ranking for this game is one', 'start': 710.399, 'duration': 4.801}, {'text': \"it's the wii sports game for we as the\", 'start': 713.04, 'duration': 3.76}, {'text': 'platform and it was released in year', 'start': 715.2, 'duration': 3.28}, {'text': '2006', 'start': 716.8, 'duration': 4.479}, {'text': 'now what i want you to do is to go ahead', 'start': 718.48, 'duration': 3.44}, {'text': 'and', 'start': 721.279, 'duration': 2.961}, {'text': 'download this data set and as i told you', 'start': 721.92, 'duration': 4.0}, {'text': 'before you need to sign in before you', 'start': 724.24, 'duration': 3.36}, {'text': 'can download this', 'start': 725.92, 'duration': 3.28}, {'text': 'so this will give you a zip file as you', 'start': 727.6, 'duration': 3.2}, {'text': 'can see here', 'start': 729.2, 'duration': 4.079}, {'text': \"here's our csv file now i want you to\", 'start': 730.8, 'duration': 3.2}, {'text': 'put this', 'start': 733.279, 'duration': 2.881}, {'text': 'right next to your jupyter notebook on', 'start': 734.0, 'duration': 4.079}, {'text': 'my machine that is on my desktop', 'start': 736.16, 'duration': 3.919}, {'text': \"so i'm going to drag and drop this onto\", 'start': 738.079, 'duration': 4.081}, {'text': 'the desktop folder', 'start': 740.079, 'duration': 4.32}, {'text': 'now if you look at the desktop you can', 'start': 742.16, 'duration': 3.28}, {'text': 'see here is my', 'start': 744.399, 'duration': 3.68}, {'text': 'jupyter hello world notebook and right', 'start': 745.44, 'duration': 4.76}, {'text': 'next to that we have', 'start': 748.079, 'duration': 4.961}, {'text': 'vgsales.csv with that', 'start': 750.2, 'duration': 5.16}, {'text': \"we go back to our jupyter notebook let's\", 'start': 753.04, 'duration': 3.44}, {'text': 'remove the first line', 'start': 755.36, 'duration': 4.719}, {'text': 'and instead import', 'start': 756.48, 'duration': 6.88}, {'text': 'pandas as pd', 'start': 760.079, 'duration': 5.281}, {'text': \"with this we're importing pandas module\", 'start': 763.36, 'duration': 3.599}, {'text': 'and renaming it to pd', 'start': 765.36, 'duration': 3.68}, {'text': \"so we don't have to type pandas dot\", 'start': 766.959, 'duration': 4.32}, {'text': 'several times in this code', 'start': 769.04, 'duration': 5.44}, {'text': \"now let's type pd dot read\", 'start': 771.279, 'duration': 7.041}, {'text': 'underline csv and pass the name of our', 'start': 774.48, 'duration': 5.039}, {'text': 'csv file', 'start': 778.32, 'duration': 4.72}, {'text': 'that is vg sales.csv now because this', 'start': 779.519, 'duration': 5.44}, {'text': 'csv file is in the current folder', 'start': 783.04, 'duration': 3.68}, {'text': 'right next to our jupyter notebook we', 'start': 784.959, 'duration': 3.361}, {'text': \"can easily load it otherwise we'll have\", 'start': 786.72, 'duration': 4.48}, {'text': 'to supply the full path to this file', 'start': 788.32, 'duration': 6.639}, {'text': 'so this returns a data frame object', 'start': 791.2, 'duration': 5.92}, {'text': 'which is like an excel spreadsheet let', 'start': 794.959, 'duration': 3.841}, {'text': 'me show you so', 'start': 797.12, 'duration': 4.24}, {'text': 'we store it here and then we can simply', 'start': 798.8, 'duration': 3.12}, {'text': 'type', 'start': 801.36, 'duration': 3.599}, {'text': \"df to inspect it so one more time let's\", 'start': 801.92, 'duration': 4.719}, {'text': 'run this program', 'start': 804.959, 'duration': 3.281}, {'text': \"here's our data frame with these rows\", 'start': 806.639, 'duration': 4.0}, {'text': 'and columns so we have rank', 'start': 808.24, 'duration': 5.12}, {'text': 'name platform and so on now this data', 'start': 810.639, 'duration': 4.64}, {'text': 'frame object has lots of attributes and', 'start': 813.36, 'duration': 2.479}, {'text': 'methods', 'start': 815.279, 'duration': 2.0}, {'text': \"that we're not going to cover in this\", 'start': 815.839, 'duration': 3.12}, {'text': \"tutorial that's really beyond the scope\", 'start': 817.279, 'duration': 2.641}, {'text': \"of what we're going to do\", 'start': 818.959, 'duration': 2.481}, {'text': \"so i'll leave it up to you to read\", 'start': 819.92, 'duration': 3.599}, {'text': \"panda's documentation or follow other\", 'start': 821.44, 'duration': 4.0}, {'text': 'tutorials to learn about pandas data', 'start': 823.519, 'duration': 2.481}, {'text': 'frames', 'start': 825.44, 'duration': 1.68}, {'text': \"but in this lecture i'm going to show\", 'start': 826.0, 'duration': 3.12}, {'text': 'you some of the most useful methods', 'start': 827.12, 'duration': 5.279}, {'text': 'and attributes the first one is shape so', 'start': 829.12, 'duration': 6.0}, {'text': \"shape let's run this one more time so\", 'start': 832.399, 'duration': 4.56}, {'text': \"here's the shape of this data set\", 'start': 835.12, 'duration': 5.279}, {'text': 'we have over 16 000 records and', 'start': 836.959, 'duration': 6.081}, {'text': '11 columns technically this is a two', 'start': 840.399, 'duration': 3.841}, {'text': 'dimensional array', 'start': 843.04, 'duration': 4.799}, {'text': 'of sixteen thousand and eleven okay', 'start': 844.24, 'duration': 5.839}, {'text': 'now you can see here we have another', 'start': 847.839, 'duration': 3.761}, {'text': \"segment for writing code so we don't\", 'start': 850.079, 'duration': 3.12}, {'text': 'have to write all the code in the first', 'start': 851.6, 'duration': 2.479}, {'text': 'segment', 'start': 853.199, 'duration': 2.32}, {'text': 'so here in the second segment we can', 'start': 854.079, 'duration': 3.281}, {'text': 'call one of the methods of the data', 'start': 855.519, 'duration': 2.401}, {'text': 'frame', 'start': 857.36, 'duration': 4.719}, {'text': 'that is df dot describe', 'start': 857.92, 'duration': 7.44}, {'text': 'now when we run this program we can see', 'start': 862.079, 'duration': 5.281}, {'text': 'the output for each segment', 'start': 865.36, 'duration': 3.919}, {'text': \"right next to it so here's our first\", 'start': 867.36, 'duration': 3.12}, {'text': 'segment here we have', 'start': 869.279, 'duration': 4.24}, {'text': 'these three lines and this is the output', 'start': 870.48, 'duration': 5.68}, {'text': 'of the last line below that we have our', 'start': 873.519, 'duration': 3.521}, {'text': 'second segment', 'start': 876.16, 'duration': 2.64}, {'text': \"here we're calling the describe method\", 'start': 877.04, 'duration': 3.28}, {'text': 'and right below that we have', 'start': 878.8, 'duration': 4.32}, {'text': 'the output of this segment so this is', 'start': 880.32, 'duration': 4.16}, {'text': 'the beauty of jupiter', 'start': 883.12, 'duration': 3.839}, {'text': 'we can easily visualize our data doing', 'start': 884.48, 'duration': 4.24}, {'text': 'this with vs code and terminal windows', 'start': 886.959, 'duration': 3.841}, {'text': 'is really tedious and clunky', 'start': 888.72, 'duration': 3.52}, {'text': 'so what is this describe method', 'start': 890.8, 'duration': 3.44}, {'text': \"returning basically it's returning some\", 'start': 892.24, 'duration': 4.24}, {'text': 'basic information about each column', 'start': 894.24, 'duration': 4.32}, {'text': 'in this data set so as you saw earlier', 'start': 896.48, 'duration': 3.919}, {'text': 'we have columns like rank', 'start': 898.56, 'duration': 4.32}, {'text': 'year and so on these are the columns', 'start': 900.399, 'duration': 4.0}, {'text': 'with numerical values', 'start': 902.88, 'duration': 4.16}, {'text': 'now for each column we have the count', 'start': 904.399, 'duration': 4.161}, {'text': 'which is the number of records in that', 'start': 907.04, 'duration': 2.08}, {'text': 'column', 'start': 908.56, 'duration': 4.2}, {'text': 'you can see our rank column has 16', 'start': 909.12, 'duration': 7.12}, {'text': '598 records whereas the year column has', 'start': 912.76, 'duration': 7.0}, {'text': '16 327 records', 'start': 916.24, 'duration': 5.36}, {'text': 'so this shows that some of our records', 'start': 919.76, 'duration': 4.56}, {'text': \"don't have the value for the year column\", 'start': 921.6, 'duration': 5.12}, {'text': 'we have no values so in a real data', 'start': 924.32, 'duration': 3.04}, {'text': 'science or', 'start': 926.72, 'duration': 2.08}, {'text': \"machine learning project we'll have to\", 'start': 927.36, 'duration': 3.2}, {'text': 'use some techniques to clean up our data', 'start': 928.8, 'duration': 2.399}, {'text': 'set', 'start': 930.56, 'duration': 2.719}, {'text': 'one option is to remove the records that', 'start': 931.199, 'duration': 4.401}, {'text': \"don't have a value for the year column\", 'start': 933.279, 'duration': 4.881}, {'text': 'or we can assign them a default value', 'start': 935.6, 'duration': 4.64}, {'text': 'that really depends on the project', 'start': 938.16, 'duration': 4.32}, {'text': 'now another attribute for each column is', 'start': 940.24, 'duration': 3.839}, {'text': 'mean so this is the average', 'start': 942.48, 'duration': 3.76}, {'text': 'of all the values now in the case of the', 'start': 944.079, 'duration': 4.161}, {'text': \"rank column this value doesn't really\", 'start': 946.24, 'duration': 2.56}, {'text': 'matter', 'start': 948.24, 'duration': 3.519}, {'text': 'but look at the year so the average year', 'start': 948.8, 'duration': 4.479}, {'text': 'for all these video games in our data', 'start': 951.759, 'duration': 1.921}, {'text': 'set', 'start': 953.279, 'duration': 2.721}, {'text': 'is 2006 and this might be important in', 'start': 953.68, 'duration': 4.159}, {'text': \"the problem we're trying to solve\", 'start': 956.0, 'duration': 4.639}, {'text': 'we also have standard deviation which is', 'start': 957.839, 'duration': 3.521}, {'text': 'a measure', 'start': 960.639, 'duration': 3.12}, {'text': 'to quantify the amount of variation in', 'start': 961.36, 'duration': 3.839}, {'text': 'our set of values', 'start': 963.759, 'duration': 4.401}, {'text': 'below that we have min as an example the', 'start': 965.199, 'duration': 4.961}, {'text': 'minimum value for the year column', 'start': 968.16, 'duration': 5.119}, {'text': 'is 1980. so quite often when we work', 'start': 970.16, 'duration': 4.239}, {'text': 'with a new data set', 'start': 973.279, 'duration': 3.201}, {'text': 'we call the describe method to get some', 'start': 974.399, 'duration': 4.56}, {'text': 'basic statistics about our data', 'start': 976.48, 'duration': 4.799}, {'text': 'let me show you another useful attribute', 'start': 978.959, 'duration': 5.721}, {'text': \"so in the next segment let's type\", 'start': 981.279, 'duration': 7.12}, {'text': \"df.values let's run this\", 'start': 984.68, 'duration': 5.159}, {'text': 'as you can see this returns a', 'start': 988.399, 'duration': 3.44}, {'text': 'two-dimensional array this square', 'start': 989.839, 'duration': 3.041}, {'text': 'bracket indicates', 'start': 991.839, 'duration': 4.321}, {'text': 'the outer array and the second one', 'start': 992.88, 'duration': 5.759}, {'text': 'represents the inner array so the first', 'start': 996.16, 'duration': 3.2}, {'text': 'element', 'start': 998.639, 'duration': 4.161}, {'text': 'in our outer array is an array itself', 'start': 999.36, 'duration': 5.839}, {'text': 'these are the values in this array which', 'start': 1002.8, 'duration': 4.32}, {'text': 'basically represent the first row', 'start': 1005.199, 'duration': 4.161}, {'text': 'in our data set so the video game with', 'start': 1007.12, 'duration': 3.2}, {'text': 'ranking 1', 'start': 1009.36, 'duration': 3.919}, {'text': 'which is called wii sports so this was a', 'start': 1010.32, 'duration': 3.439}, {'text': 'basic', 'start': 1013.279, 'duration': 2.881}, {'text': \"overview of pando's data frames in the\", 'start': 1013.759, 'duration': 3.76}, {'text': \"next lecture i'm going to show you some\", 'start': 1016.16, 'duration': 9.679}, {'text': 'of the useful shortcuts of jupyter', 'start': 1017.519, 'duration': 8.32}, {'text': \"in this lecture i'm going to show you\", 'start': 1026.0, 'duration': 3.199}, {'text': 'some of the most useful shortcuts in', 'start': 1027.199, 'duration': 3.12}, {'text': 'jupyter', 'start': 1029.199, 'duration': 2.401}, {'text': 'now the first thing i want you to pay', 'start': 1030.319, 'duration': 3.36}, {'text': 'attention to is this green bar', 'start': 1031.6, 'duration': 4.4}, {'text': 'on the left this indicates that this', 'start': 1033.679, 'duration': 4.64}, {'text': 'cell is currently in the edit mode so', 'start': 1036.0, 'duration': 5.919}, {'text': 'we can write code here now if we press', 'start': 1038.319, 'duration': 6.88}, {'text': 'the escape key green turns to blue and', 'start': 1041.919, 'duration': 5.12}, {'text': 'that means this cell is currently in the', 'start': 1045.199, 'duration': 3.041}, {'text': 'command mode', 'start': 1047.039, 'duration': 3.52}, {'text': 'so basically the activated cell can be', 'start': 1048.24, 'duration': 4.16}, {'text': 'either in the edit mode or', 'start': 1050.559, 'duration': 4.161}, {'text': 'the command mode depending on the mode', 'start': 1052.4, 'duration': 4.24}, {'text': 'we have different shortcuts', 'start': 1054.72, 'duration': 3.36}, {'text': \"so here we're currently in the command\", 'start': 1056.64, 'duration': 3.36}, {'text': 'mode if we press', 'start': 1058.08, 'duration': 4.719}, {'text': 'h we can see the list of all the', 'start': 1060.0, 'duration': 3.6}, {'text': 'keyboard', 'start': 1062.799, 'duration': 3.921}, {'text': 'shortcuts right above this list you can', 'start': 1063.6, 'duration': 4.4}, {'text': 'see', 'start': 1066.72, 'duration': 4.319}, {'text': 'mac os modifier keys these are the extra', 'start': 1068.0, 'duration': 5.2}, {'text': 'keys that we have on a mac keyboard', 'start': 1071.039, 'duration': 3.76}, {'text': \"if you're a windows user you're not\", 'start': 1073.2, 'duration': 4.24}, {'text': 'going to see this so as an example here', 'start': 1074.799, 'duration': 5.601}, {'text': 'is the shape of the command key this is', 'start': 1077.44, 'duration': 4.08}, {'text': 'control this is', 'start': 1080.4, 'duration': 3.84}, {'text': 'option and so on with this guideline you', 'start': 1081.52, 'duration': 4.56}, {'text': 'can easily understand the shortcut', 'start': 1084.24, 'duration': 3.439}, {'text': 'associated with each command', 'start': 1086.08, 'duration': 4.64}, {'text': 'let me show you so here we have all the', 'start': 1087.679, 'duration': 3.841}, {'text': 'commands', 'start': 1090.72, 'duration': 2.88}, {'text': 'when a cell is in the command mode for', 'start': 1091.52, 'duration': 4.159}, {'text': 'example we have this command', 'start': 1093.6, 'duration': 4.64}, {'text': 'open the command palette this is exactly', 'start': 1095.679, 'duration': 4.321}, {'text': 'like the command palette that we have in', 'start': 1098.24, 'duration': 2.88}, {'text': 'vs code', 'start': 1100.0, 'duration': 3.2}, {'text': \"here's a shortcut to execute this\", 'start': 1101.12, 'duration': 3.52}, {'text': 'command that is', 'start': 1103.2, 'duration': 6.0}, {'text': 'command shift and f okay so here we have', 'start': 1104.64, 'duration': 6.56}, {'text': \"lots of shortcuts of course you're not\", 'start': 1109.2, 'duration': 3.68}, {'text': 'going to use all of them all the time', 'start': 1111.2, 'duration': 3.12}, {'text': \"but it's good to have a quick look here\", 'start': 1112.88, 'duration': 3.28}, {'text': 'to see what is available for you', 'start': 1114.32, 'duration': 3.359}, {'text': 'with this shortcuts you can write code', 'start': 1116.16, 'duration': 3.519}, {'text': 'much faster so let me show you some of', 'start': 1117.679, 'duration': 3.921}, {'text': 'the most useful ones', 'start': 1119.679, 'duration': 5.12}, {'text': \"i'm going to close this now with our\", 'start': 1121.6, 'duration': 4.24}, {'text': 'first cell', 'start': 1124.799, 'duration': 4.561}, {'text': \"in the command mode i'm going to press b\", 'start': 1125.84, 'duration': 6.4}, {'text': 'and this inserts a new cell below this', 'start': 1129.36, 'duration': 4.24}, {'text': 'cell', 'start': 1132.24, 'duration': 3.439}, {'text': 'we can also go back to our first cell', 'start': 1133.6, 'duration': 3.6}, {'text': 'press escape', 'start': 1135.679, 'duration': 3.441}, {'text': 'now the cell is in the command mode we', 'start': 1137.2, 'duration': 3.68}, {'text': 'can insert an empty cell', 'start': 1139.12, 'duration': 4.799}, {'text': 'above this cell by pressing a', 'start': 1140.88, 'duration': 6.08}, {'text': 'so either a or b a for above and b', 'start': 1143.919, 'duration': 5.361}, {'text': \"for below okay now if you don't want\", 'start': 1146.96, 'duration': 3.44}, {'text': 'this cell you can press', 'start': 1149.28, 'duration': 5.04}, {'text': 'd twice to delete it like this', 'start': 1150.4, 'duration': 5.44}, {'text': \"now in the cell i'm going to print a\", 'start': 1154.32, 'duration': 4.08}, {'text': 'hello world message so', 'start': 1155.84, 'duration': 6.16}, {'text': 'print hello world now', 'start': 1158.4, 'duration': 5.68}, {'text': 'to run the code in this cell we can', 'start': 1162.0, 'duration': 5.2}, {'text': 'click on the run button here', 'start': 1164.08, 'duration': 6.16}, {'text': \"so here's our print function and right\", 'start': 1167.2, 'duration': 4.56}, {'text': 'below that you can see', 'start': 1170.24, 'duration': 4.24}, {'text': 'the output of this function but note', 'start': 1171.76, 'duration': 3.84}, {'text': 'that when you run a cell', 'start': 1174.48, 'duration': 3.92}, {'text': 'this will only execute the code in that', 'start': 1175.6, 'duration': 3.36}, {'text': 'cell', 'start': 1178.4, 'duration': 2.88}, {'text': 'in other words the code in other cells', 'start': 1178.96, 'duration': 4.24}, {'text': 'will not be executed let me show you', 'start': 1181.28, 'duration': 2.72}, {'text': 'what i mean', 'start': 1183.2, 'duration': 3.12}, {'text': \"so in the cell below this cell i'm going\", 'start': 1184.0, 'duration': 3.44}, {'text': 'to delete the call', 'start': 1186.32, 'duration': 3.84}, {'text': \"to describe method instead i'm going to\", 'start': 1187.44, 'duration': 4.08}, {'text': 'print', 'start': 1190.16, 'duration': 5.519}, {'text': \"ocean now i'm going to put the cursor\", 'start': 1191.52, 'duration': 6.399}, {'text': 'back in this cell where we print the', 'start': 1195.679, 'duration': 3.681}, {'text': 'hello world message', 'start': 1197.919, 'duration': 4.64}, {'text': 'and run this cell so you can see hello', 'start': 1199.36, 'duration': 3.6}, {'text': 'world', 'start': 1202.559, 'duration': 3.041}, {'text': 'is displayed here but the cell below is', 'start': 1202.96, 'duration': 3.76}, {'text': 'still displaying', 'start': 1205.6, 'duration': 3.439}, {'text': \"the described table so we don't see the\", 'start': 1206.72, 'duration': 3.839}, {'text': 'changes here', 'start': 1209.039, 'duration': 4.161}, {'text': 'now to solve this problem we can go to', 'start': 1210.559, 'duration': 4.24}, {'text': 'the cell menu on the top', 'start': 1213.2, 'duration': 4.959}, {'text': 'and run all cells together', 'start': 1214.799, 'duration': 5.441}, {'text': 'this can work for small projects but', 'start': 1218.159, 'duration': 3.601}, {'text': \"sometimes you're working with a large\", 'start': 1220.24, 'duration': 2.24}, {'text': 'data set', 'start': 1221.76, 'duration': 2.32}, {'text': 'so if you want to run all these cells', 'start': 1222.48, 'duration': 3.36}, {'text': \"together it's going to take a lot of\", 'start': 1224.08, 'duration': 2.32}, {'text': 'time', 'start': 1225.84, 'duration': 3.04}, {'text': 'that is the reason jupiter saves the', 'start': 1226.4, 'duration': 4.08}, {'text': \"output of itself so we don't have to\", 'start': 1228.88, 'duration': 2.72}, {'text': 'rerun that code', 'start': 1230.48, 'duration': 3.76}, {'text': \"if it hasn't changed so this notebook\", 'start': 1231.6, 'duration': 4.0}, {'text': 'file that we have here', 'start': 1234.24, 'duration': 3.84}, {'text': 'includes our source code organized in', 'start': 1235.6, 'duration': 3.12}, {'text': 'cells', 'start': 1238.08, 'duration': 2.88}, {'text': 'as well as the output for each cell that', 'start': 1238.72, 'duration': 3.36}, {'text': \"is why it's different\", 'start': 1240.96, 'duration': 3.44}, {'text': 'from a regular pi file where we only', 'start': 1242.08, 'duration': 4.24}, {'text': 'have the source code', 'start': 1244.4, 'duration': 4.48}, {'text': 'here we also have autocompletion and', 'start': 1246.32, 'duration': 3.599}, {'text': 'intellisense', 'start': 1248.88, 'duration': 4.08}, {'text': \"so in the cell let's call\", 'start': 1249.919, 'duration': 6.081}, {'text': 'df dataframe dot', 'start': 1252.96, 'duration': 5.44}, {'text': 'now if you press tab we can see all the', 'start': 1256.0, 'duration': 4.08}, {'text': 'attributes and methods', 'start': 1258.4, 'duration': 4.88}, {'text': \"in this object so let's call\", 'start': 1260.08, 'duration': 5.839}, {'text': 'describe now with the cursor on the name', 'start': 1263.28, 'duration': 4.24}, {'text': 'of the method we can press', 'start': 1265.919, 'duration': 4.561}, {'text': 'shift and tab to see this tooltip that', 'start': 1267.52, 'duration': 3.68}, {'text': 'describes', 'start': 1270.48, 'duration': 2.88}, {'text': 'what this method does and what parameter', 'start': 1271.2, 'duration': 4.16}, {'text': 'it takes so here in front of signature', 'start': 1273.36, 'duration': 2.88}, {'text': 'you can see', 'start': 1275.36, 'duration': 3.04}, {'text': 'the describe method these are the', 'start': 1276.24, 'duration': 3.04}, {'text': 'parameters', 'start': 1278.4, 'duration': 3.2}, {'text': 'and their default value and right below', 'start': 1279.28, 'duration': 3.279}, {'text': 'that you can see', 'start': 1281.6, 'duration': 3.52}, {'text': 'the description of what this method does', 'start': 1282.559, 'duration': 4.0}, {'text': 'in this case it generates', 'start': 1285.12, 'duration': 3.679}, {'text': 'descriptive statistics that summarize', 'start': 1286.559, 'duration': 5.041}, {'text': 'the central tendency and so on', 'start': 1288.799, 'duration': 4.801}, {'text': 'similar to vs code we can also convert a', 'start': 1291.6, 'duration': 3.28}, {'text': 'line to comment', 'start': 1293.6, 'duration': 4.319}, {'text': 'by pressing command and slash on mac or', 'start': 1294.88, 'duration': 5.12}, {'text': 'control slash on windows', 'start': 1297.919, 'duration': 4.88}, {'text': 'like this now this line is a comment we', 'start': 1300.0, 'duration': 4.0}, {'text': 'can press the same shortcut', 'start': 1302.799, 'duration': 4.401}, {'text': 'one more time to remove the comment', 'start': 1304.0, 'duration': 4.72}, {'text': 'so these were some of the most useful', 'start': 1307.2, 'duration': 3.12}, {'text': 'shortcuts in jupyter', 'start': 1308.72, 'duration': 2.959}, {'text': \"now over the next few lectures we're\", 'start': 1310.32, 'duration': 3.44}, {'text': 'going to work on a real machine learning', 'start': 1311.679, 'duration': 2.641}, {'text': 'project', 'start': 1313.76, 'duration': 2.64}, {'text': \"but before we get there let's delete all\", 'start': 1314.32, 'duration': 3.68}, {'text': 'the cells here so we start with', 'start': 1316.4, 'duration': 4.8}, {'text': 'only a single empty cell so here in this', 'start': 1318.0, 'duration': 3.6}, {'text': 'cell', 'start': 1321.2, 'duration': 2.08}, {'text': \"first i'm going to press the escape\", 'start': 1321.6, 'duration': 3.84}, {'text': 'button now the cell is blue', 'start': 1323.28, 'duration': 4.08}, {'text': 'so we are in the command mode and we can', 'start': 1325.44, 'duration': 3.68}, {'text': 'delete the cell by pressing d', 'start': 1327.36, 'duration': 4.96}, {'text': 'twice there you go now the next cell', 'start': 1329.12, 'duration': 4.88}, {'text': \"is activated and it's in the command\", 'start': 1332.32, 'duration': 4.88}, {'text': \"mode so let's delete this as well\", 'start': 1334.0, 'duration': 5.2}, {'text': 'we have two more cells to delete there', 'start': 1337.2, 'duration': 4.56}, {'text': 'you go and the last one', 'start': 1339.2, 'duration': 4.959}, {'text': 'like this so now we have an empty', 'start': 1341.76, 'duration': 5.84}, {'text': 'notebook with a single cell', 'start': 1344.159, 'duration': 4.961}, {'text': 'hey guys i just wanted to let you know', 'start': 1347.6, 'duration': 3.48}, {'text': 'that i have an online coding school at', 'start': 1349.12, 'duration': 3.679}, {'text': 'cordwindmarch.com where you can find', 'start': 1351.08, 'duration': 3.479}, {'text': 'plenty of courses on web and mobile', 'start': 1352.799, 'duration': 2.481}, {'text': 'development', 'start': 1354.559, 'duration': 2.48}, {'text': 'in fact i have a comprehensive python', 'start': 1355.28, 'duration': 3.68}, {'text': 'course that teaches you everything about', 'start': 1357.039, 'duration': 4.0}, {'text': 'python from the basics to more advanced', 'start': 1358.96, 'duration': 2.719}, {'text': 'concepts', 'start': 1361.039, 'duration': 2.561}, {'text': 'so after you watch this tutorial if you', 'start': 1361.679, 'duration': 3.36}, {'text': 'want to learn more you may want to look', 'start': 1363.6, 'duration': 3.36}, {'text': 'at my python course it comes with a 30', 'start': 1365.039, 'duration': 3.12}, {'text': 'day money back guarantee', 'start': 1366.96, 'duration': 2.8}, {'text': 'and a certificate of completion you can', 'start': 1368.159, 'duration': 3.281}, {'text': \"add to your resume in case you're\", 'start': 1369.76, 'duration': 2.24}, {'text': 'interested', 'start': 1371.44, 'duration': 4.4}, {'text': 'the link is below this video', 'start': 1372.0, 'duration': 3.84}, {'text': \"over the next few lectures we're going\", 'start': 1378.0, 'duration': 3.039}, {'text': 'to work on a real machine learning', 'start': 1379.28, 'duration': 2.72}, {'text': 'project', 'start': 1381.039, 'duration': 3.52}, {'text': 'imagine we have an online music store', 'start': 1382.0, 'duration': 4.799}, {'text': 'when our users sign up we ask their age', 'start': 1384.559, 'duration': 4.961}, {'text': 'and gender and based on their profile we', 'start': 1386.799, 'duration': 3.441}, {'text': 'recommend', 'start': 1389.52, 'duration': 2.72}, {'text': \"various music albums they're likely to\", 'start': 1390.24, 'duration': 4.0}, {'text': 'buy so in this project we want to use', 'start': 1392.24, 'duration': 3.12}, {'text': 'machine learning to', 'start': 1394.24, 'duration': 3.6}, {'text': 'increase sales so we want to build a', 'start': 1395.36, 'duration': 3.28}, {'text': 'model', 'start': 1397.84, 'duration': 3.199}, {'text': 'we feed this model with some sample data', 'start': 1398.64, 'duration': 4.64}, {'text': 'based on the existing users', 'start': 1401.039, 'duration': 4.241}, {'text': 'our model will learn the patterns in our', 'start': 1403.28, 'duration': 3.68}, {'text': 'data so we can ask it to make', 'start': 1405.28, 'duration': 2.72}, {'text': 'predictions', 'start': 1406.96, 'duration': 3.28}, {'text': 'when a user signs up we tell our model', 'start': 1408.0, 'duration': 4.48}, {'text': 'hey we have a new user with this profile', 'start': 1410.24, 'duration': 4.08}, {'text': 'what is the kind of music that this user', 'start': 1412.48, 'duration': 3.12}, {'text': 'is interested in', 'start': 1414.32, 'duration': 3.68}, {'text': 'our model will say jazz or hip hop or', 'start': 1415.6, 'duration': 3.12}, {'text': 'whatever', 'start': 1418.0, 'duration': 1.919}, {'text': 'and based on that we can make', 'start': 1418.72, 'duration': 3.52}, {'text': 'suggestions to the user so this is the', 'start': 1419.919, 'duration': 4.161}, {'text': \"problem we're going to solve\", 'start': 1422.24, 'duration': 3.28}, {'text': 'now back to the list of steps in a', 'start': 1424.08, 'duration': 3.04}, {'text': 'machine learning project', 'start': 1425.52, 'duration': 3.92}, {'text': 'first we need to import our data then we', 'start': 1427.12, 'duration': 4.0}, {'text': 'should prepare or clean it', 'start': 1429.44, 'duration': 3.28}, {'text': 'next we select a machine learning', 'start': 1431.12, 'duration': 3.439}, {'text': 'algorithm to build a model', 'start': 1432.72, 'duration': 4.079}, {'text': 'we train our model and ask it to make', 'start': 1434.559, 'duration': 3.201}, {'text': 'predictions', 'start': 1436.799, 'duration': 3.36}, {'text': 'and finally we evaluate our algorithm to', 'start': 1437.76, 'duration': 3.6}, {'text': 'see its accuracy', 'start': 1440.159, 'duration': 3.52}, {'text': \"if it's not accurate we either fine tune\", 'start': 1441.36, 'duration': 3.04}, {'text': 'our model', 'start': 1443.679, 'duration': 3.681}, {'text': \"or select a different algorithm so let's\", 'start': 1444.4, 'duration': 4.72}, {'text': 'focus on the first step', 'start': 1447.36, 'duration': 3.919}, {'text': 'download the csv file below this video', 'start': 1449.12, 'duration': 3.919}, {'text': \"this is a very basic csv that i've\", 'start': 1451.279, 'duration': 3.121}, {'text': 'created for this project', 'start': 1453.039, 'duration': 3.52}, {'text': \"it's just some random made up data it's\", 'start': 1454.4, 'duration': 4.0}, {'text': 'not real', 'start': 1456.559, 'duration': 3.921}, {'text': 'so we have a table with three columns', 'start': 1458.4, 'duration': 3.68}, {'text': 'age gender', 'start': 1460.48, 'duration': 4.799}, {'text': 'and genre gender can either be one which', 'start': 1462.08, 'duration': 4.4}, {'text': 'represents a male', 'start': 1465.279, 'duration': 3.921}, {'text': 'or zero which represents a female here', 'start': 1466.48, 'duration': 4.319}, {'text': \"i'm making a few assumptions\", 'start': 1469.2, 'duration': 4.56}, {'text': \"i'm assuming that men between 20 and 25\", 'start': 1470.799, 'duration': 4.24}, {'text': 'like hip-hop', 'start': 1473.76, 'duration': 4.56}, {'text': 'men between 26 and 30 like jazz', 'start': 1475.039, 'duration': 5.681}, {'text': 'and after the age of 30 they like', 'start': 1478.32, 'duration': 4.239}, {'text': 'classical music', 'start': 1480.72, 'duration': 4.0}, {'text': \"for women i'm assuming that if they're\", 'start': 1482.559, 'duration': 4.881}, {'text': 'between 20 and 25 they like dance music', 'start': 1484.72, 'duration': 5.199}, {'text': \"if they're between 26 and 30 they like\", 'start': 1487.44, 'duration': 3.68}, {'text': 'acoustic music', 'start': 1489.919, 'duration': 3.201}, {'text': 'and just like men after the age of 30', 'start': 1491.12, 'duration': 3.76}, {'text': 'they like classical music', 'start': 1493.12, 'duration': 3.6}, {'text': 'once again this is a made-up pattern', 'start': 1494.88, 'duration': 3.36}, {'text': \"it's not the representation of the\", 'start': 1496.72, 'duration': 2.64}, {'text': 'reality', 'start': 1498.24, 'duration': 3.6}, {'text': \"so let's go ahead and download this csv\", 'start': 1499.36, 'duration': 3.76}, {'text': 'click on this', 'start': 1501.84, 'duration': 5.839}, {'text': 'dot dot icon here and download this file', 'start': 1503.12, 'duration': 7.0}, {'text': 'in my downloads folder here we have this', 'start': 1507.679, 'duration': 3.921}, {'text': 'music.csv', 'start': 1510.12, 'duration': 3.64}, {'text': \"i'm going to drag and drop this onto\", 'start': 1511.6, 'duration': 3.84}, {'text': \"desktop because that's where\", 'start': 1513.76, 'duration': 4.32}, {'text': \"i've stored this hello world notebook so\", 'start': 1515.44, 'duration': 4.32}, {'text': 'i want you to put the csv file', 'start': 1518.08, 'duration': 4.719}, {'text': 'right next to your jupyter notebook', 'start': 1519.76, 'duration': 4.88}, {'text': 'now back to our notebook we need to read', 'start': 1522.799, 'duration': 3.201}, {'text': 'the csv file', 'start': 1524.64, 'duration': 3.36}, {'text': 'so just like before first we need to', 'start': 1526.0, 'duration': 4.0}, {'text': 'import the pandas module', 'start': 1528.0, 'duration': 6.0}, {'text': 'so import pandas as pd', 'start': 1530.0, 'duration': 7.2}, {'text': \"and then we'll call pd that read analyze\", 'start': 1534.0, 'duration': 4.64}, {'text': 'csv', 'start': 1537.2, 'duration': 4.959}, {'text': 'and the name of our file is music.csv', 'start': 1538.64, 'duration': 5.6}, {'text': 'as you saw earlier this returns a data', 'start': 1542.159, 'duration': 4.081}, {'text': 'frame which is a two-dimensional array', 'start': 1544.24, 'duration': 4.4}, {'text': \"similar to an excel spreadsheet so let's\", 'start': 1546.24, 'duration': 3.28}, {'text': 'call that', 'start': 1548.64, 'duration': 5.12}, {'text': 'music underline data', 'start': 1549.52, 'duration': 6.8}, {'text': \"now let's inspect this music underline\", 'start': 1553.76, 'duration': 4.48}, {'text': 'data to make sure we loaded everything', 'start': 1556.32, 'duration': 2.959}, {'text': 'properly', 'start': 1558.24, 'duration': 4.08}, {'text': \"so run so here's our data frame\", 'start': 1559.279, 'duration': 5.361}, {'text': 'beautiful next minute to prepare or', 'start': 1562.32, 'duration': 3.2}, {'text': 'clean the data', 'start': 1564.64, 'duration': 4.159}, {'text': \"and that's the topic for the next\", 'start': 1565.52, 'duration': 3.279}, {'text': 'lecture', 'start': 1568.84, 'duration': 3.0}, {'text': 'the second step in a machine learning', 'start': 1573.52, 'duration': 3.519}, {'text': 'project is cleaning or preparing the', 'start': 1575.039, 'duration': 2.64}, {'text': 'data', 'start': 1577.039, 'duration': 2.88}, {'text': 'and that involves tasks such as removing', 'start': 1577.679, 'duration': 3.201}, {'text': 'duplicates', 'start': 1579.919, 'duration': 2.88}, {'text': 'null values and so on now in this', 'start': 1580.88, 'duration': 3.44}, {'text': \"particular data set we don't have to do\", 'start': 1582.799, 'duration': 3.041}, {'text': \"any kind of cleaning because we don't\", 'start': 1584.32, 'duration': 2.64}, {'text': 'have any duplicates', 'start': 1585.84, 'duration': 4.16}, {'text': 'and as you can see all rows have values', 'start': 1586.96, 'duration': 5.04}, {'text': \"for all columns so we don't have null\", 'start': 1590.0, 'duration': 4.08}, {'text': 'values but there is one thing we need to', 'start': 1592.0, 'duration': 3.679}, {'text': 'do', 'start': 1594.08, 'duration': 3.92}, {'text': 'we should split this data set into two', 'start': 1595.679, 'duration': 3.921}, {'text': 'separate data sets', 'start': 1598.0, 'duration': 3.52}, {'text': 'one with the first two columns which we', 'start': 1599.6, 'duration': 3.76}, {'text': 'refer to as the input set', 'start': 1601.52, 'duration': 3.759}, {'text': 'and the other with the last column which', 'start': 1603.36, 'duration': 4.0}, {'text': 'we refer to as the output set', 'start': 1605.279, 'duration': 4.481}, {'text': 'so when we train a model we give it two', 'start': 1607.36, 'duration': 3.76}, {'text': 'separate data sets', 'start': 1609.76, 'duration': 4.0}, {'text': 'the input set and the output set the', 'start': 1611.12, 'duration': 3.6}, {'text': 'output set', 'start': 1613.76, 'duration': 3.44}, {'text': 'which is in this case the genre column', 'start': 1614.72, 'duration': 3.28}, {'text': 'contains', 'start': 1617.2, 'duration': 2.8}, {'text': \"the predictions so we're telling our\", 'start': 1618.0, 'duration': 3.279}, {'text': 'model that if we have', 'start': 1620.0, 'duration': 4.08}, {'text': \"a user who's 20 years old and is a male\", 'start': 1621.279, 'duration': 3.441}, {'text': 'they like', 'start': 1624.08, 'duration': 3.36}, {'text': 'hip hop once we train our model then we', 'start': 1624.72, 'duration': 4.48}, {'text': 'give it a new input set', 'start': 1627.44, 'duration': 3.599}, {'text': 'for example we say hey we have a new', 'start': 1629.2, 'duration': 4.079}, {'text': 'user who is 21 years old', 'start': 1631.039, 'duration': 4.561}, {'text': 'and is a male what is the genre of the', 'start': 1633.279, 'duration': 4.64}, {'text': 'music that this user probably likes', 'start': 1635.6, 'duration': 4.48}, {'text': \"as you can see in our input set we don't\", 'start': 1637.919, 'duration': 4.961}, {'text': 'have a sample for a 21 year old male', 'start': 1640.08, 'duration': 4.64}, {'text': \"so we're going to ask our model to\", 'start': 1642.88, 'duration': 3.039}, {'text': 'predict that', 'start': 1644.72, 'duration': 3.12}, {'text': 'that is the reason we need to split this', 'start': 1645.919, 'duration': 4.64}, {'text': 'data set into two separate sets', 'start': 1647.84, 'duration': 6.719}, {'text': 'input and output so back to our code', 'start': 1650.559, 'duration': 6.161}, {'text': 'this data frame object has a method', 'start': 1654.559, 'duration': 5.12}, {'text': 'called drop', 'start': 1656.72, 'duration': 5.76}, {'text': 'now if you put the cursor under method', 'start': 1659.679, 'duration': 3.841}, {'text': 'name and press', 'start': 1662.48, 'duration': 4.48}, {'text': 'shift and tab you can see this tooltip', 'start': 1663.52, 'duration': 5.44}, {'text': 'so this is the signature of this drop', 'start': 1666.96, 'duration': 3.92}, {'text': 'method these are the parameters that we', 'start': 1668.96, 'duration': 3.04}, {'text': 'can pass here', 'start': 1670.88, 'duration': 2.48}, {'text': \"the parameter we're going to use in this\", 'start': 1672.0, 'duration': 3.679}, {'text': 'lecture is columns which is set to none', 'start': 1673.36, 'duration': 3.52}, {'text': 'by default', 'start': 1675.679, 'duration': 2.961}, {'text': 'with this parameter we can specify the', 'start': 1676.88, 'duration': 3.519}, {'text': 'columns we want to drop', 'start': 1678.64, 'duration': 6.0}, {'text': 'so in this case we set columns', 'start': 1680.399, 'duration': 8.16}, {'text': 'to an array with one string genre', 'start': 1684.64, 'duration': 6.159}, {'text': \"now this method doesn't actually modify\", 'start': 1688.559, 'duration': 3.761}, {'text': 'the original data set', 'start': 1690.799, 'duration': 3.6}, {'text': 'in fact it will create a new data set', 'start': 1692.32, 'duration': 3.12}, {'text': 'but without', 'start': 1694.399, 'duration': 4.64}, {'text': 'this column so by convention we use a', 'start': 1695.44, 'duration': 4.56}, {'text': 'capital x', 'start': 1699.039, 'duration': 4.24}, {'text': 'to represent that data set so capital x', 'start': 1700.0, 'duration': 6.64}, {'text': 'equals this expression now', 'start': 1703.279, 'duration': 6.721}, {'text': \"let's inspect x so as you can\", 'start': 1706.64, 'duration': 6.08}, {'text': 'see our input set or x includes these', 'start': 1710.0, 'duration': 3.52}, {'text': 'two columns', 'start': 1712.72, 'duration': 2.72}, {'text': \"age and gender it doesn't have the\", 'start': 1713.52, 'duration': 3.759}, {'text': 'output or predictions', 'start': 1715.44, 'duration': 5.599}, {'text': 'next we need to create our output set so', 'start': 1717.279, 'duration': 6.4}, {'text': 'once again we start with our data frame', 'start': 1721.039, 'duration': 4.081}, {'text': 'music data', 'start': 1723.679, 'duration': 3.681}, {'text': 'using square brackets we can get all the', 'start': 1725.12, 'duration': 3.919}, {'text': 'values in a given column', 'start': 1727.36, 'duration': 4.88}, {'text': 'in this case genre once again this', 'start': 1729.039, 'duration': 4.0}, {'text': 'returns', 'start': 1732.24, 'duration': 3.52}, {'text': 'a new data set by convention we use a', 'start': 1733.039, 'duration': 3.921}, {'text': 'lowercase y', 'start': 1735.76, 'duration': 3.6}, {'text': 'to represent that so that is our output', 'start': 1736.96, 'duration': 3.439}, {'text': 'data set', 'start': 1739.36, 'duration': 4.48}, {'text': \"let's inspect that as well\", 'start': 1740.399, 'duration': 6.16}, {'text': 'so in this data set we only have the', 'start': 1743.84, 'duration': 3.76}, {'text': 'predictions or', 'start': 1746.559, 'duration': 4.161}, {'text': 'the answers so we have prepared our data', 'start': 1747.6, 'duration': 4.959}, {'text': 'next we need to create a model using an', 'start': 1750.72, 'duration': 4.4}, {'text': 'algorithm', 'start': 1752.559, 'duration': 2.561}, {'text': 'the next step is to build a model using', 'start': 1759.44, 'duration': 3.52}, {'text': 'a machine learning algorithm', 'start': 1761.36, 'duration': 3.28}, {'text': 'there are so many algorithms out there', 'start': 1762.96, 'duration': 4.24}, {'text': 'and each algorithm has its pros and cons', 'start': 1764.64, 'duration': 5.12}, {'text': 'in terms of the performance and accuracy', 'start': 1767.2, 'duration': 3.76}, {'text': \"in this lecture we're going to use a\", 'start': 1769.76, 'duration': 2.799}, {'text': 'very simple algorithm called', 'start': 1770.96, 'duration': 3.839}, {'text': 'decision tree now the good news is that', 'start': 1772.559, 'duration': 4.081}, {'text': \"we don't have to explicitly\", 'start': 1774.799, 'duration': 3.921}, {'text': \"program these algorithms they're already\", 'start': 1776.64, 'duration': 4.32}, {'text': 'implemented for us in a library called', 'start': 1778.72, 'duration': 7.04}, {'text': 'scikit-learn so here on the top', 'start': 1780.96, 'duration': 8.24}, {'text': 'from sklearn.3', 'start': 1785.76, 'duration': 6.56}, {'text': \"let's import the decision\", 'start': 1789.2, 'duration': 7.04}, {'text': 'tree classifier so sklearn', 'start': 1792.32, 'duration': 5.76}, {'text': 'is the package that comes with', 'start': 1796.24, 'duration': 3.76}, {'text': 'scikit-learn library this is the most', 'start': 1798.08, 'duration': 3.76}, {'text': 'popular machine learning library in', 'start': 1800.0, 'duration': 2.96}, {'text': 'python', 'start': 1801.84, 'duration': 3.199}, {'text': 'in this package we have a module called', 'start': 1802.96, 'duration': 4.16}, {'text': 'tree and in this module we have a class', 'start': 1805.039, 'duration': 2.64}, {'text': 'called', 'start': 1807.12, 'duration': 3.52}, {'text': 'decision tree classifier this class', 'start': 1807.679, 'duration': 3.6}, {'text': 'implements', 'start': 1810.64, 'duration': 4.32}, {'text': 'the decision tree algorithm okay so', 'start': 1811.279, 'duration': 5.52}, {'text': 'now we need to create a new instance of', 'start': 1814.96, 'duration': 3.36}, {'text': 'this class', 'start': 1816.799, 'duration': 4.24}, {'text': \"so at the end let's create an object\", 'start': 1818.32, 'duration': 3.28}, {'text': 'called', 'start': 1821.039, 'duration': 3.76}, {'text': 'model and set it to a new instance of', 'start': 1821.6, 'duration': 4.4}, {'text': 'decision', 'start': 1824.799, 'duration': 4.321}, {'text': 'tree classifier', 'start': 1826.0, 'duration': 6.0}, {'text': 'like this so now we have a model next we', 'start': 1829.12, 'duration': 4.48}, {'text': 'need to train it so it learns', 'start': 1832.0, 'duration': 3.679}, {'text': 'patterns in the data and that is pretty', 'start': 1833.6, 'duration': 3.52}, {'text': 'easy we call', 'start': 1835.679, 'duration': 4.961}, {'text': 'model that fit this method takes two', 'start': 1837.12, 'duration': 4.32}, {'text': 'data sets', 'start': 1840.64, 'duration': 4.24}, {'text': 'the input set and the output set so', 'start': 1841.44, 'duration': 7.52}, {'text': 'they are capital x and y', 'start': 1844.88, 'duration': 5.84}, {'text': 'now finally we need to ask our model to', 'start': 1848.96, 'duration': 3.04}, {'text': 'make a prediction', 'start': 1850.72, 'duration': 3.04}, {'text': 'so we can ask it what is the kind of', 'start': 1852.0, 'duration': 4.399}, {'text': 'music that a 21 year old male likes', 'start': 1853.76, 'duration': 5.6}, {'text': \"now before we do that let's temporarily\", 'start': 1856.399, 'duration': 3.921}, {'text': 'inspect', 'start': 1859.36, 'duration': 4.799}, {'text': 'our initial data set that is music data', 'start': 1860.32, 'duration': 6.959}, {'text': 'so look what we got here', 'start': 1864.159, 'duration': 5.281}, {'text': \"as i told you earlier i've assumed that\", 'start': 1867.279, 'duration': 3.441}, {'text': 'men between 20', 'start': 1869.44, 'duration': 4.4}, {'text': 'and 25 like hip-hop music but here we', 'start': 1870.72, 'duration': 3.839}, {'text': 'only have', 'start': 1873.84, 'duration': 3.839}, {'text': 'three samples for men aged 20', 'start': 1874.559, 'duration': 5.921}, {'text': \"23 and 25 we don't have a sample for a\", 'start': 1877.679, 'duration': 4.321}, {'text': '21 year old male', 'start': 1880.48, 'duration': 3.36}, {'text': 'so if you ask our model to predict the', 'start': 1882.0, 'duration': 3.679}, {'text': 'kind of music that a 21 year old male', 'start': 1883.84, 'duration': 3.6}, {'text': 'likes we expect it to say', 'start': 1885.679, 'duration': 5.12}, {'text': \"hip hop similarly i've assumed that\", 'start': 1887.44, 'duration': 5.119}, {'text': 'women between 20 and 25', 'start': 1890.799, 'duration': 3.681}, {'text': \"like dance music but we don't have a\", 'start': 1892.559, 'duration': 4.24}, {'text': 'sample for a 22 year old female', 'start': 1894.48, 'duration': 4.4}, {'text': 'so once again if you ask our model to', 'start': 1896.799, 'duration': 3.281}, {'text': 'predict the kind of music', 'start': 1898.88, 'duration': 3.76}, {'text': 'that a 22 year old woman likes we expect', 'start': 1900.08, 'duration': 3.28}, {'text': 'it to say', 'start': 1902.64, 'duration': 3.919}, {'text': 'dance so with these assumptions', 'start': 1903.36, 'duration': 5.439}, {'text': \"let's go ahead and ask our model to make\", 'start': 1906.559, 'duration': 3.441}, {'text': 'predictions', 'start': 1908.799, 'duration': 4.48}, {'text': \"so let's remove\", 'start': 1910.0, 'duration': 6.08}, {'text': \"the last line and instead we're going to\", 'start': 1913.279, 'duration': 3.441}, {'text': 'call', 'start': 1916.08, 'duration': 3.92}, {'text': 'model dot predict this method', 'start': 1916.72, 'duration': 6.4}, {'text': \"takes a two dimensional array so here's\", 'start': 1920.0, 'duration': 4.399}, {'text': 'the outer array', 'start': 1923.12, 'duration': 3.919}, {'text': 'in this array each element is an array', 'start': 1924.399, 'duration': 4.0}, {'text': \"so i'm going to pass\", 'start': 1927.039, 'duration': 3.601}, {'text': \"another array here and in this array i'm\", 'start': 1928.399, 'duration': 3.041}, {'text': 'going to pass', 'start': 1930.64, 'duration': 3.84}, {'text': 'a new input set a 21 year old male', 'start': 1931.44, 'duration': 6.479}, {'text': 'so 21 comma one that is like a new', 'start': 1934.48, 'duration': 4.4}, {'text': 'record', 'start': 1937.919, 'duration': 4.24}, {'text': 'in this table okay so this is one input', 'start': 1938.88, 'duration': 3.84}, {'text': 'set', 'start': 1942.159, 'duration': 2.321}, {'text': \"let's pass another input set for a\", 'start': 1942.72, 'duration': 3.439}, {'text': '22-year female', 'start': 1944.48, 'duration': 5.28}, {'text': \"so here's another array here we add 22\", 'start': 1946.159, 'duration': 6.481}, {'text': \"comma zero so we're asking our model to\", 'start': 1949.76, 'duration': 5.2}, {'text': 'make two predictions at the same time', 'start': 1952.64, 'duration': 5.36}, {'text': 'we get the result and store it in a', 'start': 1954.96, 'duration': 4.959}, {'text': 'variable called predictions', 'start': 1958.0, 'duration': 5.12}, {'text': \"and finally let's inspect that in our\", 'start': 1959.919, 'duration': 4.721}, {'text': 'notebook', 'start': 1963.12, 'duration': 5.039}, {'text': 'run look what we got', 'start': 1964.64, 'duration': 6.08}, {'text': 'our model is saying that a 21 year old', 'start': 1968.159, 'duration': 3.201}, {'text': 'male', 'start': 1970.72, 'duration': 3.199}, {'text': 'likes hip hop and a 22 year old female', 'start': 1971.36, 'duration': 3.039}, {'text': 'likes', 'start': 1973.919, 'duration': 2.64}, {'text': 'dance music so our model could', 'start': 1974.399, 'duration': 3.841}, {'text': 'successfully make predictions here', 'start': 1976.559, 'duration': 4.081}, {'text': 'beautiful but wait a second building a', 'start': 1978.24, 'duration': 4.319}, {'text': 'model that makes predictions accurately', 'start': 1980.64, 'duration': 3.279}, {'text': 'is not always that easy', 'start': 1982.559, 'duration': 3.281}, {'text': 'as i told you earlier after we build a', 'start': 1983.919, 'duration': 4.401}, {'text': 'model we need to measure its accuracy', 'start': 1985.84, 'duration': 4.319}, {'text': \"and if it's not accurate enough we\", 'start': 1988.32, 'duration': 3.44}, {'text': 'should either fine tune it or build a', 'start': 1990.159, 'duration': 3.76}, {'text': 'model using a different algorithm', 'start': 1991.76, 'duration': 3.44}, {'text': \"so in the next lecture i'm going to show\", 'start': 1993.919, 'duration': 5.681}, {'text': 'you how to measure the accuracy of a', 'start': 1995.2, 'duration': 4.4}, {'text': 'model', 'start': 2002.84, 'duration': 2.52}, {'text': \"in this lecture i'm going to show you\", 'start': 2004.32, 'duration': 3.12}, {'text': 'how to measure the accuracy of your', 'start': 2005.36, 'duration': 2.88}, {'text': 'models', 'start': 2007.44, 'duration': 2.88}, {'text': 'now in order to do so first we need to', 'start': 2008.24, 'duration': 3.2}, {'text': 'split our data set', 'start': 2010.32, 'duration': 3.68}, {'text': 'into two sets one for training and the', 'start': 2011.44, 'duration': 3.839}, {'text': 'other for testing', 'start': 2014.0, 'duration': 3.519}, {'text': \"because right now we're passing the\", 'start': 2015.279, 'duration': 3.52}, {'text': 'entire data set', 'start': 2017.519, 'duration': 3.28}, {'text': \"for training the model and we're using\", 'start': 2018.799, 'duration': 3.281}, {'text': 'two samples', 'start': 2020.799, 'duration': 3.36}, {'text': 'for making predictions that is not', 'start': 2022.08, 'duration': 4.079}, {'text': 'enough to calculate the accuracy of a', 'start': 2024.159, 'duration': 2.64}, {'text': 'model', 'start': 2026.159, 'duration': 3.12}, {'text': 'a general rule of thumb is to allocate', 'start': 2026.799, 'duration': 4.561}, {'text': '70 to 80 percent of our data', 'start': 2029.279, 'duration': 3.921}, {'text': 'for training and the other twenty to', 'start': 2031.36, 'duration': 3.6}, {'text': 'thirty percent for testing', 'start': 2033.2, 'duration': 4.0}, {'text': 'then instead of passing only two samples', 'start': 2034.96, 'duration': 3.52}, {'text': 'for making predictions', 'start': 2037.2, 'duration': 3.28}, {'text': 'we can pass the data set we have for', 'start': 2038.48, 'duration': 4.079}, {'text': \"testing we'll get the predictions\", 'start': 2040.48, 'duration': 3.28}, {'text': 'and then we can compare these', 'start': 2042.559, 'duration': 3.441}, {'text': 'predictions with the actual values', 'start': 2043.76, 'duration': 4.56}, {'text': 'in the test set based on that we can', 'start': 2046.0, 'duration': 3.839}, {'text': 'calculate the accuracy', 'start': 2048.32, 'duration': 3.519}, {'text': \"that's really easy all we have to do is\", 'start': 2049.839, 'duration': 3.681}, {'text': 'to import a couple of functions', 'start': 2051.839, 'duration': 3.361}, {'text': 'and call them in this code let me show', 'start': 2053.52, 'duration': 4.72}, {'text': 'you so first on the top', 'start': 2055.2, 'duration': 6.24}, {'text': 'from sklearn the model', 'start': 2058.24, 'duration': 6.56}, {'text': 'underline selection module we import', 'start': 2061.44, 'duration': 6.8}, {'text': 'a function called train test split', 'start': 2064.8, 'duration': 5.279}, {'text': 'with this function we can easily split', 'start': 2068.24, 'duration': 3.839}, {'text': 'our data set into two sets', 'start': 2070.079, 'duration': 5.52}, {'text': 'for training and testing now', 'start': 2072.079, 'duration': 6.961}, {'text': 'right here after we define x and y sets', 'start': 2075.599, 'duration': 5.04}, {'text': 'we call this function', 'start': 2079.04, 'duration': 5.359}, {'text': 'so train test split', 'start': 2080.639, 'duration': 7.121}, {'text': 'we give it three arguments x y', 'start': 2084.399, 'duration': 5.68}, {'text': 'and a keyboard argument that specifies', 'start': 2087.76, 'duration': 4.48}, {'text': 'the size of our test data set', 'start': 2090.079, 'duration': 6.961}, {'text': 'so test underline size we set it to 0.2', 'start': 2092.24, 'duration': 7.04}, {'text': 'so we are allocating 20 of our data for', 'start': 2097.04, 'duration': 3.52}, {'text': 'testing', 'start': 2099.28, 'duration': 4.559}, {'text': 'now this function returns a tuple so we', 'start': 2100.56, 'duration': 5.36}, {'text': 'can unpack it into four variables', 'start': 2103.839, 'duration': 5.841}, {'text': 'right here x underline train', 'start': 2105.92, 'duration': 7.84}, {'text': 'x underline test y underline train', 'start': 2109.68, 'duration': 7.2}, {'text': 'and y underline test', 'start': 2113.76, 'duration': 5.359}, {'text': 'so the first two variables are the input', 'start': 2116.88, 'duration': 3.52}, {'text': 'sets for training', 'start': 2119.119, 'duration': 4.96}, {'text': 'and testing and the other are the output', 'start': 2120.4, 'duration': 4.16}, {'text': 'sets', 'start': 2124.079, 'duration': 3.681}, {'text': 'for training and testing now when', 'start': 2124.56, 'duration': 4.96}, {'text': 'training our model', 'start': 2127.76, 'duration': 3.52}, {'text': 'instead of passing the entire data set', 'start': 2129.52, 'duration': 3.12}, {'text': 'we want to pass only', 'start': 2131.28, 'duration': 4.88}, {'text': 'the training data set so x', 'start': 2132.64, 'duration': 6.56}, {'text': 'underline train and y', 'start': 2136.16, 'duration': 6.16}, {'text': 'underline train also when making', 'start': 2139.2, 'duration': 3.76}, {'text': 'predictions', 'start': 2142.32, 'duration': 2.48}, {'text': 'instead of passing these two samples we', 'start': 2142.96, 'duration': 3.36}, {'text': 'pass x', 'start': 2144.8, 'duration': 4.48}, {'text': 'underline test so that is the data set', 'start': 2146.32, 'duration': 4.0}, {'text': 'that contains', 'start': 2149.28, 'duration': 4.4}, {'text': 'input values for testing now we get', 'start': 2150.32, 'duration': 5.279}, {'text': 'the predictions to calculate the', 'start': 2153.68, 'duration': 3.76}, {'text': 'accuracy we simply have to compare these', 'start': 2155.599, 'duration': 2.801}, {'text': 'predictions', 'start': 2157.44, 'duration': 3.84}, {'text': 'with the actual values we have in our', 'start': 2158.4, 'duration': 3.76}, {'text': 'output set', 'start': 2161.28, 'duration': 3.76}, {'text': 'for testing that is very easy first on', 'start': 2162.16, 'duration': 4.08}, {'text': 'the top we need to import', 'start': 2165.04, 'duration': 5.039}, {'text': 'a function so from sklearn.metrics', 'start': 2166.24, 'duration': 5.68}, {'text': 'metrics', 'start': 2170.079, 'duration': 6.241}, {'text': 'import accuracy underlying score', 'start': 2171.92, 'duration': 6.0}, {'text': 'now at the very end we call this', 'start': 2176.32, 'duration': 3.759}, {'text': 'function so accuracy', 'start': 2177.92, 'duration': 5.76}, {'text': 'score and', 'start': 2180.079, 'duration': 6.481}, {'text': 'give it two arguments y underline test', 'start': 2183.68, 'duration': 3.84}, {'text': 'which contains', 'start': 2186.56, 'duration': 5.2}, {'text': 'the expected values and predictions', 'start': 2187.52, 'duration': 7.2}, {'text': 'which contains the actual values now', 'start': 2191.76, 'duration': 4.0}, {'text': 'this function returns', 'start': 2194.72, 'duration': 4.08}, {'text': 'an accuracy score between zero to one so', 'start': 2195.76, 'duration': 5.52}, {'text': 'we can store it here', 'start': 2198.8, 'duration': 6.16}, {'text': 'and simply display it on the console', 'start': 2201.28, 'duration': 6.96}, {'text': \"so let's go ahead and run this program\", 'start': 2204.96, 'duration': 6.0}, {'text': 'so the accuracy score is one or 100', 'start': 2208.24, 'duration': 3.52}, {'text': 'percent', 'start': 2210.96, 'duration': 2.48}, {'text': \"but if we run this one more time we're\", 'start': 2211.76, 'duration': 3.28}, {'text': 'going to see a different result', 'start': 2213.44, 'duration': 3.679}, {'text': 'because every time we split our data set', 'start': 2215.04, 'duration': 3.84}, {'text': 'into training and test sets', 'start': 2217.119, 'duration': 3.681}, {'text': \"we'll have different data sets because\", 'start': 2218.88, 'duration': 4.0}, {'text': 'this function randomly picks data', 'start': 2220.8, 'duration': 4.88}, {'text': 'for training and testing let me show you', 'start': 2222.88, 'duration': 4.0}, {'text': 'so put the cursor', 'start': 2225.68, 'duration': 2.96}, {'text': 'in the cell now you can see this cell is', 'start': 2226.88, 'duration': 3.76}, {'text': 'activated note that if you click this', 'start': 2228.64, 'duration': 2.8}, {'text': 'button here', 'start': 2230.64, 'duration': 3.68}, {'text': 'it will run this cell and also inserts a', 'start': 2231.44, 'duration': 3.679}, {'text': 'new cell', 'start': 2234.32, 'duration': 2.88}, {'text': 'below this cell let me show you so if i', 'start': 2235.119, 'duration': 4.0}, {'text': 'go to the second cell', 'start': 2237.2, 'duration': 4.639}, {'text': 'press escape button now we are in the', 'start': 2239.119, 'duration': 3.681}, {'text': 'command mode', 'start': 2241.839, 'duration': 4.321}, {'text': \"press d twice okay now it's deleted\", 'start': 2242.8, 'duration': 6.799}, {'text': 'if we click the run button you can see', 'start': 2246.16, 'duration': 5.52}, {'text': 'this code was executed and now we have a', 'start': 2249.599, 'duration': 3.361}, {'text': 'new cell', 'start': 2251.68, 'duration': 2.56}, {'text': 'so if you want to run our first cell', 'start': 2252.96, 'duration': 3.04}, {'text': 'multiple times every time we have to', 'start': 2254.24, 'duration': 2.56}, {'text': 'click this', 'start': 2256.0, 'duration': 2.88}, {'text': 'and then run it and then click again and', 'start': 2256.8, 'duration': 3.92}, {'text': \"run it it's a little bit tedious\", 'start': 2258.88, 'duration': 4.0}, {'text': \"so i'll show you a shortcut activate the\", 'start': 2260.72, 'duration': 3.359}, {'text': 'first cell', 'start': 2262.88, 'duration': 4.479}, {'text': 'and press ctrl and enter', 'start': 2264.079, 'duration': 5.441}, {'text': 'this runs the current cell without', 'start': 2267.359, 'duration': 3.441}, {'text': 'adding a new cell', 'start': 2269.52, 'duration': 4.079}, {'text': \"below it so back here let's run it\", 'start': 2270.8, 'duration': 3.68}, {'text': 'multiple times', 'start': 2273.599, 'duration': 3.561}, {'text': 'okay now look the accuracy dropped to', 'start': 2274.48, 'duration': 3.92}, {'text': '0.75', 'start': 2277.16, 'duration': 3.32}, {'text': \"it's still good so the accuracy score\", 'start': 2278.4, 'duration': 4.0}, {'text': 'here is somewhere between', 'start': 2280.48, 'duration': 5.76}, {'text': '75 to 100 but let me show you something', 'start': 2282.4, 'duration': 7.6}, {'text': 'if i change the test size from 0.2', 'start': 2286.24, 'duration': 6.879}, {'text': \"to 0.8 so essentially we're using only\", 'start': 2290.0, 'duration': 3.599}, {'text': '20', 'start': 2293.119, 'duration': 2.881}, {'text': 'of our data for training this model and', 'start': 2293.599, 'duration': 4.0}, {'text': \"we're using the other 80\", 'start': 2296.0, 'duration': 4.16}, {'text': \"for testing now let's see what happens\", 'start': 2297.599, 'duration': 4.641}, {'text': 'when we run this cell multiple times', 'start': 2300.16, 'duration': 5.36}, {'text': 'so control and enter look the accuracy', 'start': 2302.24, 'duration': 5.44}, {'text': 'immediately dropped to 0.4', 'start': 2305.52, 'duration': 5.28}, {'text': 'one more time now 46 percent', 'start': 2307.68, 'duration': 7.76}, {'text': \"40 26 it's really really bad\", 'start': 2310.8, 'duration': 6.64}, {'text': 'the reason this is happening is because', 'start': 2315.44, 'duration': 3.84}, {'text': 'we are using very little data', 'start': 2317.44, 'duration': 4.0}, {'text': 'for training this model this is one of', 'start': 2319.28, 'duration': 4.4}, {'text': 'the key concepts in machine learning', 'start': 2321.44, 'duration': 4.08}, {'text': 'the more data we give to our model and', 'start': 2323.68, 'duration': 3.28}, {'text': 'the cleaner the data is', 'start': 2325.52, 'duration': 3.68}, {'text': 'we get the better result so if we have', 'start': 2326.96, 'duration': 3.119}, {'text': 'duplicates', 'start': 2329.2, 'duration': 3.6}, {'text': 'irrelevant data or incomplete values our', 'start': 2330.079, 'duration': 3.52}, {'text': 'model will learn', 'start': 2332.8, 'duration': 2.96}, {'text': 'bad patterns in our data that is why', 'start': 2333.599, 'duration': 3.921}, {'text': \"it's really important to clean our data\", 'start': 2335.76, 'duration': 4.48}, {'text': \"before training our model now let's\", 'start': 2337.52, 'duration': 5.52}, {'text': 'change this back to 0.2', 'start': 2340.24, 'duration': 5.2}, {'text': 'run this one more time okay now the', 'start': 2343.04, 'duration': 3.76}, {'text': 'accuracy is one', 'start': 2345.44, 'duration': 4.639}, {'text': '75 percent now we drop to 50', 'start': 2346.8, 'duration': 5.039}, {'text': 'again the reason this is happening is', 'start': 2350.079, 'duration': 3.921}, {'text': \"because we don't have enough data\", 'start': 2351.839, 'duration': 4.24}, {'text': 'some machine learning problems require', 'start': 2354.0, 'duration': 4.32}, {'text': 'thousands or even millions of samples', 'start': 2356.079, 'duration': 4.721}, {'text': 'to train a model the more complex the', 'start': 2358.32, 'duration': 4.32}, {'text': 'problem is the more data we need', 'start': 2360.8, 'duration': 3.52}, {'text': \"for example here we're only dealing with\", 'start': 2362.64, 'duration': 3.439}, {'text': 'a table of three columns', 'start': 2364.32, 'duration': 3.68}, {'text': 'but if you want to build a model to tell', 'start': 2366.079, 'duration': 3.921}, {'text': 'if a picture is a cat or a dog or a', 'start': 2368.0, 'duration': 3.2}, {'text': 'horse or a lion', 'start': 2370.0, 'duration': 3.359}, {'text': \"we'll need millions of pictures the more\", 'start': 2371.2, 'duration': 3.68}, {'text': 'animals we want to support the more', 'start': 2373.359, 'duration': 2.72}, {'text': 'pictures we need', 'start': 2374.88, 'duration': 2.4}, {'text': \"in the next lecture we're going to talk\", 'start': 2376.079, 'duration': 7.76}, {'text': 'about model persistence', 'start': 2377.28, 'duration': 6.559}, {'text': 'so this is a very basic implementation', 'start': 2385.359, 'duration': 4.48}, {'text': 'of building and training a model to make', 'start': 2387.599, 'duration': 3.52}, {'text': 'predictions', 'start': 2389.839, 'duration': 3.361}, {'text': 'now to simplify things i have removed', 'start': 2391.119, 'duration': 3.521}, {'text': 'all the code that we wrote in the last', 'start': 2393.2, 'duration': 2.399}, {'text': 'lecture for', 'start': 2394.64, 'duration': 2.959}, {'text': 'calculating the accuracy because in this', 'start': 2395.599, 'duration': 3.121}, {'text': \"lecture we're going to focus\", 'start': 2397.599, 'duration': 4.081}, {'text': 'on a different topic so basically we', 'start': 2398.72, 'duration': 4.56}, {'text': 'import our data set', 'start': 2401.68, 'duration': 4.72}, {'text': 'create a model train it and then', 'start': 2403.28, 'duration': 5.68}, {'text': 'ask it to make predictions now this', 'start': 2406.4, 'duration': 3.679}, {'text': 'piece of code that you see', 'start': 2408.96, 'duration': 3.52}, {'text': 'here is not what we want to run every', 'start': 2410.079, 'duration': 4.481}, {'text': 'time we have a new user or every time we', 'start': 2412.48, 'duration': 3.599}, {'text': 'want to make recommendations', 'start': 2414.56, 'duration': 3.6}, {'text': 'to an existing user because training a', 'start': 2416.079, 'duration': 3.76}, {'text': 'model can sometimes be really time', 'start': 2418.16, 'duration': 2.64}, {'text': 'consuming', 'start': 2419.839, 'duration': 2.48}, {'text': \"in this example we're dealing with a\", 'start': 2420.8, 'duration': 3.039}, {'text': 'very small data set that has', 'start': 2422.319, 'duration': 4.081}, {'text': 'only 20 records but in real applications', 'start': 2423.839, 'duration': 3.841}, {'text': 'we might have a data set', 'start': 2426.4, 'duration': 3.76}, {'text': 'with thousands or millions of samples', 'start': 2427.68, 'duration': 4.08}, {'text': 'training a model for that might take', 'start': 2430.16, 'duration': 2.32}, {'text': 'seconds', 'start': 2431.76, 'duration': 3.52}, {'text': 'minutes or even hours so that is why', 'start': 2432.48, 'duration': 5.04}, {'text': 'model persistence is important', 'start': 2435.28, 'duration': 4.48}, {'text': 'once in a while we build and train our', 'start': 2437.52, 'duration': 4.799}, {'text': \"model and then we'll save it to a file\", 'start': 2439.76, 'duration': 3.68}, {'text': 'now next time we want to make', 'start': 2442.319, 'duration': 3.28}, {'text': 'predictions we simply load the model', 'start': 2443.44, 'duration': 3.28}, {'text': 'from the file and', 'start': 2445.599, 'duration': 3.52}, {'text': 'ask it to make predictions that model is', 'start': 2446.72, 'duration': 4.56}, {'text': \"already trained we don't need to retrain\", 'start': 2449.119, 'duration': 2.641}, {'text': 'it', 'start': 2451.28, 'duration': 2.72}, {'text': \"it's like an intelligent person so let\", 'start': 2451.76, 'duration': 4.079}, {'text': \"me show you how to do this it's very\", 'start': 2454.0, 'duration': 3.04}, {'text': 'very easy', 'start': 2455.839, 'duration': 6.161}, {'text': 'on the top from sklearn.externals', 'start': 2457.04, 'duration': 8.319}, {'text': 'module we import', 'start': 2462.0, 'duration': 6.56}, {'text': 'lib this job live object has methods for', 'start': 2465.359, 'duration': 3.921}, {'text': 'saving', 'start': 2468.56, 'duration': 3.84}, {'text': 'and loading models so after', 'start': 2469.28, 'duration': 6.16}, {'text': 'we train our model we simply call', 'start': 2472.4, 'duration': 6.16}, {'text': 'joblib dot dump', 'start': 2475.44, 'duration': 6.159}, {'text': 'and give it two arguments our model and', 'start': 2478.56, 'duration': 4.08}, {'text': 'the name of the file', 'start': 2481.599, 'duration': 3.201}, {'text': 'in which we want to store this model', 'start': 2482.64, 'duration': 3.199}, {'text': \"let's call that\", 'start': 2484.8, 'duration': 4.08}, {'text': 'music dash recommender', 'start': 2485.839, 'duration': 7.28}, {'text': \"dot job lib that's all we have to do\", 'start': 2488.88, 'duration': 6.0}, {'text': \"now temporarily i'm going to comment out\", 'start': 2493.119, 'duration': 3.361}, {'text': \"this line we don't want to make any\", 'start': 2494.88, 'duration': 3.36}, {'text': 'predictions we just want to store our', 'start': 2496.48, 'duration': 3.599}, {'text': 'trained model in a file', 'start': 2498.24, 'duration': 4.64}, {'text': \"so let's run this cell with control and\", 'start': 2500.079, 'duration': 4.481}, {'text': 'slash', 'start': 2502.88, 'duration': 5.12}, {'text': 'okay look in the output we have an array', 'start': 2504.56, 'duration': 5.68}, {'text': 'that contains the name of our model file', 'start': 2508.0, 'duration': 4.16}, {'text': 'so this is the return value of the dump', 'start': 2510.24, 'duration': 3.359}, {'text': 'method', 'start': 2512.16, 'duration': 3.6}, {'text': 'now back to our desktop right next to my', 'start': 2513.599, 'duration': 4.321}, {'text': 'notebook you can see our job live file', 'start': 2515.76, 'duration': 4.0}, {'text': \"this is where our model is stored it's\", 'start': 2517.92, 'duration': 3.84}, {'text': 'simply a binary file', 'start': 2519.76, 'duration': 4.24}, {'text': 'now back to our jupyter notebook as i', 'start': 2521.76, 'duration': 4.0}, {'text': 'told you before in a real application we', 'start': 2524.0, 'duration': 3.359}, {'text': \"don't want to train a model\", 'start': 2525.76, 'duration': 4.96}, {'text': \"every time so let's comment out\", 'start': 2527.359, 'duration': 5.121}, {'text': \"these few lines so i've selected these\", 'start': 2530.72, 'duration': 4.08}, {'text': 'few lines on mac we can press', 'start': 2532.48, 'duration': 4.8}, {'text': 'command and slash on windows control', 'start': 2534.8, 'duration': 3.92}, {'text': 'slash', 'start': 2537.28, 'duration': 3.68}, {'text': 'okay these lines are commented out now', 'start': 2538.72, 'duration': 4.399}, {'text': 'this time instead of dumping our model', 'start': 2540.96, 'duration': 3.76}, {'text': \"we're going to load it so we call the\", 'start': 2543.119, 'duration': 4.0}, {'text': \"load method we don't have the model we\", 'start': 2544.72, 'duration': 3.52}, {'text': 'simply pass', 'start': 2547.119, 'duration': 3.921}, {'text': 'the name of our model file this returns', 'start': 2548.24, 'duration': 3.839}, {'text': 'our trained', 'start': 2551.04, 'duration': 4.0}, {'text': 'model now with these two lines we can', 'start': 2552.079, 'duration': 3.76}, {'text': 'simply', 'start': 2555.04, 'duration': 3.84}, {'text': 'make predictions so earlier we assumed', 'start': 2555.839, 'duration': 5.121}, {'text': 'that men between 20 and 25', 'start': 2558.88, 'duration': 5.04}, {'text': \"like hip-hop music let's print\", 'start': 2560.96, 'duration': 4.879}, {'text': 'predictions and see if our model is', 'start': 2563.92, 'duration': 3.76}, {'text': 'behaving correctly or not', 'start': 2565.839, 'duration': 5.041}, {'text': 'so control and enter there you go', 'start': 2567.68, 'duration': 7.2}, {'text': 'so this is how we persist and load', 'start': 2570.88, 'duration': 4.0}, {'text': 'models', 'start': 2576.839, 'duration': 3.0}, {'text': 'earlier in this section i told you that', 'start': 2579.92, 'duration': 3.439}, {'text': 'decision trees are the easiest to', 'start': 2581.44, 'duration': 3.36}, {'text': \"understand and that's why we started\", 'start': 2583.359, 'duration': 2.24}, {'text': 'machine learning', 'start': 2584.8, 'duration': 2.799}, {'text': 'with decision trees in this lecture', 'start': 2585.599, 'duration': 3.841}, {'text': \"we're going to export our model in a\", 'start': 2587.599, 'duration': 2.961}, {'text': 'visual format', 'start': 2589.44, 'duration': 3.52}, {'text': 'so you will see how this model makes', 'start': 2590.56, 'duration': 3.36}, {'text': 'predictions', 'start': 2592.96, 'duration': 2.72}, {'text': 'that is really really cool let me show', 'start': 2593.92, 'duration': 3.52}, {'text': 'you so', 'start': 2595.68, 'duration': 4.0}, {'text': \"once again i've simplified this code so\", 'start': 2597.44, 'duration': 3.679}, {'text': 'we simply import', 'start': 2599.68, 'duration': 4.96}, {'text': 'our data set create input and output', 'start': 2601.119, 'duration': 4.401}, {'text': 'sets', 'start': 2604.64, 'duration': 4.0}, {'text': 'create a model and train it', 'start': 2605.52, 'duration': 5.36}, {'text': \"that's all we are doing now i want you\", 'start': 2608.64, 'duration': 3.52}, {'text': 'to follow along with me', 'start': 2610.88, 'duration': 3.52}, {'text': 'type everything exactly as i show you in', 'start': 2612.16, 'duration': 3.679}, {'text': \"this lecture don't worry about\", 'start': 2614.4, 'duration': 2.56}, {'text': \"what everything means we're going to\", 'start': 2615.839, 'duration': 3.361}, {'text': 'come back to it shortly so', 'start': 2616.96, 'duration': 5.44}, {'text': 'on the top from sklearn', 'start': 2619.2, 'duration': 6.72}, {'text': 'import tree this object', 'start': 2622.4, 'duration': 5.6}, {'text': 'has a method for exporting our decision', 'start': 2625.92, 'duration': 4.32}, {'text': 'tree in a graphical format', 'start': 2628.0, 'duration': 5.52}, {'text': \"so after we train our model let's call\", 'start': 2630.24, 'duration': 6.48}, {'text': 'tree dot export underline', 'start': 2633.52, 'duration': 6.24}, {'text': 'graph vis now here are a few arguments', 'start': 2636.72, 'duration': 4.08}, {'text': 'we need to pass', 'start': 2639.76, 'duration': 3.76}, {'text': 'the first argument is our model the', 'start': 2640.8, 'duration': 4.88}, {'text': 'second is the name of the output file', 'start': 2643.52, 'duration': 3.68}, {'text': \"so here we're going to use keyword\", 'start': 2645.68, 'duration': 3.36}, {'text': 'arguments because this method takes so', 'start': 2647.2, 'duration': 3.119}, {'text': 'many parameters and we want to', 'start': 2649.04, 'duration': 2.48}, {'text': 'selectively pass', 'start': 2650.319, 'duration': 3.361}, {'text': 'keyword arguments without worrying about', 'start': 2651.52, 'duration': 3.36}, {'text': 'their order', 'start': 2653.68, 'duration': 4.08}, {'text': \"so the parameter we're going to set is\", 'start': 2654.88, 'duration': 3.36}, {'text': 'out', 'start': 2657.76, 'duration': 3.599}, {'text': \"underline file let's set this to\", 'start': 2658.24, 'duration': 6.879}, {'text': 'music dash recommender dot', 'start': 2661.359, 'duration': 6.881}, {'text': 'd o t this is the dot format which is a', 'start': 2665.119, 'duration': 3.601}, {'text': 'graph', 'start': 2668.24, 'duration': 2.24}, {'text': \"description language you'll see that\", 'start': 2668.72, 'duration': 3.04}, {'text': 'shortly', 'start': 2670.48, 'duration': 3.839}, {'text': 'the other parameter we want to set is', 'start': 2671.76, 'duration': 3.359}, {'text': 'feature', 'start': 2674.319, 'duration': 3.921}, {'text': 'underline names we set this to an array', 'start': 2675.119, 'duration': 6.401}, {'text': 'of two strings age and', 'start': 2678.24, 'duration': 5.68}, {'text': 'gender these are the features or the', 'start': 2681.52, 'duration': 3.04}, {'text': 'columns', 'start': 2683.92, 'duration': 2.64}, {'text': 'of our data set so they are the', 'start': 2684.56, 'duration': 4.16}, {'text': 'properties or features of our data', 'start': 2686.56, 'duration': 6.16}, {'text': 'okay the other parameter is class names', 'start': 2688.72, 'duration': 7.119}, {'text': 'so class underline names we should set', 'start': 2692.72, 'duration': 4.8}, {'text': 'this to the list of classes', 'start': 2695.839, 'duration': 4.881}, {'text': 'or labels we have in our output data set', 'start': 2697.52, 'duration': 6.559}, {'text': 'like hip hop jazz classical and so on', 'start': 2700.72, 'duration': 6.24}, {'text': 'so this y data set includes all the', 'start': 2704.079, 'duration': 5.441}, {'text': 'genres or all the classes of our data', 'start': 2706.96, 'duration': 4.32}, {'text': \"but they're repeated a few times in this\", 'start': 2709.52, 'duration': 3.68}, {'text': 'data set so', 'start': 2711.28, 'duration': 5.68}, {'text': 'here we call y dot unique this returns', 'start': 2713.2, 'duration': 6.159}, {'text': 'the unique list of classes now we should', 'start': 2716.96, 'duration': 4.0}, {'text': 'sort this alphabetically', 'start': 2719.359, 'duration': 4.72}, {'text': 'so we call the sorted function and', 'start': 2720.96, 'duration': 7.76}, {'text': 'pass the result a y dot unique', 'start': 2724.079, 'duration': 8.321}, {'text': 'the next parameter is label we set this', 'start': 2728.72, 'duration': 4.8}, {'text': 'to a string', 'start': 2732.4, 'duration': 3.439}, {'text': \"all once again don't worry about the\", 'start': 2733.52, 'duration': 3.92}, {'text': \"details of these parameters we're going\", 'start': 2735.839, 'duration': 3.28}, {'text': 'to come back to this shortly', 'start': 2737.44, 'duration': 4.72}, {'text': 'so set label to all then', 'start': 2739.119, 'duration': 6.561}, {'text': 'round it to true and finally', 'start': 2742.16, 'duration': 8.159}, {'text': 'filled to true so this is the end result', 'start': 2745.68, 'duration': 6.399}, {'text': \"now let's run this cell using control\", 'start': 2750.319, 'duration': 3.52}, {'text': 'and enter', 'start': 2752.079, 'duration': 5.121}, {'text': 'okay here we have a new file', 'start': 2753.839, 'duration': 5.841}, {'text': \"music recommender dot dot that's a\", 'start': 2757.2, 'duration': 3.76}, {'text': 'little bit funny', 'start': 2759.68, 'duration': 3.52}, {'text': 'so we want to open this file with vs', 'start': 2760.96, 'duration': 4.32}, {'text': 'code so drag and drop this', 'start': 2763.2, 'duration': 5.36}, {'text': 'into a vs code window', 'start': 2765.28, 'duration': 3.28}, {'text': \"okay here's a dot format it's a textual\", 'start': 2770.0, 'duration': 5.359}, {'text': 'language for describing graphs', 'start': 2772.88, 'duration': 4.64}, {'text': 'now to visualize this graph we need to', 'start': 2775.359, 'duration': 4.401}, {'text': 'install an extension in vs code', 'start': 2777.52, 'duration': 4.64}, {'text': 'so on the left side click the extensions', 'start': 2779.76, 'duration': 3.2}, {'text': 'panel', 'start': 2782.16, 'duration': 4.4}, {'text': 'and search for dot dot', 'start': 2782.96, 'duration': 5.44}, {'text': 'look at the second extension here', 'start': 2786.56, 'duration': 3.6}, {'text': 'graphviz or dot', 'start': 2788.4, 'duration': 4.959}, {'text': 'language by staphon vs', 'start': 2790.16, 'duration': 5.28}, {'text': 'go ahead and install this extension and', 'start': 2793.359, 'duration': 3.76}, {'text': 'then reload vs code', 'start': 2795.44, 'duration': 4.08}, {'text': 'once you do that you can visualize this', 'start': 2797.119, 'duration': 3.361}, {'text': 'dot file', 'start': 2799.52, 'duration': 4.799}, {'text': 'so let me close this tab all right', 'start': 2800.48, 'duration': 5.599}, {'text': 'look at this dot dot here on the right', 'start': 2804.319, 'duration': 3.121}, {'text': 'side click this', 'start': 2806.079, 'duration': 3.52}, {'text': 'you should have a new menu open preview', 'start': 2807.44, 'duration': 3.2}, {'text': 'to the site', 'start': 2809.599, 'duration': 4.081}, {'text': \"so click that all right here's the\", 'start': 2810.64, 'duration': 4.16}, {'text': 'visualization', 'start': 2813.68, 'duration': 3.52}, {'text': \"of our decision tree let's close the dot\", 'start': 2814.8, 'duration': 3.6}, {'text': 'file', 'start': 2817.2, 'duration': 3.68}, {'text': 'there you go this is exactly how our', 'start': 2818.4, 'duration': 4.24}, {'text': 'model makes predictions', 'start': 2820.88, 'duration': 4.0}, {'text': 'so we have this binary tree which means', 'start': 2822.64, 'duration': 3.52}, {'text': 'every node can have', 'start': 2824.88, 'duration': 4.239}, {'text': 'a maximum of two children on top of each', 'start': 2826.16, 'duration': 4.0}, {'text': 'node we have', 'start': 2829.119, 'duration': 3.601}, {'text': 'a condition if this condition is true we', 'start': 2830.16, 'duration': 4.64}, {'text': 'go to the child node on the left side', 'start': 2832.72, 'duration': 4.0}, {'text': 'otherwise we go to the child node on the', 'start': 2834.8, 'duration': 3.76}, {'text': \"right side so let's see what's happening\", 'start': 2836.72, 'duration': 2.639}, {'text': 'here', 'start': 2838.56, 'duration': 3.92}, {'text': 'the first condition is age less than or', 'start': 2839.359, 'duration': 4.72}, {'text': 'equal to 30.5', 'start': 2842.48, 'duration': 3.76}, {'text': 'if this condition is false that means', 'start': 2844.079, 'duration': 4.321}, {'text': 'that user is 30 years or older', 'start': 2846.24, 'duration': 3.839}, {'text': \"so the genre of the music that they're\", 'start': 2848.4, 'duration': 4.08}, {'text': 'interested in is classical', 'start': 2850.079, 'duration': 5.201}, {'text': \"so here we're classifying people based\", 'start': 2852.48, 'duration': 4.079}, {'text': 'on their profile', 'start': 2855.28, 'duration': 3.12}, {'text': 'that is the reason we have the word', 'start': 2856.559, 'duration': 4.56}, {'text': 'class here so a user who is 30 years or', 'start': 2858.4, 'duration': 3.36}, {'text': 'older', 'start': 2861.119, 'duration': 3.521}, {'text': 'belongs to the class of classical or', 'start': 2861.76, 'duration': 3.76}, {'text': 'people who like', 'start': 2864.64, 'duration': 3.04}, {'text': 'classical music now what if this', 'start': 2865.52, 'duration': 3.76}, {'text': 'condition is true', 'start': 2867.68, 'duration': 4.72}, {'text': 'that means that user is younger than 30.', 'start': 2869.28, 'duration': 6.079}, {'text': \"so now we check the gender if it's less\", 'start': 2872.4, 'duration': 3.439}, {'text': 'than', 'start': 2875.359, 'duration': 3.601}, {'text': '0.5 which basically means if it equals', 'start': 2875.839, 'duration': 3.76}, {'text': 'to 0', 'start': 2878.96, 'duration': 2.639}, {'text': \"then we're dealing with a female so we\", 'start': 2879.599, 'duration': 3.76}, {'text': 'go to the child node here', 'start': 2881.599, 'duration': 4.24}, {'text': 'now once again we have another condition', 'start': 2883.359, 'duration': 4.161}, {'text': \"so we're dealing with a female who is\", 'start': 2885.839, 'duration': 2.961}, {'text': 'younger than 30.', 'start': 2887.52, 'duration': 3.68}, {'text': 'once again we need to check their age so', 'start': 2888.8, 'duration': 3.519}, {'text': 'is the age', 'start': 2891.2, 'duration': 4.8}, {'text': \"less than 25.5 if that's the case then\", 'start': 2892.319, 'duration': 6.481}, {'text': 'that user likes dance music otherwise', 'start': 2896.0, 'duration': 5.04}, {'text': 'they like acoustic music', 'start': 2898.8, 'duration': 4.0}, {'text': 'so this is the decision tree that our', 'start': 2901.04, 'duration': 3.2}, {'text': 'model uses to make', 'start': 2902.8, 'duration': 3.519}, {'text': \"predictions now if you're wondering why\", 'start': 2904.24, 'duration': 3.839}, {'text': 'we have these floating point numbers', 'start': 2906.319, 'duration': 5.04}, {'text': 'like 25.5 these are basically the rules', 'start': 2908.079, 'duration': 4.721}, {'text': 'that our model generates', 'start': 2911.359, 'duration': 3.521}, {'text': 'based on the patterns that it finds in', 'start': 2912.8, 'duration': 3.2}, {'text': 'our data set', 'start': 2914.88, 'duration': 3.28}, {'text': 'as we give our model more data these', 'start': 2916.0, 'duration': 4.079}, {'text': \"rules will change so they're not always\", 'start': 2918.16, 'duration': 2.959}, {'text': 'the same', 'start': 2920.079, 'duration': 3.201}, {'text': 'also the more columns or more features', 'start': 2921.119, 'duration': 4.081}, {'text': 'we have our decision tree is going to', 'start': 2923.28, 'duration': 3.279}, {'text': 'get more complex', 'start': 2925.2, 'duration': 3.6}, {'text': 'currently we have only two features age', 'start': 2926.559, 'duration': 3.76}, {'text': 'and gender', 'start': 2928.8, 'duration': 3.12}, {'text': 'now back to our code let me quickly', 'start': 2930.319, 'duration': 2.881}, {'text': 'explain the meaning of all these', 'start': 2931.92, 'duration': 2.24}, {'text': 'parameters', 'start': 2933.2, 'duration': 3.359}, {'text': 'we set fill to true so each box or each', 'start': 2934.16, 'duration': 4.48}, {'text': 'node is filled with a color', 'start': 2936.559, 'duration': 4.56}, {'text': 'we set rounded to true so they have', 'start': 2938.64, 'duration': 4.479}, {'text': 'rounded corners', 'start': 2941.119, 'duration': 4.801}, {'text': 'we set label to all so every node has', 'start': 2943.119, 'duration': 4.881}, {'text': 'labels that we can read', 'start': 2945.92, 'duration': 4.32}, {'text': 'we set class names to the unique list of', 'start': 2948.0, 'duration': 3.2}, {'text': 'genres', 'start': 2950.24, 'duration': 2.48}, {'text': \"and that's for displaying the class for\", 'start': 2951.2, 'duration': 3.359}, {'text': 'each node right here', 'start': 2952.72, 'duration': 4.24}, {'text': 'and we set feature names to age and', 'start': 2954.559, 'duration': 3.121}, {'text': 'gender', 'start': 2956.96, 'duration': 4.879}, {'text': 'so we can see the rules in our notes', 'start': 2957.68, 'duration': 4.159}, {'text': 'hey thank you for watching my tutorial i', 'start': 2962.8, 'duration': 3.039}, {'text': \"hope you learned a lot and you're\", 'start': 2964.64, 'duration': 2.56}, {'text': 'excited to learn more', 'start': 2965.839, 'duration': 3.201}, {'text': 'if you enjoyed this tutorial please like', 'start': 2967.2, 'duration': 3.52}, {'text': 'and share it with others and be sure to', 'start': 2969.04, 'duration': 2.799}, {'text': 'subscribe to my channel', 'start': 2970.72, 'duration': 3.44}, {'text': 'as i upload new videos every week once', 'start': 2971.839, 'duration': 4.941}, {'text': 'again thank you and i wish you all the', 'start': 2974.16, 'duration': 5.719}, {'text': '[Music]', 'start': 2976.78, 'duration': 3.099}, {'text': 'best', 'start': 2981.559, 'duration': 3.0}]\n"
          ]
        }
      ],
      "source": [
        "from youtube_transcript_api import YouTubeTranscriptApi\n",
        "\n",
        "# assigning srt variable with the list\n",
        "# of dictionaries obtained by the get_transcript() function\n",
        "# srt = YouTubeTranscriptApi.get_transcript(\"E3szm_D5iEU\")  ##   How to Transcribe Video to Text (2022) BY [VEED STUDIO]\n",
        "srt = YouTubeTranscriptApi.get_transcript(\"7eh4d6sabA0\")  ##    Python Machine Learning Tutorial (Data Science) BY [Programming with Mosh]\n",
        "\n",
        "# prints the result\n",
        "print(srt)"
      ]
    },
    {
      "cell_type": "code",
      "execution_count": 42,
      "id": "a00c5c2a",
      "metadata": {
        "colab": {
          "base_uri": "https://localhost:8080/",
          "height": 123
        },
        "id": "a00c5c2a",
        "outputId": "577a353d-0d2a-4db0-c515-7746969e5934"
      },
      "outputs": [
        {
          "output_type": "execute_result",
          "data": {
            "text/plain": [
              "\"[Music] if you're looking for a machine learning tutorial with python and jupyter notebook this tutorial is for you you're going to learn how to solve a real world problem using machine learning and python we're going to start off with a brief introduction to machine learning then we're going to talk about the tools you need and after that we're going to jump straight into the problem we're going to solve you'll learn how to build a model that can learn and predict the kind of music people like so by the end of this one hour tutorial you will have a good understanding of machine learning basics and you'll be able to learn more intermediate to advanced level concepts you don't need any prior knowledge in machine learning but you need to know python fairly well if you don't i've got a couple of tutorials for you here on my channel the links are below this video i'm ashamed only and i'm super excited to be your instructor on this channel i have tons of programming tutorials that you might find helpful so be sure to subscribe as i upload new tutorials every week now let's jump in and get started in this section you're going to learn about machine learning which is a subset of ai or artificial intelligence it's one of the trending topics in the world these days and it's going to have a lot of applications in the future here's an example imagine i ask you to write a program to scan an image and tell if it's a cat or a doc if you want to build this program using traditional programming techniques your program is going to get overly complex you will have to come up with lots of rules to look for specific curves edges and colors in an image to tell if it's a cat or a dog but if i give you a black and white photo your rules may not work they may break then you'll have to rewrite them or i might give you a picture of a cat or a dog from a different angle that you did not predict before so solving this problem using traditional programming techniques is going to get overly complex or sometimes impossible now to make the matter worse what if in the future i ask you to extend this program such that it supports three kinds of animals cats dogs and horses once again you'll have to rewrite all those rules that's not gonna work so machine learning is a technique to solve these kind of problems and this is how it works we build a model or an engine and give it lots and lots of data for example we give you thousands or tens of thousands of pictures of cats and dogs our model will then find and learn patterns in the input data so we can give it a new picture of a cat that it hasn't seen before and ask it is it a cat or a dog or a horse and it will tell us with a certain level of accuracy the more input data we give it the more accurate our model is going to be so that was a very basic example but machine learning has other applications in self-driving cars robotics language processing vision processing forecasting things like stock market trends and the weather games and so on so that's the basic idea about machine learning next we'll look at machine learning in action a machine learning project involves a number of steps the first step is to import our data which often comes in the form of a csv file you might have a database with lots of data we can simply export that data and store it in a csv file for the purpose of our machine learning project so we import our data next we need to clean it and this involves tasks such as removing duplicated data if you have duplicates in the data we don't want to feed this to our model because otherwise our model will learn bad patterns in the data and it will produce the wrong result so we should make sure that our input data is in a good and clean shape if there are data that is irrelevant we should remove them if they are duplicated or incomplete we can remove or modify them if our data is text-based like the name of countries or genres of music or cats and dogs we need to convert them to numerical values so this step really depends on the kind of data we're working with every project is different now that we have a clean data set we need to split it into two segments one for training our model and the other for testing it to make sure that our model produces the right result for example if you have a thousand pictures of cats and dogs we can reserve eighty percent for training and the other 20 for testing the next step is to create a model and this involves selecting an algorithm to analyze the data there are so many different machine learning algorithms out there such as decision trees neural networks and so on each algorithm has pros and cons in terms of accuracy and performance so the algorithm you choose depends on the kind of problem you're trying to solve and your input data now the good news is that we don't have to explicitly program an algorithm there are libraries out there that provide these algorithms one of the most popular ones which we are going to look at in this tutorial is scikit-learn so we build a model using an algorithm next we need to train our model so we fitted our training data our model will then look for the patterns in the data so next we can ask it to make predictions back to our example of cats and dogs we can ask our model is this a cat or a dog and our model will make a prediction now the prediction is not always accurate in fact when you start out it's very likely that your predictions are inaccurate so we need to evaluate the predictions and measure their accuracy then we need to get back to our model and either select a different algorithm that is going to produce a more accurate result for the kind of problem we're trying to solve or fine-tune the parameters of our model so each algorithm has parameters that we can modify to optimize the accuracy so these are the high level steps that you follow in a machine learning project next we'll look at the libraries and tools for machine learning in this lecture we're going to look at the popular python libraries that we use in machine learning projects the first one is numpy which provides a multi-dimensional array very very popular library the second one is pandas which is a data analysis library that provides a concept called data frame a data frame is a two-dimensional data structure similar to an excel spreadsheet so we have rows and columns we can select data in a row or a column or a range of rows and columns again very very popular in machine learning and data science projects the third library is matplotlib which is a two-dimensional plotting library for creating graphs and plots the next library is scikit-learn which is one of the most popular machine learning libraries that provides all these common algorithms like decision trees neural networks and so on now when working with machine learning projects we use an environment called jupiter for writing our code technically we can still use vs code or any other code editors but these editors are not ideal for machine learning projects because we frequently need to inspect the data and that is really hard in environments like vs code and terminal if you're working with a table of 10 or 20 columns visualizing this data in a terminal window is really really difficult and messy so that's why we use jupiter it makes it really easy to inspect our data now to install jupyter we're going to use a platform called anaconda so head over to anaconda.com download on this page you can download anaconda distribution for your operating system so we have distributions for windows mac and linux so let's go ahead and install anaconda for python 3.7 download all right so here's anaconda downloaded on my machine let's double click this all right first it's going to run a program to determine if the software can be installed so let's continue and once again continue continue pretty easy continue one more time i agree with the license agreement okay you can use the default installation location so don't worry about that just click install give it a few seconds now the beautiful thing about anaconda is that it will install jupyter as well as all those popular data science libraries like numpy pandas and so on so we don't have to manually install this using pip all right now as part of the next step anaconda is suggesting to install microsoft vs code we already have this on our machine so we don't have to install it we can go with continue and close the installation now finally we can move this to trash because we don't need this installer in the future all right now open up a terminal window and type jupyter with a y space notebook this will start the notebook server on your machine so enter there you go this will start the notebook server on your machine you can see these default messages here don't worry about them now it automatically opens a browser window pointing to localhost port 888 this is what we call jupiter dashboard on this dashboard we have a few tabs the first tab is the files tab and by default this points to your home directory so every user on your machine has a home directory this is my home directory on mac you can see here we have a desktop folder as well as documents downloads and so on on your machine you're going to see different folders so someone on your machine you need to create a jupyter notebook i'm going to go to desktop here's my desktop i don't have anything here and then click new i want to create a notebook for python 3. in this notebook we can write python code and execute it line by line we can easily visualize our data as you will see over the next few videos so let's go ahead with this all right here's our first notebook you can see by default it's called untitled let's change that to hello world so this is going to be the hello world of our machine learning project let's rename this now if you look at your desktop you can see this file helloworld.i pi nb this is a jupiter notebook it's kind of similar to our pi files where we write our python code but it includes additional data that jupiter uses to execute our code so back to our notebook let's do a print hello world and then click this run button here and here's the result printed in jupyter so we don't have to navigate back and forth between the terminal window we can see all the result right here next i'm going to show you how to load a data set from a csv file in jupyter all right in this lecture we're going to download a data set from a very popular website called kaggle.com gaggle is basically a place to do data science projects so the first thing you need to do is to create an account you can sign up with facebook google or using a custom email and password once you sign up then come back here on kaggle.com here in the search bar search for video game sales this is the name of a very popular data set that we're going to use in this lecture so here in this list you can see the first item with this kind of reddish icon so let's go with that as you can see this data set includes the sales data for more than 16 000 video games on this page you can see the description of various columns in this data set we have rank name platform year and so on so here's our data source it's a csv file called vgsales.csv as you can see there are over 16 000 rows and 11 columns in this data set right below that you can see the first few records of this data set so here's our first record the ranking for this game is one it's the wii sports game for we as the platform and it was released in year 2006 now what i want you to do is to go ahead and download this data set and as i told you before you need to sign in before you can download this so this will give you a zip file as you can see here here's our csv file now i want you to put this right next to your jupyter notebook on my machine that is on my desktop so i'm going to drag and drop this onto the desktop folder now if you look at the desktop you can see here is my jupyter hello world notebook and right next to that we have vgsales.csv with that we go back to our jupyter notebook let's remove the first line and instead import pandas as pd with this we're importing pandas module and renaming it to pd so we don't have to type pandas dot several times in this code now let's type pd dot read underline csv and pass the name of our csv file that is vg sales.csv now because this csv file is in the current folder right next to our jupyter notebook we can easily load it otherwise we'll have to supply the full path to this file so this returns a data frame object which is like an excel spreadsheet let me show you so we store it here and then we can simply type df to inspect it so one more time let's run this program here's our data frame with these rows and columns so we have rank name platform and so on now this data frame object has lots of attributes and methods that we're not going to cover in this tutorial that's really beyond the scope of what we're going to do so i'll leave it up to you to read panda's documentation or follow other tutorials to learn about pandas data frames but in this lecture i'm going to show you some of the most useful methods and attributes the first one is shape so shape let's run this one more time so here's the shape of this data set we have over 16 000 records and 11 columns technically this is a two dimensional array of sixteen thousand and eleven okay now you can see here we have another segment for writing code so we don't have to write all the code in the first segment so here in the second segment we can call one of the methods of the data frame that is df dot describe now when we run this program we can see the output for each segment right next to it so here's our first segment here we have these three lines and this is the output of the last line below that we have our second segment here we're calling the describe method and right below that we have the output of this segment so this is the beauty of jupiter we can easily visualize our data doing this with vs code and terminal windows is really tedious and clunky so what is this describe method returning basically it's returning some basic information about each column in this data set so as you saw earlier we have columns like rank year and so on these are the columns with numerical values now for each column we have the count which is the number of records in that column you can see our rank column has 16 598 records whereas the year column has 16 327 records so this shows that some of our records don't have the value for the year column we have no values so in a real data science or machine learning project we'll have to use some techniques to clean up our data set one option is to remove the records that don't have a value for the year column or we can assign them a default value that really depends on the project now another attribute for each column is mean so this is the average of all the values now in the case of the rank column this value doesn't really matter but look at the year so the average year for all these video games in our data set is 2006 and this might be important in the problem we're trying to solve we also have standard deviation which is a measure to quantify the amount of variation in our set of values below that we have min as an example the minimum value for the year column is 1980. so quite often when we work with a new data set we call the describe method to get some basic statistics about our data let me show you another useful attribute so in the next segment let's type df.values let's run this as you can see this returns a two-dimensional array this square bracket indicates the outer array and the second one represents the inner array so the first element in our outer array is an array itself these are the values in this array which basically represent the first row in our data set so the video game with ranking 1 which is called wii sports so this was a basic overview of pando's data frames in the next lecture i'm going to show you some of the useful shortcuts of jupyter in this lecture i'm going to show you some of the most useful shortcuts in jupyter now the first thing i want you to pay attention to is this green bar on the left this indicates that this cell is currently in the edit mode so we can write code here now if we press the escape key green turns to blue and that means this cell is currently in the command mode so basically the activated cell can be either in the edit mode or the command mode depending on the mode we have different shortcuts so here we're currently in the command mode if we press h we can see the list of all the keyboard shortcuts right above this list you can see mac os modifier keys these are the extra keys that we have on a mac keyboard if you're a windows user you're not going to see this so as an example here is the shape of the command key this is control this is option and so on with this guideline you can easily understand the shortcut associated with each command let me show you so here we have all the commands when a cell is in the command mode for example we have this command open the command palette this is exactly like the command palette that we have in vs code here's a shortcut to execute this command that is command shift and f okay so here we have lots of shortcuts of course you're not going to use all of them all the time but it's good to have a quick look here to see what is available for you with this shortcuts you can write code much faster so let me show you some of the most useful ones i'm going to close this now with our first cell in the command mode i'm going to press b and this inserts a new cell below this cell we can also go back to our first cell press escape now the cell is in the command mode we can insert an empty cell above this cell by pressing a so either a or b a for above and b for below okay now if you don't want this cell you can press d twice to delete it like this now in the cell i'm going to print a hello world message so print hello world now to run the code in this cell we can click on the run button here so here's our print function and right below that you can see the output of this function but note that when you run a cell this will only execute the code in that cell in other words the code in other cells will not be executed let me show you what i mean so in the cell below this cell i'm going to delete the call to describe method instead i'm going to print ocean now i'm going to put the cursor back in this cell where we print the hello world message and run this cell so you can see hello world is displayed here but the cell below is still displaying the described table so we don't see the changes here now to solve this problem we can go to the cell menu on the top and run all cells together this can work for small projects but sometimes you're working with a large data set so if you want to run all these cells together it's going to take a lot of time that is the reason jupiter saves the output of itself so we don't have to rerun that code if it hasn't changed so this notebook file that we have here includes our source code organized in cells as well as the output for each cell that is why it's different from a regular pi file where we only have the source code here we also have autocompletion and intellisense so in the cell let's call df dataframe dot now if you press tab we can see all the attributes and methods in this object so let's call describe now with the cursor on the name of the method we can press shift and tab to see this tooltip that describes what this method does and what parameter it takes so here in front of signature you can see the describe method these are the parameters and their default value and right below that you can see the description of what this method does in this case it generates descriptive statistics that summarize the central tendency and so on similar to vs code we can also convert a line to comment by pressing command and slash on mac or control slash on windows like this now this line is a comment we can press the same shortcut one more time to remove the comment so these were some of the most useful shortcuts in jupyter now over the next few lectures we're going to work on a real machine learning project but before we get there let's delete all the cells here so we start with only a single empty cell so here in this cell first i'm going to press the escape button now the cell is blue so we are in the command mode and we can delete the cell by pressing d twice there you go now the next cell is activated and it's in the command mode so let's delete this as well we have two more cells to delete there you go and the last one like this so now we have an empty notebook with a single cell hey guys i just wanted to let you know that i have an online coding school at cordwindmarch.com where you can find plenty of courses on web and mobile development in fact i have a comprehensive python course that teaches you everything about python from the basics to more advanced concepts so after you watch this tutorial if you want to learn more you may want to look at my python course it comes with a 30 day money back guarantee and a certificate of completion you can add to your resume in case you're interested the link is below this video over the next few lectures we're going to work on a real machine learning project imagine we have an online music store when our users sign up we ask their age and gender and based on their profile we recommend various music albums they're likely to buy so in this project we want to use machine learning to increase sales so we want to build a model we feed this model with some sample data based on the existing users our model will learn the patterns in our data so we can ask it to make predictions when a user signs up we tell our model hey we have a new user with this profile what is the kind of music that this user is interested in our model will say jazz or hip hop or whatever and based on that we can make suggestions to the user so this is the problem we're going to solve now back to the list of steps in a machine learning project first we need to import our data then we should prepare or clean it next we select a machine learning algorithm to build a model we train our model and ask it to make predictions and finally we evaluate our algorithm to see its accuracy if it's not accurate we either fine tune our model or select a different algorithm so let's focus on the first step download the csv file below this video this is a very basic csv that i've created for this project it's just some random made up data it's not real so we have a table with three columns age gender and genre gender can either be one which represents a male or zero which represents a female here i'm making a few assumptions i'm assuming that men between 20 and 25 like hip-hop men between 26 and 30 like jazz and after the age of 30 they like classical music for women i'm assuming that if they're between 20 and 25 they like dance music if they're between 26 and 30 they like acoustic music and just like men after the age of 30 they like classical music once again this is a made-up pattern it's not the representation of the reality so let's go ahead and download this csv click on this dot dot icon here and download this file in my downloads folder here we have this music.csv i'm going to drag and drop this onto desktop because that's where i've stored this hello world notebook so i want you to put the csv file right next to your jupyter notebook now back to our notebook we need to read the csv file so just like before first we need to import the pandas module so import pandas as pd and then we'll call pd that read analyze csv and the name of our file is music.csv as you saw earlier this returns a data frame which is a two-dimensional array similar to an excel spreadsheet so let's call that music underline data now let's inspect this music underline data to make sure we loaded everything properly so run so here's our data frame beautiful next minute to prepare or clean the data and that's the topic for the next lecture the second step in a machine learning project is cleaning or preparing the data and that involves tasks such as removing duplicates null values and so on now in this particular data set we don't have to do any kind of cleaning because we don't have any duplicates and as you can see all rows have values for all columns so we don't have null values but there is one thing we need to do we should split this data set into two separate data sets one with the first two columns which we refer to as the input set and the other with the last column which we refer to as the output set so when we train a model we give it two separate data sets the input set and the output set the output set which is in this case the genre column contains the predictions so we're telling our model that if we have a user who's 20 years old and is a male they like hip hop once we train our model then we give it a new input set for example we say hey we have a new user who is 21 years old and is a male what is the genre of the music that this user probably likes as you can see in our input set we don't have a sample for a 21 year old male so we're going to ask our model to predict that that is the reason we need to split this data set into two separate sets input and output so back to our code this data frame object has a method called drop now if you put the cursor under method name and press shift and tab you can see this tooltip so this is the signature of this drop method these are the parameters that we can pass here the parameter we're going to use in this lecture is columns which is set to none by default with this parameter we can specify the columns we want to drop so in this case we set columns to an array with one string genre now this method doesn't actually modify the original data set in fact it will create a new data set but without this column so by convention we use a capital x to represent that data set so capital x equals this expression now let's inspect x so as you can see our input set or x includes these two columns age and gender it doesn't have the output or predictions next we need to create our output set so once again we start with our data frame music data using square brackets we can get all the values in a given column in this case genre once again this returns a new data set by convention we use a lowercase y to represent that so that is our output data set let's inspect that as well so in this data set we only have the predictions or the answers so we have prepared our data next we need to create a model using an algorithm the next step is to build a model using a machine learning algorithm there are so many algorithms out there and each algorithm has its pros and cons in terms of the performance and accuracy in this lecture we're going to use a very simple algorithm called decision tree now the good news is that we don't have to explicitly program these algorithms they're already implemented for us in a library called scikit-learn so here on the top from sklearn.3 let's import the decision tree classifier so sklearn is the package that comes with scikit-learn library this is the most popular machine learning library in python in this package we have a module called tree and in this module we have a class called decision tree classifier this class implements the decision tree algorithm okay so now we need to create a new instance of this class so at the end let's create an object called model and set it to a new instance of decision tree classifier like this so now we have a model next we need to train it so it learns patterns in the data and that is pretty easy we call model that fit this method takes two data sets the input set and the output set so they are capital x and y now finally we need to ask our model to make a prediction so we can ask it what is the kind of music that a 21 year old male likes now before we do that let's temporarily inspect our initial data set that is music data so look what we got here as i told you earlier i've assumed that men between 20 and 25 like hip-hop music but here we only have three samples for men aged 20 23 and 25 we don't have a sample for a 21 year old male so if you ask our model to predict the kind of music that a 21 year old male likes we expect it to say hip hop similarly i've assumed that women between 20 and 25 like dance music but we don't have a sample for a 22 year old female so once again if you ask our model to predict the kind of music that a 22 year old woman likes we expect it to say dance so with these assumptions let's go ahead and ask our model to make predictions so let's remove the last line and instead we're going to call model dot predict this method takes a two dimensional array so here's the outer array in this array each element is an array so i'm going to pass another array here and in this array i'm going to pass a new input set a 21 year old male so 21 comma one that is like a new record in this table okay so this is one input set let's pass another input set for a 22-year female so here's another array here we add 22 comma zero so we're asking our model to make two predictions at the same time we get the result and store it in a variable called predictions and finally let's inspect that in our notebook run look what we got our model is saying that a 21 year old male likes hip hop and a 22 year old female likes dance music so our model could successfully make predictions here beautiful but wait a second building a model that makes predictions accurately is not always that easy as i told you earlier after we build a model we need to measure its accuracy and if it's not accurate enough we should either fine tune it or build a model using a different algorithm so in the next lecture i'm going to show you how to measure the accuracy of a model in this lecture i'm going to show you how to measure the accuracy of your models now in order to do so first we need to split our data set into two sets one for training and the other for testing because right now we're passing the entire data set for training the model and we're using two samples for making predictions that is not enough to calculate the accuracy of a model a general rule of thumb is to allocate 70 to 80 percent of our data for training and the other twenty to thirty percent for testing then instead of passing only two samples for making predictions we can pass the data set we have for testing we'll get the predictions and then we can compare these predictions with the actual values in the test set based on that we can calculate the accuracy that's really easy all we have to do is to import a couple of functions and call them in this code let me show you so first on the top from sklearn the model underline selection module we import a function called train test split with this function we can easily split our data set into two sets for training and testing now right here after we define x and y sets we call this function so train test split we give it three arguments x y and a keyboard argument that specifies the size of our test data set so test underline size we set it to 0.2 so we are allocating 20 of our data for testing now this function returns a tuple so we can unpack it into four variables right here x underline train x underline test y underline train and y underline test so the first two variables are the input sets for training and testing and the other are the output sets for training and testing now when training our model instead of passing the entire data set we want to pass only the training data set so x underline train and y underline train also when making predictions instead of passing these two samples we pass x underline test so that is the data set that contains input values for testing now we get the predictions to calculate the accuracy we simply have to compare these predictions with the actual values we have in our output set for testing that is very easy first on the top we need to import a function so from sklearn.metrics metrics import accuracy underlying score now at the very end we call this function so accuracy score and give it two arguments y underline test which contains the expected values and predictions which contains the actual values now this function returns an accuracy score between zero to one so we can store it here and simply display it on the console so let's go ahead and run this program so the accuracy score is one or 100 percent but if we run this one more time we're going to see a different result because every time we split our data set into training and test sets we'll have different data sets because this function randomly picks data for training and testing let me show you so put the cursor in the cell now you can see this cell is activated note that if you click this button here it will run this cell and also inserts a new cell below this cell let me show you so if i go to the second cell press escape button now we are in the command mode press d twice okay now it's deleted if we click the run button you can see this code was executed and now we have a new cell so if you want to run our first cell multiple times every time we have to click this and then run it and then click again and run it it's a little bit tedious so i'll show you a shortcut activate the first cell and press ctrl and enter this runs the current cell without adding a new cell below it so back here let's run it multiple times okay now look the accuracy dropped to 0.75 it's still good so the accuracy score here is somewhere between 75 to 100 but let me show you something if i change the test size from 0.2 to 0.8 so essentially we're using only 20 of our data for training this model and we're using the other 80 for testing now let's see what happens when we run this cell multiple times so control and enter look the accuracy immediately dropped to 0.4 one more time now 46 percent 40 26 it's really really bad the reason this is happening is because we are using very little data for training this model this is one of the key concepts in machine learning the more data we give to our model and the cleaner the data is we get the better result so if we have duplicates irrelevant data or incomplete values our model will learn bad patterns in our data that is why it's really important to clean our data before training our model now let's change this back to 0.2 run this one more time okay now the accuracy is one 75 percent now we drop to 50 again the reason this is happening is because we don't have enough data some machine learning problems require thousands or even millions of samples to train a model the more complex the problem is the more data we need for example here we're only dealing with a table of three columns but if you want to build a model to tell if a picture is a cat or a dog or a horse or a lion we'll need millions of pictures the more animals we want to support the more pictures we need in the next lecture we're going to talk about model persistence so this is a very basic implementation of building and training a model to make predictions now to simplify things i have removed all the code that we wrote in the last lecture for calculating the accuracy because in this lecture we're going to focus on a different topic so basically we import our data set create a model train it and then ask it to make predictions now this piece of code that you see here is not what we want to run every time we have a new user or every time we want to make recommendations to an existing user because training a model can sometimes be really time consuming in this example we're dealing with a very small data set that has only 20 records but in real applications we might have a data set with thousands or millions of samples training a model for that might take seconds minutes or even hours so that is why model persistence is important once in a while we build and train our model and then we'll save it to a file now next time we want to make predictions we simply load the model from the file and ask it to make predictions that model is already trained we don't need to retrain it it's like an intelligent person so let me show you how to do this it's very very easy on the top from sklearn.externals module we import lib this job live object has methods for saving and loading models so after we train our model we simply call joblib dot dump and give it two arguments our model and the name of the file in which we want to store this model let's call that music dash recommender dot job lib that's all we have to do now temporarily i'm going to comment out this line we don't want to make any predictions we just want to store our trained model in a file so let's run this cell with control and slash okay look in the output we have an array that contains the name of our model file so this is the return value of the dump method now back to our desktop right next to my notebook you can see our job live file this is where our model is stored it's simply a binary file now back to our jupyter notebook as i told you before in a real application we don't want to train a model every time so let's comment out these few lines so i've selected these few lines on mac we can press command and slash on windows control slash okay these lines are commented out now this time instead of dumping our model we're going to load it so we call the load method we don't have the model we simply pass the name of our model file this returns our trained model now with these two lines we can simply make predictions so earlier we assumed that men between 20 and 25 like hip-hop music let's print predictions and see if our model is behaving correctly or not so control and enter there you go so this is how we persist and load models earlier in this section i told you that decision trees are the easiest to understand and that's why we started machine learning with decision trees in this lecture we're going to export our model in a visual format so you will see how this model makes predictions that is really really cool let me show you so once again i've simplified this code so we simply import our data set create input and output sets create a model and train it that's all we are doing now i want you to follow along with me type everything exactly as i show you in this lecture don't worry about what everything means we're going to come back to it shortly so on the top from sklearn import tree this object has a method for exporting our decision tree in a graphical format so after we train our model let's call tree dot export underline graph vis now here are a few arguments we need to pass the first argument is our model the second is the name of the output file so here we're going to use keyword arguments because this method takes so many parameters and we want to selectively pass keyword arguments without worrying about their order so the parameter we're going to set is out underline file let's set this to music dash recommender dot d o t this is the dot format which is a graph description language you'll see that shortly the other parameter we want to set is feature underline names we set this to an array of two strings age and gender these are the features or the columns of our data set so they are the properties or features of our data okay the other parameter is class names so class underline names we should set this to the list of classes or labels we have in our output data set like hip hop jazz classical and so on so this y data set includes all the genres or all the classes of our data but they're repeated a few times in this data set so here we call y dot unique this returns the unique list of classes now we should sort this alphabetically so we call the sorted function and pass the result a y dot unique the next parameter is label we set this to a string all once again don't worry about the details of these parameters we're going to come back to this shortly so set label to all then round it to true and finally filled to true so this is the end result now let's run this cell using control and enter okay here we have a new file music recommender dot dot that's a little bit funny so we want to open this file with vs code so drag and drop this into a vs code window okay here's a dot format it's a textual language for describing graphs now to visualize this graph we need to install an extension in vs code so on the left side click the extensions panel and search for dot dot look at the second extension here graphviz or dot language by staphon vs go ahead and install this extension and then reload vs code once you do that you can visualize this dot file so let me close this tab all right look at this dot dot here on the right side click this you should have a new menu open preview to the site so click that all right here's the visualization of our decision tree let's close the dot file there you go this is exactly how our model makes predictions so we have this binary tree which means every node can have a maximum of two children on top of each node we have a condition if this condition is true we go to the child node on the left side otherwise we go to the child node on the right side so let's see what's happening here the first condition is age less than or equal to 30.5 if this condition is false that means that user is 30 years or older so the genre of the music that they're interested in is classical so here we're classifying people based on their profile that is the reason we have the word class here so a user who is 30 years or older belongs to the class of classical or people who like classical music now what if this condition is true that means that user is younger than 30. so now we check the gender if it's less than 0.5 which basically means if it equals to 0 then we're dealing with a female so we go to the child node here now once again we have another condition so we're dealing with a female who is younger than 30. once again we need to check their age so is the age less than 25.5 if that's the case then that user likes dance music otherwise they like acoustic music so this is the decision tree that our model uses to make predictions now if you're wondering why we have these floating point numbers like 25.5 these are basically the rules that our model generates based on the patterns that it finds in our data set as we give our model more data these rules will change so they're not always the same also the more columns or more features we have our decision tree is going to get more complex currently we have only two features age and gender now back to our code let me quickly explain the meaning of all these parameters we set fill to true so each box or each node is filled with a color we set rounded to true so they have rounded corners we set label to all so every node has labels that we can read we set class names to the unique list of genres and that's for displaying the class for each node right here and we set feature names to age and gender so we can see the rules in our notes hey thank you for watching my tutorial i hope you learned a lot and you're excited to learn more if you enjoyed this tutorial please like and share it with others and be sure to subscribe to my channel as i upload new videos every week once again thank you and i wish you all the [Music] best\""
            ],
            "application/vnd.google.colaboratory.intrinsic+json": {
              "type": "string"
            }
          },
          "metadata": {},
          "execution_count": 42
        }
      ],
      "source": [
        "transcripts=[]\n",
        "for data in srt:\n",
        "    transcripts.append(data['text'])\n",
        "\n",
        "\n",
        "final_transcripts=\" \".join(transcripts)\n",
        "final_transcripts"
      ]
    },
    {
      "cell_type": "code",
      "source": [],
      "metadata": {
        "id": "E5e5TKjAzTzC"
      },
      "id": "E5e5TKjAzTzC",
      "execution_count": 42,
      "outputs": []
    }
  ],
  "metadata": {
    "kernelspec": {
      "display_name": "Python 3",
      "language": "python",
      "name": "python3"
    },
    "language_info": {
      "codemirror_mode": {
        "name": "ipython",
        "version": 3
      },
      "file_extension": ".py",
      "mimetype": "text/x-python",
      "name": "python",
      "nbconvert_exporter": "python",
      "pygments_lexer": "ipython3",
      "version": "3.8.5"
    },
    "colab": {
      "provenance": []
    }
  },
  "nbformat": 4,
  "nbformat_minor": 5
}