{
  "cells": [
    {
      "cell_type": "markdown",
      "source": [
        "[All Resources for NLP](https://drive.google.com/drive/folders/1gAtmKXtB59sjqTuDl_Xj8S9Sp9DdjUH5?usp=sharing)\n"
      ],
      "metadata": {
        "id": "QelfW2XG9Ll7"
      },
      "id": "QelfW2XG9Ll7"
    },
    {
      "cell_type": "code",
      "execution_count": 1,
      "id": "4e3cca19",
      "metadata": {
        "colab": {
          "base_uri": "https://localhost:8080/"
        },
        "id": "4e3cca19",
        "outputId": "5fb39a8e-741f-4fae-8d8a-cba30e231444"
      },
      "outputs": [
        {
          "output_type": "stream",
          "name": "stdout",
          "text": [
            "Requirement already satisfied: tensorflow_hub in /usr/local/lib/python3.10/dist-packages (0.14.0)\n",
            "Requirement already satisfied: numpy>=1.12.0 in /usr/local/lib/python3.10/dist-packages (from tensorflow_hub) (1.23.5)\n",
            "Requirement already satisfied: protobuf>=3.19.6 in /usr/local/lib/python3.10/dist-packages (from tensorflow_hub) (3.20.3)\n"
          ]
        }
      ],
      "source": [
        "!pip install tensorflow_hub"
      ]
    },
    {
      "cell_type": "code",
      "execution_count": 2,
      "id": "592a67dd",
      "metadata": {
        "collapsed": true,
        "colab": {
          "base_uri": "https://localhost:8080/"
        },
        "id": "592a67dd",
        "outputId": "1be27cb6-c707-4ee7-da8a-845c4d70c8db"
      },
      "outputs": [
        {
          "output_type": "stream",
          "name": "stdout",
          "text": [
            "Requirement already satisfied: tensorflow in /usr/local/lib/python3.10/dist-packages (2.13.0)\n",
            "Requirement already satisfied: absl-py>=1.0.0 in /usr/local/lib/python3.10/dist-packages (from tensorflow) (1.4.0)\n",
            "Requirement already satisfied: astunparse>=1.6.0 in /usr/local/lib/python3.10/dist-packages (from tensorflow) (1.6.3)\n",
            "Requirement already satisfied: flatbuffers>=23.1.21 in /usr/local/lib/python3.10/dist-packages (from tensorflow) (23.5.26)\n",
            "Requirement already satisfied: gast<=0.4.0,>=0.2.1 in /usr/local/lib/python3.10/dist-packages (from tensorflow) (0.4.0)\n",
            "Requirement already satisfied: google-pasta>=0.1.1 in /usr/local/lib/python3.10/dist-packages (from tensorflow) (0.2.0)\n",
            "Requirement already satisfied: grpcio<2.0,>=1.24.3 in /usr/local/lib/python3.10/dist-packages (from tensorflow) (1.59.0)\n",
            "Requirement already satisfied: h5py>=2.9.0 in /usr/local/lib/python3.10/dist-packages (from tensorflow) (3.9.0)\n",
            "Requirement already satisfied: keras<2.14,>=2.13.1 in /usr/local/lib/python3.10/dist-packages (from tensorflow) (2.13.1)\n",
            "Requirement already satisfied: libclang>=13.0.0 in /usr/local/lib/python3.10/dist-packages (from tensorflow) (16.0.6)\n",
            "Requirement already satisfied: numpy<=1.24.3,>=1.22 in /usr/local/lib/python3.10/dist-packages (from tensorflow) (1.23.5)\n",
            "Requirement already satisfied: opt-einsum>=2.3.2 in /usr/local/lib/python3.10/dist-packages (from tensorflow) (3.3.0)\n",
            "Requirement already satisfied: packaging in /usr/local/lib/python3.10/dist-packages (from tensorflow) (23.2)\n",
            "Requirement already satisfied: protobuf!=4.21.0,!=4.21.1,!=4.21.2,!=4.21.3,!=4.21.4,!=4.21.5,<5.0.0dev,>=3.20.3 in /usr/local/lib/python3.10/dist-packages (from tensorflow) (3.20.3)\n",
            "Requirement already satisfied: setuptools in /usr/local/lib/python3.10/dist-packages (from tensorflow) (67.7.2)\n",
            "Requirement already satisfied: six>=1.12.0 in /usr/local/lib/python3.10/dist-packages (from tensorflow) (1.16.0)\n",
            "Requirement already satisfied: tensorboard<2.14,>=2.13 in /usr/local/lib/python3.10/dist-packages (from tensorflow) (2.13.0)\n",
            "Requirement already satisfied: tensorflow-estimator<2.14,>=2.13.0 in /usr/local/lib/python3.10/dist-packages (from tensorflow) (2.13.0)\n",
            "Requirement already satisfied: termcolor>=1.1.0 in /usr/local/lib/python3.10/dist-packages (from tensorflow) (2.3.0)\n",
            "Requirement already satisfied: typing-extensions<4.6.0,>=3.6.6 in /usr/local/lib/python3.10/dist-packages (from tensorflow) (4.5.0)\n",
            "Requirement already satisfied: wrapt>=1.11.0 in /usr/local/lib/python3.10/dist-packages (from tensorflow) (1.15.0)\n",
            "Requirement already satisfied: tensorflow-io-gcs-filesystem>=0.23.1 in /usr/local/lib/python3.10/dist-packages (from tensorflow) (0.34.0)\n",
            "Requirement already satisfied: wheel<1.0,>=0.23.0 in /usr/local/lib/python3.10/dist-packages (from astunparse>=1.6.0->tensorflow) (0.41.2)\n",
            "Requirement already satisfied: google-auth<3,>=1.6.3 in /usr/local/lib/python3.10/dist-packages (from tensorboard<2.14,>=2.13->tensorflow) (2.17.3)\n",
            "Requirement already satisfied: google-auth-oauthlib<1.1,>=0.5 in /usr/local/lib/python3.10/dist-packages (from tensorboard<2.14,>=2.13->tensorflow) (1.0.0)\n",
            "Requirement already satisfied: markdown>=2.6.8 in /usr/local/lib/python3.10/dist-packages (from tensorboard<2.14,>=2.13->tensorflow) (3.4.4)\n",
            "Requirement already satisfied: requests<3,>=2.21.0 in /usr/local/lib/python3.10/dist-packages (from tensorboard<2.14,>=2.13->tensorflow) (2.31.0)\n",
            "Requirement already satisfied: tensorboard-data-server<0.8.0,>=0.7.0 in /usr/local/lib/python3.10/dist-packages (from tensorboard<2.14,>=2.13->tensorflow) (0.7.1)\n",
            "Requirement already satisfied: werkzeug>=1.0.1 in /usr/local/lib/python3.10/dist-packages (from tensorboard<2.14,>=2.13->tensorflow) (3.0.0)\n",
            "Requirement already satisfied: cachetools<6.0,>=2.0.0 in /usr/local/lib/python3.10/dist-packages (from google-auth<3,>=1.6.3->tensorboard<2.14,>=2.13->tensorflow) (5.3.1)\n",
            "Requirement already satisfied: pyasn1-modules>=0.2.1 in /usr/local/lib/python3.10/dist-packages (from google-auth<3,>=1.6.3->tensorboard<2.14,>=2.13->tensorflow) (0.3.0)\n",
            "Requirement already satisfied: rsa<5,>=3.1.4 in /usr/local/lib/python3.10/dist-packages (from google-auth<3,>=1.6.3->tensorboard<2.14,>=2.13->tensorflow) (4.9)\n",
            "Requirement already satisfied: requests-oauthlib>=0.7.0 in /usr/local/lib/python3.10/dist-packages (from google-auth-oauthlib<1.1,>=0.5->tensorboard<2.14,>=2.13->tensorflow) (1.3.1)\n",
            "Requirement already satisfied: charset-normalizer<4,>=2 in /usr/local/lib/python3.10/dist-packages (from requests<3,>=2.21.0->tensorboard<2.14,>=2.13->tensorflow) (3.3.0)\n",
            "Requirement already satisfied: idna<4,>=2.5 in /usr/local/lib/python3.10/dist-packages (from requests<3,>=2.21.0->tensorboard<2.14,>=2.13->tensorflow) (3.4)\n",
            "Requirement already satisfied: urllib3<3,>=1.21.1 in /usr/local/lib/python3.10/dist-packages (from requests<3,>=2.21.0->tensorboard<2.14,>=2.13->tensorflow) (2.0.6)\n",
            "Requirement already satisfied: certifi>=2017.4.17 in /usr/local/lib/python3.10/dist-packages (from requests<3,>=2.21.0->tensorboard<2.14,>=2.13->tensorflow) (2023.7.22)\n",
            "Requirement already satisfied: MarkupSafe>=2.1.1 in /usr/local/lib/python3.10/dist-packages (from werkzeug>=1.0.1->tensorboard<2.14,>=2.13->tensorflow) (2.1.3)\n",
            "Requirement already satisfied: pyasn1<0.6.0,>=0.4.6 in /usr/local/lib/python3.10/dist-packages (from pyasn1-modules>=0.2.1->google-auth<3,>=1.6.3->tensorboard<2.14,>=2.13->tensorflow) (0.5.0)\n",
            "Requirement already satisfied: oauthlib>=3.0.0 in /usr/local/lib/python3.10/dist-packages (from requests-oauthlib>=0.7.0->google-auth-oauthlib<1.1,>=0.5->tensorboard<2.14,>=2.13->tensorflow) (3.2.2)\n"
          ]
        }
      ],
      "source": [
        "!pip install tensorflow"
      ]
    },
    {
      "cell_type": "code",
      "execution_count": 3,
      "id": "c90fd0e9",
      "metadata": {
        "id": "c90fd0e9"
      },
      "outputs": [],
      "source": [
        "import tensorflow as tf\n",
        "from tensorflow.keras.layers import Dense, LSTM\n",
        "from tensorflow.keras.models import Model\n",
        "from tensorflow.keras.models import Sequential\n",
        "import numpy as np\n",
        "import pandas as pd\n",
        "\n",
        "import tensorflow_hub as hub\n"
      ]
    },
    {
      "cell_type": "code",
      "execution_count": 4,
      "id": "6d0cd246",
      "metadata": {
        "id": "6d0cd246"
      },
      "outputs": [],
      "source": [
        "embed = hub.load(\"https://tfhub.dev/google/Wiki-words-250/2\")\n",
        "#https://tfhub.dev/google/Wiki-words-250/2"
      ]
    },
    {
      "cell_type": "code",
      "execution_count": 5,
      "id": "d69ff6e1",
      "metadata": {
        "collapsed": true,
        "colab": {
          "base_uri": "https://localhost:8080/"
        },
        "id": "d69ff6e1",
        "outputId": "32dcf73b-111a-4680-a1b4-deb232d9523b"
      },
      "outputs": [
        {
          "output_type": "execute_result",
          "data": {
            "text/plain": [
              "<tf.Tensor: shape=(1, 250), dtype=float32, numpy=\n",
              "array([[-0.1343142 , -0.13684654,  0.07431408, -0.10650009, -0.02859968,\n",
              "         0.04424024, -0.03567196, -0.06899981,  0.01616227,  0.07217974,\n",
              "        -0.01046093, -0.01912977,  0.05004472,  0.08152357,  0.03152218,\n",
              "        -0.02048703,  0.05789423,  0.01240441, -0.05209014,  0.10748381,\n",
              "        -0.00459293, -0.02017592, -0.04480452, -0.03096171, -0.04350654,\n",
              "         0.00444236,  0.00460669, -0.10705121, -0.14162003, -0.01844652,\n",
              "        -0.02916938,  0.03193855,  0.05675149, -0.0682263 , -0.04352165,\n",
              "         0.03420302,  0.0014838 ,  0.04176674, -0.07689109,  0.0669754 ,\n",
              "        -0.07601002, -0.07946104, -0.11850064,  0.08176526,  0.10359441,\n",
              "        -0.0693299 , -0.0799439 , -0.08720363, -0.02146907, -0.01452966,\n",
              "        -0.05733249, -0.00535188, -0.07032717, -0.05828672,  0.02124319,\n",
              "         0.00817431,  0.12562938, -0.17722268, -0.01333303,  0.03352974,\n",
              "         0.07383418,  0.08609763,  0.01466759,  0.05075613,  0.028285  ,\n",
              "        -0.01127311, -0.02905003, -0.01837031, -0.10744353,  0.01967127,\n",
              "         0.0736785 , -0.07254954, -0.03876854,  0.00457235, -0.01790975,\n",
              "        -0.08883201,  0.08176459, -0.13136885,  0.0414067 , -0.01775208,\n",
              "        -0.00166448, -0.08772035,  0.18524593, -0.08883044, -0.00149381,\n",
              "        -0.02445088, -0.05852378, -0.01200593, -0.01916346, -0.03045416,\n",
              "         0.03300039, -0.06807038, -0.0007924 , -0.1188539 ,  0.06848548,\n",
              "         0.06387953,  0.02681643, -0.070955  , -0.00483651,  0.11620688,\n",
              "         0.06794638,  0.09621843, -0.05132021,  0.02756447, -0.19344594,\n",
              "         0.08646405, -0.10333352, -0.0475274 ,  0.01312495,  0.0456748 ,\n",
              "         0.01799752,  0.08816405, -0.11556821,  0.10044458, -0.01889638,\n",
              "         0.00274235, -0.02709199, -0.01374617, -0.02034309,  0.03097376,\n",
              "         0.11225332, -0.04472093, -0.03685196,  0.00906243,  0.12345184,\n",
              "        -0.05450095, -0.07289396,  0.01526694, -0.02538151,  0.04364611,\n",
              "         0.03346637, -0.00669323,  0.03485235,  0.01048972,  0.07379831,\n",
              "        -0.00241178, -0.0094701 , -0.01933732, -0.03467811, -0.14911118,\n",
              "         0.11176416, -0.02306239,  0.02944405, -0.04613593,  0.03858387,\n",
              "        -0.14165428, -0.0582912 ,  0.01732055, -0.0087221 ,  0.05153668,\n",
              "        -0.03646965,  0.01342077, -0.07650669,  0.03554798,  0.01853205,\n",
              "        -0.0265025 ,  0.03709437, -0.00529528, -0.00206895, -0.08170392,\n",
              "         0.05323322, -0.0372233 ,  0.0715456 , -0.06168474, -0.01027736,\n",
              "        -0.04165999,  0.00330734,  0.04601977,  0.09652087, -0.01541359,\n",
              "        -0.01302435, -0.00041824, -0.03615889,  0.04800412,  0.02160379,\n",
              "         0.06067394, -0.10757481,  0.02595265,  0.05501252,  0.00320355,\n",
              "        -0.05693507, -0.03684391, -0.01826994,  0.0328917 ,  0.07716855,\n",
              "        -0.00901982, -0.06341199,  0.10380113, -0.02185404, -0.03589836,\n",
              "        -0.09282662,  0.05751726, -0.17890613, -0.06267004, -0.04630315,\n",
              "         0.02363357, -0.04372631, -0.0459201 , -0.04266296,  0.01565834,\n",
              "        -0.04414967,  0.03264625, -0.00396789, -0.05488173,  0.02905872,\n",
              "        -0.02034418,  0.05997674,  0.02450726, -0.03610267, -0.07577167,\n",
              "         0.09380355, -0.02612562, -0.0099797 , -0.00474575, -0.02055342,\n",
              "        -0.05485525,  0.09743837, -0.02394029,  0.00388543,  0.04092913,\n",
              "         0.06516008,  0.05947431,  0.00052695,  0.06901503,  0.07371502,\n",
              "         0.05197928,  0.08274019,  0.13080774,  0.06190027,  0.04624791,\n",
              "        -0.05903428,  0.06728555,  0.01370384, -0.01507246, -0.06329487,\n",
              "         0.00358281, -0.01922427,  0.05952059,  0.00535521,  0.09575898,\n",
              "         0.0405065 ,  0.09045379,  0.0529558 ,  0.07040462,  0.0011125 ,\n",
              "         0.04633893,  0.07915935,  0.0530065 , -0.06381238, -0.0551357 ]],\n",
              "      dtype=float32)>"
            ]
          },
          "metadata": {},
          "execution_count": 5
        }
      ],
      "source": [
        "embed([\"king\"])"
      ]
    },
    {
      "cell_type": "code",
      "execution_count": 6,
      "id": "3c4ba742",
      "metadata": {
        "collapsed": true,
        "colab": {
          "base_uri": "https://localhost:8080/"
        },
        "id": "3c4ba742",
        "outputId": "89a94756-1180-4aa9-8647-299462b84cfa"
      },
      "outputs": [
        {
          "output_type": "execute_result",
          "data": {
            "text/plain": [
              "<tf.Tensor: shape=(1, 250), dtype=float32, numpy=\n",
              "array([[-0.06867649, -0.14200377,  0.02866129, -0.05169869, -0.04283558,\n",
              "         0.03471284,  0.00563643, -0.07633342, -0.04744494, -0.00961031,\n",
              "         0.05438118, -0.01875446,  0.04598984,  0.11078782,  0.06182237,\n",
              "        -0.07148245,  0.08874689,  0.06116664, -0.04689367,  0.05333443,\n",
              "         0.02776343, -0.0017771 , -0.00322503, -0.03645062, -0.03717954,\n",
              "         0.03179449,  0.01319127, -0.02359019, -0.10966538,  0.03994623,\n",
              "         0.06102228,  0.0508691 ,  0.10350815, -0.12094358, -0.01933583,\n",
              "        -0.03739669,  0.00683476,  0.02680918, -0.00433959,  0.02936172,\n",
              "        -0.07294036, -0.09880833, -0.1596977 ,  0.01566896,  0.10767547,\n",
              "        -0.0835154 , -0.13671345, -0.03192026, -0.02783204, -0.04368471,\n",
              "        -0.00748212,  0.04610368, -0.0745914 , -0.02966405,  0.00425638,\n",
              "        -0.02484322,  0.08340865, -0.16547503,  0.03614734,  0.08827798,\n",
              "        -0.01716653,  0.03805317, -0.06583317,  0.02210291,  0.01156285,\n",
              "        -0.00710578, -0.03243415,  0.0683513 , -0.07901823,  0.02703012,\n",
              "         0.12302621, -0.04444799,  0.05054032,  0.01924641,  0.06388786,\n",
              "        -0.00233822,  0.02813392, -0.07553464,  0.07977203, -0.02375216,\n",
              "        -0.10174957, -0.03191061,  0.08501897, -0.02339657, -0.11616926,\n",
              "        -0.00979573, -0.0645064 , -0.03047815, -0.10928844,  0.00836145,\n",
              "        -0.02353194, -0.0125507 , -0.01962852, -0.09363665,  0.0454917 ,\n",
              "         0.03777964, -0.0031751 , -0.06636257, -0.00926695,  0.10284539,\n",
              "         0.03334226,  0.11985642,  0.0363491 ,  0.12023578, -0.16801073,\n",
              "         0.07322197, -0.16401072, -0.02459861, -0.01465999,  0.02588323,\n",
              "        -0.02676843,  0.06960034, -0.06762879,  0.10187325, -0.03811006,\n",
              "        -0.02732228,  0.00607996, -0.07335528, -0.0579433 ,  0.04570131,\n",
              "         0.04112126,  0.03001628,  0.00853049, -0.05076825,  0.04865833,\n",
              "        -0.0727451 , -0.07200139,  0.05614861,  0.02478689,  0.0580967 ,\n",
              "        -0.02894421, -0.0308092 , -0.02236231, -0.04627372,  0.06952436,\n",
              "         0.01289223,  0.02896257, -0.05175796, -0.03767545, -0.0642947 ,\n",
              "         0.06492476, -0.01123291, -0.01215909,  0.019697  ,  0.04696146,\n",
              "        -0.08913232, -0.05367438, -0.0050919 , -0.02248095,  0.09180187,\n",
              "        -0.0207525 , -0.08585119, -0.07263437,  0.06075532,  0.07187247,\n",
              "        -0.03734357,  0.05093096, -0.12567705, -0.09086162, -0.03714206,\n",
              "         0.01570122, -0.05895634,  0.01943416, -0.13876463, -0.01831598,\n",
              "        -0.00538021, -0.03458395,  0.06283846,  0.05875603,  0.03602993,\n",
              "        -0.01593081, -0.02884467, -0.08752862,  0.02989644, -0.0130785 ,\n",
              "        -0.07101376, -0.09473015, -0.02706756,  0.028417  ,  0.04743498,\n",
              "         0.00247246,  0.00210417, -0.01150449, -0.04407747,  0.08028508,\n",
              "        -0.028575  , -0.01200318,  0.10590001, -0.04949254, -0.03399524,\n",
              "        -0.09399422, -0.05024764, -0.17344338, -0.09633639, -0.0486097 ,\n",
              "        -0.05757036, -0.00307709, -0.06398871, -0.02129431, -0.02640416,\n",
              "        -0.06675949, -0.02100712, -0.04612962, -0.02057403,  0.03822061,\n",
              "        -0.00683148,  0.04710867,  0.06374708, -0.03370476, -0.11238534,\n",
              "         0.03232944, -0.02140939,  0.05694015, -0.09209757,  0.00455892,\n",
              "        -0.04363883,  0.08598605,  0.00112415, -0.05102038,  0.02609835,\n",
              "         0.00496539,  0.13839982, -0.02072961,  0.08794817, -0.00017559,\n",
              "         0.0467748 ,  0.05549267,  0.08080562, -0.02931265, -0.02455167,\n",
              "        -0.09886858, -0.05149862, -0.04284277,  0.02030498, -0.07350818,\n",
              "         0.00542283,  0.12020268,  0.03496075,  0.04143766,  0.13201152,\n",
              "        -0.02710645,  0.0917184 , -0.02094033,  0.11535633,  0.09114317,\n",
              "         0.0061165 ,  0.10181063,  0.06360591, -0.00272942, -0.03763754]],\n",
              "      dtype=float32)>"
            ]
          },
          "metadata": {},
          "execution_count": 6
        }
      ],
      "source": [
        "embed([\"queen\"])"
      ]
    },
    {
      "cell_type": "code",
      "execution_count": 7,
      "id": "c327973b",
      "metadata": {
        "colab": {
          "base_uri": "https://localhost:8080/",
          "height": 175
        },
        "id": "c327973b",
        "outputId": "0e974edc-2af2-4f95-88aa-8d52cd2c4c7f"
      },
      "outputs": [
        {
          "output_type": "execute_result",
          "data": {
            "text/plain": [
              "                             review sentiment\n",
              "0            this is the best movie  positive\n",
              "1  i recommend you watch this movie  positive\n",
              "2    it was waste of money and time  negative\n",
              "3              the worst movie ever  negative"
            ],
            "text/html": [
              "\n",
              "  <div id=\"df-0a0e2395-3be4-41b0-9eaf-5d43c17369eb\" class=\"colab-df-container\">\n",
              "    <div>\n",
              "<style scoped>\n",
              "    .dataframe tbody tr th:only-of-type {\n",
              "        vertical-align: middle;\n",
              "    }\n",
              "\n",
              "    .dataframe tbody tr th {\n",
              "        vertical-align: top;\n",
              "    }\n",
              "\n",
              "    .dataframe thead th {\n",
              "        text-align: right;\n",
              "    }\n",
              "</style>\n",
              "<table border=\"1\" class=\"dataframe\">\n",
              "  <thead>\n",
              "    <tr style=\"text-align: right;\">\n",
              "      <th></th>\n",
              "      <th>review</th>\n",
              "      <th>sentiment</th>\n",
              "    </tr>\n",
              "  </thead>\n",
              "  <tbody>\n",
              "    <tr>\n",
              "      <th>0</th>\n",
              "      <td>this is the best movie</td>\n",
              "      <td>positive</td>\n",
              "    </tr>\n",
              "    <tr>\n",
              "      <th>1</th>\n",
              "      <td>i recommend you watch this movie</td>\n",
              "      <td>positive</td>\n",
              "    </tr>\n",
              "    <tr>\n",
              "      <th>2</th>\n",
              "      <td>it was waste of money and time</td>\n",
              "      <td>negative</td>\n",
              "    </tr>\n",
              "    <tr>\n",
              "      <th>3</th>\n",
              "      <td>the worst movie ever</td>\n",
              "      <td>negative</td>\n",
              "    </tr>\n",
              "  </tbody>\n",
              "</table>\n",
              "</div>\n",
              "    <div class=\"colab-df-buttons\">\n",
              "\n",
              "  <div class=\"colab-df-container\">\n",
              "    <button class=\"colab-df-convert\" onclick=\"convertToInteractive('df-0a0e2395-3be4-41b0-9eaf-5d43c17369eb')\"\n",
              "            title=\"Convert this dataframe to an interactive table.\"\n",
              "            style=\"display:none;\">\n",
              "\n",
              "  <svg xmlns=\"http://www.w3.org/2000/svg\" height=\"24px\" viewBox=\"0 -960 960 960\">\n",
              "    <path d=\"M120-120v-720h720v720H120Zm60-500h600v-160H180v160Zm220 220h160v-160H400v160Zm0 220h160v-160H400v160ZM180-400h160v-160H180v160Zm440 0h160v-160H620v160ZM180-180h160v-160H180v160Zm440 0h160v-160H620v160Z\"/>\n",
              "  </svg>\n",
              "    </button>\n",
              "\n",
              "  <style>\n",
              "    .colab-df-container {\n",
              "      display:flex;\n",
              "      gap: 12px;\n",
              "    }\n",
              "\n",
              "    .colab-df-convert {\n",
              "      background-color: #E8F0FE;\n",
              "      border: none;\n",
              "      border-radius: 50%;\n",
              "      cursor: pointer;\n",
              "      display: none;\n",
              "      fill: #1967D2;\n",
              "      height: 32px;\n",
              "      padding: 0 0 0 0;\n",
              "      width: 32px;\n",
              "    }\n",
              "\n",
              "    .colab-df-convert:hover {\n",
              "      background-color: #E2EBFA;\n",
              "      box-shadow: 0px 1px 2px rgba(60, 64, 67, 0.3), 0px 1px 3px 1px rgba(60, 64, 67, 0.15);\n",
              "      fill: #174EA6;\n",
              "    }\n",
              "\n",
              "    .colab-df-buttons div {\n",
              "      margin-bottom: 4px;\n",
              "    }\n",
              "\n",
              "    [theme=dark] .colab-df-convert {\n",
              "      background-color: #3B4455;\n",
              "      fill: #D2E3FC;\n",
              "    }\n",
              "\n",
              "    [theme=dark] .colab-df-convert:hover {\n",
              "      background-color: #434B5C;\n",
              "      box-shadow: 0px 1px 3px 1px rgba(0, 0, 0, 0.15);\n",
              "      filter: drop-shadow(0px 1px 2px rgba(0, 0, 0, 0.3));\n",
              "      fill: #FFFFFF;\n",
              "    }\n",
              "  </style>\n",
              "\n",
              "    <script>\n",
              "      const buttonEl =\n",
              "        document.querySelector('#df-0a0e2395-3be4-41b0-9eaf-5d43c17369eb button.colab-df-convert');\n",
              "      buttonEl.style.display =\n",
              "        google.colab.kernel.accessAllowed ? 'block' : 'none';\n",
              "\n",
              "      async function convertToInteractive(key) {\n",
              "        const element = document.querySelector('#df-0a0e2395-3be4-41b0-9eaf-5d43c17369eb');\n",
              "        const dataTable =\n",
              "          await google.colab.kernel.invokeFunction('convertToInteractive',\n",
              "                                                    [key], {});\n",
              "        if (!dataTable) return;\n",
              "\n",
              "        const docLinkHtml = 'Like what you see? Visit the ' +\n",
              "          '<a target=\"_blank\" href=https://colab.research.google.com/notebooks/data_table.ipynb>data table notebook</a>'\n",
              "          + ' to learn more about interactive tables.';\n",
              "        element.innerHTML = '';\n",
              "        dataTable['output_type'] = 'display_data';\n",
              "        await google.colab.output.renderOutput(dataTable, element);\n",
              "        const docLink = document.createElement('div');\n",
              "        docLink.innerHTML = docLinkHtml;\n",
              "        element.appendChild(docLink);\n",
              "      }\n",
              "    </script>\n",
              "  </div>\n",
              "\n",
              "\n",
              "<div id=\"df-7b8f2700-065c-4a5b-ab25-c995c24ebb53\">\n",
              "  <button class=\"colab-df-quickchart\" onclick=\"quickchart('df-7b8f2700-065c-4a5b-ab25-c995c24ebb53')\"\n",
              "            title=\"Suggest charts.\"\n",
              "            style=\"display:none;\">\n",
              "\n",
              "<svg xmlns=\"http://www.w3.org/2000/svg\" height=\"24px\"viewBox=\"0 0 24 24\"\n",
              "     width=\"24px\">\n",
              "    <g>\n",
              "        <path d=\"M19 3H5c-1.1 0-2 .9-2 2v14c0 1.1.9 2 2 2h14c1.1 0 2-.9 2-2V5c0-1.1-.9-2-2-2zM9 17H7v-7h2v7zm4 0h-2V7h2v10zm4 0h-2v-4h2v4z\"/>\n",
              "    </g>\n",
              "</svg>\n",
              "  </button>\n",
              "\n",
              "<style>\n",
              "  .colab-df-quickchart {\n",
              "      --bg-color: #E8F0FE;\n",
              "      --fill-color: #1967D2;\n",
              "      --hover-bg-color: #E2EBFA;\n",
              "      --hover-fill-color: #174EA6;\n",
              "      --disabled-fill-color: #AAA;\n",
              "      --disabled-bg-color: #DDD;\n",
              "  }\n",
              "\n",
              "  [theme=dark] .colab-df-quickchart {\n",
              "      --bg-color: #3B4455;\n",
              "      --fill-color: #D2E3FC;\n",
              "      --hover-bg-color: #434B5C;\n",
              "      --hover-fill-color: #FFFFFF;\n",
              "      --disabled-bg-color: #3B4455;\n",
              "      --disabled-fill-color: #666;\n",
              "  }\n",
              "\n",
              "  .colab-df-quickchart {\n",
              "    background-color: var(--bg-color);\n",
              "    border: none;\n",
              "    border-radius: 50%;\n",
              "    cursor: pointer;\n",
              "    display: none;\n",
              "    fill: var(--fill-color);\n",
              "    height: 32px;\n",
              "    padding: 0;\n",
              "    width: 32px;\n",
              "  }\n",
              "\n",
              "  .colab-df-quickchart:hover {\n",
              "    background-color: var(--hover-bg-color);\n",
              "    box-shadow: 0 1px 2px rgba(60, 64, 67, 0.3), 0 1px 3px 1px rgba(60, 64, 67, 0.15);\n",
              "    fill: var(--button-hover-fill-color);\n",
              "  }\n",
              "\n",
              "  .colab-df-quickchart-complete:disabled,\n",
              "  .colab-df-quickchart-complete:disabled:hover {\n",
              "    background-color: var(--disabled-bg-color);\n",
              "    fill: var(--disabled-fill-color);\n",
              "    box-shadow: none;\n",
              "  }\n",
              "\n",
              "  .colab-df-spinner {\n",
              "    border: 2px solid var(--fill-color);\n",
              "    border-color: transparent;\n",
              "    border-bottom-color: var(--fill-color);\n",
              "    animation:\n",
              "      spin 1s steps(1) infinite;\n",
              "  }\n",
              "\n",
              "  @keyframes spin {\n",
              "    0% {\n",
              "      border-color: transparent;\n",
              "      border-bottom-color: var(--fill-color);\n",
              "      border-left-color: var(--fill-color);\n",
              "    }\n",
              "    20% {\n",
              "      border-color: transparent;\n",
              "      border-left-color: var(--fill-color);\n",
              "      border-top-color: var(--fill-color);\n",
              "    }\n",
              "    30% {\n",
              "      border-color: transparent;\n",
              "      border-left-color: var(--fill-color);\n",
              "      border-top-color: var(--fill-color);\n",
              "      border-right-color: var(--fill-color);\n",
              "    }\n",
              "    40% {\n",
              "      border-color: transparent;\n",
              "      border-right-color: var(--fill-color);\n",
              "      border-top-color: var(--fill-color);\n",
              "    }\n",
              "    60% {\n",
              "      border-color: transparent;\n",
              "      border-right-color: var(--fill-color);\n",
              "    }\n",
              "    80% {\n",
              "      border-color: transparent;\n",
              "      border-right-color: var(--fill-color);\n",
              "      border-bottom-color: var(--fill-color);\n",
              "    }\n",
              "    90% {\n",
              "      border-color: transparent;\n",
              "      border-bottom-color: var(--fill-color);\n",
              "    }\n",
              "  }\n",
              "</style>\n",
              "\n",
              "  <script>\n",
              "    async function quickchart(key) {\n",
              "      const quickchartButtonEl =\n",
              "        document.querySelector('#' + key + ' button');\n",
              "      quickchartButtonEl.disabled = true;  // To prevent multiple clicks.\n",
              "      quickchartButtonEl.classList.add('colab-df-spinner');\n",
              "      try {\n",
              "        const charts = await google.colab.kernel.invokeFunction(\n",
              "            'suggestCharts', [key], {});\n",
              "      } catch (error) {\n",
              "        console.error('Error during call to suggestCharts:', error);\n",
              "      }\n",
              "      quickchartButtonEl.classList.remove('colab-df-spinner');\n",
              "      quickchartButtonEl.classList.add('colab-df-quickchart-complete');\n",
              "    }\n",
              "    (() => {\n",
              "      let quickchartButtonEl =\n",
              "        document.querySelector('#df-7b8f2700-065c-4a5b-ab25-c995c24ebb53 button');\n",
              "      quickchartButtonEl.style.display =\n",
              "        google.colab.kernel.accessAllowed ? 'block' : 'none';\n",
              "    })();\n",
              "  </script>\n",
              "</div>\n",
              "    </div>\n",
              "  </div>\n"
            ]
          },
          "metadata": {},
          "execution_count": 7
        }
      ],
      "source": [
        "movie_reviews_train = [\n",
        "         {'review': 'this is the best movie', 'sentiment': 'positive'},\n",
        "         {'review': 'i recommend you watch this movie', 'sentiment': 'positive'},\n",
        "         {'review': 'it was waste of money and time', 'sentiment': 'negative'},\n",
        "         {'review': 'the worst movie ever', 'sentiment': 'negative'}\n",
        "    ]\n",
        "df = pd.DataFrame(movie_reviews_train)\n",
        "df.head()"
      ]
    },
    {
      "cell_type": "code",
      "execution_count": 8,
      "id": "76807561",
      "metadata": {
        "id": "76807561"
      },
      "outputs": [],
      "source": [
        "def get_max_length(df):\n",
        "    \"\"\"\n",
        "    get max token counts from train data,\n",
        "    so we use this number as fixed length input to RNN cell\n",
        "    \"\"\"\n",
        "    max_length = 0\n",
        "    for row in df['review']:\n",
        "        if len(row.split(\" \")) > max_length:\n",
        "            max_length = len(row.split(\" \"))\n",
        "    return max_length"
      ]
    },
    {
      "cell_type": "code",
      "execution_count": 9,
      "id": "1b357941",
      "metadata": {
        "colab": {
          "base_uri": "https://localhost:8080/"
        },
        "id": "1b357941",
        "outputId": "89ead4a5-0470-480f-a911-50ea47a9020d"
      },
      "outputs": [
        {
          "output_type": "stream",
          "name": "stdout",
          "text": [
            "7\n"
          ]
        }
      ],
      "source": [
        "# max_length is used for max sequence of input\n",
        "max_length = get_max_length(df)\n",
        "print(max_length)"
      ]
    },
    {
      "cell_type": "code",
      "execution_count": 10,
      "id": "64e9d4d6",
      "metadata": {
        "id": "64e9d4d6"
      },
      "outputs": [],
      "source": [
        "def get_max_length(df):\n",
        "    \"\"\"\n",
        "    get max token counts from train data,\n",
        "    so we use this number as fixed length input to RNN cell\n",
        "    \"\"\"\n",
        "    max_length = 0\n",
        "    for row in df['review']:\n",
        "        if len(row.split(\" \")) > max_length:\n",
        "            max_length = len(row.split(\" \"))\n",
        "    return max_length\n",
        "\n",
        "def get_word2vec_enc(reviews):\n",
        "    \"\"\"\n",
        "    get word2vec value for each word in sentence.\n",
        "    concatenate word in numpy array, so we can use it as RNN input\n",
        "    \"\"\"\n",
        "    encoded_reviews = []\n",
        "    for review in reviews:\n",
        "        tokens = review.split(\" \")\n",
        "        word2vec_embedding = embed(tokens)\n",
        "        encoded_reviews.append(word2vec_embedding)\n",
        "    return encoded_reviews\n",
        "\n",
        "def get_padded_encoded_reviews(encoded_reviews):\n",
        "    \"\"\"\n",
        "    for short sentences, we prepend zero padding so all input to RNN has same length\n",
        "    \"\"\"\n",
        "    padded_reviews_encoding = []\n",
        "    for enc_review in encoded_reviews:\n",
        "        zero_padding_cnt = max_length - enc_review.shape[0]\n",
        "        pad = np.zeros((1, 250))\n",
        "        for i in range(zero_padding_cnt):\n",
        "            enc_review = np.concatenate((pad, enc_review), axis=0)\n",
        "        padded_reviews_encoding.append(enc_review)\n",
        "    return padded_reviews_encoding\n",
        "\n",
        "def sentiment_encode(sentiment):\n",
        "    \"\"\"\n",
        "    return one hot encoding for Y value\n",
        "    \"\"\"\n",
        "    if sentiment == 'positive':\n",
        "        return [1,0]\n",
        "    else:\n",
        "        return [0,1]\n",
        "\n",
        "def preprocess(df):\n",
        "    \"\"\"\n",
        "    encode text value to numeric value\n",
        "    \"\"\"\n",
        "    # encode words into word2vec\n",
        "    reviews = df['review'].tolist()\n",
        "\n",
        "    encoded_reviews = get_word2vec_enc(reviews)\n",
        "    padded_encoded_reviews = get_padded_encoded_reviews(encoded_reviews)\n",
        "    # encoded sentiment\n",
        "    sentiments = df['sentiment'].tolist()\n",
        "    encoded_sentiment = [sentiment_encode(sentiment) for sentiment in sentiments]\n",
        "    X = np.array(padded_encoded_reviews)\n",
        "    Y = np.array(encoded_sentiment)\n",
        "    return X, Y"
      ]
    },
    {
      "cell_type": "code",
      "execution_count": 11,
      "id": "662e0d6e",
      "metadata": {
        "id": "662e0d6e"
      },
      "outputs": [],
      "source": [
        "train_X, train_Y = preprocess(df)"
      ]
    },
    {
      "cell_type": "code",
      "execution_count": 12,
      "id": "2404d926",
      "metadata": {
        "id": "2404d926"
      },
      "outputs": [],
      "source": [
        "# LSTM model\n",
        "model = Sequential()\n",
        "model.add(LSTM(32))\n",
        "model.add(Dense(2, activation='softmax'))"
      ]
    },
    {
      "cell_type": "code",
      "execution_count": 13,
      "id": "6b0d103d",
      "metadata": {
        "id": "6b0d103d"
      },
      "outputs": [],
      "source": [
        "model.compile(loss='categorical_crossentropy',\n",
        "              optimizer='adam',\n",
        "              metrics=['accuracy'])"
      ]
    },
    {
      "cell_type": "code",
      "execution_count": 14,
      "id": "61734d80",
      "metadata": {
        "colab": {
          "base_uri": "https://localhost:8080/"
        },
        "id": "61734d80",
        "outputId": "a3cefc27-2ed7-4d9b-ff47-847744e00860"
      },
      "outputs": [
        {
          "output_type": "stream",
          "name": "stdout",
          "text": [
            "Train...\n",
            "Epoch 1/50\n",
            "1/1 [==============================] - 4s 4s/step - loss: 0.6754 - accuracy: 0.5000\n",
            "Epoch 2/50\n",
            "1/1 [==============================] - 0s 26ms/step - loss: 0.6665 - accuracy: 0.7500\n",
            "Epoch 3/50\n",
            "1/1 [==============================] - 0s 33ms/step - loss: 0.6575 - accuracy: 0.7500\n",
            "Epoch 4/50\n",
            "1/1 [==============================] - 0s 19ms/step - loss: 0.6485 - accuracy: 1.0000\n",
            "Epoch 5/50\n",
            "1/1 [==============================] - 0s 21ms/step - loss: 0.6392 - accuracy: 1.0000\n",
            "Epoch 6/50\n",
            "1/1 [==============================] - 0s 18ms/step - loss: 0.6298 - accuracy: 1.0000\n",
            "Epoch 7/50\n",
            "1/1 [==============================] - 0s 18ms/step - loss: 0.6201 - accuracy: 1.0000\n",
            "Epoch 8/50\n",
            "1/1 [==============================] - 0s 24ms/step - loss: 0.6102 - accuracy: 1.0000\n",
            "Epoch 9/50\n",
            "1/1 [==============================] - 0s 22ms/step - loss: 0.5999 - accuracy: 1.0000\n",
            "Epoch 10/50\n",
            "1/1 [==============================] - 0s 18ms/step - loss: 0.5892 - accuracy: 1.0000\n",
            "Epoch 11/50\n",
            "1/1 [==============================] - 0s 19ms/step - loss: 0.5782 - accuracy: 1.0000\n",
            "Epoch 12/50\n",
            "1/1 [==============================] - 0s 22ms/step - loss: 0.5667 - accuracy: 1.0000\n",
            "Epoch 13/50\n",
            "1/1 [==============================] - 0s 17ms/step - loss: 0.5548 - accuracy: 1.0000\n",
            "Epoch 14/50\n",
            "1/1 [==============================] - 0s 23ms/step - loss: 0.5424 - accuracy: 1.0000\n",
            "Epoch 15/50\n",
            "1/1 [==============================] - 0s 19ms/step - loss: 0.5295 - accuracy: 1.0000\n",
            "Epoch 16/50\n",
            "1/1 [==============================] - 0s 26ms/step - loss: 0.5162 - accuracy: 1.0000\n",
            "Epoch 17/50\n",
            "1/1 [==============================] - 0s 17ms/step - loss: 0.5022 - accuracy: 1.0000\n",
            "Epoch 18/50\n",
            "1/1 [==============================] - 0s 19ms/step - loss: 0.4878 - accuracy: 1.0000\n",
            "Epoch 19/50\n",
            "1/1 [==============================] - 0s 22ms/step - loss: 0.4728 - accuracy: 1.0000\n",
            "Epoch 20/50\n",
            "1/1 [==============================] - 0s 15ms/step - loss: 0.4574 - accuracy: 1.0000\n",
            "Epoch 21/50\n",
            "1/1 [==============================] - 0s 21ms/step - loss: 0.4414 - accuracy: 1.0000\n",
            "Epoch 22/50\n",
            "1/1 [==============================] - 0s 21ms/step - loss: 0.4249 - accuracy: 1.0000\n",
            "Epoch 23/50\n",
            "1/1 [==============================] - 0s 27ms/step - loss: 0.4080 - accuracy: 1.0000\n",
            "Epoch 24/50\n",
            "1/1 [==============================] - 0s 17ms/step - loss: 0.3907 - accuracy: 1.0000\n",
            "Epoch 25/50\n",
            "1/1 [==============================] - 0s 17ms/step - loss: 0.3730 - accuracy: 1.0000\n",
            "Epoch 26/50\n",
            "1/1 [==============================] - 0s 22ms/step - loss: 0.3550 - accuracy: 1.0000\n",
            "Epoch 27/50\n",
            "1/1 [==============================] - 0s 19ms/step - loss: 0.3368 - accuracy: 1.0000\n",
            "Epoch 28/50\n",
            "1/1 [==============================] - 0s 21ms/step - loss: 0.3183 - accuracy: 1.0000\n",
            "Epoch 29/50\n",
            "1/1 [==============================] - 0s 18ms/step - loss: 0.2998 - accuracy: 1.0000\n",
            "Epoch 30/50\n",
            "1/1 [==============================] - 0s 22ms/step - loss: 0.2812 - accuracy: 1.0000\n",
            "Epoch 31/50\n",
            "1/1 [==============================] - 0s 19ms/step - loss: 0.2625 - accuracy: 1.0000\n",
            "Epoch 32/50\n",
            "1/1 [==============================] - 0s 21ms/step - loss: 0.2440 - accuracy: 1.0000\n",
            "Epoch 33/50\n",
            "1/1 [==============================] - 0s 26ms/step - loss: 0.2255 - accuracy: 1.0000\n",
            "Epoch 34/50\n",
            "1/1 [==============================] - 0s 24ms/step - loss: 0.2074 - accuracy: 1.0000\n",
            "Epoch 35/50\n",
            "1/1 [==============================] - 0s 21ms/step - loss: 0.1895 - accuracy: 1.0000\n",
            "Epoch 36/50\n",
            "1/1 [==============================] - 0s 16ms/step - loss: 0.1721 - accuracy: 1.0000\n",
            "Epoch 37/50\n",
            "1/1 [==============================] - 0s 19ms/step - loss: 0.1552 - accuracy: 1.0000\n",
            "Epoch 38/50\n",
            "1/1 [==============================] - 0s 18ms/step - loss: 0.1390 - accuracy: 1.0000\n",
            "Epoch 39/50\n",
            "1/1 [==============================] - 0s 19ms/step - loss: 0.1236 - accuracy: 1.0000\n",
            "Epoch 40/50\n",
            "1/1 [==============================] - 0s 20ms/step - loss: 0.1092 - accuracy: 1.0000\n",
            "Epoch 41/50\n",
            "1/1 [==============================] - 0s 21ms/step - loss: 0.0957 - accuracy: 1.0000\n",
            "Epoch 42/50\n",
            "1/1 [==============================] - 0s 18ms/step - loss: 0.0834 - accuracy: 1.0000\n",
            "Epoch 43/50\n",
            "1/1 [==============================] - 0s 16ms/step - loss: 0.0723 - accuracy: 1.0000\n",
            "Epoch 44/50\n",
            "1/1 [==============================] - 0s 15ms/step - loss: 0.0623 - accuracy: 1.0000\n",
            "Epoch 45/50\n",
            "1/1 [==============================] - 0s 13ms/step - loss: 0.0535 - accuracy: 1.0000\n",
            "Epoch 46/50\n",
            "1/1 [==============================] - 0s 16ms/step - loss: 0.0458 - accuracy: 1.0000\n",
            "Epoch 47/50\n",
            "1/1 [==============================] - 0s 19ms/step - loss: 0.0392 - accuracy: 1.0000\n",
            "Epoch 48/50\n",
            "1/1 [==============================] - 0s 20ms/step - loss: 0.0336 - accuracy: 1.0000\n",
            "Epoch 49/50\n",
            "1/1 [==============================] - 0s 14ms/step - loss: 0.0288 - accuracy: 1.0000\n",
            "Epoch 50/50\n",
            "1/1 [==============================] - 0s 15ms/step - loss: 0.0247 - accuracy: 1.0000\n"
          ]
        },
        {
          "output_type": "execute_result",
          "data": {
            "text/plain": [
              "<keras.src.callbacks.History at 0x78a3387e21d0>"
            ]
          },
          "metadata": {},
          "execution_count": 14
        }
      ],
      "source": [
        "print('Train...')\n",
        "model.fit(train_X, train_Y,epochs=50)"
      ]
    },
    {
      "cell_type": "code",
      "execution_count": 15,
      "id": "1cffd5d7",
      "metadata": {
        "colab": {
          "base_uri": "https://localhost:8080/"
        },
        "id": "1cffd5d7",
        "outputId": "592d770a-8203-42a3-d993-4993986c7b72"
      },
      "outputs": [
        {
          "output_type": "stream",
          "name": "stdout",
          "text": [
            "1/1 - 1s - loss: 0.1548 - accuracy: 1.0000 - 586ms/epoch - 586ms/step\n",
            "Test score: 0.15483935177326202\n",
            "Test accuracy: 1.0\n"
          ]
        }
      ],
      "source": [
        "\"\"\"\n",
        "movie_reviews_train = [\n",
        "         {'review': 'this is the best movie', 'sentiment': 'positive'},\n",
        "         {'review': 'i recommend you watch this movie', 'sentiment': 'positive'},\n",
        "         {'review': 'it was waste of money and time', 'sentiment': 'negative'},\n",
        "         {'review': 'the worst movie ever', 'sentiment': 'negative'}\n",
        "    ]\n",
        "\"\"\"\n",
        "movie_reviews_test = [\n",
        "         {'review': 'it is not so good movie', 'sentiment': 'positive'},\n",
        "         {'review': 'i suggest you see this movie', 'sentiment': 'positive'},\n",
        "         {'review': 'it was just throwing 20 dollars away', 'sentiment': 'negative'},\n",
        "         {'review': 'worse than any show', 'sentiment': 'negative'},\n",
        "         {'review': 'nice movie, so love it', 'sentiment': 'positive'},\n",
        "         {'review': 'It was so scaring', 'sentiment': 'negative'}\n",
        "    ]\n",
        "test_df = pd.DataFrame(movie_reviews_test)\n",
        "\n",
        "test_X, test_Y = preprocess(test_df)\n",
        "\n",
        "score, acc = model.evaluate(test_X, test_Y, verbose=2)\n",
        "print('Test score:', score)\n",
        "print('Test accuracy:', acc)"
      ]
    },
    {
      "cell_type": "markdown",
      "source": [
        "## ***TEXT VECTORIZATION Example using CBOW and Skip-Gram models***"
      ],
      "metadata": {
        "id": "WZfbrqmAEtGs"
      },
      "id": "WZfbrqmAEtGs"
    },
    {
      "cell_type": "code",
      "source": [
        "from gensim.models import Word2Vec\n",
        "\n",
        "# Sample tokenized sentences\n",
        "sentences = [\n",
        "    [\"i\", \"love\", \"machine\", \"learning\"],\n",
        "    [\"deep\", \"learning\", \"is\", \"fascinating\"],\n",
        "    [\"word2vec\", \"is\", \"a\", \"technique\", \"in\", \"natural\", \"language\", \"processing\"],\n",
        "    [\"building\", \"the\", \"deep\", \"learning\", \"models\", \"is\", \"easy\"]\n",
        "    # Add more sentences as needed\n",
        "]\n",
        "\n",
        "# Build CBOW Word2Vec model (sg parameter is set to 0)\n",
        "cbow_model = Word2Vec(sentences, vector_size=100, window=5, sg=0, min_count=1)\n",
        "\n",
        "# Build Skip-gram Word2Vec model\n",
        "skipgram_model = Word2Vec(sentences, vector_size=100, window=5, sg=1, min_count=1)\n",
        "\n",
        "# Example word for similarity comparison\n",
        "target_word = \"deep\"\n",
        "\n",
        "# Get similar words using CBOW model\n",
        "similar_words_cbow = cbow_model.wv.most_similar(target_word, topn=5)\n",
        "print(f\"Similar words to '{target_word}' (CBOW): {similar_words_cbow}\")\n",
        "\n",
        "# Get similar words using Skip-gram model\n",
        "similar_words_skipgram = skipgram_model.wv.most_similar(target_word, topn=5)\n",
        "print(f\"Similar words to '{target_word}' (Skip-gram): {similar_words_skipgram}\")\n"
      ],
      "metadata": {
        "colab": {
          "base_uri": "https://localhost:8080/"
        },
        "id": "Kh9K3jTQEqjG",
        "outputId": "ff0b6413-1592-44bd-f1f1-74cc86dc3419"
      },
      "id": "Kh9K3jTQEqjG",
      "execution_count": 16,
      "outputs": [
        {
          "output_type": "stream",
          "name": "stdout",
          "text": [
            "Similar words to 'deep' (CBOW): [('word2vec', 0.19911722838878632), ('in', 0.17272016406059265), ('models', 0.17022426426410675), ('machine', 0.14595220983028412), ('love', 0.06408823281526566)]\n",
            "Similar words to 'deep' (Skip-gram): [('word2vec', 0.1991163194179535), ('in', 0.17271742224693298), ('models', 0.17024536430835724), ('machine', 0.14595457911491394), ('love', 0.06408510357141495)]\n"
          ]
        }
      ]
    },
    {
      "cell_type": "code",
      "source": [
        "### To get word vector of any particular word\n",
        "A = cbow_model.wv[\"deep\"]"
      ],
      "metadata": {
        "id": "laeVnfCjE_ll"
      },
      "id": "laeVnfCjE_ll",
      "execution_count": 17,
      "outputs": []
    },
    {
      "cell_type": "code",
      "source": [
        "B = cbow_model.wv[\"word2vec\"]"
      ],
      "metadata": {
        "id": "KAYWWaxuj9t4"
      },
      "id": "KAYWWaxuj9t4",
      "execution_count": 18,
      "outputs": []
    },
    {
      "cell_type": "code",
      "source": [
        "import numpy as np\n",
        "from numpy.linalg import norm\n",
        "print(np.dot(A,B)/(norm(A)*norm(B)))"
      ],
      "metadata": {
        "colab": {
          "base_uri": "https://localhost:8080/"
        },
        "id": "E69jpea7kP-y",
        "outputId": "25f9c7f3-1b38-4178-ab5a-f4c0434d280d"
      },
      "id": "E69jpea7kP-y",
      "execution_count": 19,
      "outputs": [
        {
          "output_type": "stream",
          "name": "stdout",
          "text": [
            "0.19911724\n"
          ]
        }
      ]
    },
    {
      "cell_type": "markdown",
      "source": [
        "### ***TEXT VECTORIZATION Example- using Pre-trained word vectors***\n",
        "[GloVe [Global Vectors for Word Representation] word Vectors from Stanford NLP Group](https://nlp.stanford.edu/projects/glove/)\n",
        "\n",
        "[FastText Word Embeddings](https://https://fasttext.cc/docs/en/crawl-vectors.html)\n",
        "\n",
        "[Blog on Word Embeddings](https://medium.com/@hari4om/word-embedding-d816f643140)\n"
      ],
      "metadata": {
        "id": "6j13G1GzwlpI"
      },
      "id": "6j13G1GzwlpI"
    },
    {
      "cell_type": "code",
      "source": [
        "from google.colab import drive\n",
        "\n",
        "### You can get this file from the link: https://nlp.stanford.edu/projects/glove/glove.6B.zip\n",
        "### Unzip it and upload any of the 50/ 100/ 200/ 300 dimensional .txt file on your drive\n",
        "# Note the file path to point to your downloaded/ uploaded GloVe file\n",
        "\n",
        "drive.mount('/content/drive')\n",
        "glove_file_path = '/content/drive/MyDrive/rep_Python/NLP/glove.6B.50d.txt'   ### For COLAB\n",
        "\n",
        "# glove_file_path = 'D:/......../glove.6B.50d.txt'   ### For Jupyter Notebook\n"
      ],
      "metadata": {
        "colab": {
          "base_uri": "https://localhost:8080/"
        },
        "id": "dDWq6URx4Kub",
        "outputId": "c8467814-058b-4696-a872-9cddfe69ddc5"
      },
      "id": "dDWq6URx4Kub",
      "execution_count": 20,
      "outputs": [
        {
          "output_type": "stream",
          "name": "stdout",
          "text": [
            "Drive already mounted at /content/drive; to attempt to forcibly remount, call drive.mount(\"/content/drive\", force_remount=True).\n"
          ]
        }
      ]
    },
    {
      "cell_type": "code",
      "source": [
        "# Load pre-trained word vectors (GloVe)\n",
        "def load_word_vectors(file_path):\n",
        "    word_vectors = {}\n",
        "    with open(file_path, 'r', encoding='utf-8') as file:\n",
        "        for line in file:\n",
        "            values = line.split()\n",
        "            word = values[0]\n",
        "            vector = list(map(float, values[1:]))\n",
        "            word_vectors[word] = vector\n",
        "    return word_vectors"
      ],
      "metadata": {
        "id": "Iu29OAha6BYV"
      },
      "id": "Iu29OAha6BYV",
      "execution_count": 21,
      "outputs": []
    },
    {
      "cell_type": "code",
      "source": [
        "### You can get this file from the link: https://nlp.stanford.edu/projects/glove/glove.6B.zip\n",
        "### Unzip it and upload any of the 50/ 100/ 200/ 300 dimensional .txt file on your drive\n",
        "# Adjust the file path to point to your downloaded GloVe file\n",
        "\n",
        "word_vectors = load_word_vectors(glove_file_path)\n"
      ],
      "metadata": {
        "id": "56BN3GRtwiga"
      },
      "id": "56BN3GRtwiga",
      "execution_count": 22,
      "outputs": []
    },
    {
      "cell_type": "code",
      "source": [
        "# Check the size of the loaded word vectors\n",
        "print(\"Number of word vectors:\", len(word_vectors))\n",
        "print(\"Vector dimensionality:\", len(word_vectors['word']))\n"
      ],
      "metadata": {
        "colab": {
          "base_uri": "https://localhost:8080/"
        },
        "id": "ARBf9En96HlD",
        "outputId": "39e383a8-b04d-4092-8627-67c329bccc42"
      },
      "id": "ARBf9En96HlD",
      "execution_count": 23,
      "outputs": [
        {
          "output_type": "stream",
          "name": "stdout",
          "text": [
            "Number of word vectors: 400000\n",
            "Vector dimensionality: 50\n"
          ]
        }
      ]
    },
    {
      "cell_type": "code",
      "source": [
        "# Example usage: Getting the vector for a specific word\n",
        "word = \"example\"\n",
        "if word in word_vectors:\n",
        "    vector = word_vectors[word]\n",
        "    print(f\"Vector for '{word}': {vector}\")\n",
        "else:\n",
        "    print(f\"No vector found for '{word}'\")\n"
      ],
      "metadata": {
        "colab": {
          "base_uri": "https://localhost:8080/"
        },
        "id": "OHo8_VQFxIxh",
        "outputId": "77e2ee41-786a-4e8f-8360-ea9a796c6c4b"
      },
      "id": "OHo8_VQFxIxh",
      "execution_count": 24,
      "outputs": [
        {
          "output_type": "stream",
          "name": "stdout",
          "text": [
            "Vector for 'example': [0.51564, 0.56912, -0.19759, 0.0080456, 0.41697, 0.59502, -0.053312, -0.83222, -0.21715, 0.31045, 0.09352, 0.35323, 0.28151, -0.35308, 0.23496, 0.04429, 0.017109, 0.0063749, -0.01662, -0.69576, 0.019819, -0.52746, -0.14011, 0.21962, 0.13692, -1.2683, -0.89416, -0.1831, 0.23343, -0.058254, 3.2481, -0.48794, -0.01207, -0.81645, 0.21182, -0.17837, -0.02874, 0.099358, -0.14944, 0.2601, 0.18919, 0.15022, 0.18278, 0.50052, -0.025532, 0.24671, 0.10596, 0.13612, 0.0090427, 0.39962]\n"
          ]
        }
      ]
    },
    {
      "cell_type": "code",
      "source": [],
      "metadata": {
        "id": "l6_6ye1i6MhM"
      },
      "id": "l6_6ye1i6MhM",
      "execution_count": 24,
      "outputs": []
    }
  ],
  "metadata": {
    "kernelspec": {
      "display_name": "Python 3 (ipykernel)",
      "language": "python",
      "name": "python3"
    },
    "language_info": {
      "codemirror_mode": {
        "name": "ipython",
        "version": 3
      },
      "file_extension": ".py",
      "mimetype": "text/x-python",
      "name": "python",
      "nbconvert_exporter": "python",
      "pygments_lexer": "ipython3",
      "version": "3.10.9"
    },
    "colab": {
      "provenance": []
    }
  },
  "nbformat": 4,
  "nbformat_minor": 5
}