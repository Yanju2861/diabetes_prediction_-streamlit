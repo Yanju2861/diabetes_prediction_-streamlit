{
 "cells": [
  {
   "cell_type": "markdown",
   "metadata": {},
   "source": [
    "''' <br/>\n",
    "FEATURE ENGINEERING <br/>\n",
    "    Feature engineering is a technique that leverages data to create new variables that aren't in the \n",
    "training set and converts raw data into a format that can be used for building the machine learning  model. <br/>\n",
    "It can produce new features for both supervised and unsupervised learning, with the goal of \n",
    "simplifying and speeding up data transformations <br/>\n",
    "while <br/>also enhancing the performance of the machine learning model.<br/>\n",
    "'''"
   ]
  },
  {
   "cell_type": "code",
   "execution_count": 1,
   "metadata": {},
   "outputs": [],
   "source": [
    "import pandas as pd\n",
    "import numpy as np\n",
    "\n",
    "import matplotlib.pyplot as plt\n",
    "# Import seaborn\n",
    "import seaborn as sns\n",
    "%matplotlib inline\n"
   ]
  },
  {
   "cell_type": "markdown",
   "metadata": {},
   "source": [
    "### Section-1 (a)"
   ]
  },
  {
   "cell_type": "code",
   "execution_count": 2,
   "metadata": {},
   "outputs": [
    {
     "name": "stdout",
     "output_type": "stream",
     "text": [
      "(551, 13)\n"
     ]
    },
    {
     "data": {
      "text/html": [
       "<div>\n",
       "<style scoped>\n",
       "    .dataframe tbody tr th:only-of-type {\n",
       "        vertical-align: middle;\n",
       "    }\n",
       "\n",
       "    .dataframe tbody tr th {\n",
       "        vertical-align: top;\n",
       "    }\n",
       "\n",
       "    .dataframe thead th {\n",
       "        text-align: right;\n",
       "    }\n",
       "</style>\n",
       "<table border=\"1\" class=\"dataframe\">\n",
       "  <thead>\n",
       "    <tr style=\"text-align: right;\">\n",
       "      <th></th>\n",
       "      <th>Unnamed: 0</th>\n",
       "      <th>price</th>\n",
       "      <th>lotsize</th>\n",
       "      <th>bedrooms</th>\n",
       "      <th>bathrms</th>\n",
       "      <th>stories</th>\n",
       "      <th>driveway</th>\n",
       "      <th>recroom</th>\n",
       "      <th>fullbase</th>\n",
       "      <th>gashw</th>\n",
       "      <th>airco</th>\n",
       "      <th>garagepl</th>\n",
       "      <th>prefarea</th>\n",
       "    </tr>\n",
       "  </thead>\n",
       "  <tbody>\n",
       "    <tr>\n",
       "      <th>541</th>\n",
       "      <td>542</td>\n",
       "      <td>91500</td>\n",
       "      <td>4800</td>\n",
       "      <td>3.0</td>\n",
       "      <td>2</td>\n",
       "      <td>4</td>\n",
       "      <td>yes</td>\n",
       "      <td>yes</td>\n",
       "      <td>no</td>\n",
       "      <td>no</td>\n",
       "      <td>yes</td>\n",
       "      <td>0</td>\n",
       "      <td>no</td>\n",
       "    </tr>\n",
       "    <tr>\n",
       "      <th>542</th>\n",
       "      <td>543</td>\n",
       "      <td>94000</td>\n",
       "      <td>6000</td>\n",
       "      <td>3.0</td>\n",
       "      <td>2</td>\n",
       "      <td>4</td>\n",
       "      <td>yes</td>\n",
       "      <td>no</td>\n",
       "      <td>no</td>\n",
       "      <td>no</td>\n",
       "      <td>yes</td>\n",
       "      <td>0</td>\n",
       "      <td>no</td>\n",
       "    </tr>\n",
       "    <tr>\n",
       "      <th>543</th>\n",
       "      <td>544</td>\n",
       "      <td>103000</td>\n",
       "      <td>6000</td>\n",
       "      <td>3.0</td>\n",
       "      <td>2</td>\n",
       "      <td>4</td>\n",
       "      <td>yes</td>\n",
       "      <td>yes</td>\n",
       "      <td>no</td>\n",
       "      <td>no</td>\n",
       "      <td>yes</td>\n",
       "      <td>1</td>\n",
       "      <td>no</td>\n",
       "    </tr>\n",
       "    <tr>\n",
       "      <th>544</th>\n",
       "      <td>545</td>\n",
       "      <td>105000</td>\n",
       "      <td>6000</td>\n",
       "      <td>3.0</td>\n",
       "      <td>2</td>\n",
       "      <td>2</td>\n",
       "      <td>yes</td>\n",
       "      <td>yes</td>\n",
       "      <td>no</td>\n",
       "      <td>no</td>\n",
       "      <td>yes</td>\n",
       "      <td>1</td>\n",
       "      <td>no</td>\n",
       "    </tr>\n",
       "    <tr>\n",
       "      <th>545</th>\n",
       "      <td>546</td>\n",
       "      <td>105000</td>\n",
       "      <td>6000</td>\n",
       "      <td>3.0</td>\n",
       "      <td>1</td>\n",
       "      <td>2</td>\n",
       "      <td>yes</td>\n",
       "      <td>no</td>\n",
       "      <td>no</td>\n",
       "      <td>no</td>\n",
       "      <td>yes</td>\n",
       "      <td>1</td>\n",
       "      <td>no</td>\n",
       "    </tr>\n",
       "    <tr>\n",
       "      <th>546</th>\n",
       "      <td>500</td>\n",
       "      <td>65000</td>\n",
       "      <td>8400</td>\n",
       "      <td>4.0</td>\n",
       "      <td>1</td>\n",
       "      <td>4</td>\n",
       "      <td>yes</td>\n",
       "      <td>no</td>\n",
       "      <td>no</td>\n",
       "      <td>no</td>\n",
       "      <td>no</td>\n",
       "      <td>3</td>\n",
       "      <td>no</td>\n",
       "    </tr>\n",
       "    <tr>\n",
       "      <th>547</th>\n",
       "      <td>501</td>\n",
       "      <td>67900</td>\n",
       "      <td>6440</td>\n",
       "      <td>2.0</td>\n",
       "      <td>1</td>\n",
       "      <td>1</td>\n",
       "      <td>yes</td>\n",
       "      <td>no</td>\n",
       "      <td>no</td>\n",
       "      <td>no</td>\n",
       "      <td>yes</td>\n",
       "      <td>3</td>\n",
       "      <td>no</td>\n",
       "    </tr>\n",
       "    <tr>\n",
       "      <th>548</th>\n",
       "      <td>502</td>\n",
       "      <td>68500</td>\n",
       "      <td>8100</td>\n",
       "      <td>4.0</td>\n",
       "      <td>1</td>\n",
       "      <td>4</td>\n",
       "      <td>yes</td>\n",
       "      <td>no</td>\n",
       "      <td>yes</td>\n",
       "      <td>no</td>\n",
       "      <td>yes</td>\n",
       "      <td>2</td>\n",
       "      <td>no</td>\n",
       "    </tr>\n",
       "    <tr>\n",
       "      <th>549</th>\n",
       "      <td>503</td>\n",
       "      <td>70000</td>\n",
       "      <td>6720</td>\n",
       "      <td>3.0</td>\n",
       "      <td>1</td>\n",
       "      <td>1</td>\n",
       "      <td>yes</td>\n",
       "      <td>no</td>\n",
       "      <td>no</td>\n",
       "      <td>no</td>\n",
       "      <td>no</td>\n",
       "      <td>0</td>\n",
       "      <td>no</td>\n",
       "    </tr>\n",
       "    <tr>\n",
       "      <th>550</th>\n",
       "      <td>504</td>\n",
       "      <td>70500</td>\n",
       "      <td>5948</td>\n",
       "      <td>3.0</td>\n",
       "      <td>1</td>\n",
       "      <td>2</td>\n",
       "      <td>yes</td>\n",
       "      <td>no</td>\n",
       "      <td>no</td>\n",
       "      <td>no</td>\n",
       "      <td>yes</td>\n",
       "      <td>0</td>\n",
       "      <td>no</td>\n",
       "    </tr>\n",
       "  </tbody>\n",
       "</table>\n",
       "</div>"
      ],
      "text/plain": [
       "     Unnamed: 0   price  lotsize  bedrooms  bathrms  stories driveway recroom  \\\n",
       "541         542   91500     4800       3.0        2        4      yes     yes   \n",
       "542         543   94000     6000       3.0        2        4      yes      no   \n",
       "543         544  103000     6000       3.0        2        4      yes     yes   \n",
       "544         545  105000     6000       3.0        2        2      yes     yes   \n",
       "545         546  105000     6000       3.0        1        2      yes      no   \n",
       "546         500   65000     8400       4.0        1        4      yes      no   \n",
       "547         501   67900     6440       2.0        1        1      yes      no   \n",
       "548         502   68500     8100       4.0        1        4      yes      no   \n",
       "549         503   70000     6720       3.0        1        1      yes      no   \n",
       "550         504   70500     5948       3.0        1        2      yes      no   \n",
       "\n",
       "    fullbase gashw airco  garagepl prefarea  \n",
       "541       no    no   yes         0       no  \n",
       "542       no    no   yes         0       no  \n",
       "543       no    no   yes         1       no  \n",
       "544       no    no   yes         1       no  \n",
       "545       no    no   yes         1       no  \n",
       "546       no    no    no         3       no  \n",
       "547       no    no   yes         3       no  \n",
       "548      yes    no   yes         2       no  \n",
       "549       no    no    no         0       no  \n",
       "550       no    no   yes         0       no  "
      ]
     },
     "execution_count": 2,
     "metadata": {},
     "output_type": "execute_result"
    }
   ],
   "source": [
    "df = pd.read_excel('Datasets\\Housing.xlsx')\n",
    "\n",
    "# df = pd.read_excel('Housing.xlsx')\n",
    "\n",
    "### For csv file we use this command\n",
    "# df = pd.read_csv('Datasets\\Churn_Modelling.csv')\n",
    "# df = pd.read_csv('Datasets\\wine.csv')\n",
    "print(df.shape)\n",
    "df.tail(10)"
   ]
  },
  {
   "cell_type": "code",
   "execution_count": 3,
   "metadata": {},
   "outputs": [
    {
     "name": "stdout",
     "output_type": "stream",
     "text": [
      "Unnamed: 0      int64\n",
      "price           int64\n",
      "lotsize         int64\n",
      "bedrooms      float64\n",
      "bathrms         int64\n",
      "stories         int64\n",
      "driveway       object\n",
      "recroom        object\n",
      "fullbase       object\n",
      "gashw          object\n",
      "airco          object\n",
      "garagepl        int64\n",
      "prefarea       object\n",
      "dtype: object\n",
      "Index(['Unnamed: 0', 'price', 'lotsize', 'bedrooms', 'bathrms', 'stories',\n",
      "       'driveway', 'recroom', 'fullbase', 'gashw', 'airco', 'garagepl',\n",
      "       'prefarea'],\n",
      "      dtype='object')\n",
      "13\n"
     ]
    }
   ],
   "source": [
    "print(df.dtypes)\n",
    "print(df.columns)\n",
    "\n",
    "print(len(df.columns))"
   ]
  },
  {
   "cell_type": "code",
   "execution_count": 4,
   "metadata": {},
   "outputs": [
    {
     "data": {
      "text/plain": [
       "array([ 3.,  2., nan,  4.,  1.,  5.,  6.])"
      ]
     },
     "execution_count": 4,
     "metadata": {},
     "output_type": "execute_result"
    }
   ],
   "source": [
    "df['bedrooms'].unique()"
   ]
  },
  {
   "cell_type": "code",
   "execution_count": 5,
   "metadata": {},
   "outputs": [],
   "source": [
    "''' Changing data type using astype'''\n",
    "df['driveway']= df['driveway'].astype('category')\n",
    "df['recroom']= df['recroom'].astype('category')\n",
    "df['fullbase'] = df['fullbase'].astype('category') \n",
    "### May be done for other features if need be.\n",
    "\n",
    "# df['bedrooms'] = df['bedrooms'].astype('int64')"
   ]
  },
  {
   "cell_type": "code",
   "execution_count": 6,
   "metadata": {},
   "outputs": [
    {
     "name": "stdout",
     "output_type": "stream",
     "text": [
      "Unnamed: 0       int64\n",
      "price            int64\n",
      "lotsize          int64\n",
      "bedrooms       float64\n",
      "bathrms          int64\n",
      "stories          int64\n",
      "driveway      category\n",
      "recroom       category\n",
      "fullbase      category\n",
      "gashw           object\n",
      "airco           object\n",
      "garagepl         int64\n",
      "prefarea        object\n",
      "dtype: object\n"
     ]
    }
   ],
   "source": [
    "### Verify\n",
    "print(df.dtypes)"
   ]
  },
  {
   "cell_type": "code",
   "execution_count": 7,
   "metadata": {},
   "outputs": [
    {
     "data": {
      "text/plain": [
       "yes    460\n",
       "no      77\n",
       "Name: driveway, dtype: int64"
      ]
     },
     "execution_count": 7,
     "metadata": {},
     "output_type": "execute_result"
    }
   ],
   "source": [
    "df[\"driveway\"].value_counts()"
   ]
  },
  {
   "cell_type": "code",
   "execution_count": 8,
   "metadata": {},
   "outputs": [
    {
     "data": {
      "text/plain": [
       "[NaN, 'no', 'yes']\n",
       "Categories (2, object): ['no', 'yes']"
      ]
     },
     "execution_count": 8,
     "metadata": {},
     "output_type": "execute_result"
    }
   ],
   "source": [
    "df[\"driveway\"].unique()"
   ]
  },
  {
   "cell_type": "code",
   "execution_count": 9,
   "metadata": {},
   "outputs": [
    {
     "name": "stdout",
     "output_type": "stream",
     "text": [
      "(551, 13)\n"
     ]
    }
   ],
   "source": [
    "# print(df)\n",
    "print(df.shape)\n",
    "# print(df.columns)"
   ]
  },
  {
   "cell_type": "code",
   "execution_count": 10,
   "metadata": {},
   "outputs": [
    {
     "data": {
      "text/plain": [
       "5"
      ]
     },
     "execution_count": 10,
     "metadata": {},
     "output_type": "execute_result"
    }
   ],
   "source": [
    "### Check for duplicates\n",
    "df.duplicated().sum()"
   ]
  },
  {
   "cell_type": "code",
   "execution_count": 11,
   "metadata": {},
   "outputs": [
    {
     "data": {
      "text/html": [
       "<div>\n",
       "<style scoped>\n",
       "    .dataframe tbody tr th:only-of-type {\n",
       "        vertical-align: middle;\n",
       "    }\n",
       "\n",
       "    .dataframe tbody tr th {\n",
       "        vertical-align: top;\n",
       "    }\n",
       "\n",
       "    .dataframe thead th {\n",
       "        text-align: right;\n",
       "    }\n",
       "</style>\n",
       "<table border=\"1\" class=\"dataframe\">\n",
       "  <thead>\n",
       "    <tr style=\"text-align: right;\">\n",
       "      <th></th>\n",
       "      <th>Unnamed: 0</th>\n",
       "      <th>price</th>\n",
       "      <th>lotsize</th>\n",
       "      <th>bedrooms</th>\n",
       "      <th>bathrms</th>\n",
       "      <th>stories</th>\n",
       "      <th>driveway</th>\n",
       "      <th>recroom</th>\n",
       "      <th>fullbase</th>\n",
       "      <th>gashw</th>\n",
       "      <th>airco</th>\n",
       "      <th>garagepl</th>\n",
       "      <th>prefarea</th>\n",
       "    </tr>\n",
       "  </thead>\n",
       "  <tbody>\n",
       "    <tr>\n",
       "      <th>546</th>\n",
       "      <td>500</td>\n",
       "      <td>65000</td>\n",
       "      <td>8400</td>\n",
       "      <td>4.0</td>\n",
       "      <td>1</td>\n",
       "      <td>4</td>\n",
       "      <td>yes</td>\n",
       "      <td>no</td>\n",
       "      <td>no</td>\n",
       "      <td>no</td>\n",
       "      <td>no</td>\n",
       "      <td>3</td>\n",
       "      <td>no</td>\n",
       "    </tr>\n",
       "    <tr>\n",
       "      <th>547</th>\n",
       "      <td>501</td>\n",
       "      <td>67900</td>\n",
       "      <td>6440</td>\n",
       "      <td>2.0</td>\n",
       "      <td>1</td>\n",
       "      <td>1</td>\n",
       "      <td>yes</td>\n",
       "      <td>no</td>\n",
       "      <td>no</td>\n",
       "      <td>no</td>\n",
       "      <td>yes</td>\n",
       "      <td>3</td>\n",
       "      <td>no</td>\n",
       "    </tr>\n",
       "    <tr>\n",
       "      <th>548</th>\n",
       "      <td>502</td>\n",
       "      <td>68500</td>\n",
       "      <td>8100</td>\n",
       "      <td>4.0</td>\n",
       "      <td>1</td>\n",
       "      <td>4</td>\n",
       "      <td>yes</td>\n",
       "      <td>no</td>\n",
       "      <td>yes</td>\n",
       "      <td>no</td>\n",
       "      <td>yes</td>\n",
       "      <td>2</td>\n",
       "      <td>no</td>\n",
       "    </tr>\n",
       "    <tr>\n",
       "      <th>549</th>\n",
       "      <td>503</td>\n",
       "      <td>70000</td>\n",
       "      <td>6720</td>\n",
       "      <td>3.0</td>\n",
       "      <td>1</td>\n",
       "      <td>1</td>\n",
       "      <td>yes</td>\n",
       "      <td>no</td>\n",
       "      <td>no</td>\n",
       "      <td>no</td>\n",
       "      <td>no</td>\n",
       "      <td>0</td>\n",
       "      <td>no</td>\n",
       "    </tr>\n",
       "    <tr>\n",
       "      <th>550</th>\n",
       "      <td>504</td>\n",
       "      <td>70500</td>\n",
       "      <td>5948</td>\n",
       "      <td>3.0</td>\n",
       "      <td>1</td>\n",
       "      <td>2</td>\n",
       "      <td>yes</td>\n",
       "      <td>no</td>\n",
       "      <td>no</td>\n",
       "      <td>no</td>\n",
       "      <td>yes</td>\n",
       "      <td>0</td>\n",
       "      <td>no</td>\n",
       "    </tr>\n",
       "  </tbody>\n",
       "</table>\n",
       "</div>"
      ],
      "text/plain": [
       "     Unnamed: 0  price  lotsize  bedrooms  bathrms  stories driveway recroom  \\\n",
       "546         500  65000     8400       4.0        1        4      yes      no   \n",
       "547         501  67900     6440       2.0        1        1      yes      no   \n",
       "548         502  68500     8100       4.0        1        4      yes      no   \n",
       "549         503  70000     6720       3.0        1        1      yes      no   \n",
       "550         504  70500     5948       3.0        1        2      yes      no   \n",
       "\n",
       "    fullbase gashw airco  garagepl prefarea  \n",
       "546       no    no    no         3       no  \n",
       "547       no    no   yes         3       no  \n",
       "548      yes    no   yes         2       no  \n",
       "549       no    no    no         0       no  \n",
       "550       no    no   yes         0       no  "
      ]
     },
     "execution_count": 11,
     "metadata": {},
     "output_type": "execute_result"
    }
   ],
   "source": [
    "df[ df.duplicated() ]  "
   ]
  },
  {
   "cell_type": "code",
   "execution_count": 12,
   "metadata": {
    "scrolled": true
   },
   "outputs": [
    {
     "data": {
      "text/plain": [
       "(546, 13)"
      ]
     },
     "execution_count": 12,
     "metadata": {},
     "output_type": "execute_result"
    }
   ],
   "source": [
    "#### NO NEED TO REMOVE DUPLICATES\n",
    "# #Return a boolean if any row is a duplicate\n",
    "# print(df.duplicated().any())\n",
    "\n",
    "# # # Check for duplicates and sum \n",
    "# print(df.duplicated().sum())\n",
    "\n",
    "# # #To return the the rows that is duplicated using index\n",
    "# print(df[df.duplicated()]) \n",
    "# df.shape\n",
    "\n",
    "# # Remove duplicates if need be\n",
    "df = df.drop_duplicates( keep='last')\n",
    "\n",
    "df.shape"
   ]
  },
  {
   "cell_type": "code",
   "execution_count": 13,
   "metadata": {},
   "outputs": [
    {
     "data": {
      "text/html": [
       "<div>\n",
       "<style scoped>\n",
       "    .dataframe tbody tr th:only-of-type {\n",
       "        vertical-align: middle;\n",
       "    }\n",
       "\n",
       "    .dataframe tbody tr th {\n",
       "        vertical-align: top;\n",
       "    }\n",
       "\n",
       "    .dataframe thead th {\n",
       "        text-align: right;\n",
       "    }\n",
       "</style>\n",
       "<table border=\"1\" class=\"dataframe\">\n",
       "  <thead>\n",
       "    <tr style=\"text-align: right;\">\n",
       "      <th></th>\n",
       "      <th>Unnamed: 0</th>\n",
       "      <th>price</th>\n",
       "      <th>lotsize</th>\n",
       "      <th>bedrooms</th>\n",
       "      <th>bathrms</th>\n",
       "      <th>stories</th>\n",
       "      <th>driveway</th>\n",
       "      <th>recroom</th>\n",
       "      <th>fullbase</th>\n",
       "      <th>gashw</th>\n",
       "      <th>airco</th>\n",
       "      <th>garagepl</th>\n",
       "      <th>prefarea</th>\n",
       "    </tr>\n",
       "  </thead>\n",
       "  <tbody>\n",
       "    <tr>\n",
       "      <th>0</th>\n",
       "      <td>1</td>\n",
       "      <td>42000</td>\n",
       "      <td>5850</td>\n",
       "      <td>3.0</td>\n",
       "      <td>1</td>\n",
       "      <td>2</td>\n",
       "      <td>NaN</td>\n",
       "      <td>no</td>\n",
       "      <td>yes</td>\n",
       "      <td>no</td>\n",
       "      <td>no</td>\n",
       "      <td>1</td>\n",
       "      <td>no</td>\n",
       "    </tr>\n",
       "    <tr>\n",
       "      <th>1</th>\n",
       "      <td>2</td>\n",
       "      <td>38500</td>\n",
       "      <td>4000</td>\n",
       "      <td>2.0</td>\n",
       "      <td>1</td>\n",
       "      <td>1</td>\n",
       "      <td>NaN</td>\n",
       "      <td>no</td>\n",
       "      <td>no</td>\n",
       "      <td>no</td>\n",
       "      <td>no</td>\n",
       "      <td>0</td>\n",
       "      <td>no</td>\n",
       "    </tr>\n",
       "    <tr>\n",
       "      <th>2</th>\n",
       "      <td>3</td>\n",
       "      <td>49500</td>\n",
       "      <td>3060</td>\n",
       "      <td>NaN</td>\n",
       "      <td>1</td>\n",
       "      <td>1</td>\n",
       "      <td>NaN</td>\n",
       "      <td>no</td>\n",
       "      <td>no</td>\n",
       "      <td>no</td>\n",
       "      <td>no</td>\n",
       "      <td>0</td>\n",
       "      <td>no</td>\n",
       "    </tr>\n",
       "    <tr>\n",
       "      <th>3</th>\n",
       "      <td>4</td>\n",
       "      <td>60500</td>\n",
       "      <td>6650</td>\n",
       "      <td>NaN</td>\n",
       "      <td>1</td>\n",
       "      <td>2</td>\n",
       "      <td>NaN</td>\n",
       "      <td>yes</td>\n",
       "      <td>no</td>\n",
       "      <td>no</td>\n",
       "      <td>no</td>\n",
       "      <td>0</td>\n",
       "      <td>no</td>\n",
       "    </tr>\n",
       "    <tr>\n",
       "      <th>4</th>\n",
       "      <td>5</td>\n",
       "      <td>61000</td>\n",
       "      <td>6360</td>\n",
       "      <td>2.0</td>\n",
       "      <td>1</td>\n",
       "      <td>1</td>\n",
       "      <td>NaN</td>\n",
       "      <td>no</td>\n",
       "      <td>no</td>\n",
       "      <td>no</td>\n",
       "      <td>no</td>\n",
       "      <td>0</td>\n",
       "      <td>no</td>\n",
       "    </tr>\n",
       "    <tr>\n",
       "      <th>...</th>\n",
       "      <td>...</td>\n",
       "      <td>...</td>\n",
       "      <td>...</td>\n",
       "      <td>...</td>\n",
       "      <td>...</td>\n",
       "      <td>...</td>\n",
       "      <td>...</td>\n",
       "      <td>...</td>\n",
       "      <td>...</td>\n",
       "      <td>...</td>\n",
       "      <td>...</td>\n",
       "      <td>...</td>\n",
       "      <td>...</td>\n",
       "    </tr>\n",
       "    <tr>\n",
       "      <th>546</th>\n",
       "      <td>500</td>\n",
       "      <td>65000</td>\n",
       "      <td>8400</td>\n",
       "      <td>4.0</td>\n",
       "      <td>1</td>\n",
       "      <td>4</td>\n",
       "      <td>yes</td>\n",
       "      <td>no</td>\n",
       "      <td>no</td>\n",
       "      <td>no</td>\n",
       "      <td>no</td>\n",
       "      <td>3</td>\n",
       "      <td>no</td>\n",
       "    </tr>\n",
       "    <tr>\n",
       "      <th>547</th>\n",
       "      <td>501</td>\n",
       "      <td>67900</td>\n",
       "      <td>6440</td>\n",
       "      <td>2.0</td>\n",
       "      <td>1</td>\n",
       "      <td>1</td>\n",
       "      <td>yes</td>\n",
       "      <td>no</td>\n",
       "      <td>no</td>\n",
       "      <td>no</td>\n",
       "      <td>yes</td>\n",
       "      <td>3</td>\n",
       "      <td>no</td>\n",
       "    </tr>\n",
       "    <tr>\n",
       "      <th>548</th>\n",
       "      <td>502</td>\n",
       "      <td>68500</td>\n",
       "      <td>8100</td>\n",
       "      <td>4.0</td>\n",
       "      <td>1</td>\n",
       "      <td>4</td>\n",
       "      <td>yes</td>\n",
       "      <td>no</td>\n",
       "      <td>yes</td>\n",
       "      <td>no</td>\n",
       "      <td>yes</td>\n",
       "      <td>2</td>\n",
       "      <td>no</td>\n",
       "    </tr>\n",
       "    <tr>\n",
       "      <th>549</th>\n",
       "      <td>503</td>\n",
       "      <td>70000</td>\n",
       "      <td>6720</td>\n",
       "      <td>3.0</td>\n",
       "      <td>1</td>\n",
       "      <td>1</td>\n",
       "      <td>yes</td>\n",
       "      <td>no</td>\n",
       "      <td>no</td>\n",
       "      <td>no</td>\n",
       "      <td>no</td>\n",
       "      <td>0</td>\n",
       "      <td>no</td>\n",
       "    </tr>\n",
       "    <tr>\n",
       "      <th>550</th>\n",
       "      <td>504</td>\n",
       "      <td>70500</td>\n",
       "      <td>5948</td>\n",
       "      <td>3.0</td>\n",
       "      <td>1</td>\n",
       "      <td>2</td>\n",
       "      <td>yes</td>\n",
       "      <td>no</td>\n",
       "      <td>no</td>\n",
       "      <td>no</td>\n",
       "      <td>yes</td>\n",
       "      <td>0</td>\n",
       "      <td>no</td>\n",
       "    </tr>\n",
       "  </tbody>\n",
       "</table>\n",
       "<p>546 rows × 13 columns</p>\n",
       "</div>"
      ],
      "text/plain": [
       "     Unnamed: 0  price  lotsize  bedrooms  bathrms  stories driveway recroom  \\\n",
       "0             1  42000     5850       3.0        1        2      NaN      no   \n",
       "1             2  38500     4000       2.0        1        1      NaN      no   \n",
       "2             3  49500     3060       NaN        1        1      NaN      no   \n",
       "3             4  60500     6650       NaN        1        2      NaN     yes   \n",
       "4             5  61000     6360       2.0        1        1      NaN      no   \n",
       "..          ...    ...      ...       ...      ...      ...      ...     ...   \n",
       "546         500  65000     8400       4.0        1        4      yes      no   \n",
       "547         501  67900     6440       2.0        1        1      yes      no   \n",
       "548         502  68500     8100       4.0        1        4      yes      no   \n",
       "549         503  70000     6720       3.0        1        1      yes      no   \n",
       "550         504  70500     5948       3.0        1        2      yes      no   \n",
       "\n",
       "    fullbase gashw airco  garagepl prefarea  \n",
       "0        yes    no    no         1       no  \n",
       "1         no    no    no         0       no  \n",
       "2         no    no    no         0       no  \n",
       "3         no    no    no         0       no  \n",
       "4         no    no    no         0       no  \n",
       "..       ...   ...   ...       ...      ...  \n",
       "546       no    no    no         3       no  \n",
       "547       no    no   yes         3       no  \n",
       "548      yes    no   yes         2       no  \n",
       "549       no    no    no         0       no  \n",
       "550       no    no   yes         0       no  \n",
       "\n",
       "[546 rows x 13 columns]"
      ]
     },
     "execution_count": 13,
     "metadata": {},
     "output_type": "execute_result"
    }
   ],
   "source": [
    "df"
   ]
  },
  {
   "cell_type": "code",
   "execution_count": 14,
   "metadata": {},
   "outputs": [
    {
     "data": {
      "text/html": [
       "<div>\n",
       "<style scoped>\n",
       "    .dataframe tbody tr th:only-of-type {\n",
       "        vertical-align: middle;\n",
       "    }\n",
       "\n",
       "    .dataframe tbody tr th {\n",
       "        vertical-align: top;\n",
       "    }\n",
       "\n",
       "    .dataframe thead th {\n",
       "        text-align: right;\n",
       "    }\n",
       "</style>\n",
       "<table border=\"1\" class=\"dataframe\">\n",
       "  <thead>\n",
       "    <tr style=\"text-align: right;\">\n",
       "      <th></th>\n",
       "      <th>index</th>\n",
       "      <th>Unnamed: 0</th>\n",
       "      <th>price</th>\n",
       "      <th>lotsize</th>\n",
       "      <th>bedrooms</th>\n",
       "      <th>bathrms</th>\n",
       "      <th>stories</th>\n",
       "      <th>driveway</th>\n",
       "      <th>recroom</th>\n",
       "      <th>fullbase</th>\n",
       "      <th>gashw</th>\n",
       "      <th>airco</th>\n",
       "      <th>garagepl</th>\n",
       "      <th>prefarea</th>\n",
       "    </tr>\n",
       "  </thead>\n",
       "  <tbody>\n",
       "    <tr>\n",
       "      <th>541</th>\n",
       "      <td>546</td>\n",
       "      <td>500</td>\n",
       "      <td>65000</td>\n",
       "      <td>8400</td>\n",
       "      <td>4.0</td>\n",
       "      <td>1</td>\n",
       "      <td>4</td>\n",
       "      <td>yes</td>\n",
       "      <td>no</td>\n",
       "      <td>no</td>\n",
       "      <td>no</td>\n",
       "      <td>no</td>\n",
       "      <td>3</td>\n",
       "      <td>no</td>\n",
       "    </tr>\n",
       "    <tr>\n",
       "      <th>542</th>\n",
       "      <td>547</td>\n",
       "      <td>501</td>\n",
       "      <td>67900</td>\n",
       "      <td>6440</td>\n",
       "      <td>2.0</td>\n",
       "      <td>1</td>\n",
       "      <td>1</td>\n",
       "      <td>yes</td>\n",
       "      <td>no</td>\n",
       "      <td>no</td>\n",
       "      <td>no</td>\n",
       "      <td>yes</td>\n",
       "      <td>3</td>\n",
       "      <td>no</td>\n",
       "    </tr>\n",
       "    <tr>\n",
       "      <th>543</th>\n",
       "      <td>548</td>\n",
       "      <td>502</td>\n",
       "      <td>68500</td>\n",
       "      <td>8100</td>\n",
       "      <td>4.0</td>\n",
       "      <td>1</td>\n",
       "      <td>4</td>\n",
       "      <td>yes</td>\n",
       "      <td>no</td>\n",
       "      <td>yes</td>\n",
       "      <td>no</td>\n",
       "      <td>yes</td>\n",
       "      <td>2</td>\n",
       "      <td>no</td>\n",
       "    </tr>\n",
       "    <tr>\n",
       "      <th>544</th>\n",
       "      <td>549</td>\n",
       "      <td>503</td>\n",
       "      <td>70000</td>\n",
       "      <td>6720</td>\n",
       "      <td>3.0</td>\n",
       "      <td>1</td>\n",
       "      <td>1</td>\n",
       "      <td>yes</td>\n",
       "      <td>no</td>\n",
       "      <td>no</td>\n",
       "      <td>no</td>\n",
       "      <td>no</td>\n",
       "      <td>0</td>\n",
       "      <td>no</td>\n",
       "    </tr>\n",
       "    <tr>\n",
       "      <th>545</th>\n",
       "      <td>550</td>\n",
       "      <td>504</td>\n",
       "      <td>70500</td>\n",
       "      <td>5948</td>\n",
       "      <td>3.0</td>\n",
       "      <td>1</td>\n",
       "      <td>2</td>\n",
       "      <td>yes</td>\n",
       "      <td>no</td>\n",
       "      <td>no</td>\n",
       "      <td>no</td>\n",
       "      <td>yes</td>\n",
       "      <td>0</td>\n",
       "      <td>no</td>\n",
       "    </tr>\n",
       "  </tbody>\n",
       "</table>\n",
       "</div>"
      ],
      "text/plain": [
       "     index  Unnamed: 0  price  lotsize  bedrooms  bathrms  stories driveway  \\\n",
       "541    546         500  65000     8400       4.0        1        4      yes   \n",
       "542    547         501  67900     6440       2.0        1        1      yes   \n",
       "543    548         502  68500     8100       4.0        1        4      yes   \n",
       "544    549         503  70000     6720       3.0        1        1      yes   \n",
       "545    550         504  70500     5948       3.0        1        2      yes   \n",
       "\n",
       "    recroom fullbase gashw airco  garagepl prefarea  \n",
       "541      no       no    no    no         3       no  \n",
       "542      no       no    no   yes         3       no  \n",
       "543      no      yes    no   yes         2       no  \n",
       "544      no       no    no    no         0       no  \n",
       "545      no       no    no   yes         0       no  "
      ]
     },
     "execution_count": 14,
     "metadata": {},
     "output_type": "execute_result"
    }
   ],
   "source": [
    "df.reset_index(inplace=True)\n",
    "df.tail()"
   ]
  },
  {
   "cell_type": "code",
   "execution_count": 15,
   "metadata": {},
   "outputs": [],
   "source": [
    "df.drop(['index', 'Unnamed: 0' ], axis=1,inplace=True)\n"
   ]
  },
  {
   "cell_type": "code",
   "execution_count": 16,
   "metadata": {},
   "outputs": [
    {
     "data": {
      "text/html": [
       "<div>\n",
       "<style scoped>\n",
       "    .dataframe tbody tr th:only-of-type {\n",
       "        vertical-align: middle;\n",
       "    }\n",
       "\n",
       "    .dataframe tbody tr th {\n",
       "        vertical-align: top;\n",
       "    }\n",
       "\n",
       "    .dataframe thead th {\n",
       "        text-align: right;\n",
       "    }\n",
       "</style>\n",
       "<table border=\"1\" class=\"dataframe\">\n",
       "  <thead>\n",
       "    <tr style=\"text-align: right;\">\n",
       "      <th></th>\n",
       "      <th>price</th>\n",
       "      <th>lotsize</th>\n",
       "      <th>bedrooms</th>\n",
       "      <th>bathrms</th>\n",
       "      <th>stories</th>\n",
       "      <th>driveway</th>\n",
       "      <th>recroom</th>\n",
       "      <th>fullbase</th>\n",
       "      <th>gashw</th>\n",
       "      <th>airco</th>\n",
       "      <th>garagepl</th>\n",
       "      <th>prefarea</th>\n",
       "    </tr>\n",
       "  </thead>\n",
       "  <tbody>\n",
       "    <tr>\n",
       "      <th>541</th>\n",
       "      <td>65000</td>\n",
       "      <td>8400</td>\n",
       "      <td>4.0</td>\n",
       "      <td>1</td>\n",
       "      <td>4</td>\n",
       "      <td>yes</td>\n",
       "      <td>no</td>\n",
       "      <td>no</td>\n",
       "      <td>no</td>\n",
       "      <td>no</td>\n",
       "      <td>3</td>\n",
       "      <td>no</td>\n",
       "    </tr>\n",
       "    <tr>\n",
       "      <th>542</th>\n",
       "      <td>67900</td>\n",
       "      <td>6440</td>\n",
       "      <td>2.0</td>\n",
       "      <td>1</td>\n",
       "      <td>1</td>\n",
       "      <td>yes</td>\n",
       "      <td>no</td>\n",
       "      <td>no</td>\n",
       "      <td>no</td>\n",
       "      <td>yes</td>\n",
       "      <td>3</td>\n",
       "      <td>no</td>\n",
       "    </tr>\n",
       "    <tr>\n",
       "      <th>543</th>\n",
       "      <td>68500</td>\n",
       "      <td>8100</td>\n",
       "      <td>4.0</td>\n",
       "      <td>1</td>\n",
       "      <td>4</td>\n",
       "      <td>yes</td>\n",
       "      <td>no</td>\n",
       "      <td>yes</td>\n",
       "      <td>no</td>\n",
       "      <td>yes</td>\n",
       "      <td>2</td>\n",
       "      <td>no</td>\n",
       "    </tr>\n",
       "    <tr>\n",
       "      <th>544</th>\n",
       "      <td>70000</td>\n",
       "      <td>6720</td>\n",
       "      <td>3.0</td>\n",
       "      <td>1</td>\n",
       "      <td>1</td>\n",
       "      <td>yes</td>\n",
       "      <td>no</td>\n",
       "      <td>no</td>\n",
       "      <td>no</td>\n",
       "      <td>no</td>\n",
       "      <td>0</td>\n",
       "      <td>no</td>\n",
       "    </tr>\n",
       "    <tr>\n",
       "      <th>545</th>\n",
       "      <td>70500</td>\n",
       "      <td>5948</td>\n",
       "      <td>3.0</td>\n",
       "      <td>1</td>\n",
       "      <td>2</td>\n",
       "      <td>yes</td>\n",
       "      <td>no</td>\n",
       "      <td>no</td>\n",
       "      <td>no</td>\n",
       "      <td>yes</td>\n",
       "      <td>0</td>\n",
       "      <td>no</td>\n",
       "    </tr>\n",
       "  </tbody>\n",
       "</table>\n",
       "</div>"
      ],
      "text/plain": [
       "     price  lotsize  bedrooms  bathrms  stories driveway recroom fullbase  \\\n",
       "541  65000     8400       4.0        1        4      yes      no       no   \n",
       "542  67900     6440       2.0        1        1      yes      no       no   \n",
       "543  68500     8100       4.0        1        4      yes      no      yes   \n",
       "544  70000     6720       3.0        1        1      yes      no       no   \n",
       "545  70500     5948       3.0        1        2      yes      no       no   \n",
       "\n",
       "    gashw airco  garagepl prefarea  \n",
       "541    no    no         3       no  \n",
       "542    no   yes         3       no  \n",
       "543    no   yes         2       no  \n",
       "544    no    no         0       no  \n",
       "545    no   yes         0       no  "
      ]
     },
     "execution_count": 16,
     "metadata": {},
     "output_type": "execute_result"
    }
   ],
   "source": [
    "df.tail()"
   ]
  },
  {
   "cell_type": "markdown",
   "metadata": {},
   "source": [
    "### Handling Missing values (NaN)"
   ]
  },
  {
   "cell_type": "markdown",
   "metadata": {},
   "source": [
    "### Cheking Null vaues in dataframe\n",
    "[pandas: Extract rows/columns with missing values (NaN)](https://note.nkmk.me/en/python-pandas-nan-extract/#:~:text=source%3A%20pandas_nan_extract.py-,Extract%20rows%2Fcolumns%20with%20missing%20values%20in%20specific%20columns%2Frows,a%20missing%20value%20or%20not.&text=isnull()%20is%20an%20alias,whose%20usage%20is%20the%20same.)"
   ]
  },
  {
   "cell_type": "code",
   "execution_count": 17,
   "metadata": {},
   "outputs": [
    {
     "name": "stdout",
     "output_type": "stream",
     "text": [
      "price        0\n",
      "lotsize      0\n",
      "bedrooms    14\n",
      "bathrms      0\n",
      "stories      0\n",
      "driveway    14\n",
      "recroom      0\n",
      "fullbase     0\n",
      "gashw        0\n",
      "airco        0\n",
      "garagepl     0\n",
      "prefarea     0\n",
      "dtype: int64\n"
     ]
    }
   ],
   "source": [
    "# Handling Missing values (NaN)\n",
    "# print(df.isna())\n",
    "# print(df.isnull())\n",
    "## To get summary of null values in each column\n",
    "# print(df.isna().sum()) \n",
    "print(df.isnull().sum())"
   ]
  },
  {
   "cell_type": "code",
   "execution_count": 18,
   "metadata": {},
   "outputs": [
    {
     "data": {
      "text/plain": [
       "price       68121.597070\n",
       "lotsize      5150.265568\n",
       "bedrooms        2.964286\n",
       "bathrms         1.285714\n",
       "stories         1.807692\n",
       "garagepl        0.692308\n",
       "dtype: float64"
      ]
     },
     "execution_count": 18,
     "metadata": {},
     "output_type": "execute_result"
    }
   ],
   "source": [
    "df.mean(numeric_only=True)"
   ]
  },
  {
   "cell_type": "code",
   "execution_count": 19,
   "metadata": {},
   "outputs": [
    {
     "name": "stdout",
     "output_type": "stream",
     "text": [
      "2.9642857142857144\n",
      "3\n"
     ]
    }
   ],
   "source": [
    "print(df['bedrooms'].mean())\n",
    "print(round(df['bedrooms'].mean()))"
   ]
  },
  {
   "cell_type": "code",
   "execution_count": 20,
   "metadata": {},
   "outputs": [
    {
     "data": {
      "text/plain": [
       "Int64Index([2, 3, 5, 6, 7, 8, 9, 10, 12, 13, 16, 22, 28, 29], dtype='int64')"
      ]
     },
     "execution_count": 20,
     "metadata": {},
     "output_type": "execute_result"
    }
   ],
   "source": [
    "df[ df['bedrooms'].isna() ].index"
   ]
  },
  {
   "cell_type": "markdown",
   "metadata": {},
   "source": [
    "[Handling Missing/Null values](https://towardsdatascience.com/7-ways-to-handle-missing-values-in-machine-learning-1a6326adf79e)"
   ]
  },
  {
   "cell_type": "code",
   "execution_count": 21,
   "metadata": {},
   "outputs": [
    {
     "data": {
      "text/plain": [
       "0      3.0\n",
       "1      2.0\n",
       "2      3.0\n",
       "3      3.0\n",
       "4      2.0\n",
       "      ... \n",
       "541    4.0\n",
       "542    2.0\n",
       "543    4.0\n",
       "544    3.0\n",
       "545    3.0\n",
       "Name: bedrooms, Length: 546, dtype: float64"
      ]
     },
     "execution_count": 21,
     "metadata": {},
     "output_type": "execute_result"
    }
   ],
   "source": [
    "# df['bedrooms'].fillna(value = 30)  \n",
    "# df['bedrooms'].fillna(value = 'missing')\n",
    "\n",
    "new_val = df['bedrooms'].mean()\n",
    "new_val = round(df['bedrooms'].mean())\n",
    "\n",
    "df['bedrooms'].fillna(value = new_val)\n",
    "# df['bedrooms'].fillna(value = new_val, inplace=True)                    "
   ]
  },
  {
   "cell_type": "code",
   "execution_count": 22,
   "metadata": {},
   "outputs": [
    {
     "name": "stdout",
     "output_type": "stream",
     "text": [
      "price        0\n",
      "lotsize      0\n",
      "bedrooms    14\n",
      "bathrms      0\n",
      "stories      0\n",
      "driveway    14\n",
      "recroom      0\n",
      "fullbase     0\n",
      "gashw        0\n",
      "airco        0\n",
      "garagepl     0\n",
      "prefarea     0\n",
      "dtype: int64\n"
     ]
    }
   ],
   "source": [
    "print(df.isna().sum())"
   ]
  },
  {
   "cell_type": "code",
   "execution_count": 23,
   "metadata": {},
   "outputs": [
    {
     "data": {
      "text/plain": [
       "price        0\n",
       "lotsize      0\n",
       "bedrooms     0\n",
       "bathrms      0\n",
       "stories      0\n",
       "driveway    14\n",
       "recroom      0\n",
       "fullbase     0\n",
       "gashw        0\n",
       "airco        0\n",
       "garagepl     0\n",
       "prefarea     0\n",
       "dtype: int64"
      ]
     },
     "execution_count": 23,
     "metadata": {},
     "output_type": "execute_result"
    }
   ],
   "source": [
    "## To update actual dataframe\n",
    "df['bedrooms'] = df['bedrooms'].fillna(value = round(df['bedrooms'].mean()))\n",
    "\n",
    "# df.loc[  index_list, 'bedrooms' ] = round(df['bedrooms'].mean())\n",
    "df.isna().sum()\n",
    "\n",
    "# # print(df.tail(10))\n",
    "\n",
    "# print(df.isna().sum())"
   ]
  },
  {
   "cell_type": "code",
   "execution_count": 24,
   "metadata": {},
   "outputs": [
    {
     "name": "stdout",
     "output_type": "stream",
     "text": [
      "<class 'pandas.core.series.Series'>\n",
      "0    yes\n",
      "Name: driveway, dtype: category\n",
      "Categories (2, object): ['no', 'yes']\n",
      "yes\n"
     ]
    }
   ],
   "source": [
    "### Get mode value in variable mod_value\n",
    "mod_value = df['driveway'].mode()\n",
    "print(type(mod_value))   ### It is series\n",
    "\n",
    "# print(df['driveway'].value_counts())\n",
    "# ### Display mode value using this\n",
    "print(mod_value)\n",
    "print(mod_value[0])"
   ]
  },
  {
   "cell_type": "code",
   "execution_count": 25,
   "metadata": {},
   "outputs": [
    {
     "name": "stdout",
     "output_type": "stream",
     "text": [
      "price       0\n",
      "lotsize     0\n",
      "bedrooms    0\n",
      "bathrms     0\n",
      "stories     0\n",
      "driveway    0\n",
      "recroom     0\n",
      "fullbase    0\n",
      "gashw       0\n",
      "airco       0\n",
      "garagepl    0\n",
      "prefarea    0\n",
      "dtype: int64\n"
     ]
    }
   ],
   "source": [
    "### Assign mode value at null positions in 'Embarked' column\n",
    "df['driveway'] = df['driveway'].fillna(value = mod_value[0])\n",
    "\n",
    "### Verify\n",
    "print(df.isnull().sum())"
   ]
  },
  {
   "cell_type": "code",
   "execution_count": 26,
   "metadata": {},
   "outputs": [
    {
     "name": "stdout",
     "output_type": "stream",
     "text": [
      "(546, 12)\n"
     ]
    },
    {
     "data": {
      "text/html": [
       "<div>\n",
       "<style scoped>\n",
       "    .dataframe tbody tr th:only-of-type {\n",
       "        vertical-align: middle;\n",
       "    }\n",
       "\n",
       "    .dataframe tbody tr th {\n",
       "        vertical-align: top;\n",
       "    }\n",
       "\n",
       "    .dataframe thead th {\n",
       "        text-align: right;\n",
       "    }\n",
       "</style>\n",
       "<table border=\"1\" class=\"dataframe\">\n",
       "  <thead>\n",
       "    <tr style=\"text-align: right;\">\n",
       "      <th></th>\n",
       "      <th>price</th>\n",
       "      <th>lotsize</th>\n",
       "      <th>bedrooms</th>\n",
       "      <th>bathrms</th>\n",
       "      <th>stories</th>\n",
       "      <th>driveway</th>\n",
       "      <th>recroom</th>\n",
       "      <th>fullbase</th>\n",
       "      <th>gashw</th>\n",
       "      <th>airco</th>\n",
       "      <th>garagepl</th>\n",
       "      <th>prefarea</th>\n",
       "    </tr>\n",
       "  </thead>\n",
       "  <tbody>\n",
       "    <tr>\n",
       "      <th>0</th>\n",
       "      <td>42000</td>\n",
       "      <td>5850</td>\n",
       "      <td>3.0</td>\n",
       "      <td>1</td>\n",
       "      <td>2</td>\n",
       "      <td>yes</td>\n",
       "      <td>no</td>\n",
       "      <td>yes</td>\n",
       "      <td>no</td>\n",
       "      <td>no</td>\n",
       "      <td>1</td>\n",
       "      <td>no</td>\n",
       "    </tr>\n",
       "    <tr>\n",
       "      <th>1</th>\n",
       "      <td>38500</td>\n",
       "      <td>4000</td>\n",
       "      <td>2.0</td>\n",
       "      <td>1</td>\n",
       "      <td>1</td>\n",
       "      <td>yes</td>\n",
       "      <td>no</td>\n",
       "      <td>no</td>\n",
       "      <td>no</td>\n",
       "      <td>no</td>\n",
       "      <td>0</td>\n",
       "      <td>no</td>\n",
       "    </tr>\n",
       "    <tr>\n",
       "      <th>2</th>\n",
       "      <td>49500</td>\n",
       "      <td>3060</td>\n",
       "      <td>3.0</td>\n",
       "      <td>1</td>\n",
       "      <td>1</td>\n",
       "      <td>yes</td>\n",
       "      <td>no</td>\n",
       "      <td>no</td>\n",
       "      <td>no</td>\n",
       "      <td>no</td>\n",
       "      <td>0</td>\n",
       "      <td>no</td>\n",
       "    </tr>\n",
       "    <tr>\n",
       "      <th>3</th>\n",
       "      <td>60500</td>\n",
       "      <td>6650</td>\n",
       "      <td>3.0</td>\n",
       "      <td>1</td>\n",
       "      <td>2</td>\n",
       "      <td>yes</td>\n",
       "      <td>yes</td>\n",
       "      <td>no</td>\n",
       "      <td>no</td>\n",
       "      <td>no</td>\n",
       "      <td>0</td>\n",
       "      <td>no</td>\n",
       "    </tr>\n",
       "    <tr>\n",
       "      <th>4</th>\n",
       "      <td>61000</td>\n",
       "      <td>6360</td>\n",
       "      <td>2.0</td>\n",
       "      <td>1</td>\n",
       "      <td>1</td>\n",
       "      <td>yes</td>\n",
       "      <td>no</td>\n",
       "      <td>no</td>\n",
       "      <td>no</td>\n",
       "      <td>no</td>\n",
       "      <td>0</td>\n",
       "      <td>no</td>\n",
       "    </tr>\n",
       "    <tr>\n",
       "      <th>...</th>\n",
       "      <td>...</td>\n",
       "      <td>...</td>\n",
       "      <td>...</td>\n",
       "      <td>...</td>\n",
       "      <td>...</td>\n",
       "      <td>...</td>\n",
       "      <td>...</td>\n",
       "      <td>...</td>\n",
       "      <td>...</td>\n",
       "      <td>...</td>\n",
       "      <td>...</td>\n",
       "      <td>...</td>\n",
       "    </tr>\n",
       "    <tr>\n",
       "      <th>541</th>\n",
       "      <td>65000</td>\n",
       "      <td>8400</td>\n",
       "      <td>4.0</td>\n",
       "      <td>1</td>\n",
       "      <td>4</td>\n",
       "      <td>yes</td>\n",
       "      <td>no</td>\n",
       "      <td>no</td>\n",
       "      <td>no</td>\n",
       "      <td>no</td>\n",
       "      <td>3</td>\n",
       "      <td>no</td>\n",
       "    </tr>\n",
       "    <tr>\n",
       "      <th>542</th>\n",
       "      <td>67900</td>\n",
       "      <td>6440</td>\n",
       "      <td>2.0</td>\n",
       "      <td>1</td>\n",
       "      <td>1</td>\n",
       "      <td>yes</td>\n",
       "      <td>no</td>\n",
       "      <td>no</td>\n",
       "      <td>no</td>\n",
       "      <td>yes</td>\n",
       "      <td>3</td>\n",
       "      <td>no</td>\n",
       "    </tr>\n",
       "    <tr>\n",
       "      <th>543</th>\n",
       "      <td>68500</td>\n",
       "      <td>8100</td>\n",
       "      <td>4.0</td>\n",
       "      <td>1</td>\n",
       "      <td>4</td>\n",
       "      <td>yes</td>\n",
       "      <td>no</td>\n",
       "      <td>yes</td>\n",
       "      <td>no</td>\n",
       "      <td>yes</td>\n",
       "      <td>2</td>\n",
       "      <td>no</td>\n",
       "    </tr>\n",
       "    <tr>\n",
       "      <th>544</th>\n",
       "      <td>70000</td>\n",
       "      <td>6720</td>\n",
       "      <td>3.0</td>\n",
       "      <td>1</td>\n",
       "      <td>1</td>\n",
       "      <td>yes</td>\n",
       "      <td>no</td>\n",
       "      <td>no</td>\n",
       "      <td>no</td>\n",
       "      <td>no</td>\n",
       "      <td>0</td>\n",
       "      <td>no</td>\n",
       "    </tr>\n",
       "    <tr>\n",
       "      <th>545</th>\n",
       "      <td>70500</td>\n",
       "      <td>5948</td>\n",
       "      <td>3.0</td>\n",
       "      <td>1</td>\n",
       "      <td>2</td>\n",
       "      <td>yes</td>\n",
       "      <td>no</td>\n",
       "      <td>no</td>\n",
       "      <td>no</td>\n",
       "      <td>yes</td>\n",
       "      <td>0</td>\n",
       "      <td>no</td>\n",
       "    </tr>\n",
       "  </tbody>\n",
       "</table>\n",
       "<p>546 rows × 12 columns</p>\n",
       "</div>"
      ],
      "text/plain": [
       "     price  lotsize  bedrooms  bathrms  stories driveway recroom fullbase  \\\n",
       "0    42000     5850       3.0        1        2      yes      no      yes   \n",
       "1    38500     4000       2.0        1        1      yes      no       no   \n",
       "2    49500     3060       3.0        1        1      yes      no       no   \n",
       "3    60500     6650       3.0        1        2      yes     yes       no   \n",
       "4    61000     6360       2.0        1        1      yes      no       no   \n",
       "..     ...      ...       ...      ...      ...      ...     ...      ...   \n",
       "541  65000     8400       4.0        1        4      yes      no       no   \n",
       "542  67900     6440       2.0        1        1      yes      no       no   \n",
       "543  68500     8100       4.0        1        4      yes      no      yes   \n",
       "544  70000     6720       3.0        1        1      yes      no       no   \n",
       "545  70500     5948       3.0        1        2      yes      no       no   \n",
       "\n",
       "    gashw airco  garagepl prefarea  \n",
       "0      no    no         1       no  \n",
       "1      no    no         0       no  \n",
       "2      no    no         0       no  \n",
       "3      no    no         0       no  \n",
       "4      no    no         0       no  \n",
       "..    ...   ...       ...      ...  \n",
       "541    no    no         3       no  \n",
       "542    no   yes         3       no  \n",
       "543    no   yes         2       no  \n",
       "544    no    no         0       no  \n",
       "545    no   yes         0       no  \n",
       "\n",
       "[546 rows x 12 columns]"
      ]
     },
     "execution_count": 26,
     "metadata": {},
     "output_type": "execute_result"
    }
   ],
   "source": [
    "# removing all rows containing at least 1 null value\n",
    "# df.dropna()\n",
    "\n",
    "# removing only rows with all null values\n",
    "# df.dropna(axis = 0, how='any')\n",
    "\n",
    "# Removing columns having not even 300 non-null values\n",
    "df.dropna( axis=1, thresh = 540, inplace=True)   ## To drop columns with missing values- Set 'axis' parameter to 1\n",
    "                                                 ## To do update permanently (Set 'inplace' parameter)\n",
    "# df.dropna(inplace=True)\n",
    "print(df.shape)\n",
    "df\n"
   ]
  },
  {
   "cell_type": "code",
   "execution_count": 27,
   "metadata": {},
   "outputs": [
    {
     "name": "stdout",
     "output_type": "stream",
     "text": [
      "price       0\n",
      "lotsize     0\n",
      "bedrooms    0\n",
      "bathrms     0\n",
      "stories     0\n",
      "driveway    0\n",
      "recroom     0\n",
      "fullbase    0\n",
      "gashw       0\n",
      "airco       0\n",
      "garagepl    0\n",
      "prefarea    0\n",
      "dtype: int64\n"
     ]
    }
   ],
   "source": [
    "print(df.isnull().sum())"
   ]
  },
  {
   "cell_type": "markdown",
   "metadata": {},
   "source": [
    "### Handling Outliers\n",
    "[Working with Outliers](https://careerfoundry.com/en/blog/data-analytics/how-to-find-outliers/#:~:text=For%20data%20that%20follows%20a,faulty%20equipment%2C%20or%20poor%20sampling.)"
   ]
  },
  {
   "cell_type": "code",
   "execution_count": 28,
   "metadata": {},
   "outputs": [
    {
     "data": {
      "text/html": [
       "<div>\n",
       "<style scoped>\n",
       "    .dataframe tbody tr th:only-of-type {\n",
       "        vertical-align: middle;\n",
       "    }\n",
       "\n",
       "    .dataframe tbody tr th {\n",
       "        vertical-align: top;\n",
       "    }\n",
       "\n",
       "    .dataframe thead th {\n",
       "        text-align: right;\n",
       "    }\n",
       "</style>\n",
       "<table border=\"1\" class=\"dataframe\">\n",
       "  <thead>\n",
       "    <tr style=\"text-align: right;\">\n",
       "      <th></th>\n",
       "      <th>price</th>\n",
       "      <th>lotsize</th>\n",
       "      <th>bedrooms</th>\n",
       "      <th>bathrms</th>\n",
       "      <th>stories</th>\n",
       "      <th>garagepl</th>\n",
       "    </tr>\n",
       "  </thead>\n",
       "  <tbody>\n",
       "    <tr>\n",
       "      <th>count</th>\n",
       "      <td>546.000000</td>\n",
       "      <td>546.000000</td>\n",
       "      <td>546.000000</td>\n",
       "      <td>546.000000</td>\n",
       "      <td>546.000000</td>\n",
       "      <td>546.000000</td>\n",
       "    </tr>\n",
       "    <tr>\n",
       "      <th>mean</th>\n",
       "      <td>68121.597070</td>\n",
       "      <td>5150.265568</td>\n",
       "      <td>2.965201</td>\n",
       "      <td>1.285714</td>\n",
       "      <td>1.807692</td>\n",
       "      <td>0.692308</td>\n",
       "    </tr>\n",
       "    <tr>\n",
       "      <th>std</th>\n",
       "      <td>26702.670926</td>\n",
       "      <td>2168.158725</td>\n",
       "      <td>0.737388</td>\n",
       "      <td>0.502158</td>\n",
       "      <td>0.868203</td>\n",
       "      <td>0.861307</td>\n",
       "    </tr>\n",
       "    <tr>\n",
       "      <th>min</th>\n",
       "      <td>25000.000000</td>\n",
       "      <td>1650.000000</td>\n",
       "      <td>1.000000</td>\n",
       "      <td>1.000000</td>\n",
       "      <td>1.000000</td>\n",
       "      <td>0.000000</td>\n",
       "    </tr>\n",
       "    <tr>\n",
       "      <th>25%</th>\n",
       "      <td>49125.000000</td>\n",
       "      <td>3600.000000</td>\n",
       "      <td>2.000000</td>\n",
       "      <td>1.000000</td>\n",
       "      <td>1.000000</td>\n",
       "      <td>0.000000</td>\n",
       "    </tr>\n",
       "    <tr>\n",
       "      <th>50%</th>\n",
       "      <td>62000.000000</td>\n",
       "      <td>4600.000000</td>\n",
       "      <td>3.000000</td>\n",
       "      <td>1.000000</td>\n",
       "      <td>2.000000</td>\n",
       "      <td>0.000000</td>\n",
       "    </tr>\n",
       "    <tr>\n",
       "      <th>75%</th>\n",
       "      <td>82000.000000</td>\n",
       "      <td>6360.000000</td>\n",
       "      <td>3.000000</td>\n",
       "      <td>2.000000</td>\n",
       "      <td>2.000000</td>\n",
       "      <td>1.000000</td>\n",
       "    </tr>\n",
       "    <tr>\n",
       "      <th>max</th>\n",
       "      <td>190000.000000</td>\n",
       "      <td>16200.000000</td>\n",
       "      <td>6.000000</td>\n",
       "      <td>4.000000</td>\n",
       "      <td>4.000000</td>\n",
       "      <td>3.000000</td>\n",
       "    </tr>\n",
       "  </tbody>\n",
       "</table>\n",
       "</div>"
      ],
      "text/plain": [
       "               price       lotsize    bedrooms     bathrms     stories  \\\n",
       "count     546.000000    546.000000  546.000000  546.000000  546.000000   \n",
       "mean    68121.597070   5150.265568    2.965201    1.285714    1.807692   \n",
       "std     26702.670926   2168.158725    0.737388    0.502158    0.868203   \n",
       "min     25000.000000   1650.000000    1.000000    1.000000    1.000000   \n",
       "25%     49125.000000   3600.000000    2.000000    1.000000    1.000000   \n",
       "50%     62000.000000   4600.000000    3.000000    1.000000    2.000000   \n",
       "75%     82000.000000   6360.000000    3.000000    2.000000    2.000000   \n",
       "max    190000.000000  16200.000000    6.000000    4.000000    4.000000   \n",
       "\n",
       "         garagepl  \n",
       "count  546.000000  \n",
       "mean     0.692308  \n",
       "std      0.861307  \n",
       "min      0.000000  \n",
       "25%      0.000000  \n",
       "50%      0.000000  \n",
       "75%      1.000000  \n",
       "max      3.000000  "
      ]
     },
     "execution_count": 28,
     "metadata": {},
     "output_type": "execute_result"
    }
   ],
   "source": [
    "# Handling Outliers\n",
    "df.describe()\n"
   ]
  },
  {
   "cell_type": "code",
   "execution_count": 29,
   "metadata": {},
   "outputs": [
    {
     "data": {
      "text/html": [
       "<div>\n",
       "<style scoped>\n",
       "    .dataframe tbody tr th:only-of-type {\n",
       "        vertical-align: middle;\n",
       "    }\n",
       "\n",
       "    .dataframe tbody tr th {\n",
       "        vertical-align: top;\n",
       "    }\n",
       "\n",
       "    .dataframe thead th {\n",
       "        text-align: right;\n",
       "    }\n",
       "</style>\n",
       "<table border=\"1\" class=\"dataframe\">\n",
       "  <thead>\n",
       "    <tr style=\"text-align: right;\">\n",
       "      <th></th>\n",
       "      <th>bedrooms</th>\n",
       "      <th>stories</th>\n",
       "    </tr>\n",
       "  </thead>\n",
       "  <tbody>\n",
       "    <tr>\n",
       "      <th>count</th>\n",
       "      <td>546.000000</td>\n",
       "      <td>546.000000</td>\n",
       "    </tr>\n",
       "    <tr>\n",
       "      <th>mean</th>\n",
       "      <td>2.965201</td>\n",
       "      <td>1.807692</td>\n",
       "    </tr>\n",
       "    <tr>\n",
       "      <th>std</th>\n",
       "      <td>0.737388</td>\n",
       "      <td>0.868203</td>\n",
       "    </tr>\n",
       "    <tr>\n",
       "      <th>min</th>\n",
       "      <td>1.000000</td>\n",
       "      <td>1.000000</td>\n",
       "    </tr>\n",
       "    <tr>\n",
       "      <th>25%</th>\n",
       "      <td>2.000000</td>\n",
       "      <td>1.000000</td>\n",
       "    </tr>\n",
       "    <tr>\n",
       "      <th>50%</th>\n",
       "      <td>3.000000</td>\n",
       "      <td>2.000000</td>\n",
       "    </tr>\n",
       "    <tr>\n",
       "      <th>75%</th>\n",
       "      <td>3.000000</td>\n",
       "      <td>2.000000</td>\n",
       "    </tr>\n",
       "    <tr>\n",
       "      <th>max</th>\n",
       "      <td>6.000000</td>\n",
       "      <td>4.000000</td>\n",
       "    </tr>\n",
       "  </tbody>\n",
       "</table>\n",
       "</div>"
      ],
      "text/plain": [
       "         bedrooms     stories\n",
       "count  546.000000  546.000000\n",
       "mean     2.965201    1.807692\n",
       "std      0.737388    0.868203\n",
       "min      1.000000    1.000000\n",
       "25%      2.000000    1.000000\n",
       "50%      3.000000    2.000000\n",
       "75%      3.000000    2.000000\n",
       "max      6.000000    4.000000"
      ]
     },
     "execution_count": 29,
     "metadata": {},
     "output_type": "execute_result"
    }
   ],
   "source": [
    "### Selective features Descriptive Statistics\n",
    "df.describe()[ ['bedrooms', 'stories'] ]"
   ]
  },
  {
   "cell_type": "markdown",
   "metadata": {},
   "source": [
    "### Outlier Detection"
   ]
  },
  {
   "cell_type": "code",
   "execution_count": 30,
   "metadata": {},
   "outputs": [
    {
     "data": {
      "text/plain": [
       "<AxesSubplot:ylabel='price'>"
      ]
     },
     "execution_count": 30,
     "metadata": {},
     "output_type": "execute_result"
    },
    {
     "data": {
      "image/png": "[encoded data removed]",
      "text/plain": [
       "<Figure size 432x288 with 1 Axes>"
      ]
     },
     "metadata": {
      "needs_background": "light"
     },
     "output_type": "display_data"
    }
   ],
   "source": [
    "# sns.displot(df['Fare'], kde= False, bins = 20)\n",
    "sns.boxplot(y='price', data= df )"
   ]
  },
  {
   "cell_type": "code",
   "execution_count": 31,
   "metadata": {},
   "outputs": [
    {
     "data": {
      "text/plain": [
       "price       49125.0\n",
       "lotsize      3600.0\n",
       "bedrooms        2.0\n",
       "bathrms         1.0\n",
       "stories         1.0\n",
       "garagepl        0.0\n",
       "Name: 0.25, dtype: float64"
      ]
     },
     "execution_count": 31,
     "metadata": {},
     "output_type": "execute_result"
    }
   ],
   "source": [
    "### STATISTICAL METHOD TO COMPUTE THE UPPER AND LOWER LIMITS\n",
    "q1 = df.quantile(0.25)\n",
    "q1"
   ]
  },
  {
   "cell_type": "code",
   "execution_count": 32,
   "metadata": {},
   "outputs": [
    {
     "data": {
      "text/plain": [
       "49125.0"
      ]
     },
     "execution_count": 32,
     "metadata": {},
     "output_type": "execute_result"
    }
   ],
   "source": [
    "### STATISTICAL METHOD TO COMPUTE THE UPPER AND LOWER LIMITS\n",
    "q1 = df['price'].quantile(0.25)\n",
    "q1"
   ]
  },
  {
   "cell_type": "code",
   "execution_count": 33,
   "metadata": {},
   "outputs": [
    {
     "name": "stdout",
     "output_type": "stream",
     "text": [
      "49125.0 82000.0\n"
     ]
    },
    {
     "data": {
      "text/plain": [
       "32875.0"
      ]
     },
     "execution_count": 33,
     "metadata": {},
     "output_type": "execute_result"
    }
   ],
   "source": [
    "### STATISTICAL METHOD TO COMPUTE THE UPPER AND LOWER LIMITS using QUANTILES\n",
    "q1 = np.quantile(df['price'], 0.25)\n",
    "q3 = np.quantile(df['price'], 0.75)\n",
    "print(q1,q3)\n",
    "IQR = q3-q1\n",
    "IQR"
   ]
  },
  {
   "cell_type": "code",
   "execution_count": 34,
   "metadata": {},
   "outputs": [
    {
     "name": "stdout",
     "output_type": "stream",
     "text": [
      "-187.5 131312.5\n"
     ]
    }
   ],
   "source": [
    "### Use IQR to find lower and upper limit\n",
    "lower_limit = q1 - 1.5*IQR\n",
    "upper_limit = q3 + 1.5*IQR\n",
    "print(lower_limit,upper_limit)"
   ]
  },
  {
   "cell_type": "code",
   "execution_count": 35,
   "metadata": {},
   "outputs": [
    {
     "name": "stdout",
     "output_type": "stream",
     "text": [
      "Int64Index([92, 103, 216, 331, 337, 338, 361, 362, 368, 375, 376, 377, 382,\n",
      "            418, 436],\n",
      "           dtype='int64') 15\n",
      "(531, 12)\n"
     ]
    }
   ],
   "source": [
    "### Use these limits to remove instances (rows)\n",
    "index_list = df.index[ (df['price'] < lower_limit) | (df['price'] > upper_limit) ]\n",
    "print(index_list, len(index_list))\n",
    "df = df.drop(index_list)\n",
    "print(df.shape)"
   ]
  },
  {
   "cell_type": "code",
   "execution_count": 36,
   "metadata": {},
   "outputs": [
    {
     "name": "stdout",
     "output_type": "stream",
     "text": [
      "For PRICE\n",
      "Highest allowed 134127.79912375682\n",
      "Lowest allowed -2618.97803147808\n",
      "134127.79912375682 -2618.97803147808\n",
      "(531, 12)\n"
     ]
    }
   ],
   "source": [
    "### STATISTICAL METHOD TO COMPUTE THE UPPER AND LOWER LIMITS using MEAN AND STANDARD DEVIATION\n",
    "print(\"For PRICE\")\n",
    "upper_limit = df['price'].mean() + 3*df['price'].std()\n",
    "lower_limit = df['price'].mean() - 3*df['price'].std()\n",
    "print(\"Highest allowed\",upper_limit)\n",
    "print(\"Lowest allowed\",lower_limit)\n",
    "print(upper_limit,lower_limit)\n",
    "## Applying the limits\n",
    "df[\"price\"] = np.where (df[\"price\"] <lower_limit, lower_limit,df['price'])\n",
    "df[\"price\"] = np.where (df[\"price\"] >upper_limit, upper_limit,df['price'])\n",
    "\n",
    "# np.where(if Condition is True, return value1, else return value2 )\n",
    "\n",
    "print(df.shape)"
   ]
  },
  {
   "cell_type": "markdown",
   "metadata": {},
   "source": [
    "### Skewness\n",
    "[Check Skewness](https://www.investopedia.com/terms/s/skewness.asp)"
   ]
  },
  {
   "cell_type": "code",
   "execution_count": 37,
   "metadata": {},
   "outputs": [
    {
     "data": {
      "text/plain": [
       "price       0.692044\n",
       "lotsize     1.223342\n",
       "bedrooms    0.525893\n",
       "bathrms     1.434486\n",
       "stories     1.090608\n",
       "garagepl    0.892272\n",
       "dtype: float64"
      ]
     },
     "execution_count": 37,
     "metadata": {},
     "output_type": "execute_result"
    }
   ],
   "source": [
    "df.skew(numeric_only=True)"
   ]
  },
  {
   "cell_type": "code",
   "execution_count": 38,
   "metadata": {},
   "outputs": [
    {
     "data": {
      "text/plain": [
       "price       0.692044\n",
       "lotsize     1.223342\n",
       "bedrooms    0.525893\n",
       "bathrms     1.434486\n",
       "dtype: float64"
      ]
     },
     "execution_count": 38,
     "metadata": {},
     "output_type": "execute_result"
    }
   ],
   "source": [
    "### Just df.skew() raises a warning. So selcted columns need to be given\n",
    "df[['price', 'lotsize', 'bedrooms', 'bathrms']].skew()"
   ]
  },
  {
   "cell_type": "code",
   "execution_count": 39,
   "metadata": {},
   "outputs": [
    {
     "name": "stdout",
     "output_type": "stream",
     "text": [
      "count      531.000000\n",
      "mean      5061.403013\n",
      "std       2073.492302\n",
      "min       1650.000000\n",
      "25%       3555.000000\n",
      "50%       4500.000000\n",
      "75%       6310.500000\n",
      "max      15600.000000\n",
      "Name: lotsize, dtype: float64\n"
     ]
    },
    {
     "data": {
      "text/plain": [
       "6000    23\n",
       "3000    14\n",
       "4500    13\n",
       "4000    11\n",
       "6600     9\n",
       "        ..\n",
       "2325     1\n",
       "3540     1\n",
       "2640     1\n",
       "3792     1\n",
       "5948     1\n",
       "Name: lotsize, Length: 278, dtype: int64"
      ]
     },
     "execution_count": 39,
     "metadata": {},
     "output_type": "execute_result"
    }
   ],
   "source": [
    "print(df['lotsize'].describe())\n",
    "df['lotsize'].value_counts()"
   ]
  },
  {
   "cell_type": "code",
   "execution_count": 40,
   "metadata": {},
   "outputs": [
    {
     "name": "stdout",
     "output_type": "stream",
     "text": [
      "4500.0\n",
      "15600\n",
      "1650\n",
      "5061.403013182674\n",
      "lotsize feature seems to be skewed....\n",
      "1.2233418159949034\n",
      "lotsize feature is right skewed....\n"
     ]
    },
    {
     "data": {
      "image/png": "[encoded data removed]",
      "text/plain": [
       "<Figure size 360x360 with 1 Axes>"
      ]
     },
     "metadata": {
      "needs_background": "light"
     },
     "output_type": "display_data"
    }
   ],
   "source": [
    "sns.displot(x='lotsize', data= df, bins=15 )\n",
    "print(df['lotsize'].median())\n",
    "print(df['lotsize'].max())\n",
    "print(df['lotsize'].min())\n",
    "print(df['lotsize'].mean())\n",
    "print(\"lotsize feature seems to be skewed....\")\n",
    "\n",
    "### Compute skewness\n",
    "print(df['lotsize'].skew())\n",
    "print(\"lotsize feature is right skewed....\")"
   ]
  },
  {
   "cell_type": "code",
   "execution_count": 41,
   "metadata": {},
   "outputs": [
    {
     "name": "stdout",
     "output_type": "stream",
     "text": [
      "0.112516136720141\n"
     ]
    },
    {
     "data": {
      "image/png": "[encoded data removed]",
      "text/plain": [
       "<Figure size 360x360 with 1 Axes>"
      ]
     },
     "metadata": {
      "needs_background": "light"
     },
     "output_type": "display_data"
    }
   ],
   "source": [
    "lotsize_log = np.log(df['lotsize'] + 1)\n",
    "print(lotsize_log.skew())\n",
    "sns.displot(x=lotsize_log,bins=15)\n",
    "df['lotsize'] = lotsize_log\n",
    "# sns.displot(x='lotsize', data= df, bins=15 )"
   ]
  },
  {
   "cell_type": "code",
   "execution_count": 42,
   "metadata": {},
   "outputs": [
    {
     "data": {
      "text/plain": [
       "<seaborn.axisgrid.FacetGrid at 0x2055039a820>"
      ]
     },
     "execution_count": 42,
     "metadata": {},
     "output_type": "execute_result"
    },
    {
     "data": {
      "image/png": "[encoded data removed]",
      "text/plain": [
       "<Figure size 360x360 with 1 Axes>"
      ]
     },
     "metadata": {
      "needs_background": "light"
     },
     "output_type": "display_data"
    }
   ],
   "source": [
    "# print(\"Following features are moderately skewed\")\n",
    "sns.displot(x='bathrms', data= df )   # moderately"
   ]
  },
  {
   "cell_type": "code",
   "execution_count": 43,
   "metadata": {},
   "outputs": [
    {
     "name": "stdout",
     "output_type": "stream",
     "text": [
      "Following features are symmetric\n"
     ]
    },
    {
     "data": {
      "text/plain": [
       "<seaborn.axisgrid.FacetGrid at 0x2055031f520>"
      ]
     },
     "execution_count": 43,
     "metadata": {},
     "output_type": "execute_result"
    },
    {
     "data": {
      "image/png": "[encoded data removed]",
      "text/plain": [
       "<Figure size 360x360 with 1 Axes>"
      ]
     },
     "metadata": {
      "needs_background": "light"
     },
     "output_type": "display_data"
    }
   ],
   "source": [
    "print(\"Following features are symmetric\")\n",
    "sns.displot(x='bedrooms', data= df, bins=5)"
   ]
  },
  {
   "cell_type": "markdown",
   "metadata": {},
   "source": [
    "### Feature Scaling"
   ]
  },
  {
   "cell_type": "code",
   "execution_count": 44,
   "metadata": {},
   "outputs": [],
   "source": [
    "from sklearn.preprocessing import StandardScaler, MinMaxScaler"
   ]
  },
  {
   "cell_type": "code",
   "execution_count": 45,
   "metadata": {},
   "outputs": [
    {
     "name": "stdout",
     "output_type": "stream",
     "text": [
      "9.65509029374725 7.409136443920128\n"
     ]
    }
   ],
   "source": [
    "print(df['lotsize'].max(), df['lotsize'].min())"
   ]
  },
  {
   "cell_type": "code",
   "execution_count": 46,
   "metadata": {},
   "outputs": [
    {
     "name": "stdout",
     "output_type": "stream",
     "text": [
      "3 1\n"
     ]
    }
   ],
   "source": [
    "print(df['bathrms'].max(), df['bathrms'].min())"
   ]
  },
  {
   "cell_type": "code",
   "execution_count": 47,
   "metadata": {},
   "outputs": [
    {
     "name": "stdout",
     "output_type": "stream",
     "text": [
      "130000.0 25000.0\n"
     ]
    }
   ],
   "source": [
    "print(df['price'].max(), df['price'].min())"
   ]
  },
  {
   "cell_type": "code",
   "execution_count": 48,
   "metadata": {},
   "outputs": [
    {
     "name": "stdout",
     "output_type": "stream",
     "text": [
      "[[0.         0.4        0.56333812]\n",
      " [0.         0.2        0.39411458]\n",
      " [0.         0.4        0.27487675]\n",
      " [0.         0.4        0.62039835]\n",
      " [0.         0.2        0.6005486 ]\n",
      " [0.         0.4        0.41157313]\n",
      " [0.5        0.4        0.38055621]\n",
      " [0.         0.4        0.41157313]\n",
      " [0.         0.4        0.47527382]\n",
      " [0.5        0.4        0.5358742 ]]\n"
     ]
    }
   ],
   "source": [
    "### Using MinMaxScaler() for Min Max Scaling\n",
    "\n",
    "# scaler=MinMaxScaler(feature_range=(-1,1))   # a=-1, b=1\n",
    "# scaler=MinMaxScaler(feature_range=(0,10))   # a=0, b=10\n",
    "\n",
    "scaler = MinMaxScaler()   # a=0, b=1\n",
    "column_list = ['bathrms','bedrooms','lotsize']\n",
    "X = df[ column_list ]\n",
    "X_scaled = scaler.fit_transform(X)\n",
    "X_scaled_df = pd.DataFrame(X_scaled, columns=column_list)\n",
    "print(X_scaled[0:10,:])\n",
    "X_scaled_df.head()\n",
    "\n",
    "df.update(X_scaled_df[ column_list ])"
   ]
  },
  {
   "cell_type": "code",
   "execution_count": 49,
   "metadata": {},
   "outputs": [
    {
     "data": {
      "text/html": [
       "<div>\n",
       "<style scoped>\n",
       "    .dataframe tbody tr th:only-of-type {\n",
       "        vertical-align: middle;\n",
       "    }\n",
       "\n",
       "    .dataframe tbody tr th {\n",
       "        vertical-align: top;\n",
       "    }\n",
       "\n",
       "    .dataframe thead th {\n",
       "        text-align: right;\n",
       "    }\n",
       "</style>\n",
       "<table border=\"1\" class=\"dataframe\">\n",
       "  <thead>\n",
       "    <tr style=\"text-align: right;\">\n",
       "      <th></th>\n",
       "      <th>bathrms</th>\n",
       "      <th>bedrooms</th>\n",
       "      <th>lotsize</th>\n",
       "    </tr>\n",
       "  </thead>\n",
       "  <tbody>\n",
       "    <tr>\n",
       "      <th>0</th>\n",
       "      <td>0.0</td>\n",
       "      <td>0.4</td>\n",
       "      <td>0.563338</td>\n",
       "    </tr>\n",
       "    <tr>\n",
       "      <th>1</th>\n",
       "      <td>0.0</td>\n",
       "      <td>0.2</td>\n",
       "      <td>0.394115</td>\n",
       "    </tr>\n",
       "    <tr>\n",
       "      <th>2</th>\n",
       "      <td>0.0</td>\n",
       "      <td>0.4</td>\n",
       "      <td>0.274877</td>\n",
       "    </tr>\n",
       "    <tr>\n",
       "      <th>3</th>\n",
       "      <td>0.0</td>\n",
       "      <td>0.4</td>\n",
       "      <td>0.620398</td>\n",
       "    </tr>\n",
       "    <tr>\n",
       "      <th>4</th>\n",
       "      <td>0.0</td>\n",
       "      <td>0.2</td>\n",
       "      <td>0.600549</td>\n",
       "    </tr>\n",
       "    <tr>\n",
       "      <th>...</th>\n",
       "      <td>...</td>\n",
       "      <td>...</td>\n",
       "      <td>...</td>\n",
       "    </tr>\n",
       "    <tr>\n",
       "      <th>526</th>\n",
       "      <td>0.0</td>\n",
       "      <td>0.6</td>\n",
       "      <td>0.724400</td>\n",
       "    </tr>\n",
       "    <tr>\n",
       "      <th>527</th>\n",
       "      <td>0.0</td>\n",
       "      <td>0.2</td>\n",
       "      <td>0.606113</td>\n",
       "    </tr>\n",
       "    <tr>\n",
       "      <th>528</th>\n",
       "      <td>0.0</td>\n",
       "      <td>0.6</td>\n",
       "      <td>0.708210</td>\n",
       "    </tr>\n",
       "    <tr>\n",
       "      <th>529</th>\n",
       "      <td>0.0</td>\n",
       "      <td>0.4</td>\n",
       "      <td>0.625060</td>\n",
       "    </tr>\n",
       "    <tr>\n",
       "      <th>530</th>\n",
       "      <td>0.0</td>\n",
       "      <td>0.4</td>\n",
       "      <td>0.570734</td>\n",
       "    </tr>\n",
       "  </tbody>\n",
       "</table>\n",
       "<p>531 rows × 3 columns</p>\n",
       "</div>"
      ],
      "text/plain": [
       "     bathrms  bedrooms   lotsize\n",
       "0        0.0       0.4  0.563338\n",
       "1        0.0       0.2  0.394115\n",
       "2        0.0       0.4  0.274877\n",
       "3        0.0       0.4  0.620398\n",
       "4        0.0       0.2  0.600549\n",
       "..       ...       ...       ...\n",
       "526      0.0       0.6  0.724400\n",
       "527      0.0       0.2  0.606113\n",
       "528      0.0       0.6  0.708210\n",
       "529      0.0       0.4  0.625060\n",
       "530      0.0       0.4  0.570734\n",
       "\n",
       "[531 rows x 3 columns]"
      ]
     },
     "execution_count": 49,
     "metadata": {},
     "output_type": "execute_result"
    }
   ],
   "source": [
    "X_scaled_df"
   ]
  },
  {
   "cell_type": "code",
   "execution_count": 50,
   "metadata": {},
   "outputs": [
    {
     "data": {
      "text/html": [
       "<div>\n",
       "<style scoped>\n",
       "    .dataframe tbody tr th:only-of-type {\n",
       "        vertical-align: middle;\n",
       "    }\n",
       "\n",
       "    .dataframe tbody tr th {\n",
       "        vertical-align: top;\n",
       "    }\n",
       "\n",
       "    .dataframe thead th {\n",
       "        text-align: right;\n",
       "    }\n",
       "</style>\n",
       "<table border=\"1\" class=\"dataframe\">\n",
       "  <thead>\n",
       "    <tr style=\"text-align: right;\">\n",
       "      <th></th>\n",
       "      <th>bathrms</th>\n",
       "      <th>bedrooms</th>\n",
       "      <th>lotsize</th>\n",
       "    </tr>\n",
       "  </thead>\n",
       "  <tbody>\n",
       "    <tr>\n",
       "      <th>0</th>\n",
       "      <td>0.0</td>\n",
       "      <td>0.4</td>\n",
       "      <td>0.563338</td>\n",
       "    </tr>\n",
       "    <tr>\n",
       "      <th>1</th>\n",
       "      <td>0.0</td>\n",
       "      <td>0.2</td>\n",
       "      <td>0.394115</td>\n",
       "    </tr>\n",
       "    <tr>\n",
       "      <th>2</th>\n",
       "      <td>0.0</td>\n",
       "      <td>0.4</td>\n",
       "      <td>0.274877</td>\n",
       "    </tr>\n",
       "    <tr>\n",
       "      <th>3</th>\n",
       "      <td>0.0</td>\n",
       "      <td>0.4</td>\n",
       "      <td>0.620398</td>\n",
       "    </tr>\n",
       "    <tr>\n",
       "      <th>4</th>\n",
       "      <td>0.0</td>\n",
       "      <td>0.2</td>\n",
       "      <td>0.600549</td>\n",
       "    </tr>\n",
       "    <tr>\n",
       "      <th>...</th>\n",
       "      <td>...</td>\n",
       "      <td>...</td>\n",
       "      <td>...</td>\n",
       "    </tr>\n",
       "    <tr>\n",
       "      <th>541</th>\n",
       "      <td>1.0</td>\n",
       "      <td>4.0</td>\n",
       "      <td>9.036106</td>\n",
       "    </tr>\n",
       "    <tr>\n",
       "      <th>542</th>\n",
       "      <td>1.0</td>\n",
       "      <td>2.0</td>\n",
       "      <td>8.770439</td>\n",
       "    </tr>\n",
       "    <tr>\n",
       "      <th>543</th>\n",
       "      <td>1.0</td>\n",
       "      <td>4.0</td>\n",
       "      <td>8.999743</td>\n",
       "    </tr>\n",
       "    <tr>\n",
       "      <th>544</th>\n",
       "      <td>1.0</td>\n",
       "      <td>3.0</td>\n",
       "      <td>8.812992</td>\n",
       "    </tr>\n",
       "    <tr>\n",
       "      <th>545</th>\n",
       "      <td>1.0</td>\n",
       "      <td>3.0</td>\n",
       "      <td>8.690978</td>\n",
       "    </tr>\n",
       "  </tbody>\n",
       "</table>\n",
       "<p>531 rows × 3 columns</p>\n",
       "</div>"
      ],
      "text/plain": [
       "     bathrms  bedrooms   lotsize\n",
       "0        0.0       0.4  0.563338\n",
       "1        0.0       0.2  0.394115\n",
       "2        0.0       0.4  0.274877\n",
       "3        0.0       0.4  0.620398\n",
       "4        0.0       0.2  0.600549\n",
       "..       ...       ...       ...\n",
       "541      1.0       4.0  9.036106\n",
       "542      1.0       2.0  8.770439\n",
       "543      1.0       4.0  8.999743\n",
       "544      1.0       3.0  8.812992\n",
       "545      1.0       3.0  8.690978\n",
       "\n",
       "[531 rows x 3 columns]"
      ]
     },
     "execution_count": 50,
     "metadata": {},
     "output_type": "execute_result"
    }
   ],
   "source": [
    "df [column_list]"
   ]
  },
  {
   "cell_type": "code",
   "execution_count": 51,
   "metadata": {},
   "outputs": [],
   "source": [
    "y1 = df['price']"
   ]
  },
  {
   "cell_type": "code",
   "execution_count": 52,
   "metadata": {},
   "outputs": [
    {
     "name": "stdout",
     "output_type": "stream",
     "text": [
      "1.0\n",
      "0.0\n"
     ]
    },
    {
     "data": {
      "text/plain": [
       "0      0.161905\n",
       "1      0.128571\n",
       "2      0.233333\n",
       "3      0.338095\n",
       "4      0.342857\n",
       "         ...   \n",
       "541    0.380952\n",
       "542    0.408571\n",
       "543    0.414286\n",
       "544    0.428571\n",
       "545    0.433333\n",
       "Name: price, Length: 531, dtype: float64"
      ]
     },
     "execution_count": 52,
     "metadata": {},
     "output_type": "execute_result"
    }
   ],
   "source": [
    "# (A) Min-Max Scaling (a and b may be assigned by us)\n",
    "a = 0\n",
    "b = 1\n",
    "y1_new = a + ( (y1 - min(y1))/(max(y1)-min(y1)) * (b-a) )\n",
    "print(y1_new.max())\n",
    "print(y1_new.min())\n",
    "# df['price'] = y1_new  ### Commented for now\n",
    "y1_new"
   ]
  },
  {
   "cell_type": "code",
   "execution_count": 53,
   "metadata": {},
   "outputs": [
    {
     "name": "stdout",
     "output_type": "stream",
     "text": [
      "1.0\n",
      "0.0\n"
     ]
    },
    {
     "data": {
      "text/plain": [
       "0      0.161905\n",
       "1      0.128571\n",
       "2      0.233333\n",
       "3      0.338095\n",
       "4      0.342857\n",
       "         ...   \n",
       "541    0.380952\n",
       "542    0.408571\n",
       "543    0.414286\n",
       "544    0.428571\n",
       "545    0.433333\n",
       "Name: price, Length: 531, dtype: float64"
      ]
     },
     "execution_count": 53,
     "metadata": {},
     "output_type": "execute_result"
    }
   ],
   "source": [
    "# (A) Min-Max Scaling (a=0, b=1)\n",
    "y1_new = (y1-min(y1))/(max(y1)-min(y1))\n",
    "print(y1_new.max())\n",
    "print(y1_new.min())\n",
    "# df['Fare'] = y1_new\n",
    "y1_new"
   ]
  },
  {
   "cell_type": "code",
   "execution_count": 54,
   "metadata": {},
   "outputs": [
    {
     "name": "stdout",
     "output_type": "stream",
     "text": [
      "0.6118627567034346\n",
      "-0.38813724329656535\n",
      "-6.967642616880103e-17\n"
     ]
    },
    {
     "data": {
      "text/plain": [
       "0     -0.226232\n",
       "1     -0.259566\n",
       "2     -0.154804\n",
       "3     -0.050042\n",
       "4     -0.045280\n",
       "         ...   \n",
       "541   -0.007185\n",
       "542    0.020434\n",
       "543    0.026148\n",
       "544    0.040434\n",
       "545    0.045196\n",
       "Name: price, Length: 531, dtype: float64"
      ]
     },
     "execution_count": 54,
     "metadata": {},
     "output_type": "execute_result"
    }
   ],
   "source": [
    "# (B) Mean Normalization\n",
    "y1_new = (y1-np.mean(y1))/(max(y1)-min(y1))\n",
    "print(y1_new.max())\n",
    "print(y1_new.min())\n",
    "print(np.mean(y1_new))\n",
    "y1_new"
   ]
  },
  {
   "cell_type": "code",
   "execution_count": 55,
   "metadata": {},
   "outputs": [
    {
     "name": "stdout",
     "output_type": "stream",
     "text": [
      "2.8215437881339356\n",
      "-1.7898560024591648\n",
      "4.0091387000352874e-17\n",
      "1.0000000000000002\n"
     ]
    }
   ],
   "source": [
    "# (C) Standardization (Z-score Normalization)\n",
    "y1_new = (y1-np.mean(y1))/np.std(y1)\n",
    "print(y1_new.max())\n",
    "print(y1_new.min())\n",
    "print(np.mean(y1_new))   ### Value close to 0\n",
    "print(np.std(y1_new))   ### Value close to 1"
   ]
  },
  {
   "cell_type": "code",
   "execution_count": 56,
   "metadata": {},
   "outputs": [
    {
     "name": "stdout",
     "output_type": "stream",
     "text": [
      "49000.0 80000.0\n",
      "2.225806451612903\n",
      "-1.1612903225806452\n"
     ]
    }
   ],
   "source": [
    "# (D) Robust Scaling\n",
    "q1 = np.quantile(df['price'], 0.25)\n",
    "q3 = np.quantile(df['price'], 0.75)\n",
    "print(q1,q3)\n",
    "IQR = q3-q1\n",
    "IQR\n",
    "y1_new = (y1-np.median(y1))/IQR\n",
    "print(y1_new.max())\n",
    "print(y1_new.min())"
   ]
  },
  {
   "cell_type": "code",
   "execution_count": 57,
   "metadata": {},
   "outputs": [],
   "source": [
    "## Make a choice of proper Scaling method"
   ]
  },
  {
   "cell_type": "markdown",
   "metadata": {},
   "source": [
    "### Data Encoding using Classes for Encoding from sklearn.preprocessing"
   ]
  },
  {
   "cell_type": "code",
   "execution_count": 58,
   "metadata": {},
   "outputs": [
    {
     "name": "stdout",
     "output_type": "stream",
     "text": [
      "no     438\n",
      "yes     93\n",
      "Name: recroom, dtype: int64\n"
     ]
    },
    {
     "data": {
      "text/html": [
       "<div>\n",
       "<style scoped>\n",
       "    .dataframe tbody tr th:only-of-type {\n",
       "        vertical-align: middle;\n",
       "    }\n",
       "\n",
       "    .dataframe tbody tr th {\n",
       "        vertical-align: top;\n",
       "    }\n",
       "\n",
       "    .dataframe thead th {\n",
       "        text-align: right;\n",
       "    }\n",
       "</style>\n",
       "<table border=\"1\" class=\"dataframe\">\n",
       "  <thead>\n",
       "    <tr style=\"text-align: right;\">\n",
       "      <th></th>\n",
       "      <th>price</th>\n",
       "      <th>lotsize</th>\n",
       "      <th>bedrooms</th>\n",
       "      <th>bathrms</th>\n",
       "      <th>stories</th>\n",
       "      <th>driveway</th>\n",
       "      <th>recroom</th>\n",
       "      <th>fullbase</th>\n",
       "      <th>gashw</th>\n",
       "      <th>airco</th>\n",
       "      <th>garagepl</th>\n",
       "      <th>prefarea</th>\n",
       "    </tr>\n",
       "  </thead>\n",
       "  <tbody>\n",
       "    <tr>\n",
       "      <th>0</th>\n",
       "      <td>42000.0</td>\n",
       "      <td>0.563338</td>\n",
       "      <td>0.4</td>\n",
       "      <td>0.0</td>\n",
       "      <td>2</td>\n",
       "      <td>yes</td>\n",
       "      <td>no</td>\n",
       "      <td>yes</td>\n",
       "      <td>no</td>\n",
       "      <td>no</td>\n",
       "      <td>1</td>\n",
       "      <td>no</td>\n",
       "    </tr>\n",
       "    <tr>\n",
       "      <th>1</th>\n",
       "      <td>38500.0</td>\n",
       "      <td>0.394115</td>\n",
       "      <td>0.2</td>\n",
       "      <td>0.0</td>\n",
       "      <td>1</td>\n",
       "      <td>yes</td>\n",
       "      <td>no</td>\n",
       "      <td>no</td>\n",
       "      <td>no</td>\n",
       "      <td>no</td>\n",
       "      <td>0</td>\n",
       "      <td>no</td>\n",
       "    </tr>\n",
       "    <tr>\n",
       "      <th>2</th>\n",
       "      <td>49500.0</td>\n",
       "      <td>0.274877</td>\n",
       "      <td>0.4</td>\n",
       "      <td>0.0</td>\n",
       "      <td>1</td>\n",
       "      <td>yes</td>\n",
       "      <td>no</td>\n",
       "      <td>no</td>\n",
       "      <td>no</td>\n",
       "      <td>no</td>\n",
       "      <td>0</td>\n",
       "      <td>no</td>\n",
       "    </tr>\n",
       "    <tr>\n",
       "      <th>3</th>\n",
       "      <td>60500.0</td>\n",
       "      <td>0.620398</td>\n",
       "      <td>0.4</td>\n",
       "      <td>0.0</td>\n",
       "      <td>2</td>\n",
       "      <td>yes</td>\n",
       "      <td>yes</td>\n",
       "      <td>no</td>\n",
       "      <td>no</td>\n",
       "      <td>no</td>\n",
       "      <td>0</td>\n",
       "      <td>no</td>\n",
       "    </tr>\n",
       "    <tr>\n",
       "      <th>4</th>\n",
       "      <td>61000.0</td>\n",
       "      <td>0.600549</td>\n",
       "      <td>0.2</td>\n",
       "      <td>0.0</td>\n",
       "      <td>1</td>\n",
       "      <td>yes</td>\n",
       "      <td>no</td>\n",
       "      <td>no</td>\n",
       "      <td>no</td>\n",
       "      <td>no</td>\n",
       "      <td>0</td>\n",
       "      <td>no</td>\n",
       "    </tr>\n",
       "  </tbody>\n",
       "</table>\n",
       "</div>"
      ],
      "text/plain": [
       "     price   lotsize  bedrooms  bathrms  stories driveway recroom fullbase  \\\n",
       "0  42000.0  0.563338       0.4      0.0        2      yes      no      yes   \n",
       "1  38500.0  0.394115       0.2      0.0        1      yes      no       no   \n",
       "2  49500.0  0.274877       0.4      0.0        1      yes      no       no   \n",
       "3  60500.0  0.620398       0.4      0.0        2      yes     yes       no   \n",
       "4  61000.0  0.600549       0.2      0.0        1      yes      no       no   \n",
       "\n",
       "  gashw airco  garagepl prefarea  \n",
       "0    no    no         1       no  \n",
       "1    no    no         0       no  \n",
       "2    no    no         0       no  \n",
       "3    no    no         0       no  \n",
       "4    no    no         0       no  "
      ]
     },
     "execution_count": 58,
     "metadata": {},
     "output_type": "execute_result"
    }
   ],
   "source": [
    "print(df['recroom'].value_counts())\n",
    "df.head()"
   ]
  },
  {
   "cell_type": "markdown",
   "metadata": {},
   "source": [
    "### Label Encoding applied to our column in dataset"
   ]
  },
  {
   "cell_type": "code",
   "execution_count": 59,
   "metadata": {},
   "outputs": [
    {
     "name": "stdout",
     "output_type": "stream",
     "text": [
      "['no', 'yes']\n",
      "Categories (2, object): ['no', 'yes']\n",
      "0       no\n",
      "1       no\n",
      "2       no\n",
      "3      yes\n",
      "4       no\n",
      "      ... \n",
      "541     no\n",
      "542     no\n",
      "543     no\n",
      "544     no\n",
      "545     no\n",
      "Name: recroom, Length: 531, dtype: category\n",
      "Categories (2, object): ['no', 'yes']\n",
      "0      0\n",
      "1      0\n",
      "2      0\n",
      "3      1\n",
      "4      0\n",
      "      ..\n",
      "541    0\n",
      "542    0\n",
      "543    0\n",
      "544    0\n",
      "545    0\n",
      "Name: recroom, Length: 531, dtype: int32\n",
      "['no' 'yes']\n"
     ]
    }
   ],
   "source": [
    "from sklearn.preprocessing import LabelEncoder\n",
    "\n",
    "print(df['recroom'].unique())\n",
    "\n",
    "rec_encoder = LabelEncoder()\n",
    "print(df['recroom'])\n",
    "\n",
    "rec_encoder = rec_encoder.fit(df['recroom']) ### Mapping Table created\n",
    "rec_values = rec_encoder.transform(df['recroom'])\n",
    "### Re-assign encoded values to the 'Sex' column\n",
    "df['recroom'] = rec_values\n",
    "\n",
    "print(df['recroom'])\n",
    "\n",
    "print(rec_encoder.classes_)\n",
    "# rec_values\n",
    "# df"
   ]
  },
  {
   "cell_type": "code",
   "execution_count": 60,
   "metadata": {},
   "outputs": [
    {
     "name": "stdout",
     "output_type": "stream",
     "text": [
      "The inverse from the encoding for  [0 0 0 1 0]  Last five values \n",
      "The inverse from the encoding result: ['no' 'no' 'no' 'yes' 'no']\n"
     ]
    }
   ],
   "source": [
    "print(\"The inverse from the encoding for \", rec_values[:5], ' Last five values ' )\n",
    "print(\"The inverse from the encoding result:\", rec_encoder.inverse_transform(rec_values[:5]))"
   ]
  },
  {
   "cell_type": "markdown",
   "metadata": {},
   "source": [
    "### OneHot Encoding applied to our column in dataset"
   ]
  },
  {
   "cell_type": "code",
   "execution_count": 61,
   "metadata": {},
   "outputs": [
    {
     "data": {
      "text/plain": [
       "0      yes\n",
       "1       no\n",
       "2       no\n",
       "3       no\n",
       "4       no\n",
       "      ... \n",
       "541     no\n",
       "542     no\n",
       "543    yes\n",
       "544     no\n",
       "545     no\n",
       "Name: fullbase, Length: 531, dtype: category\n",
       "Categories (2, object): ['no', 'yes']"
      ]
     },
     "execution_count": 61,
     "metadata": {},
     "output_type": "execute_result"
    }
   ],
   "source": [
    "df['fullbase']"
   ]
  },
  {
   "cell_type": "code",
   "execution_count": 62,
   "metadata": {},
   "outputs": [
    {
     "name": "stdout",
     "output_type": "stream",
     "text": [
      "     no  yes\n",
      "0     0    1\n",
      "1     1    0\n",
      "2     1    0\n",
      "3     1    0\n",
      "4     1    0\n",
      "..   ..  ...\n",
      "541   1    0\n",
      "542   1    0\n",
      "543   0    1\n",
      "544   1    0\n",
      "545   1    0\n",
      "\n",
      "[531 rows x 2 columns]\n"
     ]
    }
   ],
   "source": [
    "# print(df.iloc[ [0:5],  ['fullbase'] ])\n",
    "print(pd.get_dummies(df['fullbase']))"
   ]
  },
  {
   "cell_type": "code",
   "execution_count": 63,
   "metadata": {},
   "outputs": [
    {
     "data": {
      "text/html": [
       "<div>\n",
       "<style scoped>\n",
       "    .dataframe tbody tr th:only-of-type {\n",
       "        vertical-align: middle;\n",
       "    }\n",
       "\n",
       "    .dataframe tbody tr th {\n",
       "        vertical-align: top;\n",
       "    }\n",
       "\n",
       "    .dataframe thead th {\n",
       "        text-align: right;\n",
       "    }\n",
       "</style>\n",
       "<table border=\"1\" class=\"dataframe\">\n",
       "  <thead>\n",
       "    <tr style=\"text-align: right;\">\n",
       "      <th></th>\n",
       "      <th>fullbase_no</th>\n",
       "      <th>fullbase_yes</th>\n",
       "      <th>airco_no</th>\n",
       "      <th>airco_yes</th>\n",
       "      <th>gashw_no</th>\n",
       "      <th>gashw_yes</th>\n",
       "    </tr>\n",
       "  </thead>\n",
       "  <tbody>\n",
       "    <tr>\n",
       "      <th>0</th>\n",
       "      <td>0</td>\n",
       "      <td>1</td>\n",
       "      <td>1</td>\n",
       "      <td>0</td>\n",
       "      <td>1</td>\n",
       "      <td>0</td>\n",
       "    </tr>\n",
       "    <tr>\n",
       "      <th>1</th>\n",
       "      <td>1</td>\n",
       "      <td>0</td>\n",
       "      <td>1</td>\n",
       "      <td>0</td>\n",
       "      <td>1</td>\n",
       "      <td>0</td>\n",
       "    </tr>\n",
       "    <tr>\n",
       "      <th>2</th>\n",
       "      <td>1</td>\n",
       "      <td>0</td>\n",
       "      <td>1</td>\n",
       "      <td>0</td>\n",
       "      <td>1</td>\n",
       "      <td>0</td>\n",
       "    </tr>\n",
       "    <tr>\n",
       "      <th>3</th>\n",
       "      <td>1</td>\n",
       "      <td>0</td>\n",
       "      <td>1</td>\n",
       "      <td>0</td>\n",
       "      <td>1</td>\n",
       "      <td>0</td>\n",
       "    </tr>\n",
       "    <tr>\n",
       "      <th>4</th>\n",
       "      <td>1</td>\n",
       "      <td>0</td>\n",
       "      <td>1</td>\n",
       "      <td>0</td>\n",
       "      <td>1</td>\n",
       "      <td>0</td>\n",
       "    </tr>\n",
       "    <tr>\n",
       "      <th>...</th>\n",
       "      <td>...</td>\n",
       "      <td>...</td>\n",
       "      <td>...</td>\n",
       "      <td>...</td>\n",
       "      <td>...</td>\n",
       "      <td>...</td>\n",
       "    </tr>\n",
       "    <tr>\n",
       "      <th>541</th>\n",
       "      <td>1</td>\n",
       "      <td>0</td>\n",
       "      <td>1</td>\n",
       "      <td>0</td>\n",
       "      <td>1</td>\n",
       "      <td>0</td>\n",
       "    </tr>\n",
       "    <tr>\n",
       "      <th>542</th>\n",
       "      <td>1</td>\n",
       "      <td>0</td>\n",
       "      <td>0</td>\n",
       "      <td>1</td>\n",
       "      <td>1</td>\n",
       "      <td>0</td>\n",
       "    </tr>\n",
       "    <tr>\n",
       "      <th>543</th>\n",
       "      <td>0</td>\n",
       "      <td>1</td>\n",
       "      <td>0</td>\n",
       "      <td>1</td>\n",
       "      <td>1</td>\n",
       "      <td>0</td>\n",
       "    </tr>\n",
       "    <tr>\n",
       "      <th>544</th>\n",
       "      <td>1</td>\n",
       "      <td>0</td>\n",
       "      <td>1</td>\n",
       "      <td>0</td>\n",
       "      <td>1</td>\n",
       "      <td>0</td>\n",
       "    </tr>\n",
       "    <tr>\n",
       "      <th>545</th>\n",
       "      <td>1</td>\n",
       "      <td>0</td>\n",
       "      <td>0</td>\n",
       "      <td>1</td>\n",
       "      <td>1</td>\n",
       "      <td>0</td>\n",
       "    </tr>\n",
       "  </tbody>\n",
       "</table>\n",
       "<p>531 rows × 6 columns</p>\n",
       "</div>"
      ],
      "text/plain": [
       "     fullbase_no  fullbase_yes  airco_no  airco_yes  gashw_no  gashw_yes\n",
       "0              0             1         1          0         1          0\n",
       "1              1             0         1          0         1          0\n",
       "2              1             0         1          0         1          0\n",
       "3              1             0         1          0         1          0\n",
       "4              1             0         1          0         1          0\n",
       "..           ...           ...       ...        ...       ...        ...\n",
       "541            1             0         1          0         1          0\n",
       "542            1             0         0          1         1          0\n",
       "543            0             1         0          1         1          0\n",
       "544            1             0         1          0         1          0\n",
       "545            1             0         0          1         1          0\n",
       "\n",
       "[531 rows x 6 columns]"
      ]
     },
     "execution_count": 63,
     "metadata": {},
     "output_type": "execute_result"
    }
   ],
   "source": [
    "cat_col_list = ['fullbase','airco','gashw' ]\n",
    "\n",
    "pd.get_dummies(df[ cat_col_list ] )\n"
   ]
  },
  {
   "cell_type": "code",
   "execution_count": 64,
   "metadata": {},
   "outputs": [
    {
     "data": {
      "text/html": [
       "<div>\n",
       "<style scoped>\n",
       "    .dataframe tbody tr th:only-of-type {\n",
       "        vertical-align: middle;\n",
       "    }\n",
       "\n",
       "    .dataframe tbody tr th {\n",
       "        vertical-align: top;\n",
       "    }\n",
       "\n",
       "    .dataframe thead th {\n",
       "        text-align: right;\n",
       "    }\n",
       "</style>\n",
       "<table border=\"1\" class=\"dataframe\">\n",
       "  <thead>\n",
       "    <tr style=\"text-align: right;\">\n",
       "      <th></th>\n",
       "      <th>price</th>\n",
       "      <th>lotsize</th>\n",
       "      <th>bedrooms</th>\n",
       "      <th>bathrms</th>\n",
       "      <th>stories</th>\n",
       "      <th>driveway</th>\n",
       "      <th>recroom</th>\n",
       "      <th>fullbase</th>\n",
       "      <th>gashw</th>\n",
       "      <th>airco</th>\n",
       "      <th>garagepl</th>\n",
       "      <th>prefarea</th>\n",
       "    </tr>\n",
       "  </thead>\n",
       "  <tbody>\n",
       "    <tr>\n",
       "      <th>0</th>\n",
       "      <td>42000.0</td>\n",
       "      <td>0.563338</td>\n",
       "      <td>0.4</td>\n",
       "      <td>0.0</td>\n",
       "      <td>2</td>\n",
       "      <td>yes</td>\n",
       "      <td>0</td>\n",
       "      <td>yes</td>\n",
       "      <td>no</td>\n",
       "      <td>no</td>\n",
       "      <td>1</td>\n",
       "      <td>no</td>\n",
       "    </tr>\n",
       "    <tr>\n",
       "      <th>1</th>\n",
       "      <td>38500.0</td>\n",
       "      <td>0.394115</td>\n",
       "      <td>0.2</td>\n",
       "      <td>0.0</td>\n",
       "      <td>1</td>\n",
       "      <td>yes</td>\n",
       "      <td>0</td>\n",
       "      <td>no</td>\n",
       "      <td>no</td>\n",
       "      <td>no</td>\n",
       "      <td>0</td>\n",
       "      <td>no</td>\n",
       "    </tr>\n",
       "    <tr>\n",
       "      <th>2</th>\n",
       "      <td>49500.0</td>\n",
       "      <td>0.274877</td>\n",
       "      <td>0.4</td>\n",
       "      <td>0.0</td>\n",
       "      <td>1</td>\n",
       "      <td>yes</td>\n",
       "      <td>0</td>\n",
       "      <td>no</td>\n",
       "      <td>no</td>\n",
       "      <td>no</td>\n",
       "      <td>0</td>\n",
       "      <td>no</td>\n",
       "    </tr>\n",
       "    <tr>\n",
       "      <th>3</th>\n",
       "      <td>60500.0</td>\n",
       "      <td>0.620398</td>\n",
       "      <td>0.4</td>\n",
       "      <td>0.0</td>\n",
       "      <td>2</td>\n",
       "      <td>yes</td>\n",
       "      <td>1</td>\n",
       "      <td>no</td>\n",
       "      <td>no</td>\n",
       "      <td>no</td>\n",
       "      <td>0</td>\n",
       "      <td>no</td>\n",
       "    </tr>\n",
       "    <tr>\n",
       "      <th>4</th>\n",
       "      <td>61000.0</td>\n",
       "      <td>0.600549</td>\n",
       "      <td>0.2</td>\n",
       "      <td>0.0</td>\n",
       "      <td>1</td>\n",
       "      <td>yes</td>\n",
       "      <td>0</td>\n",
       "      <td>no</td>\n",
       "      <td>no</td>\n",
       "      <td>no</td>\n",
       "      <td>0</td>\n",
       "      <td>no</td>\n",
       "    </tr>\n",
       "    <tr>\n",
       "      <th>...</th>\n",
       "      <td>...</td>\n",
       "      <td>...</td>\n",
       "      <td>...</td>\n",
       "      <td>...</td>\n",
       "      <td>...</td>\n",
       "      <td>...</td>\n",
       "      <td>...</td>\n",
       "      <td>...</td>\n",
       "      <td>...</td>\n",
       "      <td>...</td>\n",
       "      <td>...</td>\n",
       "      <td>...</td>\n",
       "    </tr>\n",
       "    <tr>\n",
       "      <th>541</th>\n",
       "      <td>65000.0</td>\n",
       "      <td>9.036106</td>\n",
       "      <td>4.0</td>\n",
       "      <td>1.0</td>\n",
       "      <td>4</td>\n",
       "      <td>yes</td>\n",
       "      <td>0</td>\n",
       "      <td>no</td>\n",
       "      <td>no</td>\n",
       "      <td>no</td>\n",
       "      <td>3</td>\n",
       "      <td>no</td>\n",
       "    </tr>\n",
       "    <tr>\n",
       "      <th>542</th>\n",
       "      <td>67900.0</td>\n",
       "      <td>8.770439</td>\n",
       "      <td>2.0</td>\n",
       "      <td>1.0</td>\n",
       "      <td>1</td>\n",
       "      <td>yes</td>\n",
       "      <td>0</td>\n",
       "      <td>no</td>\n",
       "      <td>no</td>\n",
       "      <td>yes</td>\n",
       "      <td>3</td>\n",
       "      <td>no</td>\n",
       "    </tr>\n",
       "    <tr>\n",
       "      <th>543</th>\n",
       "      <td>68500.0</td>\n",
       "      <td>8.999743</td>\n",
       "      <td>4.0</td>\n",
       "      <td>1.0</td>\n",
       "      <td>4</td>\n",
       "      <td>yes</td>\n",
       "      <td>0</td>\n",
       "      <td>yes</td>\n",
       "      <td>no</td>\n",
       "      <td>yes</td>\n",
       "      <td>2</td>\n",
       "      <td>no</td>\n",
       "    </tr>\n",
       "    <tr>\n",
       "      <th>544</th>\n",
       "      <td>70000.0</td>\n",
       "      <td>8.812992</td>\n",
       "      <td>3.0</td>\n",
       "      <td>1.0</td>\n",
       "      <td>1</td>\n",
       "      <td>yes</td>\n",
       "      <td>0</td>\n",
       "      <td>no</td>\n",
       "      <td>no</td>\n",
       "      <td>no</td>\n",
       "      <td>0</td>\n",
       "      <td>no</td>\n",
       "    </tr>\n",
       "    <tr>\n",
       "      <th>545</th>\n",
       "      <td>70500.0</td>\n",
       "      <td>8.690978</td>\n",
       "      <td>3.0</td>\n",
       "      <td>1.0</td>\n",
       "      <td>2</td>\n",
       "      <td>yes</td>\n",
       "      <td>0</td>\n",
       "      <td>no</td>\n",
       "      <td>no</td>\n",
       "      <td>yes</td>\n",
       "      <td>0</td>\n",
       "      <td>no</td>\n",
       "    </tr>\n",
       "  </tbody>\n",
       "</table>\n",
       "<p>531 rows × 12 columns</p>\n",
       "</div>"
      ],
      "text/plain": [
       "       price   lotsize  bedrooms  bathrms  stories driveway  recroom fullbase  \\\n",
       "0    42000.0  0.563338       0.4      0.0        2      yes        0      yes   \n",
       "1    38500.0  0.394115       0.2      0.0        1      yes        0       no   \n",
       "2    49500.0  0.274877       0.4      0.0        1      yes        0       no   \n",
       "3    60500.0  0.620398       0.4      0.0        2      yes        1       no   \n",
       "4    61000.0  0.600549       0.2      0.0        1      yes        0       no   \n",
       "..       ...       ...       ...      ...      ...      ...      ...      ...   \n",
       "541  65000.0  9.036106       4.0      1.0        4      yes        0       no   \n",
       "542  67900.0  8.770439       2.0      1.0        1      yes        0       no   \n",
       "543  68500.0  8.999743       4.0      1.0        4      yes        0      yes   \n",
       "544  70000.0  8.812992       3.0      1.0        1      yes        0       no   \n",
       "545  70500.0  8.690978       3.0      1.0        2      yes        0       no   \n",
       "\n",
       "    gashw airco  garagepl prefarea  \n",
       "0      no    no         1       no  \n",
       "1      no    no         0       no  \n",
       "2      no    no         0       no  \n",
       "3      no    no         0       no  \n",
       "4      no    no         0       no  \n",
       "..    ...   ...       ...      ...  \n",
       "541    no    no         3       no  \n",
       "542    no   yes         3       no  \n",
       "543    no   yes         2       no  \n",
       "544    no    no         0       no  \n",
       "545    no   yes         0       no  \n",
       "\n",
       "[531 rows x 12 columns]"
      ]
     },
     "execution_count": 64,
     "metadata": {},
     "output_type": "execute_result"
    }
   ],
   "source": [
    "df"
   ]
  },
  {
   "cell_type": "code",
   "execution_count": 65,
   "metadata": {},
   "outputs": [
    {
     "name": "stdout",
     "output_type": "stream",
     "text": [
      "Index(['fullbase_no', 'fullbase_yes', 'airco_no', 'airco_yes', 'gashw_no',\n",
      "       'gashw_yes'],\n",
      "      dtype='object')\n"
     ]
    }
   ],
   "source": [
    "dummies_df = pd.get_dummies(df[ cat_col_list])\n",
    "\n",
    "\n",
    "df.drop(cat_col_list, axis = 1, inplace=True)\n",
    "\n",
    "new_cols_list = dummies_df.columns\n",
    "print(new_cols_list)                        \n",
    "df[new_cols_list] = dummies_df[new_cols_list].copy()                           "
   ]
  },
  {
   "cell_type": "code",
   "execution_count": 66,
   "metadata": {},
   "outputs": [
    {
     "data": {
      "text/plain": [
       "(531, 15)"
      ]
     },
     "execution_count": 66,
     "metadata": {},
     "output_type": "execute_result"
    }
   ],
   "source": [
    "df.shape"
   ]
  },
  {
   "cell_type": "markdown",
   "metadata": {},
   "source": [
    "### Ordinal Encoding applied to our column in dataset"
   ]
  },
  {
   "cell_type": "markdown",
   "metadata": {},
   "source": [
    "Important Note: \n",
    "Actually, SCALING may be done/not should be applied for every numeric feature of dataset (particularly if their range varies a lot), when working on DATA SCIENCE PROJECT depending on ML algorithm to be used further .\n",
    "\n",
    "Also, ENCODING needs to be done for each and every categorical(non-numeric) feature, when working on DATA SCIENCE PROJECT.\n"
   ]
  },
  {
   "cell_type": "code",
   "execution_count": 67,
   "metadata": {},
   "outputs": [],
   "source": [
    "from sklearn.preprocessing import OrdinalEncoder\n"
   ]
  },
  {
   "cell_type": "code",
   "execution_count": 68,
   "metadata": {},
   "outputs": [
    {
     "name": "stdout",
     "output_type": "stream",
     "text": [
      "['no' 'yes']\n"
     ]
    }
   ],
   "source": [
    "print(df['prefarea'].unique())\n",
    "df['prefarea'] = df['prefarea'].astype('object')"
   ]
  },
  {
   "cell_type": "code",
   "execution_count": 69,
   "metadata": {},
   "outputs": [
    {
     "data": {
      "text/plain": [
       "0      no\n",
       "1      no\n",
       "2      no\n",
       "3      no\n",
       "4      no\n",
       "       ..\n",
       "541    no\n",
       "542    no\n",
       "543    no\n",
       "544    no\n",
       "545    no\n",
       "Name: prefarea, Length: 531, dtype: object"
      ]
     },
     "execution_count": 69,
     "metadata": {},
     "output_type": "execute_result"
    }
   ],
   "source": [
    "df['prefarea']"
   ]
  },
  {
   "cell_type": "code",
   "execution_count": 70,
   "metadata": {},
   "outputs": [],
   "source": [
    "mapping = {\"no\":1, \"yes\":0 }\n",
    "# mapping = {'most likely':5, 'more likely':4, 'likely':3, 'less likely':2, 'least likely':1}"
   ]
  },
  {
   "cell_type": "code",
   "execution_count": 71,
   "metadata": {},
   "outputs": [],
   "source": [
    "df[\"prefarea\"] = df[\"prefarea\"].map(mapping)\n",
    "# df[\"new_driveway\"] = df[\"driveway\"].replace(mapping)"
   ]
  },
  {
   "cell_type": "code",
   "execution_count": 72,
   "metadata": {},
   "outputs": [
    {
     "data": {
      "text/plain": [
       "0      1\n",
       "1      1\n",
       "2      1\n",
       "3      1\n",
       "4      1\n",
       "      ..\n",
       "541    1\n",
       "542    1\n",
       "543    1\n",
       "544    1\n",
       "545    1\n",
       "Name: prefarea, Length: 531, dtype: int64"
      ]
     },
     "execution_count": 72,
     "metadata": {},
     "output_type": "execute_result"
    }
   ],
   "source": [
    "df['prefarea']"
   ]
  },
  {
   "cell_type": "code",
   "execution_count": 73,
   "metadata": {},
   "outputs": [
    {
     "data": {
      "text/html": [
       "<div>\n",
       "<style scoped>\n",
       "    .dataframe tbody tr th:only-of-type {\n",
       "        vertical-align: middle;\n",
       "    }\n",
       "\n",
       "    .dataframe tbody tr th {\n",
       "        vertical-align: top;\n",
       "    }\n",
       "\n",
       "    .dataframe thead th {\n",
       "        text-align: right;\n",
       "    }\n",
       "</style>\n",
       "<table border=\"1\" class=\"dataframe\">\n",
       "  <thead>\n",
       "    <tr style=\"text-align: right;\">\n",
       "      <th></th>\n",
       "      <th>price</th>\n",
       "      <th>lotsize</th>\n",
       "      <th>bedrooms</th>\n",
       "      <th>bathrms</th>\n",
       "      <th>stories</th>\n",
       "      <th>driveway</th>\n",
       "      <th>recroom</th>\n",
       "      <th>garagepl</th>\n",
       "      <th>prefarea</th>\n",
       "      <th>fullbase_no</th>\n",
       "      <th>fullbase_yes</th>\n",
       "      <th>airco_no</th>\n",
       "      <th>airco_yes</th>\n",
       "      <th>gashw_no</th>\n",
       "      <th>gashw_yes</th>\n",
       "    </tr>\n",
       "  </thead>\n",
       "  <tbody>\n",
       "    <tr>\n",
       "      <th>0</th>\n",
       "      <td>42000.0</td>\n",
       "      <td>0.563338</td>\n",
       "      <td>0.4</td>\n",
       "      <td>0.0</td>\n",
       "      <td>2</td>\n",
       "      <td>yes</td>\n",
       "      <td>0</td>\n",
       "      <td>1</td>\n",
       "      <td>1</td>\n",
       "      <td>0</td>\n",
       "      <td>1</td>\n",
       "      <td>1</td>\n",
       "      <td>0</td>\n",
       "      <td>1</td>\n",
       "      <td>0</td>\n",
       "    </tr>\n",
       "    <tr>\n",
       "      <th>1</th>\n",
       "      <td>38500.0</td>\n",
       "      <td>0.394115</td>\n",
       "      <td>0.2</td>\n",
       "      <td>0.0</td>\n",
       "      <td>1</td>\n",
       "      <td>yes</td>\n",
       "      <td>0</td>\n",
       "      <td>0</td>\n",
       "      <td>1</td>\n",
       "      <td>1</td>\n",
       "      <td>0</td>\n",
       "      <td>1</td>\n",
       "      <td>0</td>\n",
       "      <td>1</td>\n",
       "      <td>0</td>\n",
       "    </tr>\n",
       "    <tr>\n",
       "      <th>2</th>\n",
       "      <td>49500.0</td>\n",
       "      <td>0.274877</td>\n",
       "      <td>0.4</td>\n",
       "      <td>0.0</td>\n",
       "      <td>1</td>\n",
       "      <td>yes</td>\n",
       "      <td>0</td>\n",
       "      <td>0</td>\n",
       "      <td>1</td>\n",
       "      <td>1</td>\n",
       "      <td>0</td>\n",
       "      <td>1</td>\n",
       "      <td>0</td>\n",
       "      <td>1</td>\n",
       "      <td>0</td>\n",
       "    </tr>\n",
       "    <tr>\n",
       "      <th>3</th>\n",
       "      <td>60500.0</td>\n",
       "      <td>0.620398</td>\n",
       "      <td>0.4</td>\n",
       "      <td>0.0</td>\n",
       "      <td>2</td>\n",
       "      <td>yes</td>\n",
       "      <td>1</td>\n",
       "      <td>0</td>\n",
       "      <td>1</td>\n",
       "      <td>1</td>\n",
       "      <td>0</td>\n",
       "      <td>1</td>\n",
       "      <td>0</td>\n",
       "      <td>1</td>\n",
       "      <td>0</td>\n",
       "    </tr>\n",
       "    <tr>\n",
       "      <th>4</th>\n",
       "      <td>61000.0</td>\n",
       "      <td>0.600549</td>\n",
       "      <td>0.2</td>\n",
       "      <td>0.0</td>\n",
       "      <td>1</td>\n",
       "      <td>yes</td>\n",
       "      <td>0</td>\n",
       "      <td>0</td>\n",
       "      <td>1</td>\n",
       "      <td>1</td>\n",
       "      <td>0</td>\n",
       "      <td>1</td>\n",
       "      <td>0</td>\n",
       "      <td>1</td>\n",
       "      <td>0</td>\n",
       "    </tr>\n",
       "    <tr>\n",
       "      <th>...</th>\n",
       "      <td>...</td>\n",
       "      <td>...</td>\n",
       "      <td>...</td>\n",
       "      <td>...</td>\n",
       "      <td>...</td>\n",
       "      <td>...</td>\n",
       "      <td>...</td>\n",
       "      <td>...</td>\n",
       "      <td>...</td>\n",
       "      <td>...</td>\n",
       "      <td>...</td>\n",
       "      <td>...</td>\n",
       "      <td>...</td>\n",
       "      <td>...</td>\n",
       "      <td>...</td>\n",
       "    </tr>\n",
       "    <tr>\n",
       "      <th>541</th>\n",
       "      <td>65000.0</td>\n",
       "      <td>9.036106</td>\n",
       "      <td>4.0</td>\n",
       "      <td>1.0</td>\n",
       "      <td>4</td>\n",
       "      <td>yes</td>\n",
       "      <td>0</td>\n",
       "      <td>3</td>\n",
       "      <td>1</td>\n",
       "      <td>1</td>\n",
       "      <td>0</td>\n",
       "      <td>1</td>\n",
       "      <td>0</td>\n",
       "      <td>1</td>\n",
       "      <td>0</td>\n",
       "    </tr>\n",
       "    <tr>\n",
       "      <th>542</th>\n",
       "      <td>67900.0</td>\n",
       "      <td>8.770439</td>\n",
       "      <td>2.0</td>\n",
       "      <td>1.0</td>\n",
       "      <td>1</td>\n",
       "      <td>yes</td>\n",
       "      <td>0</td>\n",
       "      <td>3</td>\n",
       "      <td>1</td>\n",
       "      <td>1</td>\n",
       "      <td>0</td>\n",
       "      <td>0</td>\n",
       "      <td>1</td>\n",
       "      <td>1</td>\n",
       "      <td>0</td>\n",
       "    </tr>\n",
       "    <tr>\n",
       "      <th>543</th>\n",
       "      <td>68500.0</td>\n",
       "      <td>8.999743</td>\n",
       "      <td>4.0</td>\n",
       "      <td>1.0</td>\n",
       "      <td>4</td>\n",
       "      <td>yes</td>\n",
       "      <td>0</td>\n",
       "      <td>2</td>\n",
       "      <td>1</td>\n",
       "      <td>0</td>\n",
       "      <td>1</td>\n",
       "      <td>0</td>\n",
       "      <td>1</td>\n",
       "      <td>1</td>\n",
       "      <td>0</td>\n",
       "    </tr>\n",
       "    <tr>\n",
       "      <th>544</th>\n",
       "      <td>70000.0</td>\n",
       "      <td>8.812992</td>\n",
       "      <td>3.0</td>\n",
       "      <td>1.0</td>\n",
       "      <td>1</td>\n",
       "      <td>yes</td>\n",
       "      <td>0</td>\n",
       "      <td>0</td>\n",
       "      <td>1</td>\n",
       "      <td>1</td>\n",
       "      <td>0</td>\n",
       "      <td>1</td>\n",
       "      <td>0</td>\n",
       "      <td>1</td>\n",
       "      <td>0</td>\n",
       "    </tr>\n",
       "    <tr>\n",
       "      <th>545</th>\n",
       "      <td>70500.0</td>\n",
       "      <td>8.690978</td>\n",
       "      <td>3.0</td>\n",
       "      <td>1.0</td>\n",
       "      <td>2</td>\n",
       "      <td>yes</td>\n",
       "      <td>0</td>\n",
       "      <td>0</td>\n",
       "      <td>1</td>\n",
       "      <td>1</td>\n",
       "      <td>0</td>\n",
       "      <td>0</td>\n",
       "      <td>1</td>\n",
       "      <td>1</td>\n",
       "      <td>0</td>\n",
       "    </tr>\n",
       "  </tbody>\n",
       "</table>\n",
       "<p>531 rows × 15 columns</p>\n",
       "</div>"
      ],
      "text/plain": [
       "       price   lotsize  bedrooms  bathrms  stories driveway  recroom  \\\n",
       "0    42000.0  0.563338       0.4      0.0        2      yes        0   \n",
       "1    38500.0  0.394115       0.2      0.0        1      yes        0   \n",
       "2    49500.0  0.274877       0.4      0.0        1      yes        0   \n",
       "3    60500.0  0.620398       0.4      0.0        2      yes        1   \n",
       "4    61000.0  0.600549       0.2      0.0        1      yes        0   \n",
       "..       ...       ...       ...      ...      ...      ...      ...   \n",
       "541  65000.0  9.036106       4.0      1.0        4      yes        0   \n",
       "542  67900.0  8.770439       2.0      1.0        1      yes        0   \n",
       "543  68500.0  8.999743       4.0      1.0        4      yes        0   \n",
       "544  70000.0  8.812992       3.0      1.0        1      yes        0   \n",
       "545  70500.0  8.690978       3.0      1.0        2      yes        0   \n",
       "\n",
       "     garagepl  prefarea  fullbase_no  fullbase_yes  airco_no  airco_yes  \\\n",
       "0           1         1            0             1         1          0   \n",
       "1           0         1            1             0         1          0   \n",
       "2           0         1            1             0         1          0   \n",
       "3           0         1            1             0         1          0   \n",
       "4           0         1            1             0         1          0   \n",
       "..        ...       ...          ...           ...       ...        ...   \n",
       "541         3         1            1             0         1          0   \n",
       "542         3         1            1             0         0          1   \n",
       "543         2         1            0             1         0          1   \n",
       "544         0         1            1             0         1          0   \n",
       "545         0         1            1             0         0          1   \n",
       "\n",
       "     gashw_no  gashw_yes  \n",
       "0           1          0  \n",
       "1           1          0  \n",
       "2           1          0  \n",
       "3           1          0  \n",
       "4           1          0  \n",
       "..        ...        ...  \n",
       "541         1          0  \n",
       "542         1          0  \n",
       "543         1          0  \n",
       "544         1          0  \n",
       "545         1          0  \n",
       "\n",
       "[531 rows x 15 columns]"
      ]
     },
     "execution_count": 73,
     "metadata": {},
     "output_type": "execute_result"
    }
   ],
   "source": [
    "df"
   ]
  },
  {
   "cell_type": "code",
   "execution_count": 74,
   "metadata": {},
   "outputs": [
    {
     "name": "stdout",
     "output_type": "stream",
     "text": [
      "        Education  Encoded_Education\n",
      "0     High School                  1\n",
      "1     High School                  1\n",
      "2        Bachelor                  3\n",
      "3          Master                  4\n",
      "4             PhD                  5\n",
      "5       Associate                  2\n",
      "6             PhD                  5\n",
      "7     High School                  1\n",
      "8  Primary School                  0\n"
     ]
    }
   ],
   "source": [
    "### Simple Similar example for Ordinal encoding\n",
    "\n",
    "mydata = pd.DataFrame({\n",
    "    'Education': ['High School','High School', 'Bachelor', 'Master', 'PhD', 'Associate','PhD','High School','Primary School']\n",
    "})\n",
    "\n",
    "custom_mapping = {\n",
    "    'Primary School' : 0,\n",
    "    'High School': 1,\n",
    "    'Associate': 2,\n",
    "    'Bachelor': 3,\n",
    "    'Master': 4,\n",
    "    'PhD': 5\n",
    "}\n",
    "\n",
    "\n",
    "mydata['Encoded_Education'] = mydata['Education'].map(custom_mapping)\n",
    "\n",
    "print(mydata)"
   ]
  },
  {
   "cell_type": "code",
   "execution_count": null,
   "metadata": {},
   "outputs": [],
   "source": []
  }
 ],
 "metadata": {
  "kernelspec": {
   "display_name": "Python 3",
   "language": "python",
   "name": "python3"
  },
  "language_info": {
   "codemirror_mode": {
    "name": "ipython",
    "version": 3
   },
   "file_extension": ".py",
   "mimetype": "text/x-python",
   "name": "python",
   "nbconvert_exporter": "python",
   "pygments_lexer": "ipython3",
   "version": "3.8.5"
  }
 },
 "nbformat": 4,
 "nbformat_minor": 4
}
