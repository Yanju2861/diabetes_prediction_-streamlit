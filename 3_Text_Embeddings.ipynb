{
  "cells": [
    {
      "cell_type": "markdown",
      "source": [
        "[All Resources for NLP](https://drive.google.com/drive/folders/1gAtmKXtB59sjqTuDl_Xj8S9Sp9DdjUH5?usp=sharing)\n"
      ],
      "metadata": {
        "id": "QelfW2XG9Ll7"
      },
      "id": "QelfW2XG9Ll7"
    },
    {
      "cell_type": "code",
      "execution_count": 1,
      "id": "4e3cca19",
      "metadata": {
        "colab": {
          "base_uri": "https://localhost:8080/"
        },
        "id": "4e3cca19",
        "outputId": "7b8dc00f-673b-476f-cc33-e8f91fb3c552"
      },
      "outputs": [
        {
          "output_type": "stream",
          "name": "stdout",
          "text": [
            "Requirement already satisfied: tensorflow_hub in /usr/local/lib/python3.10/dist-packages (0.15.0)\n",
            "Requirement already satisfied: numpy>=1.12.0 in /usr/local/lib/python3.10/dist-packages (from tensorflow_hub) (1.23.5)\n",
            "Requirement already satisfied: protobuf>=3.19.6 in /usr/local/lib/python3.10/dist-packages (from tensorflow_hub) (3.20.3)\n"
          ]
        }
      ],
      "source": [
        "!pip install tensorflow_hub"
      ]
    },
    {
      "cell_type": "code",
      "execution_count": 2,
      "id": "592a67dd",
      "metadata": {
        "collapsed": true,
        "colab": {
          "base_uri": "https://localhost:8080/"
        },
        "id": "592a67dd",
        "outputId": "1be5a4c3-efad-437e-8793-6120b43d9273"
      },
      "outputs": [
        {
          "output_type": "stream",
          "name": "stdout",
          "text": [
            "Requirement already satisfied: tensorflow in /usr/local/lib/python3.10/dist-packages (2.13.0)\n",
            "Requirement already satisfied: absl-py>=1.0.0 in /usr/local/lib/python3.10/dist-packages (from tensorflow) (1.4.0)\n",
            "Requirement already satisfied: astunparse>=1.6.0 in /usr/local/lib/python3.10/dist-packages (from tensorflow) (1.6.3)\n",
            "Requirement already satisfied: flatbuffers>=23.1.21 in /usr/local/lib/python3.10/dist-packages (from tensorflow) (23.5.26)\n",
            "Requirement already satisfied: gast<=0.4.0,>=0.2.1 in /usr/local/lib/python3.10/dist-packages (from tensorflow) (0.4.0)\n",
            "Requirement already satisfied: google-pasta>=0.1.1 in /usr/local/lib/python3.10/dist-packages (from tensorflow) (0.2.0)\n",
            "Requirement already satisfied: grpcio<2.0,>=1.24.3 in /usr/local/lib/python3.10/dist-packages (from tensorflow) (1.59.0)\n",
            "Requirement already satisfied: h5py>=2.9.0 in /usr/local/lib/python3.10/dist-packages (from tensorflow) (3.9.0)\n",
            "Requirement already satisfied: keras<2.14,>=2.13.1 in /usr/local/lib/python3.10/dist-packages (from tensorflow) (2.13.1)\n",
            "Requirement already satisfied: libclang>=13.0.0 in /usr/local/lib/python3.10/dist-packages (from tensorflow) (16.0.6)\n",
            "Requirement already satisfied: numpy<=1.24.3,>=1.22 in /usr/local/lib/python3.10/dist-packages (from tensorflow) (1.23.5)\n",
            "Requirement already satisfied: opt-einsum>=2.3.2 in /usr/local/lib/python3.10/dist-packages (from tensorflow) (3.3.0)\n",
            "Requirement already satisfied: packaging in /usr/local/lib/python3.10/dist-packages (from tensorflow) (23.2)\n",
            "Requirement already satisfied: protobuf!=4.21.0,!=4.21.1,!=4.21.2,!=4.21.3,!=4.21.4,!=4.21.5,<5.0.0dev,>=3.20.3 in /usr/local/lib/python3.10/dist-packages (from tensorflow) (3.20.3)\n",
            "Requirement already satisfied: setuptools in /usr/local/lib/python3.10/dist-packages (from tensorflow) (67.7.2)\n",
            "Requirement already satisfied: six>=1.12.0 in /usr/local/lib/python3.10/dist-packages (from tensorflow) (1.16.0)\n",
            "Requirement already satisfied: tensorboard<2.14,>=2.13 in /usr/local/lib/python3.10/dist-packages (from tensorflow) (2.13.0)\n",
            "Requirement already satisfied: tensorflow-estimator<2.14,>=2.13.0 in /usr/local/lib/python3.10/dist-packages (from tensorflow) (2.13.0)\n",
            "Requirement already satisfied: termcolor>=1.1.0 in /usr/local/lib/python3.10/dist-packages (from tensorflow) (2.3.0)\n",
            "Requirement already satisfied: typing-extensions<4.6.0,>=3.6.6 in /usr/local/lib/python3.10/dist-packages (from tensorflow) (4.5.0)\n",
            "Requirement already satisfied: wrapt>=1.11.0 in /usr/local/lib/python3.10/dist-packages (from tensorflow) (1.15.0)\n",
            "Requirement already satisfied: tensorflow-io-gcs-filesystem>=0.23.1 in /usr/local/lib/python3.10/dist-packages (from tensorflow) (0.34.0)\n",
            "Requirement already satisfied: wheel<1.0,>=0.23.0 in /usr/local/lib/python3.10/dist-packages (from astunparse>=1.6.0->tensorflow) (0.41.2)\n",
            "Requirement already satisfied: google-auth<3,>=1.6.3 in /usr/local/lib/python3.10/dist-packages (from tensorboard<2.14,>=2.13->tensorflow) (2.17.3)\n",
            "Requirement already satisfied: google-auth-oauthlib<1.1,>=0.5 in /usr/local/lib/python3.10/dist-packages (from tensorboard<2.14,>=2.13->tensorflow) (1.0.0)\n",
            "Requirement already satisfied: markdown>=2.6.8 in /usr/local/lib/python3.10/dist-packages (from tensorboard<2.14,>=2.13->tensorflow) (3.5)\n",
            "Requirement already satisfied: requests<3,>=2.21.0 in /usr/local/lib/python3.10/dist-packages (from tensorboard<2.14,>=2.13->tensorflow) (2.31.0)\n",
            "Requirement already satisfied: tensorboard-data-server<0.8.0,>=0.7.0 in /usr/local/lib/python3.10/dist-packages (from tensorboard<2.14,>=2.13->tensorflow) (0.7.1)\n",
            "Requirement already satisfied: werkzeug>=1.0.1 in /usr/local/lib/python3.10/dist-packages (from tensorboard<2.14,>=2.13->tensorflow) (3.0.0)\n",
            "Requirement already satisfied: cachetools<6.0,>=2.0.0 in /usr/local/lib/python3.10/dist-packages (from google-auth<3,>=1.6.3->tensorboard<2.14,>=2.13->tensorflow) (5.3.1)\n",
            "Requirement already satisfied: pyasn1-modules>=0.2.1 in /usr/local/lib/python3.10/dist-packages (from google-auth<3,>=1.6.3->tensorboard<2.14,>=2.13->tensorflow) (0.3.0)\n",
            "Requirement already satisfied: rsa<5,>=3.1.4 in /usr/local/lib/python3.10/dist-packages (from google-auth<3,>=1.6.3->tensorboard<2.14,>=2.13->tensorflow) (4.9)\n",
            "Requirement already satisfied: requests-oauthlib>=0.7.0 in /usr/local/lib/python3.10/dist-packages (from google-auth-oauthlib<1.1,>=0.5->tensorboard<2.14,>=2.13->tensorflow) (1.3.1)\n",
            "Requirement already satisfied: charset-normalizer<4,>=2 in /usr/local/lib/python3.10/dist-packages (from requests<3,>=2.21.0->tensorboard<2.14,>=2.13->tensorflow) (3.3.0)\n",
            "Requirement already satisfied: idna<4,>=2.5 in /usr/local/lib/python3.10/dist-packages (from requests<3,>=2.21.0->tensorboard<2.14,>=2.13->tensorflow) (3.4)\n",
            "Requirement already satisfied: urllib3<3,>=1.21.1 in /usr/local/lib/python3.10/dist-packages (from requests<3,>=2.21.0->tensorboard<2.14,>=2.13->tensorflow) (2.0.6)\n",
            "Requirement already satisfied: certifi>=2017.4.17 in /usr/local/lib/python3.10/dist-packages (from requests<3,>=2.21.0->tensorboard<2.14,>=2.13->tensorflow) (2023.7.22)\n",
            "Requirement already satisfied: MarkupSafe>=2.1.1 in /usr/local/lib/python3.10/dist-packages (from werkzeug>=1.0.1->tensorboard<2.14,>=2.13->tensorflow) (2.1.3)\n",
            "Requirement already satisfied: pyasn1<0.6.0,>=0.4.6 in /usr/local/lib/python3.10/dist-packages (from pyasn1-modules>=0.2.1->google-auth<3,>=1.6.3->tensorboard<2.14,>=2.13->tensorflow) (0.5.0)\n",
            "Requirement already satisfied: oauthlib>=3.0.0 in /usr/local/lib/python3.10/dist-packages (from requests-oauthlib>=0.7.0->google-auth-oauthlib<1.1,>=0.5->tensorboard<2.14,>=2.13->tensorflow) (3.2.2)\n"
          ]
        }
      ],
      "source": [
        "!pip install tensorflow"
      ]
    },
    {
      "cell_type": "markdown",
      "source": [
        "## ***TEXT VECTORIZATION Example using CBOW and Skip-Gram models***"
      ],
      "metadata": {
        "id": "WZfbrqmAEtGs"
      },
      "id": "WZfbrqmAEtGs"
    },
    {
      "cell_type": "code",
      "source": [
        "from gensim.models import Word2Vec\n",
        "\n",
        "# Sample tokenized sentences\n",
        "sentences = [\n",
        "    [\"i\", \"love\", \"machine\", \"learning\"],\n",
        "    [\"deep\", \"learning\", \"is\", \"fascinating\"],\n",
        "    [\"word2vec\", \"is\", \"a\", \"technique\", \"in\", \"natural\", \"language\", \"processing\"],\n",
        "    [\"building\", \"the\", \"deep\", \"learning\", \"models\", \"is\", \"easy\"]\n",
        "    # Add more sentences as needed\n",
        "]\n",
        "\n",
        "# Build CBOW Word2Vec model (sg parameter is set to 0)\n",
        "# cbow_model = Word2Vec(sentences, vector_size=100, window=2, sg=0, min_count=1)\n",
        "\n",
        "# Build Skip-gram Word2Vec model\n",
        "skipgram_model = Word2Vec(sentences, vector_size=10, window=2, sg=1, min_count=2)\n",
        "\n"
      ],
      "metadata": {
        "id": "Kh9K3jTQEqjG"
      },
      "id": "Kh9K3jTQEqjG",
      "execution_count": 3,
      "outputs": []
    },
    {
      "cell_type": "code",
      "source": [
        "# Example word for similarity comparison\n",
        "target_word = \"learning\"\n",
        "\n",
        "# # Get similar words using CBOW model\n",
        "# similar_words_cbow = cbow_model.wv.most_similar(target_word, topn=2)\n",
        "# print(f\"Similar words to '{target_word}' (CBOW): {similar_words_cbow}\")\n",
        "\n",
        "# # Get similar words using Skip-gram model\n",
        "similar_words_skipgram = skipgram_model.wv.most_similar(target_word, topn=5)\n",
        "print(f\"Similar words to '{target_word}' (Skip-gram): {similar_words_skipgram}\")\n"
      ],
      "metadata": {
        "colab": {
          "base_uri": "https://localhost:8080/"
        },
        "id": "ssJSUSuykCXb",
        "outputId": "0e228c1e-5a24-4365-b699-6c0b989556d4"
      },
      "id": "ssJSUSuykCXb",
      "execution_count": 4,
      "outputs": [
        {
          "output_type": "stream",
          "name": "stdout",
          "text": [
            "Similar words to 'learning' (Skip-gram): [('is', 0.5436006188392639), ('deep', 0.32937225699424744)]\n"
          ]
        }
      ]
    },
    {
      "cell_type": "code",
      "source": [
        "### To get word vector of any particular word\n",
        "A = skipgram_model.wv[\"learning\"]\n",
        "A.shape"
      ],
      "metadata": {
        "id": "laeVnfCjE_ll",
        "colab": {
          "base_uri": "https://localhost:8080/"
        },
        "outputId": "d8197c47-e3c5-41bc-f972-b7c22182c5d5"
      },
      "id": "laeVnfCjE_ll",
      "execution_count": 6,
      "outputs": [
        {
          "output_type": "execute_result",
          "data": {
            "text/plain": [
              "(10,)"
            ]
          },
          "metadata": {},
          "execution_count": 6
        }
      ]
    },
    {
      "cell_type": "code",
      "source": [
        "A"
      ],
      "metadata": {
        "colab": {
          "base_uri": "https://localhost:8080/"
        },
        "id": "FCrOAJMbkaOy",
        "outputId": "dc30b89b-bbb3-4975-e7bb-789fbce4a39c"
      },
      "id": "FCrOAJMbkaOy",
      "execution_count": 7,
      "outputs": [
        {
          "output_type": "execute_result",
          "data": {
            "text/plain": [
              "array([ 0.07380505, -0.01533471, -0.04536613,  0.06554051, -0.0486016 ,\n",
              "       -0.01816018,  0.0287658 ,  0.00991874, -0.08285215, -0.09448818],\n",
              "      dtype=float32)"
            ]
          },
          "metadata": {},
          "execution_count": 7
        }
      ]
    },
    {
      "cell_type": "code",
      "source": [
        "B = skipgram_model.wv[\"deep\"]\n",
        "B.shape"
      ],
      "metadata": {
        "id": "KAYWWaxuj9t4",
        "colab": {
          "base_uri": "https://localhost:8080/"
        },
        "outputId": "81c2d62c-13dd-4b33-fd60-20612127b641"
      },
      "id": "KAYWWaxuj9t4",
      "execution_count": 10,
      "outputs": [
        {
          "output_type": "execute_result",
          "data": {
            "text/plain": [
              "(10,)"
            ]
          },
          "metadata": {},
          "execution_count": 10
        }
      ]
    },
    {
      "cell_type": "code",
      "source": [
        "import numpy as np\n",
        "from numpy.linalg import norm\n",
        "print(np.dot(A,B)/(norm(A)*norm(B)))"
      ],
      "metadata": {
        "colab": {
          "base_uri": "https://localhost:8080/"
        },
        "id": "E69jpea7kP-y",
        "outputId": "643ab50f-3e19-4625-c078-145746a1f4cd"
      },
      "id": "E69jpea7kP-y",
      "execution_count": 11,
      "outputs": [
        {
          "output_type": "stream",
          "name": "stdout",
          "text": [
            "0.32937223\n"
          ]
        }
      ]
    },
    {
      "cell_type": "markdown",
      "source": [
        "### Loading TOKEN BASED TEXT EMBEDDING trained on English Wikipedia Corpus"
      ],
      "metadata": {
        "id": "XEdLaldBgOxn"
      },
      "id": "XEdLaldBgOxn"
    },
    {
      "cell_type": "code",
      "execution_count": 12,
      "metadata": {
        "id": "6d0cd246"
      },
      "outputs": [],
      "source": [
        "import tensorflow_hub as hub\n",
        "embed = hub.load(\"https://tfhub.dev/google/Wiki-words-250/2\")\n",
        "#https://tfhub.dev/google/Wiki-words-250/2"
      ],
      "id": "6d0cd246"
    },
    {
      "cell_type": "code",
      "execution_count": 13,
      "metadata": {
        "collapsed": true,
        "colab": {
          "base_uri": "https://localhost:8080/"
        },
        "id": "d69ff6e1",
        "outputId": "90857bda-ed56-4f4f-b058-2e89c502a47d"
      },
      "outputs": [
        {
          "output_type": "execute_result",
          "data": {
            "text/plain": [
              "TensorShape([1, 250])"
            ]
          },
          "metadata": {},
          "execution_count": 13
        }
      ],
      "source": [
        "v1 = embed([\"king\"])\n",
        "v1.shape\n",
        "# v1[0].shape"
      ],
      "id": "d69ff6e1"
    },
    {
      "cell_type": "code",
      "execution_count": 14,
      "metadata": {
        "collapsed": true,
        "colab": {
          "base_uri": "https://localhost:8080/"
        },
        "id": "3c4ba742",
        "outputId": "88efc213-e825-4e14-f30f-5196c0ef48bd"
      },
      "outputs": [
        {
          "output_type": "execute_result",
          "data": {
            "text/plain": [
              "TensorShape([1, 250])"
            ]
          },
          "metadata": {},
          "execution_count": 14
        }
      ],
      "source": [
        "v2 = embed([\"cat\"])\n",
        "v2.shape"
      ],
      "id": "3c4ba742"
    },
    {
      "cell_type": "code",
      "source": [
        "# from numpy import dot\n",
        "# from numpy.linalg import norm\n",
        "# cos_sim = np.dot(v1, v2.T)/(norm(v1)*norm(v2))\n",
        "\n",
        "from scipy import spatial\n",
        "result = 1 - spatial.distance.cosine(v1[0], v2[0])\n",
        "\n",
        "result"
      ],
      "metadata": {
        "colab": {
          "base_uri": "https://localhost:8080/"
        },
        "id": "ekGvMfRvrIar",
        "outputId": "8af73fa3-b9e5-4c20-8b68-a13e1f669b88"
      },
      "id": "ekGvMfRvrIar",
      "execution_count": 15,
      "outputs": [
        {
          "output_type": "execute_result",
          "data": {
            "text/plain": [
              "0.020226946100592613"
            ]
          },
          "metadata": {},
          "execution_count": 15
        }
      ]
    },
    {
      "cell_type": "markdown",
      "source": [
        "### ***TEXT VECTORIZATION Example- using Pre-trained word vectors***\n",
        "[GloVe [Global Vectors for Word Representation] word Vectors from Stanford NLP Group](https://nlp.stanford.edu/projects/glove/)\n",
        "\n",
        "[FastText Word Embeddings](https://https://fasttext.cc/docs/en/crawl-vectors.html)\n",
        "\n",
        "[Blog on Word Embeddings](https://medium.com/@hari4om/word-embedding-d816f643140)\n"
      ],
      "metadata": {
        "id": "6j13G1GzwlpI"
      },
      "id": "6j13G1GzwlpI"
    },
    {
      "cell_type": "code",
      "source": [
        "from google.colab import drive\n",
        "\n",
        "### You can get this file from the link: https://nlp.stanford.edu/projects/glove/glove.6B.zip\n",
        "### Unzip it and upload any of the 50/ 100/ 200/ 300 dimensional .txt file on your drive\n",
        "# Note the file path to point to your downloaded/ uploaded GloVe file\n",
        "\n",
        "drive.mount('/content/drive')\n",
        "glove_file_path = '/content/drive/MyDrive/rep_Python/NLP/glove.6B.50d.txt'   ### For COLAB\n",
        "\n",
        "# glove_file_path = 'D:/......../glove.6B.50d.txt'   ### For Jupyter Notebook\n"
      ],
      "metadata": {
        "colab": {
          "base_uri": "https://localhost:8080/"
        },
        "id": "dDWq6URx4Kub",
        "outputId": "28b5fd8e-4f6d-4886-c20a-7668c77fd5d7"
      },
      "id": "dDWq6URx4Kub",
      "execution_count": 16,
      "outputs": [
        {
          "output_type": "stream",
          "name": "stdout",
          "text": [
            "Mounted at /content/drive\n"
          ]
        }
      ]
    },
    {
      "cell_type": "code",
      "source": [
        "# Load pre-trained word vectors (GloVe)\n",
        "def load_word_vectors(file_path):\n",
        "    word_vectors = {}\n",
        "    with open(file_path, 'r', encoding='utf-8') as file:\n",
        "        for line in file:\n",
        "            values = line.split()\n",
        "            word = values[0]\n",
        "            vector = list(map(float, values[1:]))\n",
        "            word_vectors[word] = vector\n",
        "    return word_vectors"
      ],
      "metadata": {
        "id": "Iu29OAha6BYV"
      },
      "id": "Iu29OAha6BYV",
      "execution_count": 18,
      "outputs": []
    },
    {
      "cell_type": "code",
      "source": [
        "### You can get this file from the link: https://nlp.stanford.edu/projects/glove/glove.6B.zip\n",
        "### Unzip it and upload any of the 50/ 100/ 200/ 300 dimensional .txt file on your drive\n",
        "# Adjust the file path to point to your downloaded GloVe file\n",
        "\n",
        "word_vectors = load_word_vectors(glove_file_path)\n"
      ],
      "metadata": {
        "id": "56BN3GRtwiga"
      },
      "id": "56BN3GRtwiga",
      "execution_count": 19,
      "outputs": []
    },
    {
      "cell_type": "code",
      "source": [
        "# Check the size of the loaded word vectors\n",
        "print(\"Number of word vectors:\", len(word_vectors))\n",
        "print(\"Vector dimensionality:\", len(word_vectors['word']))\n"
      ],
      "metadata": {
        "colab": {
          "base_uri": "https://localhost:8080/"
        },
        "id": "ARBf9En96HlD",
        "outputId": "7e1d854d-7513-4434-9baf-c2379fbccb1b"
      },
      "id": "ARBf9En96HlD",
      "execution_count": 20,
      "outputs": [
        {
          "output_type": "stream",
          "name": "stdout",
          "text": [
            "Number of word vectors: 400000\n",
            "Vector dimensionality: 50\n"
          ]
        }
      ]
    },
    {
      "cell_type": "code",
      "source": [
        "type(word_vectors['happy'])"
      ],
      "metadata": {
        "colab": {
          "base_uri": "https://localhost:8080/"
        },
        "id": "A5fDEddktGPy",
        "outputId": "61da85fc-0916-4a1d-d6bb-346d7b4acf72"
      },
      "id": "A5fDEddktGPy",
      "execution_count": 21,
      "outputs": [
        {
          "output_type": "execute_result",
          "data": {
            "text/plain": [
              "list"
            ]
          },
          "metadata": {},
          "execution_count": 21
        }
      ]
    },
    {
      "cell_type": "code",
      "source": [
        "# Example usage: Getting the vector for a specific word\n",
        "word = \"example\"\n",
        "if word in word_vectors:\n",
        "    vector = word_vectors[word]\n",
        "    print(f\"Vector for '{word}': {vector}\")\n",
        "else:\n",
        "    print(f\"No vector found for '{word}'\")\n"
      ],
      "metadata": {
        "colab": {
          "base_uri": "https://localhost:8080/"
        },
        "id": "OHo8_VQFxIxh",
        "outputId": "27647e90-7580-4461-c994-2d389cd07403"
      },
      "id": "OHo8_VQFxIxh",
      "execution_count": 22,
      "outputs": [
        {
          "output_type": "stream",
          "name": "stdout",
          "text": [
            "Vector for 'example': [0.51564, 0.56912, -0.19759, 0.0080456, 0.41697, 0.59502, -0.053312, -0.83222, -0.21715, 0.31045, 0.09352, 0.35323, 0.28151, -0.35308, 0.23496, 0.04429, 0.017109, 0.0063749, -0.01662, -0.69576, 0.019819, -0.52746, -0.14011, 0.21962, 0.13692, -1.2683, -0.89416, -0.1831, 0.23343, -0.058254, 3.2481, -0.48794, -0.01207, -0.81645, 0.21182, -0.17837, -0.02874, 0.099358, -0.14944, 0.2601, 0.18919, 0.15022, 0.18278, 0.50052, -0.025532, 0.24671, 0.10596, 0.13612, 0.0090427, 0.39962]\n"
          ]
        }
      ]
    },
    {
      "cell_type": "code",
      "source": [],
      "metadata": {
        "id": "l6_6ye1i6MhM"
      },
      "id": "l6_6ye1i6MhM",
      "execution_count": null,
      "outputs": []
    }
  ],
  "metadata": {
    "kernelspec": {
      "display_name": "Python 3 (ipykernel)",
      "language": "python",
      "name": "python3"
    },
    "language_info": {
      "codemirror_mode": {
        "name": "ipython",
        "version": 3
      },
      "file_extension": ".py",
      "mimetype": "text/x-python",
      "name": "python",
      "nbconvert_exporter": "python",
      "pygments_lexer": "ipython3",
      "version": "3.10.9"
    },
    "colab": {
      "provenance": []
    }
  },
  "nbformat": 4,
  "nbformat_minor": 5
}