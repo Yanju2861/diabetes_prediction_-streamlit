{
 "cells": [
  {
   "cell_type": "code",
   "execution_count": 1,
   "id": "32b072c0",
   "metadata": {},
   "outputs": [
    {
     "name": "stdout",
     "output_type": "stream",
     "text": [
      "Requirement already satisfied: tensorflow in c:\\users\\preeti\\anaconda3\\envs\\deeplearning\\lib\\site-packages (2.11.0)\n",
      "Requirement already satisfied: tensorflow-intel==2.11.0 in c:\\users\\preeti\\anaconda3\\envs\\deeplearning\\lib\\site-packages (from tensorflow) (2.11.0)\n",
      "Requirement already satisfied: tensorflow-io-gcs-filesystem>=0.23.1 in c:\\users\\preeti\\anaconda3\\envs\\deeplearning\\lib\\site-packages (from tensorflow-intel==2.11.0->tensorflow) (0.30.0)\n",
      "Requirement already satisfied: grpcio<2.0,>=1.24.3 in c:\\users\\preeti\\anaconda3\\envs\\deeplearning\\lib\\site-packages (from tensorflow-intel==2.11.0->tensorflow) (1.51.1)\n",
      "Requirement already satisfied: google-pasta>=0.1.1 in c:\\users\\preeti\\anaconda3\\envs\\deeplearning\\lib\\site-packages (from tensorflow-intel==2.11.0->tensorflow) (0.2.0)\n",
      "Requirement already satisfied: numpy>=1.20 in c:\\users\\preeti\\anaconda3\\envs\\deeplearning\\lib\\site-packages (from tensorflow-intel==2.11.0->tensorflow) (1.24.1)\n",
      "Requirement already satisfied: setuptools in c:\\users\\preeti\\anaconda3\\envs\\deeplearning\\lib\\site-packages (from tensorflow-intel==2.11.0->tensorflow) (65.6.3)\n",
      "Requirement already satisfied: gast<=0.4.0,>=0.2.1 in c:\\users\\preeti\\anaconda3\\envs\\deeplearning\\lib\\site-packages (from tensorflow-intel==2.11.0->tensorflow) (0.4.0)\n",
      "Requirement already satisfied: opt-einsum>=2.3.2 in c:\\users\\preeti\\anaconda3\\envs\\deeplearning\\lib\\site-packages (from tensorflow-intel==2.11.0->tensorflow) (3.3.0)\n",
      "Requirement already satisfied: protobuf<3.20,>=3.9.2 in c:\\users\\preeti\\anaconda3\\envs\\deeplearning\\lib\\site-packages (from tensorflow-intel==2.11.0->tensorflow) (3.19.6)\n",
      "Requirement already satisfied: tensorboard<2.12,>=2.11 in c:\\users\\preeti\\anaconda3\\envs\\deeplearning\\lib\\site-packages (from tensorflow-intel==2.11.0->tensorflow) (2.11.2)\n",
      "Requirement already satisfied: packaging in c:\\users\\preeti\\anaconda3\\envs\\deeplearning\\lib\\site-packages (from tensorflow-intel==2.11.0->tensorflow) (22.0)\n",
      "Requirement already satisfied: absl-py>=1.0.0 in c:\\users\\preeti\\anaconda3\\envs\\deeplearning\\lib\\site-packages (from tensorflow-intel==2.11.0->tensorflow) (1.4.0)\n",
      "Requirement already satisfied: astunparse>=1.6.0 in c:\\users\\preeti\\anaconda3\\envs\\deeplearning\\lib\\site-packages (from tensorflow-intel==2.11.0->tensorflow) (1.6.3)\n",
      "Requirement already satisfied: termcolor>=1.1.0 in c:\\users\\preeti\\anaconda3\\envs\\deeplearning\\lib\\site-packages (from tensorflow-intel==2.11.0->tensorflow) (2.2.0)\n",
      "Requirement already satisfied: keras<2.12,>=2.11.0 in c:\\users\\preeti\\anaconda3\\envs\\deeplearning\\lib\\site-packages (from tensorflow-intel==2.11.0->tensorflow) (2.11.0)\n",
      "Requirement already satisfied: six>=1.12.0 in c:\\users\\preeti\\anaconda3\\envs\\deeplearning\\lib\\site-packages (from tensorflow-intel==2.11.0->tensorflow) (1.16.0)\n",
      "Requirement already satisfied: flatbuffers>=2.0 in c:\\users\\preeti\\anaconda3\\envs\\deeplearning\\lib\\site-packages (from tensorflow-intel==2.11.0->tensorflow) (23.1.21)\n",
      "Requirement already satisfied: typing-extensions>=3.6.6 in c:\\users\\preeti\\anaconda3\\envs\\deeplearning\\lib\\site-packages (from tensorflow-intel==2.11.0->tensorflow) (4.4.0)\n",
      "Requirement already satisfied: wrapt>=1.11.0 in c:\\users\\preeti\\anaconda3\\envs\\deeplearning\\lib\\site-packages (from tensorflow-intel==2.11.0->tensorflow) (1.14.1)\n",
      "Requirement already satisfied: tensorflow-estimator<2.12,>=2.11.0 in c:\\users\\preeti\\anaconda3\\envs\\deeplearning\\lib\\site-packages (from tensorflow-intel==2.11.0->tensorflow) (2.11.0)\n",
      "Requirement already satisfied: libclang>=13.0.0 in c:\\users\\preeti\\anaconda3\\envs\\deeplearning\\lib\\site-packages (from tensorflow-intel==2.11.0->tensorflow) (15.0.6.1)\n",
      "Requirement already satisfied: h5py>=2.9.0 in c:\\users\\preeti\\anaconda3\\envs\\deeplearning\\lib\\site-packages (from tensorflow-intel==2.11.0->tensorflow) (3.8.0)\n",
      "Requirement already satisfied: wheel<1.0,>=0.23.0 in c:\\users\\preeti\\anaconda3\\envs\\deeplearning\\lib\\site-packages (from astunparse>=1.6.0->tensorflow-intel==2.11.0->tensorflow) (0.37.1)\n",
      "Requirement already satisfied: tensorboard-plugin-wit>=1.6.0 in c:\\users\\preeti\\anaconda3\\envs\\deeplearning\\lib\\site-packages (from tensorboard<2.12,>=2.11->tensorflow-intel==2.11.0->tensorflow) (1.8.1)\n",
      "Requirement already satisfied: tensorboard-data-server<0.7.0,>=0.6.0 in c:\\users\\preeti\\anaconda3\\envs\\deeplearning\\lib\\site-packages (from tensorboard<2.12,>=2.11->tensorflow-intel==2.11.0->tensorflow) (0.6.1)\n",
      "Requirement already satisfied: requests<3,>=2.21.0 in c:\\users\\preeti\\anaconda3\\envs\\deeplearning\\lib\\site-packages (from tensorboard<2.12,>=2.11->tensorflow-intel==2.11.0->tensorflow) (2.28.2)\n",
      "Requirement already satisfied: werkzeug>=1.0.1 in c:\\users\\preeti\\anaconda3\\envs\\deeplearning\\lib\\site-packages (from tensorboard<2.12,>=2.11->tensorflow-intel==2.11.0->tensorflow) (2.2.2)\n",
      "Requirement already satisfied: google-auth-oauthlib<0.5,>=0.4.1 in c:\\users\\preeti\\anaconda3\\envs\\deeplearning\\lib\\site-packages (from tensorboard<2.12,>=2.11->tensorflow-intel==2.11.0->tensorflow) (0.4.6)\n",
      "Requirement already satisfied: markdown>=2.6.8 in c:\\users\\preeti\\anaconda3\\envs\\deeplearning\\lib\\site-packages (from tensorboard<2.12,>=2.11->tensorflow-intel==2.11.0->tensorflow) (3.4.1)\n",
      "Requirement already satisfied: google-auth<3,>=1.6.3 in c:\\users\\preeti\\anaconda3\\envs\\deeplearning\\lib\\site-packages (from tensorboard<2.12,>=2.11->tensorflow-intel==2.11.0->tensorflow) (2.16.0)\n",
      "Requirement already satisfied: pyasn1-modules>=0.2.1 in c:\\users\\preeti\\anaconda3\\envs\\deeplearning\\lib\\site-packages (from google-auth<3,>=1.6.3->tensorboard<2.12,>=2.11->tensorflow-intel==2.11.0->tensorflow) (0.2.8)\n",
      "Requirement already satisfied: cachetools<6.0,>=2.0.0 in c:\\users\\preeti\\anaconda3\\envs\\deeplearning\\lib\\site-packages (from google-auth<3,>=1.6.3->tensorboard<2.12,>=2.11->tensorflow-intel==2.11.0->tensorflow) (5.3.0)\n",
      "Requirement already satisfied: rsa<5,>=3.1.4 in c:\\users\\preeti\\anaconda3\\envs\\deeplearning\\lib\\site-packages (from google-auth<3,>=1.6.3->tensorboard<2.12,>=2.11->tensorflow-intel==2.11.0->tensorflow) (4.9)\n",
      "Requirement already satisfied: requests-oauthlib>=0.7.0 in c:\\users\\preeti\\anaconda3\\envs\\deeplearning\\lib\\site-packages (from google-auth-oauthlib<0.5,>=0.4.1->tensorboard<2.12,>=2.11->tensorflow-intel==2.11.0->tensorflow) (1.3.1)\n",
      "Requirement already satisfied: importlib-metadata>=4.4 in c:\\users\\preeti\\anaconda3\\envs\\deeplearning\\lib\\site-packages (from markdown>=2.6.8->tensorboard<2.12,>=2.11->tensorflow-intel==2.11.0->tensorflow) (6.0.0)\n",
      "Requirement already satisfied: urllib3<1.27,>=1.21.1 in c:\\users\\preeti\\anaconda3\\envs\\deeplearning\\lib\\site-packages (from requests<3,>=2.21.0->tensorboard<2.12,>=2.11->tensorflow-intel==2.11.0->tensorflow) (1.26.14)\n",
      "Requirement already satisfied: idna<4,>=2.5 in c:\\users\\preeti\\anaconda3\\envs\\deeplearning\\lib\\site-packages (from requests<3,>=2.21.0->tensorboard<2.12,>=2.11->tensorflow-intel==2.11.0->tensorflow) (3.4)\n",
      "Requirement already satisfied: charset-normalizer<4,>=2 in c:\\users\\preeti\\anaconda3\\envs\\deeplearning\\lib\\site-packages (from requests<3,>=2.21.0->tensorboard<2.12,>=2.11->tensorflow-intel==2.11.0->tensorflow) (3.0.1)\n",
      "Requirement already satisfied: certifi>=2017.4.17 in c:\\users\\preeti\\anaconda3\\envs\\deeplearning\\lib\\site-packages (from requests<3,>=2.21.0->tensorboard<2.12,>=2.11->tensorflow-intel==2.11.0->tensorflow) (2022.12.7)\n",
      "Requirement already satisfied: MarkupSafe>=2.1.1 in c:\\users\\preeti\\anaconda3\\envs\\deeplearning\\lib\\site-packages (from werkzeug>=1.0.1->tensorboard<2.12,>=2.11->tensorflow-intel==2.11.0->tensorflow) (2.1.1)\n",
      "Requirement already satisfied: zipp>=0.5 in c:\\users\\preeti\\anaconda3\\envs\\deeplearning\\lib\\site-packages (from importlib-metadata>=4.4->markdown>=2.6.8->tensorboard<2.12,>=2.11->tensorflow-intel==2.11.0->tensorflow) (3.12.0)\n",
      "Requirement already satisfied: pyasn1<0.5.0,>=0.4.6 in c:\\users\\preeti\\anaconda3\\envs\\deeplearning\\lib\\site-packages (from pyasn1-modules>=0.2.1->google-auth<3,>=1.6.3->tensorboard<2.12,>=2.11->tensorflow-intel==2.11.0->tensorflow) (0.4.8)\n",
      "Requirement already satisfied: oauthlib>=3.0.0 in c:\\users\\preeti\\anaconda3\\envs\\deeplearning\\lib\\site-packages (from requests-oauthlib>=0.7.0->google-auth-oauthlib<0.5,>=0.4.1->tensorboard<2.12,>=2.11->tensorflow-intel==2.11.0->tensorflow) (3.2.2)\n"
     ]
    },
    {
     "name": "stderr",
     "output_type": "stream",
     "text": [
      "WARNING: Ignoring invalid distribution -rotobuf (c:\\users\\preeti\\anaconda3\\envs\\deeplearning\\lib\\site-packages)\n",
      "WARNING: Ignoring invalid distribution -rotobuf (c:\\users\\preeti\\anaconda3\\envs\\deeplearning\\lib\\site-packages)\n",
      "WARNING: Ignoring invalid distribution -rotobuf (c:\\users\\preeti\\anaconda3\\envs\\deeplearning\\lib\\site-packages)\n",
      "WARNING: Ignoring invalid distribution -rotobuf (c:\\users\\preeti\\anaconda3\\envs\\deeplearning\\lib\\site-packages)\n",
      "WARNING: Ignoring invalid distribution -rotobuf (c:\\users\\preeti\\anaconda3\\envs\\deeplearning\\lib\\site-packages)\n",
      "WARNING: Ignoring invalid distribution -rotobuf (c:\\users\\preeti\\anaconda3\\envs\\deeplearning\\lib\\site-packages)\n"
     ]
    }
   ],
   "source": [
    "#Install Tensorflow\n",
    "!pip install tensorflow"
   ]
  },
  {
   "cell_type": "code",
   "execution_count": 2,
   "id": "b0291922",
   "metadata": {},
   "outputs": [],
   "source": [
    "import tensorflow as tf  #Imports the TensorFlow library with the alias 'tf' for convenience.\n",
    "from tensorflow import keras  #Imports the 'keras' module from TensorFlow for building and training neural networks.\n",
    "from keras.models import Sequential #Imports the 'Sequential' class from 'keras.models' to create a sequential model.\n",
    "from keras.layers import Dense,Flatten #Imports the 'Dense' and 'Flatten' layers from 'keras.layers' to define the architecture of the neural network.\n",
    "import numpy as np #Imports the 'numpy' library with the alias 'np' for numerical operations.\n",
    "import pandas as pd #Imports the 'pandas' library with the alias 'pd' for data manipulation.\n",
    "import matplotlib.pyplot as plt "
   ]
  },
  {
   "cell_type": "code",
   "execution_count": 3,
   "id": "a038a107",
   "metadata": {},
   "outputs": [],
   "source": [
    "#loading the MNIST Dataset\n",
    "(X_train,y_train),(X_test,y_test)=keras.datasets.mnist.load_data()"
   ]
  },
  {
   "cell_type": "code",
   "execution_count": 4,
   "id": "84588e75",
   "metadata": {},
   "outputs": [
    {
     "data": {
      "text/plain": [
       "60000"
      ]
     },
     "execution_count": 4,
     "metadata": {},
     "output_type": "execute_result"
    }
   ],
   "source": [
    "len(X_train)"
   ]
  },
  {
   "cell_type": "code",
   "execution_count": 5,
   "id": "bf61adea",
   "metadata": {},
   "outputs": [
    {
     "data": {
      "text/plain": [
       "10000"
      ]
     },
     "execution_count": 5,
     "metadata": {},
     "output_type": "execute_result"
    }
   ],
   "source": [
    "len(X_test)"
   ]
  },
  {
   "cell_type": "code",
   "execution_count": 6,
   "id": "ca4439bf",
   "metadata": {},
   "outputs": [
    {
     "data": {
      "text/plain": [
       "numpy.ndarray"
      ]
     },
     "execution_count": 6,
     "metadata": {},
     "output_type": "execute_result"
    }
   ],
   "source": [
    "type(X_train)"
   ]
  },
  {
   "cell_type": "code",
   "execution_count": 7,
   "id": "28e84839",
   "metadata": {},
   "outputs": [
    {
     "data": {
      "text/plain": [
       "array([[  0,   0,   0,   0,   0,   0,   0,   0,   0,   0,   0,   0,   0,\n",
       "          0,   0,   0,   0,   0,   0,   0,   0,   0,   0,   0,   0,   0,\n",
       "          0,   0],\n",
       "       [  0,   0,   0,   0,   0,   0,   0,   0,   0,   0,   0,   0,   0,\n",
       "          0,   0,   0,   0,   0,   0,   0,   0,   0,   0,   0,   0,   0,\n",
       "          0,   0],\n",
       "       [  0,   0,   0,   0,   0,   0,   0,   0,   0,   0,   0,   0,   0,\n",
       "          0,   0,   0,   0,   0,   0,   0,   0,   0,   0,   0,   0,   0,\n",
       "          0,   0],\n",
       "       [  0,   0,   0,   0,   0,   0,   0,   0,   0,   0,   0,   0,   0,\n",
       "          0,   0,   0,   0,   0,   0,   0,   0,   0,   0,   0,   0,   0,\n",
       "          0,   0],\n",
       "       [  0,   0,   0,   0,   0,   0,   0,   0,   0,   0,   0,   0,   0,\n",
       "          0,   0,   0,   0,   0,   0,   0,   0,   0,   0,   0,   0,   0,\n",
       "          0,   0],\n",
       "       [  0,   0,   0,   0,   0,   0,   0,   0,   0,   0,   0,   0,   3,\n",
       "         18,  18,  18, 126, 136, 175,  26, 166, 255, 247, 127,   0,   0,\n",
       "          0,   0],\n",
       "       [  0,   0,   0,   0,   0,   0,   0,   0,  30,  36,  94, 154, 170,\n",
       "        253, 253, 253, 253, 253, 225, 172, 253, 242, 195,  64,   0,   0,\n",
       "          0,   0],\n",
       "       [  0,   0,   0,   0,   0,   0,   0,  49, 238, 253, 253, 253, 253,\n",
       "        253, 253, 253, 253, 251,  93,  82,  82,  56,  39,   0,   0,   0,\n",
       "          0,   0],\n",
       "       [  0,   0,   0,   0,   0,   0,   0,  18, 219, 253, 253, 253, 253,\n",
       "        253, 198, 182, 247, 241,   0,   0,   0,   0,   0,   0,   0,   0,\n",
       "          0,   0],\n",
       "       [  0,   0,   0,   0,   0,   0,   0,   0,  80, 156, 107, 253, 253,\n",
       "        205,  11,   0,  43, 154,   0,   0,   0,   0,   0,   0,   0,   0,\n",
       "          0,   0],\n",
       "       [  0,   0,   0,   0,   0,   0,   0,   0,   0,  14,   1, 154, 253,\n",
       "         90,   0,   0,   0,   0,   0,   0,   0,   0,   0,   0,   0,   0,\n",
       "          0,   0],\n",
       "       [  0,   0,   0,   0,   0,   0,   0,   0,   0,   0,   0, 139, 253,\n",
       "        190,   2,   0,   0,   0,   0,   0,   0,   0,   0,   0,   0,   0,\n",
       "          0,   0],\n",
       "       [  0,   0,   0,   0,   0,   0,   0,   0,   0,   0,   0,  11, 190,\n",
       "        253,  70,   0,   0,   0,   0,   0,   0,   0,   0,   0,   0,   0,\n",
       "          0,   0],\n",
       "       [  0,   0,   0,   0,   0,   0,   0,   0,   0,   0,   0,   0,  35,\n",
       "        241, 225, 160, 108,   1,   0,   0,   0,   0,   0,   0,   0,   0,\n",
       "          0,   0],\n",
       "       [  0,   0,   0,   0,   0,   0,   0,   0,   0,   0,   0,   0,   0,\n",
       "         81, 240, 253, 253, 119,  25,   0,   0,   0,   0,   0,   0,   0,\n",
       "          0,   0],\n",
       "       [  0,   0,   0,   0,   0,   0,   0,   0,   0,   0,   0,   0,   0,\n",
       "          0,  45, 186, 253, 253, 150,  27,   0,   0,   0,   0,   0,   0,\n",
       "          0,   0],\n",
       "       [  0,   0,   0,   0,   0,   0,   0,   0,   0,   0,   0,   0,   0,\n",
       "          0,   0,  16,  93, 252, 253, 187,   0,   0,   0,   0,   0,   0,\n",
       "          0,   0],\n",
       "       [  0,   0,   0,   0,   0,   0,   0,   0,   0,   0,   0,   0,   0,\n",
       "          0,   0,   0,   0, 249, 253, 249,  64,   0,   0,   0,   0,   0,\n",
       "          0,   0],\n",
       "       [  0,   0,   0,   0,   0,   0,   0,   0,   0,   0,   0,   0,   0,\n",
       "          0,  46, 130, 183, 253, 253, 207,   2,   0,   0,   0,   0,   0,\n",
       "          0,   0],\n",
       "       [  0,   0,   0,   0,   0,   0,   0,   0,   0,   0,   0,   0,  39,\n",
       "        148, 229, 253, 253, 253, 250, 182,   0,   0,   0,   0,   0,   0,\n",
       "          0,   0],\n",
       "       [  0,   0,   0,   0,   0,   0,   0,   0,   0,   0,  24, 114, 221,\n",
       "        253, 253, 253, 253, 201,  78,   0,   0,   0,   0,   0,   0,   0,\n",
       "          0,   0],\n",
       "       [  0,   0,   0,   0,   0,   0,   0,   0,  23,  66, 213, 253, 253,\n",
       "        253, 253, 198,  81,   2,   0,   0,   0,   0,   0,   0,   0,   0,\n",
       "          0,   0],\n",
       "       [  0,   0,   0,   0,   0,   0,  18, 171, 219, 253, 253, 253, 253,\n",
       "        195,  80,   9,   0,   0,   0,   0,   0,   0,   0,   0,   0,   0,\n",
       "          0,   0],\n",
       "       [  0,   0,   0,   0,  55, 172, 226, 253, 253, 253, 253, 244, 133,\n",
       "         11,   0,   0,   0,   0,   0,   0,   0,   0,   0,   0,   0,   0,\n",
       "          0,   0],\n",
       "       [  0,   0,   0,   0, 136, 253, 253, 253, 212, 135, 132,  16,   0,\n",
       "          0,   0,   0,   0,   0,   0,   0,   0,   0,   0,   0,   0,   0,\n",
       "          0,   0],\n",
       "       [  0,   0,   0,   0,   0,   0,   0,   0,   0,   0,   0,   0,   0,\n",
       "          0,   0,   0,   0,   0,   0,   0,   0,   0,   0,   0,   0,   0,\n",
       "          0,   0],\n",
       "       [  0,   0,   0,   0,   0,   0,   0,   0,   0,   0,   0,   0,   0,\n",
       "          0,   0,   0,   0,   0,   0,   0,   0,   0,   0,   0,   0,   0,\n",
       "          0,   0],\n",
       "       [  0,   0,   0,   0,   0,   0,   0,   0,   0,   0,   0,   0,   0,\n",
       "          0,   0,   0,   0,   0,   0,   0,   0,   0,   0,   0,   0,   0,\n",
       "          0,   0]], dtype=uint8)"
      ]
     },
     "execution_count": 7,
     "metadata": {},
     "output_type": "execute_result"
    }
   ],
   "source": [
    "X_train[0]"
   ]
  },
  {
   "cell_type": "code",
   "execution_count": 13,
   "id": "d762460b",
   "metadata": {},
   "outputs": [
    {
     "data": {
      "text/plain": [
       "(60000, 28, 28)"
      ]
     },
     "execution_count": 13,
     "metadata": {},
     "output_type": "execute_result"
    }
   ],
   "source": [
    "X_train.shape"
   ]
  },
  {
   "cell_type": "code",
   "execution_count": 14,
   "id": "6c617dd2",
   "metadata": {},
   "outputs": [
    {
     "name": "stdout",
     "output_type": "stream",
     "text": [
      "0   0   0   0   0   0   0   0   0   0   0   0   0   0   0   0   0   0   0   0   0   0   0   0   0   0   0   0   \n",
      "0   0   0   0   0   0   0   0   0   0   0   0   0   0   0   0   0   0   0   0   0   0   0   0   0   0   0   0   \n",
      "0   0   0   0   0   0   0   0   0   0   0   0   0   0   0   0   0   0   0   0   0   0   0   0   0   0   0   0   \n",
      "0   0   0   0   0   0   0   0   0   0   0   0   0   0   0   0   0   0   0   0   0   0   0   0   0   0   0   0   \n",
      "0   0   0   0   0   0   0   0   0   0   0   0   0   0   0   0   0   0   0   0   0   0   0   0   0   0   0   0   \n",
      "0   0   0   0   0   0   0   0   0   29  150 195 254 255 254 176 193 150 96  0   0   0   0   0   0   0   0   0   \n",
      "0   0   0   0   0   0   0   48  166 224 253 253 234 196 253 253 253 253 233 0   0   0   0   0   0   0   0   0   \n",
      "0   0   0   0   0   93  244 249 253 187 46  10  8   4   10  194 253 253 233 0   0   0   0   0   0   0   0   0   \n",
      "0   0   0   0   0   107 253 253 230 48  0   0   0   0   0   192 253 253 156 0   0   0   0   0   0   0   0   0   \n",
      "0   0   0   0   0   3   20  20  15  0   0   0   0   0   43  224 253 245 74  0   0   0   0   0   0   0   0   0   \n",
      "0   0   0   0   0   0   0   0   0   0   0   0   0   0   249 253 245 126 0   0   0   0   0   0   0   0   0   0   \n",
      "0   0   0   0   0   0   0   0   0   0   0   14  101 223 253 248 124 0   0   0   0   0   0   0   0   0   0   0   \n",
      "0   0   0   0   0   0   0   0   0   11  166 239 253 253 253 187 30  0   0   0   0   0   0   0   0   0   0   0   \n",
      "0   0   0   0   0   0   0   0   0   16  248 250 253 253 253 253 232 213 111 2   0   0   0   0   0   0   0   0   \n",
      "0   0   0   0   0   0   0   0   0   0   0   43  98  98  208 253 253 253 253 187 22  0   0   0   0   0   0   0   \n",
      "0   0   0   0   0   0   0   0   0   0   0   0   0   0   9   51  119 253 253 253 76  0   0   0   0   0   0   0   \n",
      "0   0   0   0   0   0   0   0   0   0   0   0   0   0   0   0   1   183 253 253 139 0   0   0   0   0   0   0   \n",
      "0   0   0   0   0   0   0   0   0   0   0   0   0   0   0   0   0   182 253 253 104 0   0   0   0   0   0   0   \n",
      "0   0   0   0   0   0   0   0   0   0   0   0   0   0   0   0   85  249 253 253 36  0   0   0   0   0   0   0   \n",
      "0   0   0   0   0   0   0   0   0   0   0   0   0   0   0   60  214 253 253 173 11  0   0   0   0   0   0   0   \n",
      "0   0   0   0   0   0   0   0   0   0   0   0   0   0   98  247 253 253 226 9   0   0   0   0   0   0   0   0   \n",
      "0   0   0   0   0   0   0   0   0   0   0   0   42  150 252 253 253 233 53  0   0   0   0   0   0   0   0   0   \n",
      "0   0   0   0   0   0   42  115 42  60  115 159 240 253 253 250 175 25  0   0   0   0   0   0   0   0   0   0   \n",
      "0   0   0   0   0   0   187 253 253 253 253 253 253 253 197 86  0   0   0   0   0   0   0   0   0   0   0   0   \n",
      "0   0   0   0   0   0   103 253 253 253 253 253 232 67  1   0   0   0   0   0   0   0   0   0   0   0   0   0   \n",
      "0   0   0   0   0   0   0   0   0   0   0   0   0   0   0   0   0   0   0   0   0   0   0   0   0   0   0   0   \n",
      "0   0   0   0   0   0   0   0   0   0   0   0   0   0   0   0   0   0   0   0   0   0   0   0   0   0   0   0   \n",
      "0   0   0   0   0   0   0   0   0   0   0   0   0   0   0   0   0   0   0   0   0   0   0   0   0   0   0   0   \n"
     ]
    }
   ],
   "source": [
    "#printing the pixel values for an image\n",
    "for row in X_train[10000]:\n",
    "    row=row.tolist()\n",
    "    for i in row:\n",
    "        print(str(i).ljust(4), end='')\n",
    "    print()"
   ]
  },
  {
   "cell_type": "code",
   "execution_count": 15,
   "id": "a04039c2",
   "metadata": {},
   "outputs": [
    {
     "data": {
      "text/plain": [
       "<matplotlib.image.AxesImage at 0x2ba679f2070>"
      ]
     },
     "execution_count": 15,
     "metadata": {},
     "output_type": "execute_result"
    },
    {
     "data": {
      "image/png": "[encoded data removed]",
      "text/plain": [
       "<Figure size 640x480 with 1 Axes>"
      ]
     },
     "metadata": {},
     "output_type": "display_data"
    }
   ],
   "source": [
    "plt.imshow(X_train[10000], cmap='gray')"
   ]
  },
  {
   "cell_type": "code",
   "execution_count": 16,
   "id": "d406ab56",
   "metadata": {},
   "outputs": [
    {
     "data": {
      "text/plain": [
       "3"
      ]
     },
     "execution_count": 16,
     "metadata": {},
     "output_type": "execute_result"
    }
   ],
   "source": [
    "y_train[10000]"
   ]
  },
  {
   "cell_type": "code",
   "execution_count": 17,
   "id": "b6ad4cc2",
   "metadata": {},
   "outputs": [
    {
     "data": {
      "image/png": "[encoded data removed]",
      "text/plain": [
       "<Figure size 1000x400 with 10 Axes>"
      ]
     },
     "metadata": {},
     "output_type": "display_data"
    }
   ],
   "source": [
    "# Display some images\n",
    "fig, axes = plt.subplots(ncols=10, sharex=False, \n",
    "    sharey=True, figsize=(10, 4))\n",
    "for i in range(10):\n",
    "    axes[i].set_title(y_train[i])\n",
    "    axes[i].imshow(X_train[i], cmap='gray')\n",
    "    axes[i].get_xaxis().set_visible(False)\n",
    "    axes[i].get_yaxis().set_visible(False)\n",
    "plt.show()"
   ]
  },
  {
   "cell_type": "code",
   "execution_count": 18,
   "id": "96d6a87d",
   "metadata": {},
   "outputs": [],
   "source": [
    "#Normalize data\n",
    "X_train=X_train/255\n",
    "X_test=X_test/255"
   ]
  },
  {
   "cell_type": "code",
   "execution_count": 19,
   "id": "c8adc716",
   "metadata": {},
   "outputs": [
    {
     "data": {
      "text/plain": [
       "array([[0.        , 0.        , 0.        , 0.        , 0.        ,\n",
       "        0.        , 0.        , 0.        , 0.        , 0.        ,\n",
       "        0.        , 0.        , 0.        , 0.        , 0.        ,\n",
       "        0.        , 0.        , 0.        , 0.        , 0.        ,\n",
       "        0.        , 0.        , 0.        , 0.        , 0.        ,\n",
       "        0.        , 0.        , 0.        ],\n",
       "       [0.        , 0.        , 0.        , 0.        , 0.        ,\n",
       "        0.        , 0.        , 0.        , 0.        , 0.        ,\n",
       "        0.        , 0.        , 0.        , 0.        , 0.        ,\n",
       "        0.        , 0.        , 0.        , 0.        , 0.        ,\n",
       "        0.        , 0.        , 0.        , 0.        , 0.        ,\n",
       "        0.        , 0.        , 0.        ],\n",
       "       [0.        , 0.        , 0.        , 0.        , 0.        ,\n",
       "        0.        , 0.        , 0.        , 0.        , 0.        ,\n",
       "        0.        , 0.        , 0.        , 0.        , 0.        ,\n",
       "        0.        , 0.        , 0.        , 0.        , 0.        ,\n",
       "        0.        , 0.        , 0.        , 0.        , 0.        ,\n",
       "        0.        , 0.        , 0.        ],\n",
       "       [0.        , 0.        , 0.        , 0.        , 0.        ,\n",
       "        0.        , 0.        , 0.        , 0.        , 0.        ,\n",
       "        0.        , 0.        , 0.        , 0.        , 0.        ,\n",
       "        0.        , 0.        , 0.        , 0.        , 0.        ,\n",
       "        0.        , 0.        , 0.        , 0.        , 0.        ,\n",
       "        0.        , 0.        , 0.        ],\n",
       "       [0.        , 0.        , 0.        , 0.        , 0.        ,\n",
       "        0.        , 0.        , 0.        , 0.        , 0.        ,\n",
       "        0.        , 0.        , 0.        , 0.        , 0.        ,\n",
       "        0.        , 0.        , 0.        , 0.        , 0.        ,\n",
       "        0.        , 0.        , 0.        , 0.        , 0.        ,\n",
       "        0.        , 0.        , 0.        ],\n",
       "       [0.        , 0.        , 0.        , 0.        , 0.        ,\n",
       "        0.        , 0.        , 0.        , 0.        , 0.        ,\n",
       "        0.        , 0.        , 0.01176471, 0.07058824, 0.07058824,\n",
       "        0.07058824, 0.49411765, 0.53333333, 0.68627451, 0.10196078,\n",
       "        0.65098039, 1.        , 0.96862745, 0.49803922, 0.        ,\n",
       "        0.        , 0.        , 0.        ],\n",
       "       [0.        , 0.        , 0.        , 0.        , 0.        ,\n",
       "        0.        , 0.        , 0.        , 0.11764706, 0.14117647,\n",
       "        0.36862745, 0.60392157, 0.66666667, 0.99215686, 0.99215686,\n",
       "        0.99215686, 0.99215686, 0.99215686, 0.88235294, 0.6745098 ,\n",
       "        0.99215686, 0.94901961, 0.76470588, 0.25098039, 0.        ,\n",
       "        0.        , 0.        , 0.        ],\n",
       "       [0.        , 0.        , 0.        , 0.        , 0.        ,\n",
       "        0.        , 0.        , 0.19215686, 0.93333333, 0.99215686,\n",
       "        0.99215686, 0.99215686, 0.99215686, 0.99215686, 0.99215686,\n",
       "        0.99215686, 0.99215686, 0.98431373, 0.36470588, 0.32156863,\n",
       "        0.32156863, 0.21960784, 0.15294118, 0.        , 0.        ,\n",
       "        0.        , 0.        , 0.        ],\n",
       "       [0.        , 0.        , 0.        , 0.        , 0.        ,\n",
       "        0.        , 0.        , 0.07058824, 0.85882353, 0.99215686,\n",
       "        0.99215686, 0.99215686, 0.99215686, 0.99215686, 0.77647059,\n",
       "        0.71372549, 0.96862745, 0.94509804, 0.        , 0.        ,\n",
       "        0.        , 0.        , 0.        , 0.        , 0.        ,\n",
       "        0.        , 0.        , 0.        ],\n",
       "       [0.        , 0.        , 0.        , 0.        , 0.        ,\n",
       "        0.        , 0.        , 0.        , 0.31372549, 0.61176471,\n",
       "        0.41960784, 0.99215686, 0.99215686, 0.80392157, 0.04313725,\n",
       "        0.        , 0.16862745, 0.60392157, 0.        , 0.        ,\n",
       "        0.        , 0.        , 0.        , 0.        , 0.        ,\n",
       "        0.        , 0.        , 0.        ],\n",
       "       [0.        , 0.        , 0.        , 0.        , 0.        ,\n",
       "        0.        , 0.        , 0.        , 0.        , 0.05490196,\n",
       "        0.00392157, 0.60392157, 0.99215686, 0.35294118, 0.        ,\n",
       "        0.        , 0.        , 0.        , 0.        , 0.        ,\n",
       "        0.        , 0.        , 0.        , 0.        , 0.        ,\n",
       "        0.        , 0.        , 0.        ],\n",
       "       [0.        , 0.        , 0.        , 0.        , 0.        ,\n",
       "        0.        , 0.        , 0.        , 0.        , 0.        ,\n",
       "        0.        , 0.54509804, 0.99215686, 0.74509804, 0.00784314,\n",
       "        0.        , 0.        , 0.        , 0.        , 0.        ,\n",
       "        0.        , 0.        , 0.        , 0.        , 0.        ,\n",
       "        0.        , 0.        , 0.        ],\n",
       "       [0.        , 0.        , 0.        , 0.        , 0.        ,\n",
       "        0.        , 0.        , 0.        , 0.        , 0.        ,\n",
       "        0.        , 0.04313725, 0.74509804, 0.99215686, 0.2745098 ,\n",
       "        0.        , 0.        , 0.        , 0.        , 0.        ,\n",
       "        0.        , 0.        , 0.        , 0.        , 0.        ,\n",
       "        0.        , 0.        , 0.        ],\n",
       "       [0.        , 0.        , 0.        , 0.        , 0.        ,\n",
       "        0.        , 0.        , 0.        , 0.        , 0.        ,\n",
       "        0.        , 0.        , 0.1372549 , 0.94509804, 0.88235294,\n",
       "        0.62745098, 0.42352941, 0.00392157, 0.        , 0.        ,\n",
       "        0.        , 0.        , 0.        , 0.        , 0.        ,\n",
       "        0.        , 0.        , 0.        ],\n",
       "       [0.        , 0.        , 0.        , 0.        , 0.        ,\n",
       "        0.        , 0.        , 0.        , 0.        , 0.        ,\n",
       "        0.        , 0.        , 0.        , 0.31764706, 0.94117647,\n",
       "        0.99215686, 0.99215686, 0.46666667, 0.09803922, 0.        ,\n",
       "        0.        , 0.        , 0.        , 0.        , 0.        ,\n",
       "        0.        , 0.        , 0.        ],\n",
       "       [0.        , 0.        , 0.        , 0.        , 0.        ,\n",
       "        0.        , 0.        , 0.        , 0.        , 0.        ,\n",
       "        0.        , 0.        , 0.        , 0.        , 0.17647059,\n",
       "        0.72941176, 0.99215686, 0.99215686, 0.58823529, 0.10588235,\n",
       "        0.        , 0.        , 0.        , 0.        , 0.        ,\n",
       "        0.        , 0.        , 0.        ],\n",
       "       [0.        , 0.        , 0.        , 0.        , 0.        ,\n",
       "        0.        , 0.        , 0.        , 0.        , 0.        ,\n",
       "        0.        , 0.        , 0.        , 0.        , 0.        ,\n",
       "        0.0627451 , 0.36470588, 0.98823529, 0.99215686, 0.73333333,\n",
       "        0.        , 0.        , 0.        , 0.        , 0.        ,\n",
       "        0.        , 0.        , 0.        ],\n",
       "       [0.        , 0.        , 0.        , 0.        , 0.        ,\n",
       "        0.        , 0.        , 0.        , 0.        , 0.        ,\n",
       "        0.        , 0.        , 0.        , 0.        , 0.        ,\n",
       "        0.        , 0.        , 0.97647059, 0.99215686, 0.97647059,\n",
       "        0.25098039, 0.        , 0.        , 0.        , 0.        ,\n",
       "        0.        , 0.        , 0.        ],\n",
       "       [0.        , 0.        , 0.        , 0.        , 0.        ,\n",
       "        0.        , 0.        , 0.        , 0.        , 0.        ,\n",
       "        0.        , 0.        , 0.        , 0.        , 0.18039216,\n",
       "        0.50980392, 0.71764706, 0.99215686, 0.99215686, 0.81176471,\n",
       "        0.00784314, 0.        , 0.        , 0.        , 0.        ,\n",
       "        0.        , 0.        , 0.        ],\n",
       "       [0.        , 0.        , 0.        , 0.        , 0.        ,\n",
       "        0.        , 0.        , 0.        , 0.        , 0.        ,\n",
       "        0.        , 0.        , 0.15294118, 0.58039216, 0.89803922,\n",
       "        0.99215686, 0.99215686, 0.99215686, 0.98039216, 0.71372549,\n",
       "        0.        , 0.        , 0.        , 0.        , 0.        ,\n",
       "        0.        , 0.        , 0.        ],\n",
       "       [0.        , 0.        , 0.        , 0.        , 0.        ,\n",
       "        0.        , 0.        , 0.        , 0.        , 0.        ,\n",
       "        0.09411765, 0.44705882, 0.86666667, 0.99215686, 0.99215686,\n",
       "        0.99215686, 0.99215686, 0.78823529, 0.30588235, 0.        ,\n",
       "        0.        , 0.        , 0.        , 0.        , 0.        ,\n",
       "        0.        , 0.        , 0.        ],\n",
       "       [0.        , 0.        , 0.        , 0.        , 0.        ,\n",
       "        0.        , 0.        , 0.        , 0.09019608, 0.25882353,\n",
       "        0.83529412, 0.99215686, 0.99215686, 0.99215686, 0.99215686,\n",
       "        0.77647059, 0.31764706, 0.00784314, 0.        , 0.        ,\n",
       "        0.        , 0.        , 0.        , 0.        , 0.        ,\n",
       "        0.        , 0.        , 0.        ],\n",
       "       [0.        , 0.        , 0.        , 0.        , 0.        ,\n",
       "        0.        , 0.07058824, 0.67058824, 0.85882353, 0.99215686,\n",
       "        0.99215686, 0.99215686, 0.99215686, 0.76470588, 0.31372549,\n",
       "        0.03529412, 0.        , 0.        , 0.        , 0.        ,\n",
       "        0.        , 0.        , 0.        , 0.        , 0.        ,\n",
       "        0.        , 0.        , 0.        ],\n",
       "       [0.        , 0.        , 0.        , 0.        , 0.21568627,\n",
       "        0.6745098 , 0.88627451, 0.99215686, 0.99215686, 0.99215686,\n",
       "        0.99215686, 0.95686275, 0.52156863, 0.04313725, 0.        ,\n",
       "        0.        , 0.        , 0.        , 0.        , 0.        ,\n",
       "        0.        , 0.        , 0.        , 0.        , 0.        ,\n",
       "        0.        , 0.        , 0.        ],\n",
       "       [0.        , 0.        , 0.        , 0.        , 0.53333333,\n",
       "        0.99215686, 0.99215686, 0.99215686, 0.83137255, 0.52941176,\n",
       "        0.51764706, 0.0627451 , 0.        , 0.        , 0.        ,\n",
       "        0.        , 0.        , 0.        , 0.        , 0.        ,\n",
       "        0.        , 0.        , 0.        , 0.        , 0.        ,\n",
       "        0.        , 0.        , 0.        ],\n",
       "       [0.        , 0.        , 0.        , 0.        , 0.        ,\n",
       "        0.        , 0.        , 0.        , 0.        , 0.        ,\n",
       "        0.        , 0.        , 0.        , 0.        , 0.        ,\n",
       "        0.        , 0.        , 0.        , 0.        , 0.        ,\n",
       "        0.        , 0.        , 0.        , 0.        , 0.        ,\n",
       "        0.        , 0.        , 0.        ],\n",
       "       [0.        , 0.        , 0.        , 0.        , 0.        ,\n",
       "        0.        , 0.        , 0.        , 0.        , 0.        ,\n",
       "        0.        , 0.        , 0.        , 0.        , 0.        ,\n",
       "        0.        , 0.        , 0.        , 0.        , 0.        ,\n",
       "        0.        , 0.        , 0.        , 0.        , 0.        ,\n",
       "        0.        , 0.        , 0.        ],\n",
       "       [0.        , 0.        , 0.        , 0.        , 0.        ,\n",
       "        0.        , 0.        , 0.        , 0.        , 0.        ,\n",
       "        0.        , 0.        , 0.        , 0.        , 0.        ,\n",
       "        0.        , 0.        , 0.        , 0.        , 0.        ,\n",
       "        0.        , 0.        , 0.        , 0.        , 0.        ,\n",
       "        0.        , 0.        , 0.        ]])"
      ]
     },
     "execution_count": 19,
     "metadata": {},
     "output_type": "execute_result"
    }
   ],
   "source": [
    "X_train[0]"
   ]
  },
  {
   "cell_type": "code",
   "execution_count": 20,
   "id": "e3aeb8a9",
   "metadata": {},
   "outputs": [],
   "source": [
    "#Initializing the  model\n",
    "model=Sequential()\n"
   ]
  },
  {
   "cell_type": "code",
   "execution_count": 21,
   "id": "5bae0542",
   "metadata": {},
   "outputs": [],
   "source": [
    "#creating input layer\n",
    "input_layer=Flatten(input_shape=(28,28))"
   ]
  },
  {
   "cell_type": "code",
   "execution_count": 22,
   "id": "6e7500a4",
   "metadata": {},
   "outputs": [],
   "source": [
    "#Dense layer- layer 1\n",
    "layer1=Dense(units=150,activation='relu')"
   ]
  },
  {
   "cell_type": "code",
   "execution_count": 23,
   "id": "43f2f1e4",
   "metadata": {},
   "outputs": [],
   "source": [
    "#Dense layer- layer 2\n",
    "layer2=Dense(units=100,activation='sigmoid')"
   ]
  },
  {
   "cell_type": "code",
   "execution_count": 24,
   "id": "a04c2970",
   "metadata": {},
   "outputs": [],
   "source": [
    "#creating output layer\n",
    "output_layer=Dense(units=10, activation='softmax')"
   ]
  },
  {
   "cell_type": "code",
   "execution_count": 25,
   "id": "b5d7c4e5",
   "metadata": {},
   "outputs": [],
   "source": [
    "#add the layers to model\n",
    "model.add(input_layer)\n",
    "model.add(layer1)\n",
    "model.add(layer2)\n",
    "model.add(output_layer)"
   ]
  },
  {
   "cell_type": "code",
   "execution_count": 21,
   "id": "62fb3275",
   "metadata": {},
   "outputs": [
    {
     "name": "stdout",
     "output_type": "stream",
     "text": [
      "Model: \"sequential\"\n",
      "_________________________________________________________________\n",
      " Layer (type)                Output Shape              Param #   \n",
      "=================================================================\n",
      " flatten (Flatten)           (None, 784)               0         \n",
      "                                                                 \n",
      " dense (Dense)               (None, 150)               117750    \n",
      "                                                                 \n",
      " dense_1 (Dense)             (None, 100)               15100     \n",
      "                                                                 \n",
      " dense_2 (Dense)             (None, 10)                1010      \n",
      "                                                                 \n",
      "=================================================================\n",
      "Total params: 133,860\n",
      "Trainable params: 133,860\n",
      "Non-trainable params: 0\n",
      "_________________________________________________________________\n"
     ]
    }
   ],
   "source": [
    "#have a look at model\n",
    "model.summary()"
   ]
  },
  {
   "cell_type": "code",
   "execution_count": 26,
   "id": "e39ca72d",
   "metadata": {},
   "outputs": [
    {
     "data": {
      "text/plain": [
       "[<tf.Variable 'dense/kernel:0' shape=(784, 150) dtype=float32, numpy=\n",
       " array([[ 3.9331794e-02, -2.3629546e-02, -5.9531264e-02, ...,\n",
       "          1.8939376e-05, -7.5552583e-02, -4.8425481e-02],\n",
       "        [ 3.8692057e-02,  1.4694184e-03, -7.7425778e-02, ...,\n",
       "          5.4034293e-03, -1.9970004e-02, -3.2433588e-02],\n",
       "        [ 4.5997426e-02, -1.7105021e-02,  6.9667503e-02, ...,\n",
       "          2.8384872e-02,  2.9390030e-02,  2.1862693e-02],\n",
       "        ...,\n",
       "        [-5.0097093e-02, -4.3520913e-02, -6.2409949e-02, ...,\n",
       "         -3.1972695e-02, -4.0017720e-02, -4.3926984e-02],\n",
       "        [ 2.4201885e-02,  1.6686760e-02, -2.3445867e-02, ...,\n",
       "          1.9552886e-02, -2.8649092e-02,  7.5151041e-02],\n",
       "        [ 1.8565096e-02,  3.3574849e-03, -6.0478199e-02, ...,\n",
       "          4.4444442e-02, -1.7548904e-02,  6.6928923e-02]], dtype=float32)>,\n",
       " <tf.Variable 'dense/bias:0' shape=(150,) dtype=float32, numpy=\n",
       " array([0., 0., 0., 0., 0., 0., 0., 0., 0., 0., 0., 0., 0., 0., 0., 0., 0.,\n",
       "        0., 0., 0., 0., 0., 0., 0., 0., 0., 0., 0., 0., 0., 0., 0., 0., 0.,\n",
       "        0., 0., 0., 0., 0., 0., 0., 0., 0., 0., 0., 0., 0., 0., 0., 0., 0.,\n",
       "        0., 0., 0., 0., 0., 0., 0., 0., 0., 0., 0., 0., 0., 0., 0., 0., 0.,\n",
       "        0., 0., 0., 0., 0., 0., 0., 0., 0., 0., 0., 0., 0., 0., 0., 0., 0.,\n",
       "        0., 0., 0., 0., 0., 0., 0., 0., 0., 0., 0., 0., 0., 0., 0., 0., 0.,\n",
       "        0., 0., 0., 0., 0., 0., 0., 0., 0., 0., 0., 0., 0., 0., 0., 0., 0.,\n",
       "        0., 0., 0., 0., 0., 0., 0., 0., 0., 0., 0., 0., 0., 0., 0., 0., 0.,\n",
       "        0., 0., 0., 0., 0., 0., 0., 0., 0., 0., 0., 0., 0., 0.],\n",
       "       dtype=float32)>,\n",
       " <tf.Variable 'dense_1/kernel:0' shape=(150, 100) dtype=float32, numpy=\n",
       " array([[-0.01296806, -0.14764434,  0.13693787, ...,  0.09557514,\n",
       "         -0.12560903,  0.02211256],\n",
       "        [ 0.13071759,  0.14721031, -0.04292894, ...,  0.03682214,\n",
       "          0.01272814,  0.14447637],\n",
       "        [ 0.01171373, -0.05531472, -0.0012625 , ..., -0.05505295,\n",
       "          0.15078102, -0.0246343 ],\n",
       "        ...,\n",
       "        [ 0.06932068, -0.04553844,  0.08850539, ...,  0.06187734,\n",
       "          0.07435952, -0.05279685],\n",
       "        [-0.1525507 ,  0.04685055,  0.1284612 , ...,  0.14652734,\n",
       "          0.0108152 , -0.11780204],\n",
       "        [-0.06162056,  0.10254426, -0.0484879 , ..., -0.01339988,\n",
       "          0.04414301, -0.13154007]], dtype=float32)>,\n",
       " <tf.Variable 'dense_1/bias:0' shape=(100,) dtype=float32, numpy=\n",
       " array([0., 0., 0., 0., 0., 0., 0., 0., 0., 0., 0., 0., 0., 0., 0., 0., 0.,\n",
       "        0., 0., 0., 0., 0., 0., 0., 0., 0., 0., 0., 0., 0., 0., 0., 0., 0.,\n",
       "        0., 0., 0., 0., 0., 0., 0., 0., 0., 0., 0., 0., 0., 0., 0., 0., 0.,\n",
       "        0., 0., 0., 0., 0., 0., 0., 0., 0., 0., 0., 0., 0., 0., 0., 0., 0.,\n",
       "        0., 0., 0., 0., 0., 0., 0., 0., 0., 0., 0., 0., 0., 0., 0., 0., 0.,\n",
       "        0., 0., 0., 0., 0., 0., 0., 0., 0., 0., 0., 0., 0., 0., 0.],\n",
       "       dtype=float32)>,\n",
       " <tf.Variable 'dense_2/kernel:0' shape=(100, 10) dtype=float32, numpy=\n",
       " array([[ 0.08174905, -0.2214292 ,  0.1357392 ,  0.08527121, -0.05560157,\n",
       "         -0.07399748, -0.12978941,  0.12290472,  0.12583712, -0.17720759],\n",
       "        [ 0.03272143,  0.19959617,  0.190079  , -0.12502328,  0.0663771 ,\n",
       "         -0.10309391, -0.04927814, -0.16793016, -0.13451804,  0.05582574],\n",
       "        [ 0.036524  , -0.03525014,  0.12922975,  0.07451311,  0.06498307,\n",
       "         -0.17484738,  0.20778435,  0.1451905 , -0.21100391, -0.11047392],\n",
       "        [-0.016266  ,  0.23126319,  0.12881336,  0.1392917 ,  0.22951809,\n",
       "         -0.07983786,  0.16452354,  0.19450212, -0.08504456,  0.17437357],\n",
       "        [ 0.07649902,  0.11305997,  0.1184417 ,  0.10814655,  0.08658531,\n",
       "          0.2041072 ,  0.07034749, -0.18418813,  0.11548072,  0.06256288],\n",
       "        [-0.12385678, -0.22160777, -0.04661006,  0.22429323,  0.06789857,\n",
       "         -0.12591565,  0.10022229, -0.03581654,  0.0660778 ,  0.04972866],\n",
       "        [-0.00583971,  0.03661519, -0.13253558,  0.14150926, -0.09477788,\n",
       "          0.06105316,  0.17141905, -0.12879026,  0.05044347, -0.14873365],\n",
       "        [ 0.12822413, -0.15399191,  0.11049172,  0.13503098, -0.17307895,\n",
       "         -0.01461913, -0.09535131, -0.18165903,  0.17329434, -0.14514607],\n",
       "        [-0.07399492, -0.08100474,  0.19751209,  0.02267474, -0.14427724,\n",
       "          0.19245225, -0.03469492, -0.21368921, -0.19639637,  0.00779639],\n",
       "        [-0.07589999, -0.14656213, -0.1382128 , -0.21966262,  0.12680283,\n",
       "         -0.00699195,  0.1191324 ,  0.09128207,  0.13701329,  0.10395905],\n",
       "        [ 0.096807  , -0.17705347, -0.05871311,  0.00167648,  0.11029032,\n",
       "         -0.07227571, -0.09367397,  0.0783219 ,  0.09572169,  0.19631144],\n",
       "        [-0.03045046, -0.14486554, -0.13623117,  0.07392418,  0.11886963,\n",
       "          0.20448694,  0.0328643 ,  0.18001288, -0.00506961, -0.06536496],\n",
       "        [ 0.09464228,  0.2174646 , -0.15771207, -0.10063374, -0.08412308,\n",
       "          0.13480514,  0.12956998, -0.06062029, -0.04276995, -0.112511  ],\n",
       "        [-0.06659131,  0.14353412,  0.18270686,  0.20110229,  0.04995275,\n",
       "          0.00380123, -0.12812251, -0.00216728,  0.16759565, -0.13906112],\n",
       "        [-0.1071907 , -0.00417736, -0.04473339, -0.05131295,  0.01591018,\n",
       "         -0.22853658,  0.16999248, -0.11777496, -0.02712242,  0.06491747],\n",
       "        [-0.01792049, -0.08803087, -0.20481491, -0.13899854,  0.15104759,\n",
       "         -0.20908259,  0.08835372,  0.00143772,  0.01252073, -0.08708689],\n",
       "        [ 0.1825906 , -0.15454957,  0.08794284, -0.06941497, -0.01622157,\n",
       "         -0.21715562,  0.01422094, -0.21571322, -0.04373933,  0.07275262],\n",
       "        [ 0.08027977, -0.19073924,  0.17098817,  0.17599261,  0.01065876,\n",
       "         -0.14568034,  0.02786678,  0.00974301, -0.09587784, -0.13657011],\n",
       "        [-0.13351698,  0.22468519,  0.06042257,  0.15077764,  0.18926024,\n",
       "          0.14992547, -0.07098243, -0.02224681, -0.0858043 ,  0.04932278],\n",
       "        [-0.22605437,  0.22560257,  0.00071986, -0.1018386 ,  0.02062204,\n",
       "         -0.07112749, -0.00961788, -0.19931458,  0.06429645,  0.1277765 ],\n",
       "        [ 0.03105402, -0.06441951, -0.14684638,  0.18371966, -0.18328986,\n",
       "         -0.17139812, -0.02938415,  0.1964246 ,  0.16098452, -0.02722523],\n",
       "        [-0.02293588,  0.16404346, -0.03100222, -0.23216319, -0.2003333 ,\n",
       "         -0.12279419,  0.21227592, -0.15909907, -0.19963771, -0.13169199],\n",
       "        [ 0.22545663, -0.21438937,  0.18209246,  0.03461197, -0.17193201,\n",
       "          0.1417067 ,  0.07568139,  0.0081462 ,  0.17713994, -0.1878922 ],\n",
       "        [ 0.21662703,  0.10946238,  0.18160039, -0.00130002,  0.10511848,\n",
       "         -0.14080717,  0.00077499,  0.14066428, -0.11425493, -0.21876852],\n",
       "        [-0.14022851,  0.12268004, -0.15617517,  0.07344979,  0.02112034,\n",
       "          0.15481451, -0.1982593 , -0.21718913, -0.12426276, -0.00062849],\n",
       "        [ 0.14065883, -0.01927052, -0.03670134, -0.19440839,  0.16499385,\n",
       "         -0.10264806,  0.13763815, -0.10723692, -0.1063588 , -0.04625614],\n",
       "        [ 0.07565677, -0.04600646,  0.21660298,  0.16794252,  0.04726627,\n",
       "         -0.07124387, -0.04371868,  0.03084981, -0.17916545,  0.04880333],\n",
       "        [ 0.06686118, -0.08269349,  0.09816182, -0.04798859,  0.22602835,\n",
       "          0.2165116 ,  0.04603818, -0.17272687, -0.22277433, -0.21626425],\n",
       "        [ 0.21975672,  0.06454557, -0.08438045, -0.20771085,  0.07263398,\n",
       "         -0.00423867,  0.10335043,  0.0067063 ,  0.18749079,  0.16241005],\n",
       "        [ 0.0882172 , -0.00752166, -0.02866283,  0.05534399, -0.21368954,\n",
       "         -0.19987747, -0.02538364,  0.06790704, -0.06103624, -0.00756337],\n",
       "        [-0.03797825, -0.07663444,  0.07224298, -0.09042278, -0.05549332,\n",
       "          0.18832245, -0.01811744,  0.17850989,  0.1658366 , -0.0002671 ],\n",
       "        [ 0.15043285,  0.04311162,  0.09093317,  0.1360502 ,  0.16486633,\n",
       "         -0.17371519,  0.1927956 , -0.11674427, -0.23196618, -0.02928352],\n",
       "        [ 0.02748722, -0.16610616,  0.07306513,  0.05793411,  0.09528866,\n",
       "         -0.01409616, -0.19635087, -0.09433086, -0.0442716 ,  0.12467352],\n",
       "        [ 0.02613929, -0.15590906,  0.10047394, -0.05676912,  0.08692408,\n",
       "          0.23299491,  0.03522837, -0.19333968,  0.20981342, -0.05548491],\n",
       "        [ 0.04919595,  0.20833427, -0.13713373,  0.12080035,  0.19784307,\n",
       "          0.11413258, -0.19781889,  0.03625143,  0.01564609, -0.06438488],\n",
       "        [ 0.15972644, -0.11765301,  0.1862475 , -0.075124  ,  0.08430147,\n",
       "         -0.13890906, -0.05992554, -0.11296432,  0.16952407,  0.01103233],\n",
       "        [-0.00862333, -0.19636229, -0.04902807, -0.15658283, -0.00496143,\n",
       "          0.00293508,  0.10292652, -0.23333052, -0.00800793,  0.15463701],\n",
       "        [-0.04193483, -0.15917897,  0.17745283,  0.22506306, -0.1574807 ,\n",
       "         -0.21345696,  0.20558494,  0.22670057, -0.0988597 , -0.19982915],\n",
       "        [-0.14029974,  0.02976662,  0.04775244, -0.05085635,  0.03085911,\n",
       "          0.21569717,  0.14415029, -0.2102041 ,  0.1101357 , -0.06443194],\n",
       "        [-0.18318607, -0.0756233 ,  0.02406105, -0.17350331, -0.17997709,\n",
       "         -0.06717296,  0.21470252, -0.21990812,  0.17253521, -0.22717503],\n",
       "        [ 0.11514679, -0.13031779,  0.10210666, -0.1025299 ,  0.0809893 ,\n",
       "         -0.2210157 , -0.08442409, -0.09021614,  0.02341008, -0.12322868],\n",
       "        [-0.01517078,  0.13427857,  0.03738657, -0.03413387, -0.13918781,\n",
       "         -0.05961132,  0.02467057,  0.23146331, -0.03812921,  0.14007181],\n",
       "        [-0.05981167,  0.16462883, -0.19235465,  0.02023956, -0.05648257,\n",
       "         -0.1157519 , -0.02741782, -0.14176947, -0.20555398, -0.0148035 ],\n",
       "        [-0.22495942,  0.0721173 ,  0.09642452, -0.19057053,  0.12044773,\n",
       "          0.03300703,  0.2152211 , -0.0537588 ,  0.09007305,  0.09934625],\n",
       "        [-0.11647059, -0.00068562, -0.22655635, -0.09482688,  0.13020915,\n",
       "         -0.16045728,  0.05729982, -0.09879939,  0.14497283,  0.20185232],\n",
       "        [ 0.0979107 ,  0.227254  , -0.13609564,  0.08358875, -0.05937518,\n",
       "          0.06448466, -0.09894271,  0.21710685,  0.02351987, -0.22571865],\n",
       "        [-0.00291944, -0.04140757,  0.05871835,  0.21431792, -0.04489107,\n",
       "         -0.13842846,  0.03818429,  0.01274179,  0.14825094, -0.14009532],\n",
       "        [-0.18423674,  0.06555253,  0.06665227, -0.05994046, -0.13214579,\n",
       "         -0.13620612, -0.01551205, -0.06393145, -0.09381931,  0.1867229 ],\n",
       "        [-0.14810966,  0.18362057, -0.18835208, -0.11874801, -0.10033534,\n",
       "         -0.01260608, -0.05828123,  0.14910153,  0.02050343,  0.197552  ],\n",
       "        [ 0.14709324,  0.20783213, -0.09802267, -0.22082649,  0.20343855,\n",
       "         -0.13973266,  0.08261329, -0.13713005,  0.08947   ,  0.17492223],\n",
       "        [-0.04262881,  0.23063326, -0.02401578,  0.18441984,  0.15375394,\n",
       "         -0.13288526, -0.01273701,  0.23113233,  0.11827999, -0.01937281],\n",
       "        [-0.04821521,  0.15527022, -0.01157552, -0.03859298,  0.00404634,\n",
       "          0.13565028,  0.06039578,  0.01235373, -0.21772714, -0.05467355],\n",
       "        [-0.04812278, -0.21817762,  0.23297182,  0.00955603,  0.18184945,\n",
       "         -0.11298431, -0.18475392,  0.14754114, -0.23075202,  0.03234339],\n",
       "        [ 0.00558408,  0.01872516, -0.1892724 , -0.07787021,  0.03639665,\n",
       "          0.16450861,  0.22954255, -0.16113564,  0.04966941,  0.21512765],\n",
       "        [-0.17034984, -0.15205333, -0.07349968, -0.028347  ,  0.20833132,\n",
       "         -0.2021069 ,  0.0239802 ,  0.12363347,  0.02414843,  0.18268755],\n",
       "        [-0.05714965, -0.03653646,  0.03988144, -0.00172666, -0.21018961,\n",
       "          0.18312532, -0.0661964 ,  0.2293011 , -0.01575767, -0.05555379],\n",
       "        [-0.22661637,  0.17511132,  0.02458343,  0.05501896,  0.12512332,\n",
       "         -0.02913624,  0.11912978,  0.07153529, -0.03081746,  0.21416959],\n",
       "        [-0.08060734, -0.11609574,  0.16576388,  0.07682759, -0.07343319,\n",
       "         -0.21298282, -0.16075222,  0.01779386,  0.2003676 , -0.22280072],\n",
       "        [ 0.01726902, -0.10545619, -0.05341569, -0.0126199 ,  0.15431839,\n",
       "          0.11271262,  0.06906122, -0.10814148, -0.03639609, -0.01767164],\n",
       "        [-0.12057139, -0.1900568 , -0.07809633,  0.02638462, -0.12357017,\n",
       "         -0.07664217,  0.02463922, -0.1069472 ,  0.129069  ,  0.02830952],\n",
       "        [-0.12004146,  0.04420084,  0.1949018 ,  0.01410963,  0.17020497,\n",
       "          0.08198315,  0.16241452, -0.01372948,  0.14108568,  0.14222935],\n",
       "        [ 0.08296281, -0.06056961,  0.06185883,  0.02432126, -0.04884683,\n",
       "          0.22907749, -0.04108907,  0.17161712,  0.21042025, -0.05621514],\n",
       "        [-0.12302527,  0.06754541,  0.21718898, -0.21524303, -0.07799415,\n",
       "          0.01569787, -0.15653844, -0.12752771, -0.05884279, -0.15468639],\n",
       "        [-0.08964489,  0.05746382, -0.19746397,  0.02479878, -0.00541085,\n",
       "          0.09854847,  0.21273643, -0.14786077, -0.02258937,  0.14194715],\n",
       "        [-0.08355288,  0.01797467, -0.02386093,  0.23284486, -0.07967153,\n",
       "          0.09456193, -0.1630734 , -0.20344952,  0.1516867 , -0.22324434],\n",
       "        [-0.00322385, -0.07515283,  0.14633301, -0.15317193, -0.13738737,\n",
       "         -0.22248155, -0.12732902,  0.16932204, -0.176385  ,  0.11528161],\n",
       "        [ 0.11955926, -0.13161252, -0.10293104, -0.00093675,  0.13733253,\n",
       "         -0.20993921,  0.04694837, -0.12512372, -0.11031054, -0.2191822 ],\n",
       "        [ 0.17060265, -0.06692077,  0.1032947 ,  0.07973668, -0.11856058,\n",
       "          0.01304258,  0.0817613 , -0.12506303, -0.1604962 ,  0.1876424 ],\n",
       "        [ 0.15099406,  0.05622032,  0.1501885 ,  0.14498392, -0.20333214,\n",
       "          0.15081477, -0.10683499,  0.03549293,  0.10712874,  0.17470905],\n",
       "        [-0.11486515, -0.1284939 , -0.19910699,  0.0878666 ,  0.02735791,\n",
       "         -0.05284745,  0.02821442,  0.12641022,  0.09231269, -0.01903337],\n",
       "        [ 0.11719602,  0.02345389,  0.22405988,  0.2102234 ,  0.06123897,\n",
       "          0.16461226, -0.07655765, -0.07873318,  0.01748878, -0.12344205],\n",
       "        [-0.03320965,  0.1889776 ,  0.02159712,  0.2131021 ,  0.07141766,\n",
       "          0.19081524,  0.18035221, -0.00401405,  0.10782331,  0.0576621 ],\n",
       "        [ 0.00226906,  0.18183532,  0.22861916, -0.19615626, -0.03474821,\n",
       "          0.08207095,  0.19832739, -0.09903365, -0.05478621, -0.06053722],\n",
       "        [ 0.03516501, -0.17993182, -0.06964444, -0.12280738,  0.16441926,\n",
       "         -0.03862529,  0.16061234, -0.21688856,  0.00830811, -0.2231445 ],\n",
       "        [ 0.02970678,  0.20129934,  0.22994396, -0.14642131, -0.01633883,\n",
       "         -0.0850527 ,  0.04098666, -0.22202511,  0.22684011, -0.09447341],\n",
       "        [-0.07931332,  0.12555537,  0.10583699,  0.18026456,  0.03282365,\n",
       "          0.02548254, -0.11425298, -0.01276317,  0.13100064, -0.12593529],\n",
       "        [-0.10959179, -0.10502872,  0.19712853,  0.12342486,  0.16131076,\n",
       "          0.18776512, -0.21243039, -0.03646681, -0.05740902,  0.08597234],\n",
       "        [ 0.16311273,  0.12010339, -0.23149996,  0.09020996,  0.07350624,\n",
       "         -0.02343674,  0.02756038,  0.19211248, -0.02510694,  0.10686305],\n",
       "        [ 0.02994749,  0.19736454,  0.01268677, -0.07386228, -0.0358872 ,\n",
       "         -0.21564484,  0.01171996,  0.20057902,  0.08848175,  0.11026043],\n",
       "        [ 0.04408169, -0.11731151,  0.1718001 ,  0.07912412,  0.0340887 ,\n",
       "         -0.17278144, -0.07234259,  0.12317166,  0.13667196,  0.00419964],\n",
       "        [-0.21329053, -0.19980448, -0.1848738 ,  0.18846819,  0.0750865 ,\n",
       "          0.2322622 , -0.10996419,  0.1753498 ,  0.21569535,  0.11823484],\n",
       "        [-0.11408526,  0.03043303, -0.06401771, -0.12825921,  0.0750539 ,\n",
       "          0.00501901, -0.0611598 , -0.16327816, -0.20209737, -0.04664084],\n",
       "        [ 0.02868694, -0.01712658, -0.04780082, -0.19226187,  0.18621787,\n",
       "          0.14810169,  0.15453926, -0.00385635, -0.15844585, -0.06904779],\n",
       "        [-0.11697379,  0.09623516,  0.13698038,  0.07273704, -0.09126353,\n",
       "         -0.13681823,  0.10610422, -0.15379825,  0.16101962, -0.17818716],\n",
       "        [-0.09920816,  0.19343579, -0.07370943,  0.08789575, -0.19901134,\n",
       "          0.19786021,  0.06732309,  0.17249358, -0.13597658, -0.10495906],\n",
       "        [ 0.02746409,  0.01455347,  0.17109773, -0.13844356,  0.14056134,\n",
       "         -0.02076331,  0.1293912 ,  0.19395512, -0.09249997,  0.04679042],\n",
       "        [-0.04031174,  0.15062767, -0.00229713, -0.01636778,  0.05582586,\n",
       "          0.20779717,  0.15991437,  0.22138554,  0.22105724,  0.1469954 ],\n",
       "        [ 0.14824164,  0.03578886,  0.15251744, -0.18183677,  0.10833731,\n",
       "         -0.00401171, -0.09195116, -0.15910172, -0.21349867,  0.11018354],\n",
       "        [ 0.09221193,  0.05273855, -0.10493328,  0.04187581,  0.08966833,\n",
       "         -0.14096302, -0.18569852, -0.11013225,  0.18046713,  0.15679106],\n",
       "        [-0.03818667, -0.17710057,  0.12483522,  0.1885247 ,  0.19432786,\n",
       "          0.08604407,  0.01343727,  0.16340506, -0.14508481,  0.21689674],\n",
       "        [ 0.11540011,  0.13807115, -0.04628359, -0.1967279 , -0.19108987,\n",
       "         -0.0041513 , -0.15526743, -0.17712496,  0.16719809,  0.12774068],\n",
       "        [ 0.05721292, -0.1520932 , -0.00981328, -0.2081008 ,  0.20644033,\n",
       "          0.05489349,  0.082827  , -0.06825894, -0.00484405,  0.10895672],\n",
       "        [ 0.00580396,  0.13983634,  0.00979222,  0.13410386, -0.1136349 ,\n",
       "         -0.21021478,  0.05439085,  0.07465744, -0.06543879,  0.161407  ],\n",
       "        [ 0.18443653,  0.0691883 , -0.15509939,  0.0582667 ,  0.02913618,\n",
       "         -0.15054299,  0.08105752, -0.11227374, -0.2162947 ,  0.22228336],\n",
       "        [-0.08932817,  0.20834047,  0.13749465,  0.18753138,  0.20257837,\n",
       "         -0.0179809 , -0.19957551, -0.07733548, -0.10359077,  0.2220954 ],\n",
       "        [-0.18750715,  0.12162679,  0.09924892,  0.18605265, -0.1236537 ,\n",
       "          0.19411188,  0.12396619, -0.00093709,  0.00387456, -0.15629128],\n",
       "        [ 0.1402857 , -0.00935562, -0.07804026,  0.12680387, -0.1595766 ,\n",
       "         -0.20947754,  0.02280608,  0.12722963, -0.02766122, -0.2045423 ],\n",
       "        [ 0.07469976,  0.12145737, -0.22807169, -0.13965288, -0.13337088,\n",
       "         -0.20883425, -0.18284914,  0.12874031, -0.20492098,  0.1059368 ],\n",
       "        [-0.13744667, -0.228183  , -0.18992946,  0.03291848, -0.21160847,\n",
       "         -0.09670405,  0.14656919,  0.0939315 , -0.07047762, -0.00744455],\n",
       "        [ 0.16377088,  0.22852618, -0.00031766,  0.0060429 , -0.0724162 ,\n",
       "         -0.20706572, -0.15571412, -0.09878843, -0.18643019, -0.07969709]],\n",
       "       dtype=float32)>,\n",
       " <tf.Variable 'dense_2/bias:0' shape=(10,) dtype=float32, numpy=array([0., 0., 0., 0., 0., 0., 0., 0., 0., 0.], dtype=float32)>]"
      ]
     },
     "execution_count": 26,
     "metadata": {},
     "output_type": "execute_result"
    }
   ],
   "source": [
    "model.weights"
   ]
  },
  {
   "cell_type": "code",
   "execution_count": 27,
   "id": "7ab90bbe",
   "metadata": {},
   "outputs": [
    {
     "data": {
      "text/plain": [
       "<tf.Variable 'dense/kernel:0' shape=(784, 150) dtype=float32, numpy=\n",
       "array([[ 3.9331794e-02, -2.3629546e-02, -5.9531264e-02, ...,\n",
       "         1.8939376e-05, -7.5552583e-02, -4.8425481e-02],\n",
       "       [ 3.8692057e-02,  1.4694184e-03, -7.7425778e-02, ...,\n",
       "         5.4034293e-03, -1.9970004e-02, -3.2433588e-02],\n",
       "       [ 4.5997426e-02, -1.7105021e-02,  6.9667503e-02, ...,\n",
       "         2.8384872e-02,  2.9390030e-02,  2.1862693e-02],\n",
       "       ...,\n",
       "       [-5.0097093e-02, -4.3520913e-02, -6.2409949e-02, ...,\n",
       "        -3.1972695e-02, -4.0017720e-02, -4.3926984e-02],\n",
       "       [ 2.4201885e-02,  1.6686760e-02, -2.3445867e-02, ...,\n",
       "         1.9552886e-02, -2.8649092e-02,  7.5151041e-02],\n",
       "       [ 1.8565096e-02,  3.3574849e-03, -6.0478199e-02, ...,\n",
       "         4.4444442e-02, -1.7548904e-02,  6.6928923e-02]], dtype=float32)>"
      ]
     },
     "execution_count": 27,
     "metadata": {},
     "output_type": "execute_result"
    }
   ],
   "source": [
    "model.weights[0]"
   ]
  },
  {
   "cell_type": "code",
   "execution_count": 28,
   "id": "9031f955",
   "metadata": {},
   "outputs": [],
   "source": [
    "#compile the model\n",
    "model.compile(optimizer='SGD', loss='sparse_categorical_crossentropy', metrics=['accuracy'])"
   ]
  },
  {
   "cell_type": "code",
   "execution_count": 29,
   "id": "6ed31179",
   "metadata": {},
   "outputs": [
    {
     "name": "stdout",
     "output_type": "stream",
     "text": [
      "Epoch 1/30\n",
      "1875/1875 [==============================] - 6s 3ms/step - loss: 1.3339 - accuracy: 0.6930 - val_loss: 0.6779 - val_accuracy: 0.8438\n",
      "Epoch 2/30\n",
      "1875/1875 [==============================] - 5s 3ms/step - loss: 0.5407 - accuracy: 0.8669 - val_loss: 0.4294 - val_accuracy: 0.8903\n",
      "Epoch 3/30\n",
      "1875/1875 [==============================] - 5s 3ms/step - loss: 0.4005 - accuracy: 0.8931 - val_loss: 0.3553 - val_accuracy: 0.9026\n",
      "Epoch 4/30\n",
      "1875/1875 [==============================] - 5s 3ms/step - loss: 0.3443 - accuracy: 0.9047 - val_loss: 0.3134 - val_accuracy: 0.9135\n",
      "Epoch 5/30\n",
      "1875/1875 [==============================] - 5s 3ms/step - loss: 0.3112 - accuracy: 0.9122 - val_loss: 0.2898 - val_accuracy: 0.9190\n",
      "Epoch 6/30\n",
      "1875/1875 [==============================] - 6s 3ms/step - loss: 0.2882 - accuracy: 0.9179 - val_loss: 0.2716 - val_accuracy: 0.9241\n",
      "Epoch 7/30\n",
      "1875/1875 [==============================] - 5s 3ms/step - loss: 0.2701 - accuracy: 0.9231 - val_loss: 0.2569 - val_accuracy: 0.9281\n",
      "Epoch 8/30\n",
      "1875/1875 [==============================] - 5s 3ms/step - loss: 0.2550 - accuracy: 0.9269 - val_loss: 0.2422 - val_accuracy: 0.9310\n",
      "Epoch 9/30\n",
      "1875/1875 [==============================] - 5s 3ms/step - loss: 0.2420 - accuracy: 0.9308 - val_loss: 0.2322 - val_accuracy: 0.9344\n",
      "Epoch 10/30\n",
      "1875/1875 [==============================] - 6s 3ms/step - loss: 0.2305 - accuracy: 0.9341 - val_loss: 0.2219 - val_accuracy: 0.9380\n",
      "Epoch 11/30\n",
      "1875/1875 [==============================] - 5s 3ms/step - loss: 0.2200 - accuracy: 0.9368 - val_loss: 0.2125 - val_accuracy: 0.9404\n",
      "Epoch 12/30\n",
      "1875/1875 [==============================] - 5s 3ms/step - loss: 0.2102 - accuracy: 0.9396 - val_loss: 0.2051 - val_accuracy: 0.9423\n",
      "Epoch 13/30\n",
      "1875/1875 [==============================] - 6s 3ms/step - loss: 0.2012 - accuracy: 0.9425 - val_loss: 0.1960 - val_accuracy: 0.9443\n",
      "Epoch 14/30\n",
      "1875/1875 [==============================] - 5s 3ms/step - loss: 0.1929 - accuracy: 0.9448 - val_loss: 0.1896 - val_accuracy: 0.9455\n",
      "Epoch 15/30\n",
      "1875/1875 [==============================] - 6s 3ms/step - loss: 0.1853 - accuracy: 0.9470 - val_loss: 0.1836 - val_accuracy: 0.9478\n",
      "Epoch 16/30\n",
      "1875/1875 [==============================] - 6s 3ms/step - loss: 0.1779 - accuracy: 0.9492 - val_loss: 0.1768 - val_accuracy: 0.9486\n",
      "Epoch 17/30\n",
      "1875/1875 [==============================] - 6s 3ms/step - loss: 0.1714 - accuracy: 0.9508 - val_loss: 0.1716 - val_accuracy: 0.9494\n",
      "Epoch 18/30\n",
      "1875/1875 [==============================] - 5s 3ms/step - loss: 0.1650 - accuracy: 0.9526 - val_loss: 0.1678 - val_accuracy: 0.9519\n",
      "Epoch 19/30\n",
      "1875/1875 [==============================] - 6s 3ms/step - loss: 0.1589 - accuracy: 0.9542 - val_loss: 0.1609 - val_accuracy: 0.9520\n",
      "Epoch 20/30\n",
      "1875/1875 [==============================] - 6s 3ms/step - loss: 0.1534 - accuracy: 0.9559 - val_loss: 0.1567 - val_accuracy: 0.9537\n",
      "Epoch 21/30\n",
      "1875/1875 [==============================] - 6s 3ms/step - loss: 0.1482 - accuracy: 0.9574 - val_loss: 0.1518 - val_accuracy: 0.9547\n",
      "Epoch 22/30\n",
      "1875/1875 [==============================] - 7s 4ms/step - loss: 0.1432 - accuracy: 0.9592 - val_loss: 0.1482 - val_accuracy: 0.9554\n",
      "Epoch 23/30\n",
      "1875/1875 [==============================] - 6s 3ms/step - loss: 0.1385 - accuracy: 0.9605 - val_loss: 0.1444 - val_accuracy: 0.9571\n",
      "Epoch 24/30\n",
      "1875/1875 [==============================] - 6s 3ms/step - loss: 0.1341 - accuracy: 0.9621 - val_loss: 0.1406 - val_accuracy: 0.9583\n",
      "Epoch 25/30\n",
      "1875/1875 [==============================] - 6s 3ms/step - loss: 0.1298 - accuracy: 0.9631 - val_loss: 0.1373 - val_accuracy: 0.9591\n",
      "Epoch 26/30\n",
      "1875/1875 [==============================] - 6s 3ms/step - loss: 0.1260 - accuracy: 0.9640 - val_loss: 0.1335 - val_accuracy: 0.9601\n",
      "Epoch 27/30\n",
      "1875/1875 [==============================] - 6s 3ms/step - loss: 0.1221 - accuracy: 0.9651 - val_loss: 0.1319 - val_accuracy: 0.9598\n",
      "Epoch 28/30\n",
      "1875/1875 [==============================] - 6s 3ms/step - loss: 0.1186 - accuracy: 0.9660 - val_loss: 0.1290 - val_accuracy: 0.9619\n",
      "Epoch 29/30\n",
      "1875/1875 [==============================] - 6s 3ms/step - loss: 0.1152 - accuracy: 0.9672 - val_loss: 0.1261 - val_accuracy: 0.9619\n",
      "Epoch 30/30\n",
      "1875/1875 [==============================] - 6s 3ms/step - loss: 0.1118 - accuracy: 0.9686 - val_loss: 0.1242 - val_accuracy: 0.9627\n"
     ]
    }
   ],
   "source": [
    "#train model \n",
    "training_history=model.fit(X_train,y_train,epochs=30,validation_data=(X_test,y_test),verbose=1)"
   ]
  },
  {
   "cell_type": "code",
   "execution_count": 30,
   "id": "af6289c5",
   "metadata": {},
   "outputs": [
    {
     "data": {
      "text/plain": [
       "{'loss': [1.3338521718978882,\n",
       "  0.5406877398490906,\n",
       "  0.4005332887172699,\n",
       "  0.3442579507827759,\n",
       "  0.31123021245002747,\n",
       "  0.28817278146743774,\n",
       "  0.27014681696891785,\n",
       "  0.2550162672996521,\n",
       "  0.2420273721218109,\n",
       "  0.23047073185443878,\n",
       "  0.21997642517089844,\n",
       "  0.2102263867855072,\n",
       "  0.20122075080871582,\n",
       "  0.19293996691703796,\n",
       "  0.18533606827259064,\n",
       "  0.1779397875070572,\n",
       "  0.17143012583255768,\n",
       "  0.16501912474632263,\n",
       "  0.15894931554794312,\n",
       "  0.15342622995376587,\n",
       "  0.14819104969501495,\n",
       "  0.14320679008960724,\n",
       "  0.13849444687366486,\n",
       "  0.13408899307250977,\n",
       "  0.12984351813793182,\n",
       "  0.12598532438278198,\n",
       "  0.12208300083875656,\n",
       "  0.11858910322189331,\n",
       "  0.11515563726425171,\n",
       "  0.1118369773030281],\n",
       " 'accuracy': [0.6929500102996826,\n",
       "  0.8669000267982483,\n",
       "  0.8931166529655457,\n",
       "  0.9047166705131531,\n",
       "  0.9121999740600586,\n",
       "  0.9179499745368958,\n",
       "  0.9230666756629944,\n",
       "  0.9269499778747559,\n",
       "  0.9308000206947327,\n",
       "  0.9340500235557556,\n",
       "  0.9368166923522949,\n",
       "  0.9396166801452637,\n",
       "  0.9424999952316284,\n",
       "  0.9448166489601135,\n",
       "  0.9470000267028809,\n",
       "  0.9491666555404663,\n",
       "  0.9507833123207092,\n",
       "  0.9526000022888184,\n",
       "  0.9542499780654907,\n",
       "  0.9558500051498413,\n",
       "  0.9573500156402588,\n",
       "  0.9591500163078308,\n",
       "  0.9604833126068115,\n",
       "  0.9620833396911621,\n",
       "  0.9631333351135254,\n",
       "  0.9639999866485596,\n",
       "  0.96506667137146,\n",
       "  0.9659500122070312,\n",
       "  0.9671666622161865,\n",
       "  0.9685999751091003],\n",
       " 'val_loss': [0.6779249310493469,\n",
       "  0.42944276332855225,\n",
       "  0.3553202748298645,\n",
       "  0.313375324010849,\n",
       "  0.28976184129714966,\n",
       "  0.27155089378356934,\n",
       "  0.25685474276542664,\n",
       "  0.24220742285251617,\n",
       "  0.2322351634502411,\n",
       "  0.22191640734672546,\n",
       "  0.2124810367822647,\n",
       "  0.20507816970348358,\n",
       "  0.1959569752216339,\n",
       "  0.18960392475128174,\n",
       "  0.18364976346492767,\n",
       "  0.17681950330734253,\n",
       "  0.17160247266292572,\n",
       "  0.16784164309501648,\n",
       "  0.1608930230140686,\n",
       "  0.15666399896144867,\n",
       "  0.1517806202173233,\n",
       "  0.1482144445180893,\n",
       "  0.1443697214126587,\n",
       "  0.14055855572223663,\n",
       "  0.1373201459646225,\n",
       "  0.13354529440402985,\n",
       "  0.1318947821855545,\n",
       "  0.12899920344352722,\n",
       "  0.12609975039958954,\n",
       "  0.12424349039793015],\n",
       " 'val_accuracy': [0.8438000082969666,\n",
       "  0.8902999758720398,\n",
       "  0.9025999903678894,\n",
       "  0.9135000109672546,\n",
       "  0.9190000295639038,\n",
       "  0.9240999817848206,\n",
       "  0.9280999898910522,\n",
       "  0.9309999942779541,\n",
       "  0.9344000220298767,\n",
       "  0.9380000233650208,\n",
       "  0.9404000043869019,\n",
       "  0.942300021648407,\n",
       "  0.9442999958992004,\n",
       "  0.9455000162124634,\n",
       "  0.9477999806404114,\n",
       "  0.9485999941825867,\n",
       "  0.949400007724762,\n",
       "  0.9519000053405762,\n",
       "  0.9520000219345093,\n",
       "  0.9537000060081482,\n",
       "  0.9546999931335449,\n",
       "  0.9553999900817871,\n",
       "  0.957099974155426,\n",
       "  0.958299994468689,\n",
       "  0.9591000080108643,\n",
       "  0.960099995136261,\n",
       "  0.9598000049591064,\n",
       "  0.961899995803833,\n",
       "  0.961899995803833,\n",
       "  0.9627000093460083]}"
      ]
     },
     "execution_count": 30,
     "metadata": {},
     "output_type": "execute_result"
    }
   ],
   "source": [
    "training_history.history"
   ]
  },
  {
   "cell_type": "code",
   "execution_count": 31,
   "id": "f20524ab",
   "metadata": {},
   "outputs": [
    {
     "data": {
      "text/html": [
       "<div>\n",
       "<style scoped>\n",
       "    .dataframe tbody tr th:only-of-type {\n",
       "        vertical-align: middle;\n",
       "    }\n",
       "\n",
       "    .dataframe tbody tr th {\n",
       "        vertical-align: top;\n",
       "    }\n",
       "\n",
       "    .dataframe thead th {\n",
       "        text-align: right;\n",
       "    }\n",
       "</style>\n",
       "<table border=\"1\" class=\"dataframe\">\n",
       "  <thead>\n",
       "    <tr style=\"text-align: right;\">\n",
       "      <th></th>\n",
       "      <th>loss</th>\n",
       "      <th>accuracy</th>\n",
       "      <th>val_loss</th>\n",
       "      <th>val_accuracy</th>\n",
       "    </tr>\n",
       "  </thead>\n",
       "  <tbody>\n",
       "    <tr>\n",
       "      <th>0</th>\n",
       "      <td>1.333852</td>\n",
       "      <td>0.692950</td>\n",
       "      <td>0.677925</td>\n",
       "      <td>0.8438</td>\n",
       "    </tr>\n",
       "    <tr>\n",
       "      <th>1</th>\n",
       "      <td>0.540688</td>\n",
       "      <td>0.866900</td>\n",
       "      <td>0.429443</td>\n",
       "      <td>0.8903</td>\n",
       "    </tr>\n",
       "    <tr>\n",
       "      <th>2</th>\n",
       "      <td>0.400533</td>\n",
       "      <td>0.893117</td>\n",
       "      <td>0.355320</td>\n",
       "      <td>0.9026</td>\n",
       "    </tr>\n",
       "    <tr>\n",
       "      <th>3</th>\n",
       "      <td>0.344258</td>\n",
       "      <td>0.904717</td>\n",
       "      <td>0.313375</td>\n",
       "      <td>0.9135</td>\n",
       "    </tr>\n",
       "    <tr>\n",
       "      <th>4</th>\n",
       "      <td>0.311230</td>\n",
       "      <td>0.912200</td>\n",
       "      <td>0.289762</td>\n",
       "      <td>0.9190</td>\n",
       "    </tr>\n",
       "    <tr>\n",
       "      <th>5</th>\n",
       "      <td>0.288173</td>\n",
       "      <td>0.917950</td>\n",
       "      <td>0.271551</td>\n",
       "      <td>0.9241</td>\n",
       "    </tr>\n",
       "    <tr>\n",
       "      <th>6</th>\n",
       "      <td>0.270147</td>\n",
       "      <td>0.923067</td>\n",
       "      <td>0.256855</td>\n",
       "      <td>0.9281</td>\n",
       "    </tr>\n",
       "    <tr>\n",
       "      <th>7</th>\n",
       "      <td>0.255016</td>\n",
       "      <td>0.926950</td>\n",
       "      <td>0.242207</td>\n",
       "      <td>0.9310</td>\n",
       "    </tr>\n",
       "    <tr>\n",
       "      <th>8</th>\n",
       "      <td>0.242027</td>\n",
       "      <td>0.930800</td>\n",
       "      <td>0.232235</td>\n",
       "      <td>0.9344</td>\n",
       "    </tr>\n",
       "    <tr>\n",
       "      <th>9</th>\n",
       "      <td>0.230471</td>\n",
       "      <td>0.934050</td>\n",
       "      <td>0.221916</td>\n",
       "      <td>0.9380</td>\n",
       "    </tr>\n",
       "    <tr>\n",
       "      <th>10</th>\n",
       "      <td>0.219976</td>\n",
       "      <td>0.936817</td>\n",
       "      <td>0.212481</td>\n",
       "      <td>0.9404</td>\n",
       "    </tr>\n",
       "    <tr>\n",
       "      <th>11</th>\n",
       "      <td>0.210226</td>\n",
       "      <td>0.939617</td>\n",
       "      <td>0.205078</td>\n",
       "      <td>0.9423</td>\n",
       "    </tr>\n",
       "    <tr>\n",
       "      <th>12</th>\n",
       "      <td>0.201221</td>\n",
       "      <td>0.942500</td>\n",
       "      <td>0.195957</td>\n",
       "      <td>0.9443</td>\n",
       "    </tr>\n",
       "    <tr>\n",
       "      <th>13</th>\n",
       "      <td>0.192940</td>\n",
       "      <td>0.944817</td>\n",
       "      <td>0.189604</td>\n",
       "      <td>0.9455</td>\n",
       "    </tr>\n",
       "    <tr>\n",
       "      <th>14</th>\n",
       "      <td>0.185336</td>\n",
       "      <td>0.947000</td>\n",
       "      <td>0.183650</td>\n",
       "      <td>0.9478</td>\n",
       "    </tr>\n",
       "    <tr>\n",
       "      <th>15</th>\n",
       "      <td>0.177940</td>\n",
       "      <td>0.949167</td>\n",
       "      <td>0.176820</td>\n",
       "      <td>0.9486</td>\n",
       "    </tr>\n",
       "    <tr>\n",
       "      <th>16</th>\n",
       "      <td>0.171430</td>\n",
       "      <td>0.950783</td>\n",
       "      <td>0.171602</td>\n",
       "      <td>0.9494</td>\n",
       "    </tr>\n",
       "    <tr>\n",
       "      <th>17</th>\n",
       "      <td>0.165019</td>\n",
       "      <td>0.952600</td>\n",
       "      <td>0.167842</td>\n",
       "      <td>0.9519</td>\n",
       "    </tr>\n",
       "    <tr>\n",
       "      <th>18</th>\n",
       "      <td>0.158949</td>\n",
       "      <td>0.954250</td>\n",
       "      <td>0.160893</td>\n",
       "      <td>0.9520</td>\n",
       "    </tr>\n",
       "    <tr>\n",
       "      <th>19</th>\n",
       "      <td>0.153426</td>\n",
       "      <td>0.955850</td>\n",
       "      <td>0.156664</td>\n",
       "      <td>0.9537</td>\n",
       "    </tr>\n",
       "    <tr>\n",
       "      <th>20</th>\n",
       "      <td>0.148191</td>\n",
       "      <td>0.957350</td>\n",
       "      <td>0.151781</td>\n",
       "      <td>0.9547</td>\n",
       "    </tr>\n",
       "    <tr>\n",
       "      <th>21</th>\n",
       "      <td>0.143207</td>\n",
       "      <td>0.959150</td>\n",
       "      <td>0.148214</td>\n",
       "      <td>0.9554</td>\n",
       "    </tr>\n",
       "    <tr>\n",
       "      <th>22</th>\n",
       "      <td>0.138494</td>\n",
       "      <td>0.960483</td>\n",
       "      <td>0.144370</td>\n",
       "      <td>0.9571</td>\n",
       "    </tr>\n",
       "    <tr>\n",
       "      <th>23</th>\n",
       "      <td>0.134089</td>\n",
       "      <td>0.962083</td>\n",
       "      <td>0.140559</td>\n",
       "      <td>0.9583</td>\n",
       "    </tr>\n",
       "    <tr>\n",
       "      <th>24</th>\n",
       "      <td>0.129844</td>\n",
       "      <td>0.963133</td>\n",
       "      <td>0.137320</td>\n",
       "      <td>0.9591</td>\n",
       "    </tr>\n",
       "    <tr>\n",
       "      <th>25</th>\n",
       "      <td>0.125985</td>\n",
       "      <td>0.964000</td>\n",
       "      <td>0.133545</td>\n",
       "      <td>0.9601</td>\n",
       "    </tr>\n",
       "    <tr>\n",
       "      <th>26</th>\n",
       "      <td>0.122083</td>\n",
       "      <td>0.965067</td>\n",
       "      <td>0.131895</td>\n",
       "      <td>0.9598</td>\n",
       "    </tr>\n",
       "    <tr>\n",
       "      <th>27</th>\n",
       "      <td>0.118589</td>\n",
       "      <td>0.965950</td>\n",
       "      <td>0.128999</td>\n",
       "      <td>0.9619</td>\n",
       "    </tr>\n",
       "    <tr>\n",
       "      <th>28</th>\n",
       "      <td>0.115156</td>\n",
       "      <td>0.967167</td>\n",
       "      <td>0.126100</td>\n",
       "      <td>0.9619</td>\n",
       "    </tr>\n",
       "    <tr>\n",
       "      <th>29</th>\n",
       "      <td>0.111837</td>\n",
       "      <td>0.968600</td>\n",
       "      <td>0.124243</td>\n",
       "      <td>0.9627</td>\n",
       "    </tr>\n",
       "  </tbody>\n",
       "</table>\n",
       "</div>"
      ],
      "text/plain": [
       "        loss  accuracy  val_loss  val_accuracy\n",
       "0   1.333852  0.692950  0.677925        0.8438\n",
       "1   0.540688  0.866900  0.429443        0.8903\n",
       "2   0.400533  0.893117  0.355320        0.9026\n",
       "3   0.344258  0.904717  0.313375        0.9135\n",
       "4   0.311230  0.912200  0.289762        0.9190\n",
       "5   0.288173  0.917950  0.271551        0.9241\n",
       "6   0.270147  0.923067  0.256855        0.9281\n",
       "7   0.255016  0.926950  0.242207        0.9310\n",
       "8   0.242027  0.930800  0.232235        0.9344\n",
       "9   0.230471  0.934050  0.221916        0.9380\n",
       "10  0.219976  0.936817  0.212481        0.9404\n",
       "11  0.210226  0.939617  0.205078        0.9423\n",
       "12  0.201221  0.942500  0.195957        0.9443\n",
       "13  0.192940  0.944817  0.189604        0.9455\n",
       "14  0.185336  0.947000  0.183650        0.9478\n",
       "15  0.177940  0.949167  0.176820        0.9486\n",
       "16  0.171430  0.950783  0.171602        0.9494\n",
       "17  0.165019  0.952600  0.167842        0.9519\n",
       "18  0.158949  0.954250  0.160893        0.9520\n",
       "19  0.153426  0.955850  0.156664        0.9537\n",
       "20  0.148191  0.957350  0.151781        0.9547\n",
       "21  0.143207  0.959150  0.148214        0.9554\n",
       "22  0.138494  0.960483  0.144370        0.9571\n",
       "23  0.134089  0.962083  0.140559        0.9583\n",
       "24  0.129844  0.963133  0.137320        0.9591\n",
       "25  0.125985  0.964000  0.133545        0.9601\n",
       "26  0.122083  0.965067  0.131895        0.9598\n",
       "27  0.118589  0.965950  0.128999        0.9619\n",
       "28  0.115156  0.967167  0.126100        0.9619\n",
       "29  0.111837  0.968600  0.124243        0.9627"
      ]
     },
     "execution_count": 31,
     "metadata": {},
     "output_type": "execute_result"
    }
   ],
   "source": [
    "result=pd.DataFrame(training_history.history)\n",
    "result"
   ]
  },
  {
   "cell_type": "code",
   "execution_count": 32,
   "id": "7be2cf83",
   "metadata": {},
   "outputs": [
    {
     "data": {
      "text/plain": [
       "<AxesSubplot: >"
      ]
     },
     "execution_count": 32,
     "metadata": {},
     "output_type": "execute_result"
    },
    {
     "data": {
      "image/png": "[encoded data removed]",
      "text/plain": [
       "<Figure size 640x480 with 1 Axes>"
      ]
     },
     "metadata": {},
     "output_type": "display_data"
    }
   ],
   "source": [
    "result[[\"loss\",\"val_loss\"]].plot()"
   ]
  },
  {
   "cell_type": "code",
   "execution_count": 33,
   "id": "3e98497f",
   "metadata": {},
   "outputs": [
    {
     "data": {
      "text/plain": [
       "<AxesSubplot: >"
      ]
     },
     "execution_count": 33,
     "metadata": {},
     "output_type": "execute_result"
    },
    {
     "data": {
      "image/png": "[encoded data removed]",
      "text/plain": [
       "<Figure size 640x480 with 1 Axes>"
      ]
     },
     "metadata": {},
     "output_type": "display_data"
    }
   ],
   "source": [
    "result[[\"accuracy\",\"val_accuracy\"]].plot()"
   ]
  },
  {
   "cell_type": "code",
   "execution_count": 35,
   "id": "451d25e4",
   "metadata": {},
   "outputs": [
    {
     "name": "stdout",
     "output_type": "stream",
     "text": [
      "313/313 [==============================] - 1s 2ms/step\n"
     ]
    }
   ],
   "source": [
    "#making predictions\n",
    "y_pred=model.predict(X_test)"
   ]
  },
  {
   "cell_type": "code",
   "execution_count": 36,
   "id": "c62c73a8",
   "metadata": {},
   "outputs": [
    {
     "data": {
      "text/plain": [
       "array([[2.16681601e-05, 6.23071901e-06, 6.89391396e-04, ...,\n",
       "        9.95744526e-01, 2.99314470e-05, 2.54969404e-04],\n",
       "       [1.89558591e-03, 1.36142620e-03, 9.77253616e-01, ...,\n",
       "        9.77304694e-07, 7.49645813e-04, 3.32676109e-07],\n",
       "       [3.41495388e-06, 9.92646217e-01, 2.07296712e-03, ...,\n",
       "        2.41947710e-03, 5.67744370e-04, 1.16871983e-04],\n",
       "       ...,\n",
       "       [6.61576223e-07, 2.17674756e-06, 4.56581211e-06, ...,\n",
       "        1.12294445e-04, 3.27577261e-04, 2.58508604e-03],\n",
       "       [1.55220478e-04, 2.49659206e-04, 2.26472839e-05, ...,\n",
       "        2.72293801e-05, 3.08050076e-03, 5.68668111e-06],\n",
       "       [1.07938700e-04, 5.32535660e-06, 2.51403137e-04, ...,\n",
       "        1.80242296e-07, 4.67559994e-06, 8.37362052e-07]], dtype=float32)"
      ]
     },
     "execution_count": 36,
     "metadata": {},
     "output_type": "execute_result"
    }
   ],
   "source": [
    "y_pred"
   ]
  },
  {
   "cell_type": "code",
   "execution_count": 40,
   "id": "a665328e",
   "metadata": {},
   "outputs": [
    {
     "data": {
      "text/plain": [
       "array([2.1668160e-05, 6.2307190e-06, 6.8939140e-04, 3.2050796e-03,\n",
       "       5.5747472e-07, 4.7664929e-05, 4.2246349e-09, 9.9574453e-01,\n",
       "       2.9931447e-05, 2.5496940e-04], dtype=float32)"
      ]
     },
     "execution_count": 40,
     "metadata": {},
     "output_type": "execute_result"
    }
   ],
   "source": [
    "y_pred[0]"
   ]
  },
  {
   "cell_type": "code",
   "execution_count": 38,
   "id": "19d625d2",
   "metadata": {},
   "outputs": [
    {
     "data": {
      "text/plain": [
       "7"
      ]
     },
     "execution_count": 38,
     "metadata": {},
     "output_type": "execute_result"
    }
   ],
   "source": [
    "y_test[0]"
   ]
  },
  {
   "cell_type": "code",
   "execution_count": 39,
   "id": "85e49a2f",
   "metadata": {},
   "outputs": [
    {
     "data": {
      "text/plain": [
       "<matplotlib.image.AxesImage at 0x2ba64219d90>"
      ]
     },
     "execution_count": 39,
     "metadata": {},
     "output_type": "execute_result"
    },
    {
     "data": {
      "image/png": "[encoded data removed]",
      "text/plain": [
       "<Figure size 640x480 with 1 Axes>"
      ]
     },
     "metadata": {},
     "output_type": "display_data"
    }
   ],
   "source": [
    "plt.imshow(X_test[0],cmap='gray')"
   ]
  },
  {
   "cell_type": "code",
   "execution_count": 41,
   "id": "d7dfd2b8",
   "metadata": {},
   "outputs": [
    {
     "data": {
      "text/plain": [
       "7"
      ]
     },
     "execution_count": 41,
     "metadata": {},
     "output_type": "execute_result"
    }
   ],
   "source": [
    "np.argmax(y_pred[0])"
   ]
  },
  {
   "cell_type": "code",
   "execution_count": 42,
   "id": "505c2fe6",
   "metadata": {},
   "outputs": [
    {
     "data": {
      "text/plain": [
       "array([7, 2, 1, 0, 4, 1, 4, 9, 5, 9], dtype=uint8)"
      ]
     },
     "execution_count": 42,
     "metadata": {},
     "output_type": "execute_result"
    }
   ],
   "source": [
    "y_test[:10]"
   ]
  },
  {
   "cell_type": "code",
   "execution_count": 44,
   "id": "f1cde5c5",
   "metadata": {},
   "outputs": [],
   "source": [
    "y_pred_10=y_pred[0:10]"
   ]
  },
  {
   "cell_type": "code",
   "execution_count": 47,
   "id": "cb8f40d4",
   "metadata": {},
   "outputs": [
    {
     "data": {
      "text/plain": [
       "array([7, 2, 1, ..., 4, 5, 6], dtype=int64)"
      ]
     },
     "execution_count": 47,
     "metadata": {},
     "output_type": "execute_result"
    }
   ],
   "source": [
    "final_y_predicted=np.argmax(y_pred,axis=1)\n",
    "final_y_predicted"
   ]
  },
  {
   "cell_type": "code",
   "execution_count": 48,
   "id": "6c1de217",
   "metadata": {},
   "outputs": [
    {
     "data": {
      "image/png": "[encoded data removed]",
      "text/plain": [
       "<Figure size 2000x1000 with 10 Axes>"
      ]
     },
     "metadata": {},
     "output_type": "display_data"
    }
   ],
   "source": [
    "# Display some images\n",
    "fig, axes = plt.subplots(ncols=10, sharex=False, \n",
    "    sharey=True, figsize=(20, 10))\n",
    "for i in range(10):\n",
    "    axes[i].set_title(str(y_test[i])+\"-\"+str(np.argmax(y_pred_10[i])))\n",
    "    axes[i].imshow(X_test[i], cmap='gray')\n",
    "    axes[i].get_xaxis().set_visible(False)\n",
    "    axes[i].get_yaxis().set_visible(False)\n",
    "plt.show()"
   ]
  },
  {
   "cell_type": "code",
   "execution_count": 49,
   "id": "5ae1e359",
   "metadata": {},
   "outputs": [
    {
     "data": {
      "text/plain": [
       "<tf.Tensor: shape=(10, 10), dtype=int32, numpy=\n",
       "array([[ 969,    0,    1,    2,    0,    3,    2,    2,    1,    0],\n",
       "       [   0, 1119,    1,    3,    0,    1,    4,    2,    5,    0],\n",
       "       [   7,    2,  991,    9,    6,    0,    3,    9,    4,    1],\n",
       "       [   1,    0,    7,  977,    0,    7,    0,    9,    6,    3],\n",
       "       [   1,    0,    5,    0,  948,    0,    7,    2,    2,   17],\n",
       "       [   6,    3,    0,   15,    2,  845,    9,    2,    6,    4],\n",
       "       [   9,    3,    1,    0,    8,   12,  921,    1,    3,    0],\n",
       "       [   0,    9,   11,    4,    1,    2,    0,  991,    0,   10],\n",
       "       [   4,    2,    4,   16,    3,    7,    6,    5,  922,    5],\n",
       "       [   8,    6,    1,   14,   21,    1,    1,   11,    2,  944]])>"
      ]
     },
     "execution_count": 49,
     "metadata": {},
     "output_type": "execute_result"
    }
   ],
   "source": [
    "cm = tf.math.confusion_matrix(labels=y_test,predictions=final_y_predicted)\n",
    "cm"
   ]
  },
  {
   "cell_type": "code",
   "execution_count": 50,
   "id": "09265e42",
   "metadata": {},
   "outputs": [
    {
     "data": {
      "text/plain": [
       "Text(154.75, 0.5, 'Actual  digit')"
      ]
     },
     "execution_count": 50,
     "metadata": {},
     "output_type": "execute_result"
    },
    {
     "data": {
      "image/png": "[encoded data removed]",
      "text/plain": [
       "<Figure size 1500x700 with 2 Axes>"
      ]
     },
     "metadata": {},
     "output_type": "display_data"
    }
   ],
   "source": [
    "import seaborn as sns\n",
    "sns.set(rc={'figure.figsize':(15,7)})\n",
    "sns.heatmap(cm,annot=True,cmap='PuBu_r',fmt='g')\n",
    "plt.xlabel(\"Predicted digit\")\n",
    "plt.ylabel(\"Actual  digit\") "
   ]
  },
  {
   "cell_type": "code",
   "execution_count": null,
   "id": "ddde156b",
   "metadata": {},
   "outputs": [],
   "source": []
  }
 ],
 "metadata": {
  "kernelspec": {
   "display_name": "Python 3 (ipykernel)",
   "language": "python",
   "name": "python3"
  },
  "language_info": {
   "codemirror_mode": {
    "name": "ipython",
    "version": 3
   },
   "file_extension": ".py",
   "mimetype": "text/x-python",
   "name": "python",
   "nbconvert_exporter": "python",
   "pygments_lexer": "ipython3",
   "version": "3.9.16"
  }
 },
 "nbformat": 4,
 "nbformat_minor": 5
}
